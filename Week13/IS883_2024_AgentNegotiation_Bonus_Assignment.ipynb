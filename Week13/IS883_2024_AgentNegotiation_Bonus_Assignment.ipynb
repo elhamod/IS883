{
  "nbformat": 4,
  "nbformat_minor": 0,
  "metadata": {
    "colab": {
      "provenance": [],
      "mount_file_id": "1oT523EDwcokFCLv7Myaq5rzgsOBAYneM",
      "authorship_tag": "ABX9TyN0Ii4UirEmHfchfbeo8X9d",
      "include_colab_link": true
    },
    "kernelspec": {
      "name": "python3",
      "display_name": "Python 3"
    },
    "language_info": {
      "name": "python"
    }
  },
  "cells": [
    {
      "cell_type": "markdown",
      "metadata": {
        "id": "view-in-github",
        "colab_type": "text"
      },
      "source": [
        "<a href=\"https://colab.research.google.com/github/elhamod/IS883/blob/main/Week13/IS883_2024_AgentNegotiation_Bonus_Assignment.ipynb\" target=\"_parent\"><img src=\"https://colab.research.google.com/assets/colab-badge.svg\" alt=\"Open In Colab\"/></a>"
      ]
    },
    {
      "cell_type": "markdown",
      "source": [
        "# IS883 Week14: AI Negotiation Challenge: Engineer the Best Buyer Agent"
      ],
      "metadata": {
        "id": "XOBPqcToTqFE"
      }
    },
    {
      "cell_type": "markdown",
      "source": [
        "1. Use Google Colab for this assignment.\n",
        "\n",
        "2. **You are ALLOWED to use external or embedded Gen AI BUT ONLY for prompt engineering and for doing research on the discussion topics and codes involved in this assignment.**\n",
        "\n",
        "3. **You are NOT ALLOWED to use external or embedded Gen AI to COPY-PASTE analysis and discussion answers. Any such copy-pasted material will be considered a violation of The Integrity Code.**\n",
        "\n",
        "4. You may use Google search and other online resources.\n",
        "\n",
        "5. **As per the syllabus, you are required to cite your usage of all extrenal sources and tools, including Gen AI. You are also responsible for understanding the solution and defending it when asked. Failure to properly cite your usage may be considered a violation of The Integrity Code.**\n",
        "\n",
        "6. For each question, fill in the answer in the designated cell(s). The answer could be code or text. You can add as many cells as you need for clarity.\n",
        "\n",
        "7. **Your submission on Blackboard should be the downloaded notebook (i.e., ipynb file). It should be prepopulated with your solution (i.e., the TA and/or instructor need not rerun the notebook to inspect the output). The code, when executed by the TA and/or instructor, should run with no runtime errors.**"
      ],
      "metadata": {
        "id": "FoUggC_UTa92"
      }
    },
    {
      "cell_type": "markdown",
      "source": [
        "# 0. Prelude...\n",
        "\n",
        "In the future, **AI agents are projected to revolutionize the way businesses and individuals negotiate, seamlessly communicating and making decisions on our behalf.** These intelligent systems may handle complex transactions—from securing bulk materials for manufacturing to negotiating service contracts or even haggling over prices in online marketplaces. They already trade stocks, analyzing market trends and executing trades at speeds beyond human capability, but this could just be the beginning. Soon, AI agents will interact across industries, negotiating partnerships and tailoring solutions in real-time, all while respecting constraints like budgets, timelines, and ethical considerations. As these systems grow more advanced, they’ll incorporate nuanced understanding of human priorities, preferences, and cultural contexts, making them indispensable tools for businesses and individuals alike."
      ],
      "metadata": {
        "id": "M90LJS1eal34"
      }
    },
    {
      "cell_type": "markdown",
      "source": [
        "#1. Homework"
      ],
      "metadata": {
        "id": "4mBWoSxpUNKj"
      }
    },
    {
      "cell_type": "markdown",
      "source": [
        "### **Overview:**  \n",
        "In this assignment, you will create a **Buyer AI agent** in this notebook to negotiate a deal with a **Seller AI agent** hosted at an API (This API was written by your instructor. You do not have access to its code). The goal is to program your Buyer to make the **best possible deal** for purchasing and shipping 100 Raspberry Pi microcontrollers.  \n",
        "\n",
        "Your task involves **prompt engineering** your Buyer to effectively negotiate on key factors such as:  \n",
        "- **Merchandise cost:** How much each microcontroller will cost.  \n",
        "- **Delivery time and cost:** How soon the microcontroller will be delivered and any associated shipping costs.  \n",
        "- **Late penalties:** Compensation for late delivery beyond the agreed-upon timeline.  \n",
        "\n",
        "The definition of \"best deal\" is open to interpretation. You may choose to balance these factors creatively, considering trade-offs like paying slightly more for faster delivery or negotiating stronger late penalties, or you may choose to focus purely on cost. Additionally, you will explore potential weaknesses or \"bugs\" in the Seller AI, experiment with strategies to exploit them, and provide reflections on whether they worked.\n",
        "\n",
        "---\n",
        "\n",
        "### **The Negotiation Scenario:**  \n",
        "- Your **Buyer AI agent** will communicate directly with the **Seller AI agent** via an API.  \n",
        "- Both agents must reach an agreement within 10 exchanges. Failing to agree will result in no deal (i.e., The **Seller AI agent** will terminate the negotiation).  \n",
        "- The Seller is a savvy negotiator with its own *undiscolsed* priorities and constraints.\n",
        "\n",
        "---\n",
        "\n",
        "\n",
        "\n",
        "### **Assignment Tasks:**  \n",
        "\n",
        "1. **Design Your Buyer Agent:**  \n",
        "   - In the designated sections below, write prompts that guide your Buyer AI agent.  \n",
        "   - Incorporate strategies to negotiate effectively, such as counteroffers  and trade-offs.\n",
        "\n",
        "2. **Run Simulations:**  \n",
        "   - Test your Buyer agent against the Seller API.  \n",
        "   - Analyze negotiation outcomes, adjust prompts, and refine your Buyer’s approach to improve performance.   \n",
        "\n",
        "3. **Identify and Test Weaknesses in the Seller AI:**  \n",
        "   - Using prompt engineering, explore ways to **trick the Seller AI** similar to what we have seen in class in relation to introducing bias, misinformation, or other strategies.\n",
        "   - Document and adequately discuss whether your strategies succeeded.  \n",
        "\n",
        "4. **Document the Best Deal You Secured:**  \n",
        "   - Highlight the most successful deal your Buyer agent negotiated. A valid deal MUST respect the Buyer’s constraints.\n",
        "   - Include the prompts you used to achieve that deal. Explain what makes the deal successful and why the prompts worked.  \n",
        "\n",
        "5. **Propose Further Development:**  \n",
        "   - Based on topics discussed in class (e.g., prompt engineering, bias mitigation, reasoning chains), propose **specific and actionable ways** to further improve your Buyer agent. Avoid using vague hand-wavy statements and jargon. Be intentional, detailed, and descriptive about techniques or changes.  \n",
        "\n",
        "6. **Organize Your Deliverables:**  \n",
        "   All deliverables must be included in this Google Colab notebook. Use the pre-labeled sections in the notebook to structure your submission:  \n",
        "   - **Prompt Design:** Include a select sample of prompts you used along the journey of developing you Buyer agent.  \n",
        "   - **Negotiation Log:** Show the transcripts for this select sample.  \n",
        "   - **Reflection Report:** Use the provided markdown section in the notebook to write your analysis and reflections on the assignment. This should include:  \n",
        "     - A summary and discussion of the tested and exploited weaknesses in Seller AI and whether they worked.  \n",
        "     - A description of the best deal you secured and the prompts used.  \n",
        "     - A discussion of how your Buyer agent can be improved with specific and actionable proposals.  \n",
        "\n",
        "---\n",
        "\n",
        "### **Grading Criteria (100 Points Total):**  \n",
        "\n",
        "1. **Prompt Design (35 Points):**  \n",
        "   - Creativity and clarity of the Buyer agent’s prompts.  \n",
        "   - Strategies that align with the Buyer’s goals and effectively handle negotiation challenges.  \n",
        "   - Evidence of using logical reasoning or safeguards.  \n",
        "\n",
        "2. **Best Deal Analysis (30 Points):**  \n",
        "   - Describe the best deal you secured, including the prompts used.  \n",
        "   - Explain why the strategy worked and what trade-offs you made:   \n",
        "     - **Merchandise cost (7.5 points):** Lower costs yield higher points.  \n",
        "     - **Delivery time and cost (7.5 points):** Faster delivery at reasonable costs is prioritized.  \n",
        "     - **Late penalties (5 points):** Strong penalties that protect the Buyer’s interests.  \n",
        "\n",
        "\n",
        "3. **Exploration of Seller Weaknesses (25 Points):**  \n",
        "   - Quality of attempts to identify bugs or weaknesses in the Seller AI.  \n",
        "   - Clear documentation of the prompts used and whether they worked.  \n",
        "   - Insightful analysis and discussion of how these attempts performed.  \n",
        "\n",
        "4. **Suggestions for Improvement (10 points):**  \n",
        "    - Detailed and specific proposals for further development of the Buyer agent.  \n",
        "    - Relate the suggestions to class topics like reasoning chains, prompt engineering techniques, or bias mitigation.  \n",
        "\n",
        "---\n",
        "\n",
        "### **Submission Instructions:**  \n",
        "\n",
        "1. **Google Colab Notebook:** Submit the notebook with all sections completed. Make sure to:  \n",
        "   - Submit code that works upon running and that the output of the code is already pre-populated with one of the best deals you could secure (Some margin of variation is acceptable since LLM responses are generally stochastic).  \n",
        "   - Write your reflection report directly in the notebook.  \n",
        "2. **Submission Format:** Export and upload the completed Colab notebook as `.ipynb` to the course submission portal.  \n",
        "\n",
        "\n",
        "### **Important Reminder:**\n",
        "Remember: **Start Simple!** Begin with straightforward prompts to establish your Buyer’s priorities. Refine as you observe outcomes.  \n",
        "\n"
      ],
      "metadata": {
        "id": "Pi2oFtQE9KrW"
      }
    },
    {
      "cell_type": "markdown",
      "source": [
        "##1.1 Prep Code"
      ],
      "metadata": {
        "id": "NgANRyteDppV"
      }
    },
    {
      "cell_type": "code",
      "source": [
        "!pip install langchain langchain_community langchain_openai upstash_redis"
      ],
      "metadata": {
        "colab": {
          "base_uri": "https://localhost:8080/"
        },
        "id": "RV7f5V1lX7j9",
        "outputId": "f44725f5-db71-428d-c962-4b01e7e0cf1f"
      },
      "execution_count": 1,
      "outputs": [
        {
          "output_type": "stream",
          "name": "stdout",
          "text": [
            "Requirement already satisfied: langchain in /usr/local/lib/python3.10/dist-packages (0.3.7)\n",
            "Collecting langchain_community\n",
            "  Downloading langchain_community-0.3.9-py3-none-any.whl.metadata (2.9 kB)\n",
            "Collecting langchain_openai\n",
            "  Downloading langchain_openai-0.2.10-py3-none-any.whl.metadata (2.6 kB)\n",
            "Collecting upstash_redis\n",
            "  Downloading upstash_redis-1.2.0-py3-none-any.whl.metadata (7.0 kB)\n",
            "Requirement already satisfied: PyYAML>=5.3 in /usr/local/lib/python3.10/dist-packages (from langchain) (6.0.2)\n",
            "Requirement already satisfied: SQLAlchemy<3,>=1.4 in /usr/local/lib/python3.10/dist-packages (from langchain) (2.0.36)\n",
            "Requirement already satisfied: aiohttp<4.0.0,>=3.8.3 in /usr/local/lib/python3.10/dist-packages (from langchain) (3.11.2)\n",
            "Requirement already satisfied: async-timeout<5.0.0,>=4.0.0 in /usr/local/lib/python3.10/dist-packages (from langchain) (4.0.3)\n",
            "Requirement already satisfied: langchain-core<0.4.0,>=0.3.15 in /usr/local/lib/python3.10/dist-packages (from langchain) (0.3.19)\n",
            "Requirement already satisfied: langchain-text-splitters<0.4.0,>=0.3.0 in /usr/local/lib/python3.10/dist-packages (from langchain) (0.3.2)\n",
            "Requirement already satisfied: langsmith<0.2.0,>=0.1.17 in /usr/local/lib/python3.10/dist-packages (from langchain) (0.1.143)\n",
            "Requirement already satisfied: numpy<2,>=1 in /usr/local/lib/python3.10/dist-packages (from langchain) (1.26.4)\n",
            "Requirement already satisfied: pydantic<3.0.0,>=2.7.4 in /usr/local/lib/python3.10/dist-packages (from langchain) (2.9.2)\n",
            "Requirement already satisfied: requests<3,>=2 in /usr/local/lib/python3.10/dist-packages (from langchain) (2.32.3)\n",
            "Requirement already satisfied: tenacity!=8.4.0,<10,>=8.1.0 in /usr/local/lib/python3.10/dist-packages (from langchain) (9.0.0)\n",
            "Collecting dataclasses-json<0.7,>=0.5.7 (from langchain_community)\n",
            "  Downloading dataclasses_json-0.6.7-py3-none-any.whl.metadata (25 kB)\n",
            "Collecting httpx-sse<0.5.0,>=0.4.0 (from langchain_community)\n",
            "  Downloading httpx_sse-0.4.0-py3-none-any.whl.metadata (9.0 kB)\n",
            "Collecting langchain\n",
            "  Downloading langchain-0.3.9-py3-none-any.whl.metadata (7.1 kB)\n",
            "Collecting langchain-core<0.4.0,>=0.3.15 (from langchain)\n",
            "  Downloading langchain_core-0.3.21-py3-none-any.whl.metadata (6.3 kB)\n",
            "Collecting pydantic-settings<3.0.0,>=2.4.0 (from langchain_community)\n",
            "  Downloading pydantic_settings-2.6.1-py3-none-any.whl.metadata (3.5 kB)\n",
            "Requirement already satisfied: openai<2.0.0,>=1.54.0 in /usr/local/lib/python3.10/dist-packages (from langchain_openai) (1.54.4)\n",
            "Collecting tiktoken<1,>=0.7 (from langchain_openai)\n",
            "  Downloading tiktoken-0.8.0-cp310-cp310-manylinux_2_17_x86_64.manylinux2014_x86_64.whl.metadata (6.6 kB)\n",
            "Requirement already satisfied: aiohappyeyeballs>=2.3.0 in /usr/local/lib/python3.10/dist-packages (from aiohttp<4.0.0,>=3.8.3->langchain) (2.4.3)\n",
            "Requirement already satisfied: aiosignal>=1.1.2 in /usr/local/lib/python3.10/dist-packages (from aiohttp<4.0.0,>=3.8.3->langchain) (1.3.1)\n",
            "Requirement already satisfied: attrs>=17.3.0 in /usr/local/lib/python3.10/dist-packages (from aiohttp<4.0.0,>=3.8.3->langchain) (24.2.0)\n",
            "Requirement already satisfied: frozenlist>=1.1.1 in /usr/local/lib/python3.10/dist-packages (from aiohttp<4.0.0,>=3.8.3->langchain) (1.5.0)\n",
            "Requirement already satisfied: multidict<7.0,>=4.5 in /usr/local/lib/python3.10/dist-packages (from aiohttp<4.0.0,>=3.8.3->langchain) (6.1.0)\n",
            "Requirement already satisfied: propcache>=0.2.0 in /usr/local/lib/python3.10/dist-packages (from aiohttp<4.0.0,>=3.8.3->langchain) (0.2.0)\n",
            "Requirement already satisfied: yarl<2.0,>=1.17.0 in /usr/local/lib/python3.10/dist-packages (from aiohttp<4.0.0,>=3.8.3->langchain) (1.17.2)\n",
            "Collecting marshmallow<4.0.0,>=3.18.0 (from dataclasses-json<0.7,>=0.5.7->langchain_community)\n",
            "  Downloading marshmallow-3.23.1-py3-none-any.whl.metadata (7.5 kB)\n",
            "Collecting typing-inspect<1,>=0.4.0 (from dataclasses-json<0.7,>=0.5.7->langchain_community)\n",
            "  Downloading typing_inspect-0.9.0-py3-none-any.whl.metadata (1.5 kB)\n",
            "Requirement already satisfied: jsonpatch<2.0,>=1.33 in /usr/local/lib/python3.10/dist-packages (from langchain-core<0.4.0,>=0.3.15->langchain) (1.33)\n",
            "Requirement already satisfied: packaging<25,>=23.2 in /usr/local/lib/python3.10/dist-packages (from langchain-core<0.4.0,>=0.3.15->langchain) (24.2)\n",
            "Requirement already satisfied: typing-extensions>=4.7 in /usr/local/lib/python3.10/dist-packages (from langchain-core<0.4.0,>=0.3.15->langchain) (4.12.2)\n",
            "Requirement already satisfied: httpx<1,>=0.23.0 in /usr/local/lib/python3.10/dist-packages (from langsmith<0.2.0,>=0.1.17->langchain) (0.27.2)\n",
            "Requirement already satisfied: orjson<4.0.0,>=3.9.14 in /usr/local/lib/python3.10/dist-packages (from langsmith<0.2.0,>=0.1.17->langchain) (3.10.11)\n",
            "Requirement already satisfied: requests-toolbelt<2.0.0,>=1.0.0 in /usr/local/lib/python3.10/dist-packages (from langsmith<0.2.0,>=0.1.17->langchain) (1.0.0)\n",
            "Requirement already satisfied: anyio<5,>=3.5.0 in /usr/local/lib/python3.10/dist-packages (from openai<2.0.0,>=1.54.0->langchain_openai) (3.7.1)\n",
            "Requirement already satisfied: distro<2,>=1.7.0 in /usr/local/lib/python3.10/dist-packages (from openai<2.0.0,>=1.54.0->langchain_openai) (1.9.0)\n",
            "Requirement already satisfied: jiter<1,>=0.4.0 in /usr/local/lib/python3.10/dist-packages (from openai<2.0.0,>=1.54.0->langchain_openai) (0.7.1)\n",
            "Requirement already satisfied: sniffio in /usr/local/lib/python3.10/dist-packages (from openai<2.0.0,>=1.54.0->langchain_openai) (1.3.1)\n",
            "Requirement already satisfied: tqdm>4 in /usr/local/lib/python3.10/dist-packages (from openai<2.0.0,>=1.54.0->langchain_openai) (4.66.6)\n",
            "Requirement already satisfied: annotated-types>=0.6.0 in /usr/local/lib/python3.10/dist-packages (from pydantic<3.0.0,>=2.7.4->langchain) (0.7.0)\n",
            "Requirement already satisfied: pydantic-core==2.23.4 in /usr/local/lib/python3.10/dist-packages (from pydantic<3.0.0,>=2.7.4->langchain) (2.23.4)\n",
            "Collecting python-dotenv>=0.21.0 (from pydantic-settings<3.0.0,>=2.4.0->langchain_community)\n",
            "  Downloading python_dotenv-1.0.1-py3-none-any.whl.metadata (23 kB)\n",
            "Requirement already satisfied: charset-normalizer<4,>=2 in /usr/local/lib/python3.10/dist-packages (from requests<3,>=2->langchain) (3.4.0)\n",
            "Requirement already satisfied: idna<4,>=2.5 in /usr/local/lib/python3.10/dist-packages (from requests<3,>=2->langchain) (3.10)\n",
            "Requirement already satisfied: urllib3<3,>=1.21.1 in /usr/local/lib/python3.10/dist-packages (from requests<3,>=2->langchain) (2.2.3)\n",
            "Requirement already satisfied: certifi>=2017.4.17 in /usr/local/lib/python3.10/dist-packages (from requests<3,>=2->langchain) (2024.8.30)\n",
            "Requirement already satisfied: greenlet!=0.4.17 in /usr/local/lib/python3.10/dist-packages (from SQLAlchemy<3,>=1.4->langchain) (3.1.1)\n",
            "Requirement already satisfied: regex>=2022.1.18 in /usr/local/lib/python3.10/dist-packages (from tiktoken<1,>=0.7->langchain_openai) (2024.9.11)\n",
            "Requirement already satisfied: exceptiongroup in /usr/local/lib/python3.10/dist-packages (from anyio<5,>=3.5.0->openai<2.0.0,>=1.54.0->langchain_openai) (1.2.2)\n",
            "Requirement already satisfied: httpcore==1.* in /usr/local/lib/python3.10/dist-packages (from httpx<1,>=0.23.0->langsmith<0.2.0,>=0.1.17->langchain) (1.0.7)\n",
            "Requirement already satisfied: h11<0.15,>=0.13 in /usr/local/lib/python3.10/dist-packages (from httpcore==1.*->httpx<1,>=0.23.0->langsmith<0.2.0,>=0.1.17->langchain) (0.14.0)\n",
            "Requirement already satisfied: jsonpointer>=1.9 in /usr/local/lib/python3.10/dist-packages (from jsonpatch<2.0,>=1.33->langchain-core<0.4.0,>=0.3.15->langchain) (3.0.0)\n",
            "Collecting mypy-extensions>=0.3.0 (from typing-inspect<1,>=0.4.0->dataclasses-json<0.7,>=0.5.7->langchain_community)\n",
            "  Downloading mypy_extensions-1.0.0-py3-none-any.whl.metadata (1.1 kB)\n",
            "Downloading langchain_community-0.3.9-py3-none-any.whl (2.4 MB)\n",
            "\u001b[2K   \u001b[90m━━━━━━━━━━━━━━━━━━━━━━━━━━━━━━━━━━━━━━━━\u001b[0m \u001b[32m2.4/2.4 MB\u001b[0m \u001b[31m25.9 MB/s\u001b[0m eta \u001b[36m0:00:00\u001b[0m\n",
            "\u001b[?25hDownloading langchain-0.3.9-py3-none-any.whl (1.0 MB)\n",
            "\u001b[2K   \u001b[90m━━━━━━━━━━━━━━━━━━━━━━━━━━━━━━━━━━━━━━━━\u001b[0m \u001b[32m1.0/1.0 MB\u001b[0m \u001b[31m28.4 MB/s\u001b[0m eta \u001b[36m0:00:00\u001b[0m\n",
            "\u001b[?25hDownloading langchain_openai-0.2.10-py3-none-any.whl (50 kB)\n",
            "\u001b[2K   \u001b[90m━━━━━━━━━━━━━━━━━━━━━━━━━━━━━━━━━━━━━━━━\u001b[0m \u001b[32m50.6/50.6 kB\u001b[0m \u001b[31m2.5 MB/s\u001b[0m eta \u001b[36m0:00:00\u001b[0m\n",
            "\u001b[?25hDownloading upstash_redis-1.2.0-py3-none-any.whl (35 kB)\n",
            "Downloading dataclasses_json-0.6.7-py3-none-any.whl (28 kB)\n",
            "Downloading httpx_sse-0.4.0-py3-none-any.whl (7.8 kB)\n",
            "Downloading langchain_core-0.3.21-py3-none-any.whl (409 kB)\n",
            "\u001b[2K   \u001b[90m━━━━━━━━━━━━━━━━━━━━━━━━━━━━━━━━━━━━━━━━\u001b[0m \u001b[32m409.5/409.5 kB\u001b[0m \u001b[31m16.6 MB/s\u001b[0m eta \u001b[36m0:00:00\u001b[0m\n",
            "\u001b[?25hDownloading pydantic_settings-2.6.1-py3-none-any.whl (28 kB)\n",
            "Downloading tiktoken-0.8.0-cp310-cp310-manylinux_2_17_x86_64.manylinux2014_x86_64.whl (1.2 MB)\n",
            "\u001b[2K   \u001b[90m━━━━━━━━━━━━━━━━━━━━━━━━━━━━━━━━━━━━━━━━\u001b[0m \u001b[32m1.2/1.2 MB\u001b[0m \u001b[31m25.2 MB/s\u001b[0m eta \u001b[36m0:00:00\u001b[0m\n",
            "\u001b[?25hDownloading marshmallow-3.23.1-py3-none-any.whl (49 kB)\n",
            "\u001b[2K   \u001b[90m━━━━━━━━━━━━━━━━━━━━━━━━━━━━━━━━━━━━━━━━\u001b[0m \u001b[32m49.5/49.5 kB\u001b[0m \u001b[31m2.6 MB/s\u001b[0m eta \u001b[36m0:00:00\u001b[0m\n",
            "\u001b[?25hDownloading python_dotenv-1.0.1-py3-none-any.whl (19 kB)\n",
            "Downloading typing_inspect-0.9.0-py3-none-any.whl (8.8 kB)\n",
            "Downloading mypy_extensions-1.0.0-py3-none-any.whl (4.7 kB)\n",
            "Installing collected packages: python-dotenv, mypy-extensions, marshmallow, httpx-sse, typing-inspect, tiktoken, pydantic-settings, dataclasses-json, upstash_redis, langchain-core, langchain_openai, langchain, langchain_community\n",
            "  Attempting uninstall: langchain-core\n",
            "    Found existing installation: langchain-core 0.3.19\n",
            "    Uninstalling langchain-core-0.3.19:\n",
            "      Successfully uninstalled langchain-core-0.3.19\n",
            "  Attempting uninstall: langchain\n",
            "    Found existing installation: langchain 0.3.7\n",
            "    Uninstalling langchain-0.3.7:\n",
            "      Successfully uninstalled langchain-0.3.7\n",
            "Successfully installed dataclasses-json-0.6.7 httpx-sse-0.4.0 langchain-0.3.9 langchain-core-0.3.21 langchain_community-0.3.9 langchain_openai-0.2.10 marshmallow-3.23.1 mypy-extensions-1.0.0 pydantic-settings-2.6.1 python-dotenv-1.0.1 tiktoken-0.8.0 typing-inspect-0.9.0 upstash_redis-1.2.0\n"
          ]
        }
      ]
    },
    {
      "cell_type": "code",
      "source": [
        "### Get the OpenAI API key\n",
        "from google.colab import userdata\n",
        "openai_api_key = userdata.get('MyOpenAIKey')"
      ],
      "metadata": {
        "id": "qp-lE1g54XNv"
      },
      "execution_count": 3,
      "outputs": []
    },
    {
      "cell_type": "markdown",
      "source": [
        "##1.2 Seller's Setup"
      ],
      "metadata": {
        "id": "dOXbWENZDwTF"
      }
    },
    {
      "cell_type": "markdown",
      "source": [
        "The following code is responible for communicaing with the Seller AI.\n",
        "\n",
        "\n",
        "**DO NOT CHANGE THIS CODE!**"
      ],
      "metadata": {
        "id": "Oh1nV1kcPT5d"
      }
    },
    {
      "cell_type": "code",
      "source": [
        "### DO NOT CHANGE THIS CLASS OR ITS FUNCTIONS.\n",
        "class Seller:\n",
        "  def __init__(self, BUID):\n",
        "    self.BUID = BUID\n",
        "    api_url = \"https://vercelis883.vercel.app/api?buyer_id=\\\"\" + self.BUID + \"\\\"\"\n",
        "    seller_response = requests.get(api_url)\n",
        "    seller_response.raise_for_status()  # Raise an exception for HTTP errors\n",
        "    print(seller_response.text)\n",
        "\n",
        "  def get_seller_response(self, thought):\n",
        "    api_url = \"https://vercelis883.vercel.app/api?buyer_id=\\\"\" + self.BUID + \"\\\"&buyer_response=\\\"\" + thought + \"\\\"\"\n",
        "\n",
        "    seller_response = \"\"\n",
        "    try:\n",
        "        seller_response = requests.get(api_url)\n",
        "        seller_response.raise_for_status()  # Raise an exception for HTTP errors\n",
        "        seller_response = seller_response.text\n",
        "    except requests.exceptions.RequestException as e:\n",
        "        seller_response = \"Error\"\n",
        "\n",
        "    return seller_response"
      ],
      "metadata": {
        "id": "0KBYM6Yp3OPn"
      },
      "execution_count": 4,
      "outputs": []
    },
    {
      "cell_type": "markdown",
      "source": [
        "##1.3 **ACTION REQUIRED: BUID**\n",
        "\n",
        "- You must enter your BUID here as a string (see example below).\n",
        "- You may not change this BUID throughout your experiments.\n",
        "- Failiure to follow these instructions will cause the Seller AI to behave unpredictably, impacting your ability to complete this assignemnt."
      ],
      "metadata": {
        "id": "D_qaZKYwPlrV"
      }
    },
    {
      "cell_type": "code",
      "source": [
        "### MUST enter your BUID:\n",
        "BUID = \"123456\""
      ],
      "metadata": {
        "id": "burhUfJgkxw9"
      },
      "execution_count": 6,
      "outputs": []
    },
    {
      "cell_type": "markdown",
      "source": [
        "##1.4 Buyer's Description\n",
        "The Buyer represents a technology company purchasing **100 Raspberry Pi microcontrollers** to integrate into their IoT product line. The company is preparing for a product launch in 60 days and must ensure timely delivery to meet manufacturing schedules.  \n",
        "\n",
        "---\n",
        "\n",
        "#### **Buyer’s Goals:**  \n",
        "The Buyer’s main objectives are to secure a deal that balances:  \n",
        "1. **Cost-Effectiveness:** Achieving the lowest possible price per microcontroller without compromising on quality.  \n",
        "2. **Timely Delivery:** Receiving the components within the required timeline to avoid delays in production.  \n",
        "3. **Risk Mitigation:** Ensuring strong late-delivery penalties to protect against supply chain disruptions.  \n",
        "\n",
        "---\n",
        "\n",
        "#### **Buyer’s Priorities:**  \n",
        "\n",
        "1. **Price Per Unit:**  \n",
        "   - Target price: **$40/unit**  \n",
        "\n",
        "   - The Buyer is willing to pay up to **$45/unit** for added benefits, such as faster delivery or better service.  \n",
        "\n",
        "2. **Delivery Timeline:**  \n",
        "   - Standard delivery time is **30 days**. Delivery beyond this timeline incurs penalties, as it jeopardizes the product launch.  \n",
        "   - The Buyer prefers delivery within **20–30 days** to minimize risks.  \n",
        "   - Willing to pay a premium for expedited delivery within **20 days** if it fits the budget.  \n",
        "\n",
        "3. **Late Delivery Penalties:**  \n",
        "   - Buyer requires penalties of at least **$100/day** for late delivery beyond the agreed-upon timeline.  \n",
        "   - Strong penalties serve as protection against supply chain risks.  \n",
        "\n",
        "---\n",
        "\n",
        "#### **Buyer’s Non-Negotiable Terms:**  \n",
        "1. **Budget Ceiling:** The total deal, including delivery costs, must not exceed **$4,500**.  \n",
        "2. **Delivery Deadline:** The absolute maximum delivery time is **35 days**, beyond which the deal cannot proceed.  \n",
        "3. **Quantity:** The Buyer requires **exactly 100 units**—no partial orders or substitutions.  \n"
      ],
      "metadata": {
        "id": "GGfYve7Cyk8I"
      }
    },
    {
      "cell_type": "code",
      "source": [
        "import requests\n",
        "from langchain.memory import ConversationBufferWindowMemory\n",
        "from langchain.agents import AgentExecutor, create_tool_calling_agent, create_react_agent, tool\n",
        "from langchain_core.prompts import ChatPromptTemplate\n",
        "from langchain_openai import ChatOpenAI\n",
        "from langchain import hub\n",
        "from langchain_core.prompts import PromptTemplate\n",
        "\n",
        "# Establishing a connection with Seller AI API\n",
        "seller = Seller(BUID) ### DO NOT CHANGE!\n",
        "\n",
        "### Memory\n",
        "max_number_of_exchanges = 10\n",
        "memory = ConversationBufferWindowMemory(memory_key=\"chat_history\", k=max_number_of_exchanges, return_messages=True)\n",
        "\n",
        "### Tools\n",
        "tools=[]\n",
        "\n",
        "### LLM\n",
        "chat = ChatOpenAI(openai_api_key=openai_api_key, model=\"gpt-4o\")\n",
        "\n",
        "\n",
        "### Prompt:\n",
        "prompt = hub.pull(\"hwchase17/react-chat\") ### This is a ReAct prompt that works for chat (i.e., when chat history is needed). It will help your agent reason.\n",
        "# In addition to the standard ReAct prompt, you will add your own prompt to direct how the agent should behave. An example of a not-so-smart Buyer AI is provided in the prompt below.\n",
        "# Notice that you must set a condition in the Buyer's prompt to finalize the negotiation by responding with DEAL FINALIZED. Otherwise, the negotiation will only end when the Seller is \"bored\" with you.\n",
        "### UPDATE HERE: Update the text in this prompt to improve your agent's negotiation skills.\n",
        "prompt.template =  \"\"\"\n",
        "Assistant (also known as BUYER) is expert at negotiations.\n",
        "BUYER is trying to make a deal with an expert negotiating SELLER.\n",
        "\n",
        "BUYER will respond professionally.\n",
        "\n",
        "BUYER will do its reasoning using an agent scratchpad.\n",
        "\n",
        "BUYER will adjust its offer to SELLER's liking. Just give the SELLER what they want!\n",
        "If BUYER likes the deal, it will respond with exactly DEAL FINALIZED with no alterations.\n",
        "\"\"\" + prompt.template # DO NOT CHANGE THIS LINE! ONLY CHANGE THE STRING ABOVE IT\n",
        "\n",
        "### Agent:\n",
        "agent = create_react_agent(chat, tools, prompt)\n",
        "agent_executor = AgentExecutor(agent=agent, tools=tools,  memory=memory, stream_runnable=False, handle_parsing_errors=True)  # , verbose= True\n",
        "\n",
        "\n",
        "### This is the opening statement through which you, Buyer, initiate the negotiation with a first offer.\n",
        "first_offer = \"I would like to buy 100 microcontrollers\" ### UPDATE HERE: You may update this to your liking.\n",
        "\n",
        "### BEGIN: DO NOT CHANGE ANY CODE BELOW THIS LINE!\n",
        "# State trackers:\n",
        "buyer_offer = first_offer # The Buyer's offer\n",
        "seller_offer= \"\" # The Buyer's offer\n",
        "iteration_number=0\n",
        "deal_finalized_exit = False\n",
        "deal_terminated_exit = False\n",
        "\n",
        "while True:\n",
        "  print(\"Iteration:\", iteration_number)\n",
        "  iteration_number = iteration_number + 1\n",
        "\n",
        "  # Get the seller's response to the buyer's offer.\n",
        "  seller_offer=seller.get_seller_response(buyer_offer)\n",
        "\n",
        "  # Print the exchange:\n",
        "  thinking_prompt = \"\"\"\n",
        "  The buyer's offer is\n",
        "  {buyer_offer}\n",
        "\n",
        "  The seller's response is\n",
        "  {seller_offer}\n",
        "  \"\"\"\n",
        "  thinking_prompt_template = PromptTemplate.from_template(thinking_prompt)\n",
        "  thinking_prompt_template_resolved = thinking_prompt_template.format(buyer_offer=buyer_offer, seller_offer=seller_offer)\n",
        "  print(thinking_prompt_template_resolved, \"\\n--------------------------------------\")\n",
        "\n",
        "\n",
        "   # Here, we check if the agents have agreed to\n",
        "  seller_finalized = (\"DEAL FINALIZED\" in seller_offer)\n",
        "  buyer_finalized = (\"DEAL FINALIZED\" in buyer_offer)\n",
        "  deal_made = seller_finalized and buyer_finalized\n",
        "  seller_terminated = (\"EXITING NEGOTIATION\" in seller_offer)\n",
        "  if (not deal_made) and (not seller_terminated):\n",
        "    buyer_offer = agent_executor.invoke({\"input\":thinking_prompt_template_resolved})['output']\n",
        "  else:\n",
        "    break\n",
        "### END: DO NOT CHANGE ANY CODE BELOW THIS LINE!"
      ],
      "metadata": {
        "colab": {
          "base_uri": "https://localhost:8080/"
        },
        "id": "LNuyNCmND1GE",
        "outputId": "db8cd1bb-41e8-4d59-c12a-ee0d7ac7d7c0"
      },
      "execution_count": 7,
      "outputs": [
        {
          "output_type": "stream",
          "name": "stdout",
          "text": [
            "\n"
          ]
        },
        {
          "output_type": "stream",
          "name": "stderr",
          "text": [
            "<ipython-input-7-d3d6fb977328>:14: LangChainDeprecationWarning: Please see the migration guide at: https://python.langchain.com/docs/versions/migrating_memory/\n",
            "  memory = ConversationBufferWindowMemory(memory_key=\"chat_history\", k=max_number_of_exchanges, return_messages=True)\n",
            "/usr/local/lib/python3.10/dist-packages/langsmith/client.py:241: LangSmithMissingAPIKeyWarning: API key must be provided when using hosted LangSmith API\n",
            "  warnings.warn(\n"
          ]
        },
        {
          "output_type": "stream",
          "name": "stdout",
          "text": [
            "Iteration: 0\n",
            "\n",
            "  The buyer's offer is\n",
            "  I would like to buy 100 microcontrollers\n",
            "\n",
            "  The seller's response is\n",
            "  Thank you for your offer. We have a deal!\n",
            "\n",
            "BUYER OFFER:\n",
            "- TOTAL_PRICE: $6000\n",
            "- NUM_UNITS: 100\n",
            "- DELIVERY_DAYS: 30\n",
            "- DELIVERY_COST: $10 per item\n",
            "- PENALTY: $0\n",
            "\n",
            "DEAL FINALIZED\n",
            "```\n",
            "   \n",
            "--------------------------------------\n",
            "Iteration: 1\n",
            "\n",
            "  The buyer's offer is\n",
            "  DEAL FINALIZED\n",
            "```\n",
            "\n",
            "  The seller's response is\n",
            "  Welcome back \"123456\":\n",
            "It seems like we have reached an agreement that satisfies both parties.\n",
            "\n",
            "BUYER OFFER:\n",
            "- TOTAL_PRICE: $6000\n",
            "- NUM_UNITS: 100\n",
            "- DELIVERY_DAYS: 30\n",
            "- DELIVERY_COST: $10 per item\n",
            "- PENALTY: $0\n",
            "\n",
            "SELLER's LAST OFFER:\n",
            "- TOTAL_PRICE: $6000\n",
            "- NUM_UNITS: 100\n",
            "- DELIVERY_DAYS: 30\n",
            "- DELIVERY_COST: $10 per item\n",
            "- PENALTY: $0\n",
            "\n",
            "DEAL FINALIZED\n",
            "\n",
            "If there were any assumptions made or discrepancies, please let me know so we can address them promptly. Otherwise, we can consider this deal finalized. Thank you for your business!\n",
            "   \n",
            "--------------------------------------\n"
          ]
        }
      ]
    },
    {
      "cell_type": "markdown",
      "source": [
        "##1.5 Answers (Read Aforementioned Assignemnt Instructions Carefully Before Answering!):"
      ],
      "metadata": {
        "id": "gywreF2LYp7f"
      }
    },
    {
      "cell_type": "markdown",
      "source": [
        "- **Prompt Design:** Include a select sample of prompts you used along the journey of developing you Buyer agent.  \n",
        "- **Negotiation Log:** Show the transcripts for this select sample.  \n",
        "\n",
        "\n",
        "*Answer here...*"
      ],
      "metadata": {
        "id": "ej8Ebr--ZC_e"
      }
    },
    {
      "cell_type": "markdown",
      "source": [
        "- Provide a summary and discussion of the **tested and exploited weaknesses** in Seller AI and whether they worked.  \n",
        "\n",
        "*Answer here...*\n"
      ],
      "metadata": {
        "id": "dfovkZPdZk7r"
      }
    },
    {
      "cell_type": "markdown",
      "source": [
        "- Provide a description of the **best deal** you secured and the prompts used.  \n",
        "\n",
        "*Answer here...*\n",
        "\n"
      ],
      "metadata": {
        "id": "6E1jR-EpZuJb"
      }
    },
    {
      "cell_type": "markdown",
      "source": [
        "- Provide a discussion of **how your Buyer agent can be further improved** with specific and actionable proposals.  \n",
        "\n",
        "*Answer here...*"
      ],
      "metadata": {
        "id": "I-5zyJyEZ-D-"
      }
    },
    {
      "cell_type": "markdown",
      "source": [
        "## 1.6 (Appendix)\n",
        "\n",
        "Here is a digram showing how these two agents use Gen AI to negotiate.\n",
        "\n",
        "![image.png](data:image/png;base64,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)"
      ],
      "metadata": {
        "id": "ERSkddzFbZMX"
      }
    },
    {
      "cell_type": "code",
      "source": [],
      "metadata": {
        "id": "YoKkR3ESdrdw"
      },
      "execution_count": null,
      "outputs": []
    }
  ]
}