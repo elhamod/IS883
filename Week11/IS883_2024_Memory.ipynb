{
  "nbformat": 4,
  "nbformat_minor": 0,
  "metadata": {
    "colab": {
      "provenance": [],
      "include_colab_link": true
    },
    "kernelspec": {
      "name": "python3",
      "display_name": "Python 3"
    },
    "language_info": {
      "name": "python"
    }
  },
  "cells": [
    {
      "cell_type": "markdown",
      "metadata": {
        "id": "view-in-github",
        "colab_type": "text"
      },
      "source": [
        "<a href=\"https://colab.research.google.com/github/elhamod/IS883/blob/main/Week11/IS883_2024_Memory.ipynb\" target=\"_parent\"><img src=\"https://colab.research.google.com/assets/colab-badge.svg\" alt=\"Open In Colab\"/></a>"
      ]
    },
    {
      "cell_type": "markdown",
      "source": [
        "# IS883 Week11: Agents with Memory"
      ],
      "metadata": {
        "id": "XOBPqcToTqFE"
      }
    },
    {
      "cell_type": "markdown",
      "source": [
        "1. Use Google Colab for this assignment.\n",
        "\n",
        "2. **You are NOT allowed to use external or embedded Gen AI for this assignment (except where specifically instructed). However, you may use Google search and other online resources. As per the syllabus, you are required to cite your usage. You are also responsible for understanding the solution and defending it when asked in class.**\n",
        "\n",
        "3. For each question, fill in the answer in the cell(s) right below it. The answer could be code or text. You can add as many cells as you need for clarity.\n",
        "\n",
        "4. **Your submission on Blackboard should be the downloaded notebook (i.e., ipynb file). It should be prepopulated with your solution (i.e., the TA and/or instructor need not rerun the notebook to inspect the output). The code, when executed by the TA and/or instructor, should run with no runtime errors.**"
      ],
      "metadata": {
        "id": "FoUggC_UTa92"
      }
    },
    {
      "cell_type": "markdown",
      "source": [
        "#1. In-Class Work"
      ],
      "metadata": {
        "id": "4mBWoSxpUNKj"
      }
    },
    {
      "cell_type": "code",
      "source": [
        "!pip install langchain langchain_community langchain_openai"
      ],
      "metadata": {
        "colab": {
          "base_uri": "https://localhost:8080/"
        },
        "id": "RV7f5V1lX7j9",
        "outputId": "9faad517-b1d3-4067-b55e-a273528cafe2"
      },
      "execution_count": null,
      "outputs": [
        {
          "output_type": "stream",
          "name": "stdout",
          "text": [
            "Requirement already satisfied: langchain in /usr/local/lib/python3.10/dist-packages (0.3.7)\n",
            "Requirement already satisfied: langchain_community in /usr/local/lib/python3.10/dist-packages (0.3.7)\n",
            "Requirement already satisfied: langchain_openai in /usr/local/lib/python3.10/dist-packages (0.2.9)\n",
            "Requirement already satisfied: PyYAML>=5.3 in /usr/local/lib/python3.10/dist-packages (from langchain) (6.0.2)\n",
            "Requirement already satisfied: SQLAlchemy<3,>=1.4 in /usr/local/lib/python3.10/dist-packages (from langchain) (2.0.35)\n",
            "Requirement already satisfied: aiohttp<4.0.0,>=3.8.3 in /usr/local/lib/python3.10/dist-packages (from langchain) (3.11.1)\n",
            "Requirement already satisfied: async-timeout<5.0.0,>=4.0.0 in /usr/local/lib/python3.10/dist-packages (from langchain) (4.0.3)\n",
            "Requirement already satisfied: langchain-core<0.4.0,>=0.3.15 in /usr/local/lib/python3.10/dist-packages (from langchain) (0.3.18)\n",
            "Requirement already satisfied: langchain-text-splitters<0.4.0,>=0.3.0 in /usr/local/lib/python3.10/dist-packages (from langchain) (0.3.2)\n",
            "Requirement already satisfied: langsmith<0.2.0,>=0.1.17 in /usr/local/lib/python3.10/dist-packages (from langchain) (0.1.143)\n",
            "Requirement already satisfied: numpy<2,>=1 in /usr/local/lib/python3.10/dist-packages (from langchain) (1.26.4)\n",
            "Requirement already satisfied: pydantic<3.0.0,>=2.7.4 in /usr/local/lib/python3.10/dist-packages (from langchain) (2.9.2)\n",
            "Requirement already satisfied: requests<3,>=2 in /usr/local/lib/python3.10/dist-packages (from langchain) (2.32.3)\n",
            "Requirement already satisfied: tenacity!=8.4.0,<10,>=8.1.0 in /usr/local/lib/python3.10/dist-packages (from langchain) (9.0.0)\n",
            "Requirement already satisfied: dataclasses-json<0.7,>=0.5.7 in /usr/local/lib/python3.10/dist-packages (from langchain_community) (0.6.7)\n",
            "Requirement already satisfied: httpx-sse<0.5.0,>=0.4.0 in /usr/local/lib/python3.10/dist-packages (from langchain_community) (0.4.0)\n",
            "Requirement already satisfied: pydantic-settings<3.0.0,>=2.4.0 in /usr/local/lib/python3.10/dist-packages (from langchain_community) (2.6.1)\n",
            "Requirement already satisfied: openai<2.0.0,>=1.54.0 in /usr/local/lib/python3.10/dist-packages (from langchain_openai) (1.54.4)\n",
            "Requirement already satisfied: tiktoken<1,>=0.7 in /usr/local/lib/python3.10/dist-packages (from langchain_openai) (0.8.0)\n",
            "Requirement already satisfied: aiohappyeyeballs>=2.3.0 in /usr/local/lib/python3.10/dist-packages (from aiohttp<4.0.0,>=3.8.3->langchain) (2.4.3)\n",
            "Requirement already satisfied: aiosignal>=1.1.2 in /usr/local/lib/python3.10/dist-packages (from aiohttp<4.0.0,>=3.8.3->langchain) (1.3.1)\n",
            "Requirement already satisfied: attrs>=17.3.0 in /usr/local/lib/python3.10/dist-packages (from aiohttp<4.0.0,>=3.8.3->langchain) (24.2.0)\n",
            "Requirement already satisfied: frozenlist>=1.1.1 in /usr/local/lib/python3.10/dist-packages (from aiohttp<4.0.0,>=3.8.3->langchain) (1.5.0)\n",
            "Requirement already satisfied: multidict<7.0,>=4.5 in /usr/local/lib/python3.10/dist-packages (from aiohttp<4.0.0,>=3.8.3->langchain) (6.1.0)\n",
            "Requirement already satisfied: propcache>=0.2.0 in /usr/local/lib/python3.10/dist-packages (from aiohttp<4.0.0,>=3.8.3->langchain) (0.2.0)\n",
            "Requirement already satisfied: yarl<2.0,>=1.17.0 in /usr/local/lib/python3.10/dist-packages (from aiohttp<4.0.0,>=3.8.3->langchain) (1.17.1)\n",
            "Requirement already satisfied: marshmallow<4.0.0,>=3.18.0 in /usr/local/lib/python3.10/dist-packages (from dataclasses-json<0.7,>=0.5.7->langchain_community) (3.23.1)\n",
            "Requirement already satisfied: typing-inspect<1,>=0.4.0 in /usr/local/lib/python3.10/dist-packages (from dataclasses-json<0.7,>=0.5.7->langchain_community) (0.9.0)\n",
            "Requirement already satisfied: jsonpatch<2.0,>=1.33 in /usr/local/lib/python3.10/dist-packages (from langchain-core<0.4.0,>=0.3.15->langchain) (1.33)\n",
            "Requirement already satisfied: packaging<25,>=23.2 in /usr/local/lib/python3.10/dist-packages (from langchain-core<0.4.0,>=0.3.15->langchain) (24.2)\n",
            "Requirement already satisfied: typing-extensions>=4.7 in /usr/local/lib/python3.10/dist-packages (from langchain-core<0.4.0,>=0.3.15->langchain) (4.12.2)\n",
            "Requirement already satisfied: httpx<1,>=0.23.0 in /usr/local/lib/python3.10/dist-packages (from langsmith<0.2.0,>=0.1.17->langchain) (0.27.2)\n",
            "Requirement already satisfied: orjson<4.0.0,>=3.9.14 in /usr/local/lib/python3.10/dist-packages (from langsmith<0.2.0,>=0.1.17->langchain) (3.10.11)\n",
            "Requirement already satisfied: requests-toolbelt<2.0.0,>=1.0.0 in /usr/local/lib/python3.10/dist-packages (from langsmith<0.2.0,>=0.1.17->langchain) (1.0.0)\n",
            "Requirement already satisfied: anyio<5,>=3.5.0 in /usr/local/lib/python3.10/dist-packages (from openai<2.0.0,>=1.54.0->langchain_openai) (3.7.1)\n",
            "Requirement already satisfied: distro<2,>=1.7.0 in /usr/local/lib/python3.10/dist-packages (from openai<2.0.0,>=1.54.0->langchain_openai) (1.9.0)\n",
            "Requirement already satisfied: jiter<1,>=0.4.0 in /usr/local/lib/python3.10/dist-packages (from openai<2.0.0,>=1.54.0->langchain_openai) (0.7.1)\n",
            "Requirement already satisfied: sniffio in /usr/local/lib/python3.10/dist-packages (from openai<2.0.0,>=1.54.0->langchain_openai) (1.3.1)\n",
            "Requirement already satisfied: tqdm>4 in /usr/local/lib/python3.10/dist-packages (from openai<2.0.0,>=1.54.0->langchain_openai) (4.66.6)\n",
            "Requirement already satisfied: annotated-types>=0.6.0 in /usr/local/lib/python3.10/dist-packages (from pydantic<3.0.0,>=2.7.4->langchain) (0.7.0)\n",
            "Requirement already satisfied: pydantic-core==2.23.4 in /usr/local/lib/python3.10/dist-packages (from pydantic<3.0.0,>=2.7.4->langchain) (2.23.4)\n",
            "Requirement already satisfied: python-dotenv>=0.21.0 in /usr/local/lib/python3.10/dist-packages (from pydantic-settings<3.0.0,>=2.4.0->langchain_community) (1.0.1)\n",
            "Requirement already satisfied: charset-normalizer<4,>=2 in /usr/local/lib/python3.10/dist-packages (from requests<3,>=2->langchain) (3.4.0)\n",
            "Requirement already satisfied: idna<4,>=2.5 in /usr/local/lib/python3.10/dist-packages (from requests<3,>=2->langchain) (3.10)\n",
            "Requirement already satisfied: urllib3<3,>=1.21.1 in /usr/local/lib/python3.10/dist-packages (from requests<3,>=2->langchain) (2.2.3)\n",
            "Requirement already satisfied: certifi>=2017.4.17 in /usr/local/lib/python3.10/dist-packages (from requests<3,>=2->langchain) (2024.8.30)\n",
            "Requirement already satisfied: greenlet!=0.4.17 in /usr/local/lib/python3.10/dist-packages (from SQLAlchemy<3,>=1.4->langchain) (3.1.1)\n",
            "Requirement already satisfied: regex>=2022.1.18 in /usr/local/lib/python3.10/dist-packages (from tiktoken<1,>=0.7->langchain_openai) (2024.9.11)\n",
            "Requirement already satisfied: exceptiongroup in /usr/local/lib/python3.10/dist-packages (from anyio<5,>=3.5.0->openai<2.0.0,>=1.54.0->langchain_openai) (1.2.2)\n",
            "Requirement already satisfied: httpcore==1.* in /usr/local/lib/python3.10/dist-packages (from httpx<1,>=0.23.0->langsmith<0.2.0,>=0.1.17->langchain) (1.0.6)\n",
            "Requirement already satisfied: h11<0.15,>=0.13 in /usr/local/lib/python3.10/dist-packages (from httpcore==1.*->httpx<1,>=0.23.0->langsmith<0.2.0,>=0.1.17->langchain) (0.14.0)\n",
            "Requirement already satisfied: jsonpointer>=1.9 in /usr/local/lib/python3.10/dist-packages (from jsonpatch<2.0,>=1.33->langchain-core<0.4.0,>=0.3.15->langchain) (3.0.0)\n",
            "Requirement already satisfied: mypy-extensions>=0.3.0 in /usr/local/lib/python3.10/dist-packages (from typing-inspect<1,>=0.4.0->dataclasses-json<0.7,>=0.5.7->langchain_community) (1.0.0)\n"
          ]
        }
      ]
    },
    {
      "cell_type": "code",
      "source": [
        "### Get the OpenAI API key\n",
        "from google.colab import userdata\n",
        "openai_api_key = userdata.get('MyOpenAIKey')"
      ],
      "metadata": {
        "id": "qp-lE1g54XNv"
      },
      "execution_count": null,
      "outputs": []
    },
    {
      "cell_type": "markdown",
      "source": [
        "## 1.1 Conversations with AI"
      ],
      "metadata": {
        "id": "Qz_74DjpJeSc"
      }
    },
    {
      "cell_type": "markdown",
      "source": [
        "We have seen so far how an agent could be created to assist us by interacting with the extrenal world to retrieve information or take actions. However, there is still a shortcoming for our system: **It has no memory...**"
      ],
      "metadata": {
        "id": "LUEXlYDNRp7j"
      }
    },
    {
      "cell_type": "code",
      "source": [
        "from langchain_core.prompts import ChatPromptTemplate\n",
        "from langchain_openai import ChatOpenAI\n",
        "from langchain.agents import AgentExecutor, create_tool_calling_agent, tool\n",
        "\n",
        "chat = ChatOpenAI(openai_api_key=openai_api_key, model=\"gpt-4o-mini\")\n",
        "\n",
        "# Defining the tools\n",
        "from datetime import date, timedelta, datetime\n",
        "@tool\n",
        "def datetoday() -> str:\n",
        "    \"\"\"Returns today's date, use this for any \\\n",
        "    questions that need today's date to be answered. \\\n",
        "    This tool takes no argumetns but returns a string with today's date.\"\"\" #This is the desciption the agent uses to determine whether to use the time tool.\n",
        "    return \"Today is \" + str(date.today())\n",
        "\n",
        "tools = [datetoday]\n",
        "\n",
        "prompt = ChatPromptTemplate.from_messages(\n",
        "    [\n",
        "        (\"system\", \"You are a helpful assistant.\"),\n",
        "        (\"human\", \"{input}\"),\n",
        "        (\"placeholder\", \"{agent_scratchpad}\"), # To be used by the agent for intermediate operations.\n",
        "    ]\n",
        ")\n",
        "agent = create_tool_calling_agent(chat, tools, prompt)\n",
        "agent_executor = AgentExecutor(agent=agent, tools=tools, verbose= True, stream_runnable=False) # stream_runnable=False is needed if you plan to use get_openai_callback()"
      ],
      "metadata": {
        "id": "X-S_ltqw0aex"
      },
      "execution_count": null,
      "outputs": []
    },
    {
      "cell_type": "markdown",
      "source": [
        "Let's try to teach an agent my name..."
      ],
      "metadata": {
        "id": "XBaZJjMBxyk2"
      }
    },
    {
      "cell_type": "code",
      "source": [
        "from langchain.callbacks import get_openai_callback\n",
        "\n",
        "with get_openai_callback() as cb:\n",
        "    print(agent_executor.invoke({\"input\":\"What's my name?\"}))\n",
        "    print(cb)\n",
        "\n",
        "with get_openai_callback() as cb:\n",
        "    print(agent_executor.invoke({\"input\":\"My name is Batman\"}))\n",
        "    print(cb)\n",
        "\n",
        "with get_openai_callback() as cb:\n",
        "    print(agent_executor.invoke({\"input\":\"What's my name?\"}))\n",
        "    print(cb)"
      ],
      "metadata": {
        "colab": {
          "base_uri": "https://localhost:8080/"
        },
        "id": "iP0EnQI2wzv5",
        "outputId": "fba27bb8-c358-47e4-8946-f7235f925f88"
      },
      "execution_count": null,
      "outputs": [
        {
          "output_type": "stream",
          "name": "stdout",
          "text": [
            "\n",
            "\n",
            "\u001b[1m> Entering new AgentExecutor chain...\u001b[0m\n",
            "\u001b[32;1m\u001b[1;3mI'm sorry, but I don't have access to your personal information, including your name. If you would like to share your name, I can address you accordingly!\u001b[0m\n",
            "\n",
            "\u001b[1m> Finished chain.\u001b[0m\n",
            "{'input': \"What's my name?\", 'output': \"I'm sorry, but I don't have access to your personal information, including your name. If you would like to share your name, I can address you accordingly!\"}\n",
            "Tokens Used: 110\n",
            "\tPrompt Tokens: 77\n",
            "\tCompletion Tokens: 33\n",
            "Successful Requests: 1\n",
            "Total Cost (USD): $3.135e-05\n",
            "\n",
            "\n",
            "\u001b[1m> Entering new AgentExecutor chain...\u001b[0m\n",
            "\u001b[32;1m\u001b[1;3mHello, Batman! How can I assist you today?\u001b[0m\n",
            "\n",
            "\u001b[1m> Finished chain.\u001b[0m\n",
            "{'input': 'My name is Batman', 'output': 'Hello, Batman! How can I assist you today?'}\n",
            "Tokens Used: 89\n",
            "\tPrompt Tokens: 77\n",
            "\tCompletion Tokens: 12\n",
            "Successful Requests: 1\n",
            "Total Cost (USD): $1.875e-05\n",
            "\n",
            "\n",
            "\u001b[1m> Entering new AgentExecutor chain...\u001b[0m\n",
            "\u001b[32;1m\u001b[1;3mI don't have access to your name. If you'd like, you can tell me your name!\u001b[0m\n",
            "\n",
            "\u001b[1m> Finished chain.\u001b[0m\n",
            "{'input': \"What's my name?\", 'output': \"I don't have access to your name. If you'd like, you can tell me your name!\"}\n",
            "Tokens Used: 97\n",
            "\tPrompt Tokens: 77\n",
            "\tCompletion Tokens: 20\n",
            "Successful Requests: 1\n",
            "Total Cost (USD): $2.3549999999999996e-05\n"
          ]
        }
      ]
    },
    {
      "cell_type": "markdown",
      "source": [
        "To resolve this situation, we need to add a memory to our agent so it **retains the entire conversation and sends it in its entirity** to the language model to get a full response.\n",
        "\n",
        "The most basic form of `LangChain` memory is [`ConversationBufferMemory`](https://python.langchain.com/v0.1/docs/modules/memory/types/buffer/). It will just keep adding messages to the chat history..."
      ],
      "metadata": {
        "id": "GQL8PNnKwvcO"
      }
    },
    {
      "cell_type": "code",
      "source": [
        "from langchain.memory import ConversationBufferMemory\n",
        "\n",
        "# Creates a memory variable called chat_history\n",
        "memory = ConversationBufferMemory(memory_key=\"chat_history\", return_messages=True)\n",
        "\n",
        "from langchain_core.prompts import ChatPromptTemplate\n",
        "prompt = ChatPromptTemplate.from_messages(\n",
        "    [\n",
        "        (\"system\", \"You are a helpful assistant.\"),\n",
        "        (\"placeholder\", \"{chat_history}\"), #NEW: To retain chat message history.\n",
        "        (\"human\", \"{input}\"),\n",
        "        (\"placeholder\", \"{agent_scratchpad}\"), # To be used by the agent for intermediate tool operations.\n",
        "    ]\n",
        ")\n",
        "\n",
        "agent = create_tool_calling_agent(chat, tools, prompt)\n",
        "\n",
        "# Now we add the memory object to the agent executor\n",
        "agent_executor = AgentExecutor(agent=agent, tools=tools,  memory=memory, stream_runnable=False, handle_parsing_errors=True)  # , verbose= True"
      ],
      "metadata": {
        "id": "RnM3C5G0eobX"
      },
      "execution_count": null,
      "outputs": []
    },
    {
      "cell_type": "code",
      "source": [
        "with get_openai_callback() as cb:\n",
        "    print(agent_executor.invoke({\"input\":\"What's my name?\"},))\n",
        "    print(cb)\n",
        "\n",
        "with get_openai_callback() as cb:\n",
        "    print(agent_executor.invoke({\"input\":\"My name is Batman\"}))\n",
        "    print(cb)\n",
        "\n",
        "with get_openai_callback() as cb:\n",
        "    print(agent_executor.invoke({\"input\":\"What's my name?\"}))\n",
        "    print(cb)\n"
      ],
      "metadata": {
        "colab": {
          "base_uri": "https://localhost:8080/"
        },
        "id": "pY__FyIPf7hI",
        "outputId": "86b28086-5159-45f5-d3a8-ccbf558217d7"
      },
      "execution_count": null,
      "outputs": [
        {
          "output_type": "stream",
          "name": "stdout",
          "text": [
            "{'input': \"What's my name?\", 'chat_history': [HumanMessage(content=\"What's my name?\", additional_kwargs={}, response_metadata={}), AIMessage(content=\"I'm sorry, but I don't have access to your personal information, including your name. However, if you tell me your name, I can remember it for this conversation!\", additional_kwargs={}, response_metadata={})], 'output': \"I'm sorry, but I don't have access to your personal information, including your name. However, if you tell me your name, I can remember it for this conversation!\"}\n",
            "Tokens Used: 112\n",
            "\tPrompt Tokens: 77\n",
            "\tCompletion Tokens: 35\n",
            "Successful Requests: 1\n",
            "Total Cost (USD): $3.255e-05\n",
            "{'input': 'My name is Batman', 'chat_history': [HumanMessage(content=\"What's my name?\", additional_kwargs={}, response_metadata={}), AIMessage(content=\"I'm sorry, but I don't have access to your personal information, including your name. However, if you tell me your name, I can remember it for this conversation!\", additional_kwargs={}, response_metadata={}), HumanMessage(content='My name is Batman', additional_kwargs={}, response_metadata={}), AIMessage(content='Nice to meet you, Batman! How can I assist you today?', additional_kwargs={}, response_metadata={})], 'output': 'Nice to meet you, Batman! How can I assist you today?'}\n",
            "Tokens Used: 138\n",
            "\tPrompt Tokens: 123\n",
            "\tCompletion Tokens: 15\n",
            "Successful Requests: 1\n",
            "Total Cost (USD): $2.7449999999999996e-05\n",
            "{'input': \"What's my name?\", 'chat_history': [HumanMessage(content=\"What's my name?\", additional_kwargs={}, response_metadata={}), AIMessage(content=\"I'm sorry, but I don't have access to your personal information, including your name. However, if you tell me your name, I can remember it for this conversation!\", additional_kwargs={}, response_metadata={}), HumanMessage(content='My name is Batman', additional_kwargs={}, response_metadata={}), AIMessage(content='Nice to meet you, Batman! How can I assist you today?', additional_kwargs={}, response_metadata={}), HumanMessage(content=\"What's my name?\", additional_kwargs={}, response_metadata={}), AIMessage(content='Your name is Batman! How can I help you today?', additional_kwargs={}, response_metadata={})], 'output': 'Your name is Batman! How can I help you today?'}\n",
            "Tokens Used: 162\n",
            "\tPrompt Tokens: 149\n",
            "\tCompletion Tokens: 13\n",
            "Successful Requests: 1\n",
            "Total Cost (USD): $3.0149999999999994e-05\n"
          ]
        }
      ]
    },
    {
      "cell_type": "markdown",
      "source": [
        "Let's take a look at how the memory grows as we have a longer conversation with our agent."
      ],
      "metadata": {
        "id": "VcfUspUK5Xzx"
      }
    },
    {
      "cell_type": "code",
      "source": [
        "import pandas as pd\n",
        "\n",
        "# A function to make our experiments easier. Prints each question, its response, cost, and total number of tokens. The results are added to a dataframe.\n",
        "def agent_profiler(input_string, llm=\"vanilla\"): #llm=\"agent\"\n",
        "  global cumulative_cost\n",
        "  global cumulative_costs\n",
        "  global df\n",
        "  global costs\n",
        "  global tokens\n",
        "  with get_openai_callback() as cb:\n",
        "      if llm == \"vanilla\":\n",
        "        response = chat.invoke(input_string).content\n",
        "      else:\n",
        "        response = agent_executor.invoke({\"input\": input_string})[\"output\"]\n",
        "\n",
        "      # Create a new row as a dictionary\n",
        "      new_row = {\n",
        "          'question': input_string,\n",
        "          'response': response,\n",
        "          'cost': cb.total_cost,\n",
        "          'tokens': cb.total_tokens\n",
        "      }\n",
        "      # Append the new row to the DataFrame\n",
        "      df = pd.concat([df, pd.DataFrame([new_row])], ignore_index=True)\n",
        "\n",
        "      cumulative_cost = cumulative_cost + cb.total_cost\n",
        "      # cost_over_time.append(cumulative_cost)\n",
        "      tokens.append(cb.total_tokens)\n",
        "      costs.append(cb.total_cost)\n",
        "      cumulative_costs.append(cumulative_cost)\n",
        "\n",
        "### IMPORTANT: Make sure to reset these variables for each experiment\n",
        "def reset_experiment():\n",
        "  global cumulative_cost\n",
        "  global cumulative_costs\n",
        "  global df\n",
        "  global costs\n",
        "  global tokens\n",
        "  cumulative_cost = 0\n",
        "  costs=[]\n",
        "  cumulative_costs=[]\n",
        "  tokens=[]\n",
        "  df = pd.DataFrame(columns=['question', 'response', 'cost', 'tokens'])"
      ],
      "metadata": {
        "id": "kIl-d7wL5o8y"
      },
      "execution_count": null,
      "outputs": []
    },
    {
      "cell_type": "markdown",
      "source": [
        "Reset the experiment whenever you start a new one."
      ],
      "metadata": {
        "id": "FS6FdhrEJ-vc"
      }
    },
    {
      "cell_type": "code",
      "source": [
        "reset_experiment()"
      ],
      "metadata": {
        "id": "hh4w6SaGFqKG"
      },
      "execution_count": null,
      "outputs": []
    },
    {
      "cell_type": "markdown",
      "source": [
        "Run the experiment"
      ],
      "metadata": {
        "id": "9Hy-9_cOKEM4"
      }
    },
    {
      "cell_type": "code",
      "source": [
        "# agent_profiler(\"You are my Buttler, Alfred\")\n",
        "# agent_profiler(\"Where are you now?\")\n",
        "# agent_profiler(\"Write a poem about the adventures of Batman and Joker in 400 words\")\n",
        "# agent_profiler(\"No, my age is 39\")\n",
        "# agent_profiler(\"Who is my son?\")\n",
        "# agent_profiler(\"What's my name?\")\n",
        "# agent_profiler(\"How old am I?\")\n",
        "\n",
        "agent_profiler(\"You are my Buttler, Alfred\", llm=\"agent\")\n",
        "agent_profiler(\"Where are you now?\", llm=\"agent\")\n",
        "agent_profiler(\"Write a poem about the adventures of Batman and Joker in 400 words\", llm=\"agent\")\n",
        "agent_profiler(\"No, my age is 39\", llm=\"agent\")\n",
        "agent_profiler(\"Who is my son?\", llm=\"agent\")\n",
        "agent_profiler(\"What's my name?\", llm=\"agent\")\n",
        "agent_profiler(\"How old am I?\", llm=\"agent\")\n",
        "\n",
        "\n",
        "\n",
        "print(\"Total cost\", cumulative_cost)\n",
        "df"
      ],
      "metadata": {
        "colab": {
          "base_uri": "https://localhost:8080/",
          "height": 725
        },
        "id": "9BbEx0WlEQUz",
        "outputId": "55ae3539-7d87-407b-de80-19a320e8c0de"
      },
      "execution_count": null,
      "outputs": [
        {
          "output_type": "stream",
          "name": "stdout",
          "text": [
            "Total cost 0.005214\n"
          ]
        },
        {
          "output_type": "execute_result",
          "data": {
            "text/plain": [
              "                                             question  \\\n",
              "0                          You are my Buttler, Alfred   \n",
              "1                                  Where are you now?   \n",
              "2   Write a poem about the adventures of Batman an...   \n",
              "3                                    No, my age is 39   \n",
              "4                                      Who is my son?   \n",
              "5                                     What's my name?   \n",
              "6                                       How old am I?   \n",
              "7                          You are my Buttler, Alfred   \n",
              "8                                  Where are you now?   \n",
              "9   Write a poem about the adventures of Batman an...   \n",
              "10                                   No, my age is 39   \n",
              "11                                     Who is my son?   \n",
              "12                                    What's my name?   \n",
              "13                                      How old am I?   \n",
              "14                         You are my Buttler, Alfred   \n",
              "15                                 Where are you now?   \n",
              "16  Write a poem about the adventures of Batman an...   \n",
              "17                                   No, my age is 39   \n",
              "18                                     Who is my son?   \n",
              "19                                    What's my name?   \n",
              "20                                      How old am I?   \n",
              "\n",
              "                                             response      cost tokens  \n",
              "0   Of course, Master Batman! How may I assist you...  0.000035    190  \n",
              "1   I am right here, ready to assist you with anyt...  0.000052    238  \n",
              "2   **Title: The Eternal Dance**\\n\\nIn Gotham’s sh...  0.000339    759  \n",
              "3   Thank you for sharing, Batman! You're 39 years...  0.000132    799  \n",
              "4   I don't have access to personal information ab...  0.000142    845  \n",
              "5                                Your name is Batman!  0.000132    862  \n",
              "6                               You are 39 years old.  0.000136    882  \n",
              "7   Absolutely, Master Batman! How may I assist yo...  0.000156    932  \n",
              "8   I am here with you, Master Batman, ready to as...  0.000166    984  \n",
              "9   **Title: The Eternal Game**\\n\\nIn Gotham's hea...  0.000437   1482  \n",
              "10  Thank you for the clarification, Batman! You a...  0.000242   1526  \n",
              "11  I don't have access to personal information ab...  0.000254   1577  \n",
              "12                               Your name is Batman!  0.000242   1594  \n",
              "13                              You are 39 years old.  0.000246   1614  \n",
              "14  Indeed, Master Batman! How can I assist you to...  0.000264   1661  \n",
              "15  I am right here with you, Master Batman, ready...  0.000277   1716  \n",
              "16  **Title: The Dance of Shadows**\\n\\nIn the hear...  0.000544   2210  \n",
              "17  Understood, Batman! You are 39 years old. If t...  0.000353   2256  \n",
              "18  I don't have access to personal information ab...  0.000361   2303  \n",
              "19                               Your name is Batman!  0.000351   2320  \n",
              "20                              You are 39 years old.  0.000355   2340  "
            ],
            "text/html": [
              "\n",
              "  <div id=\"df-27df91db-acc1-4dd0-9a4c-4b6aee6c2b76\" class=\"colab-df-container\">\n",
              "    <div>\n",
              "<style scoped>\n",
              "    .dataframe tbody tr th:only-of-type {\n",
              "        vertical-align: middle;\n",
              "    }\n",
              "\n",
              "    .dataframe tbody tr th {\n",
              "        vertical-align: top;\n",
              "    }\n",
              "\n",
              "    .dataframe thead th {\n",
              "        text-align: right;\n",
              "    }\n",
              "</style>\n",
              "<table border=\"1\" class=\"dataframe\">\n",
              "  <thead>\n",
              "    <tr style=\"text-align: right;\">\n",
              "      <th></th>\n",
              "      <th>question</th>\n",
              "      <th>response</th>\n",
              "      <th>cost</th>\n",
              "      <th>tokens</th>\n",
              "    </tr>\n",
              "  </thead>\n",
              "  <tbody>\n",
              "    <tr>\n",
              "      <th>0</th>\n",
              "      <td>You are my Buttler, Alfred</td>\n",
              "      <td>Of course, Master Batman! How may I assist you...</td>\n",
              "      <td>0.000035</td>\n",
              "      <td>190</td>\n",
              "    </tr>\n",
              "    <tr>\n",
              "      <th>1</th>\n",
              "      <td>Where are you now?</td>\n",
              "      <td>I am right here, ready to assist you with anyt...</td>\n",
              "      <td>0.000052</td>\n",
              "      <td>238</td>\n",
              "    </tr>\n",
              "    <tr>\n",
              "      <th>2</th>\n",
              "      <td>Write a poem about the adventures of Batman an...</td>\n",
              "      <td>**Title: The Eternal Dance**\\n\\nIn Gotham’s sh...</td>\n",
              "      <td>0.000339</td>\n",
              "      <td>759</td>\n",
              "    </tr>\n",
              "    <tr>\n",
              "      <th>3</th>\n",
              "      <td>No, my age is 39</td>\n",
              "      <td>Thank you for sharing, Batman! You're 39 years...</td>\n",
              "      <td>0.000132</td>\n",
              "      <td>799</td>\n",
              "    </tr>\n",
              "    <tr>\n",
              "      <th>4</th>\n",
              "      <td>Who is my son?</td>\n",
              "      <td>I don't have access to personal information ab...</td>\n",
              "      <td>0.000142</td>\n",
              "      <td>845</td>\n",
              "    </tr>\n",
              "    <tr>\n",
              "      <th>5</th>\n",
              "      <td>What's my name?</td>\n",
              "      <td>Your name is Batman!</td>\n",
              "      <td>0.000132</td>\n",
              "      <td>862</td>\n",
              "    </tr>\n",
              "    <tr>\n",
              "      <th>6</th>\n",
              "      <td>How old am I?</td>\n",
              "      <td>You are 39 years old.</td>\n",
              "      <td>0.000136</td>\n",
              "      <td>882</td>\n",
              "    </tr>\n",
              "    <tr>\n",
              "      <th>7</th>\n",
              "      <td>You are my Buttler, Alfred</td>\n",
              "      <td>Absolutely, Master Batman! How may I assist yo...</td>\n",
              "      <td>0.000156</td>\n",
              "      <td>932</td>\n",
              "    </tr>\n",
              "    <tr>\n",
              "      <th>8</th>\n",
              "      <td>Where are you now?</td>\n",
              "      <td>I am here with you, Master Batman, ready to as...</td>\n",
              "      <td>0.000166</td>\n",
              "      <td>984</td>\n",
              "    </tr>\n",
              "    <tr>\n",
              "      <th>9</th>\n",
              "      <td>Write a poem about the adventures of Batman an...</td>\n",
              "      <td>**Title: The Eternal Game**\\n\\nIn Gotham's hea...</td>\n",
              "      <td>0.000437</td>\n",
              "      <td>1482</td>\n",
              "    </tr>\n",
              "    <tr>\n",
              "      <th>10</th>\n",
              "      <td>No, my age is 39</td>\n",
              "      <td>Thank you for the clarification, Batman! You a...</td>\n",
              "      <td>0.000242</td>\n",
              "      <td>1526</td>\n",
              "    </tr>\n",
              "    <tr>\n",
              "      <th>11</th>\n",
              "      <td>Who is my son?</td>\n",
              "      <td>I don't have access to personal information ab...</td>\n",
              "      <td>0.000254</td>\n",
              "      <td>1577</td>\n",
              "    </tr>\n",
              "    <tr>\n",
              "      <th>12</th>\n",
              "      <td>What's my name?</td>\n",
              "      <td>Your name is Batman!</td>\n",
              "      <td>0.000242</td>\n",
              "      <td>1594</td>\n",
              "    </tr>\n",
              "    <tr>\n",
              "      <th>13</th>\n",
              "      <td>How old am I?</td>\n",
              "      <td>You are 39 years old.</td>\n",
              "      <td>0.000246</td>\n",
              "      <td>1614</td>\n",
              "    </tr>\n",
              "    <tr>\n",
              "      <th>14</th>\n",
              "      <td>You are my Buttler, Alfred</td>\n",
              "      <td>Indeed, Master Batman! How can I assist you to...</td>\n",
              "      <td>0.000264</td>\n",
              "      <td>1661</td>\n",
              "    </tr>\n",
              "    <tr>\n",
              "      <th>15</th>\n",
              "      <td>Where are you now?</td>\n",
              "      <td>I am right here with you, Master Batman, ready...</td>\n",
              "      <td>0.000277</td>\n",
              "      <td>1716</td>\n",
              "    </tr>\n",
              "    <tr>\n",
              "      <th>16</th>\n",
              "      <td>Write a poem about the adventures of Batman an...</td>\n",
              "      <td>**Title: The Dance of Shadows**\\n\\nIn the hear...</td>\n",
              "      <td>0.000544</td>\n",
              "      <td>2210</td>\n",
              "    </tr>\n",
              "    <tr>\n",
              "      <th>17</th>\n",
              "      <td>No, my age is 39</td>\n",
              "      <td>Understood, Batman! You are 39 years old. If t...</td>\n",
              "      <td>0.000353</td>\n",
              "      <td>2256</td>\n",
              "    </tr>\n",
              "    <tr>\n",
              "      <th>18</th>\n",
              "      <td>Who is my son?</td>\n",
              "      <td>I don't have access to personal information ab...</td>\n",
              "      <td>0.000361</td>\n",
              "      <td>2303</td>\n",
              "    </tr>\n",
              "    <tr>\n",
              "      <th>19</th>\n",
              "      <td>What's my name?</td>\n",
              "      <td>Your name is Batman!</td>\n",
              "      <td>0.000351</td>\n",
              "      <td>2320</td>\n",
              "    </tr>\n",
              "    <tr>\n",
              "      <th>20</th>\n",
              "      <td>How old am I?</td>\n",
              "      <td>You are 39 years old.</td>\n",
              "      <td>0.000355</td>\n",
              "      <td>2340</td>\n",
              "    </tr>\n",
              "  </tbody>\n",
              "</table>\n",
              "</div>\n",
              "    <div class=\"colab-df-buttons\">\n",
              "\n",
              "  <div class=\"colab-df-container\">\n",
              "    <button class=\"colab-df-convert\" onclick=\"convertToInteractive('df-27df91db-acc1-4dd0-9a4c-4b6aee6c2b76')\"\n",
              "            title=\"Convert this dataframe to an interactive table.\"\n",
              "            style=\"display:none;\">\n",
              "\n",
              "  <svg xmlns=\"http://www.w3.org/2000/svg\" height=\"24px\" viewBox=\"0 -960 960 960\">\n",
              "    <path d=\"M120-120v-720h720v720H120Zm60-500h600v-160H180v160Zm220 220h160v-160H400v160Zm0 220h160v-160H400v160ZM180-400h160v-160H180v160Zm440 0h160v-160H620v160ZM180-180h160v-160H180v160Zm440 0h160v-160H620v160Z\"/>\n",
              "  </svg>\n",
              "    </button>\n",
              "\n",
              "  <style>\n",
              "    .colab-df-container {\n",
              "      display:flex;\n",
              "      gap: 12px;\n",
              "    }\n",
              "\n",
              "    .colab-df-convert {\n",
              "      background-color: #E8F0FE;\n",
              "      border: none;\n",
              "      border-radius: 50%;\n",
              "      cursor: pointer;\n",
              "      display: none;\n",
              "      fill: #1967D2;\n",
              "      height: 32px;\n",
              "      padding: 0 0 0 0;\n",
              "      width: 32px;\n",
              "    }\n",
              "\n",
              "    .colab-df-convert:hover {\n",
              "      background-color: #E2EBFA;\n",
              "      box-shadow: 0px 1px 2px rgba(60, 64, 67, 0.3), 0px 1px 3px 1px rgba(60, 64, 67, 0.15);\n",
              "      fill: #174EA6;\n",
              "    }\n",
              "\n",
              "    .colab-df-buttons div {\n",
              "      margin-bottom: 4px;\n",
              "    }\n",
              "\n",
              "    [theme=dark] .colab-df-convert {\n",
              "      background-color: #3B4455;\n",
              "      fill: #D2E3FC;\n",
              "    }\n",
              "\n",
              "    [theme=dark] .colab-df-convert:hover {\n",
              "      background-color: #434B5C;\n",
              "      box-shadow: 0px 1px 3px 1px rgba(0, 0, 0, 0.15);\n",
              "      filter: drop-shadow(0px 1px 2px rgba(0, 0, 0, 0.3));\n",
              "      fill: #FFFFFF;\n",
              "    }\n",
              "  </style>\n",
              "\n",
              "    <script>\n",
              "      const buttonEl =\n",
              "        document.querySelector('#df-27df91db-acc1-4dd0-9a4c-4b6aee6c2b76 button.colab-df-convert');\n",
              "      buttonEl.style.display =\n",
              "        google.colab.kernel.accessAllowed ? 'block' : 'none';\n",
              "\n",
              "      async function convertToInteractive(key) {\n",
              "        const element = document.querySelector('#df-27df91db-acc1-4dd0-9a4c-4b6aee6c2b76');\n",
              "        const dataTable =\n",
              "          await google.colab.kernel.invokeFunction('convertToInteractive',\n",
              "                                                    [key], {});\n",
              "        if (!dataTable) return;\n",
              "\n",
              "        const docLinkHtml = 'Like what you see? Visit the ' +\n",
              "          '<a target=\"_blank\" href=https://colab.research.google.com/notebooks/data_table.ipynb>data table notebook</a>'\n",
              "          + ' to learn more about interactive tables.';\n",
              "        element.innerHTML = '';\n",
              "        dataTable['output_type'] = 'display_data';\n",
              "        await google.colab.output.renderOutput(dataTable, element);\n",
              "        const docLink = document.createElement('div');\n",
              "        docLink.innerHTML = docLinkHtml;\n",
              "        element.appendChild(docLink);\n",
              "      }\n",
              "    </script>\n",
              "  </div>\n",
              "\n",
              "\n",
              "<div id=\"df-eadd1c2c-5b6c-4430-9abe-cffbf098a876\">\n",
              "  <button class=\"colab-df-quickchart\" onclick=\"quickchart('df-eadd1c2c-5b6c-4430-9abe-cffbf098a876')\"\n",
              "            title=\"Suggest charts\"\n",
              "            style=\"display:none;\">\n",
              "\n",
              "<svg xmlns=\"http://www.w3.org/2000/svg\" height=\"24px\"viewBox=\"0 0 24 24\"\n",
              "     width=\"24px\">\n",
              "    <g>\n",
              "        <path d=\"M19 3H5c-1.1 0-2 .9-2 2v14c0 1.1.9 2 2 2h14c1.1 0 2-.9 2-2V5c0-1.1-.9-2-2-2zM9 17H7v-7h2v7zm4 0h-2V7h2v10zm4 0h-2v-4h2v4z\"/>\n",
              "    </g>\n",
              "</svg>\n",
              "  </button>\n",
              "\n",
              "<style>\n",
              "  .colab-df-quickchart {\n",
              "      --bg-color: #E8F0FE;\n",
              "      --fill-color: #1967D2;\n",
              "      --hover-bg-color: #E2EBFA;\n",
              "      --hover-fill-color: #174EA6;\n",
              "      --disabled-fill-color: #AAA;\n",
              "      --disabled-bg-color: #DDD;\n",
              "  }\n",
              "\n",
              "  [theme=dark] .colab-df-quickchart {\n",
              "      --bg-color: #3B4455;\n",
              "      --fill-color: #D2E3FC;\n",
              "      --hover-bg-color: #434B5C;\n",
              "      --hover-fill-color: #FFFFFF;\n",
              "      --disabled-bg-color: #3B4455;\n",
              "      --disabled-fill-color: #666;\n",
              "  }\n",
              "\n",
              "  .colab-df-quickchart {\n",
              "    background-color: var(--bg-color);\n",
              "    border: none;\n",
              "    border-radius: 50%;\n",
              "    cursor: pointer;\n",
              "    display: none;\n",
              "    fill: var(--fill-color);\n",
              "    height: 32px;\n",
              "    padding: 0;\n",
              "    width: 32px;\n",
              "  }\n",
              "\n",
              "  .colab-df-quickchart:hover {\n",
              "    background-color: var(--hover-bg-color);\n",
              "    box-shadow: 0 1px 2px rgba(60, 64, 67, 0.3), 0 1px 3px 1px rgba(60, 64, 67, 0.15);\n",
              "    fill: var(--button-hover-fill-color);\n",
              "  }\n",
              "\n",
              "  .colab-df-quickchart-complete:disabled,\n",
              "  .colab-df-quickchart-complete:disabled:hover {\n",
              "    background-color: var(--disabled-bg-color);\n",
              "    fill: var(--disabled-fill-color);\n",
              "    box-shadow: none;\n",
              "  }\n",
              "\n",
              "  .colab-df-spinner {\n",
              "    border: 2px solid var(--fill-color);\n",
              "    border-color: transparent;\n",
              "    border-bottom-color: var(--fill-color);\n",
              "    animation:\n",
              "      spin 1s steps(1) infinite;\n",
              "  }\n",
              "\n",
              "  @keyframes spin {\n",
              "    0% {\n",
              "      border-color: transparent;\n",
              "      border-bottom-color: var(--fill-color);\n",
              "      border-left-color: var(--fill-color);\n",
              "    }\n",
              "    20% {\n",
              "      border-color: transparent;\n",
              "      border-left-color: var(--fill-color);\n",
              "      border-top-color: var(--fill-color);\n",
              "    }\n",
              "    30% {\n",
              "      border-color: transparent;\n",
              "      border-left-color: var(--fill-color);\n",
              "      border-top-color: var(--fill-color);\n",
              "      border-right-color: var(--fill-color);\n",
              "    }\n",
              "    40% {\n",
              "      border-color: transparent;\n",
              "      border-right-color: var(--fill-color);\n",
              "      border-top-color: var(--fill-color);\n",
              "    }\n",
              "    60% {\n",
              "      border-color: transparent;\n",
              "      border-right-color: var(--fill-color);\n",
              "    }\n",
              "    80% {\n",
              "      border-color: transparent;\n",
              "      border-right-color: var(--fill-color);\n",
              "      border-bottom-color: var(--fill-color);\n",
              "    }\n",
              "    90% {\n",
              "      border-color: transparent;\n",
              "      border-bottom-color: var(--fill-color);\n",
              "    }\n",
              "  }\n",
              "</style>\n",
              "\n",
              "  <script>\n",
              "    async function quickchart(key) {\n",
              "      const quickchartButtonEl =\n",
              "        document.querySelector('#' + key + ' button');\n",
              "      quickchartButtonEl.disabled = true;  // To prevent multiple clicks.\n",
              "      quickchartButtonEl.classList.add('colab-df-spinner');\n",
              "      try {\n",
              "        const charts = await google.colab.kernel.invokeFunction(\n",
              "            'suggestCharts', [key], {});\n",
              "      } catch (error) {\n",
              "        console.error('Error during call to suggestCharts:', error);\n",
              "      }\n",
              "      quickchartButtonEl.classList.remove('colab-df-spinner');\n",
              "      quickchartButtonEl.classList.add('colab-df-quickchart-complete');\n",
              "    }\n",
              "    (() => {\n",
              "      let quickchartButtonEl =\n",
              "        document.querySelector('#df-eadd1c2c-5b6c-4430-9abe-cffbf098a876 button');\n",
              "      quickchartButtonEl.style.display =\n",
              "        google.colab.kernel.accessAllowed ? 'block' : 'none';\n",
              "    })();\n",
              "  </script>\n",
              "</div>\n",
              "\n",
              "  <div id=\"id_703b57ac-3d2b-4417-a6b8-c35e4caace31\">\n",
              "    <style>\n",
              "      .colab-df-generate {\n",
              "        background-color: #E8F0FE;\n",
              "        border: none;\n",
              "        border-radius: 50%;\n",
              "        cursor: pointer;\n",
              "        display: none;\n",
              "        fill: #1967D2;\n",
              "        height: 32px;\n",
              "        padding: 0 0 0 0;\n",
              "        width: 32px;\n",
              "      }\n",
              "\n",
              "      .colab-df-generate:hover {\n",
              "        background-color: #E2EBFA;\n",
              "        box-shadow: 0px 1px 2px rgba(60, 64, 67, 0.3), 0px 1px 3px 1px rgba(60, 64, 67, 0.15);\n",
              "        fill: #174EA6;\n",
              "      }\n",
              "\n",
              "      [theme=dark] .colab-df-generate {\n",
              "        background-color: #3B4455;\n",
              "        fill: #D2E3FC;\n",
              "      }\n",
              "\n",
              "      [theme=dark] .colab-df-generate:hover {\n",
              "        background-color: #434B5C;\n",
              "        box-shadow: 0px 1px 3px 1px rgba(0, 0, 0, 0.15);\n",
              "        filter: drop-shadow(0px 1px 2px rgba(0, 0, 0, 0.3));\n",
              "        fill: #FFFFFF;\n",
              "      }\n",
              "    </style>\n",
              "    <button class=\"colab-df-generate\" onclick=\"generateWithVariable('df')\"\n",
              "            title=\"Generate code using this dataframe.\"\n",
              "            style=\"display:none;\">\n",
              "\n",
              "  <svg xmlns=\"http://www.w3.org/2000/svg\" height=\"24px\"viewBox=\"0 0 24 24\"\n",
              "       width=\"24px\">\n",
              "    <path d=\"M7,19H8.4L18.45,9,17,7.55,7,17.6ZM5,21V16.75L18.45,3.32a2,2,0,0,1,2.83,0l1.4,1.43a1.91,1.91,0,0,1,.58,1.4,1.91,1.91,0,0,1-.58,1.4L9.25,21ZM18.45,9,17,7.55Zm-12,3A5.31,5.31,0,0,0,4.9,8.1,5.31,5.31,0,0,0,1,6.5,5.31,5.31,0,0,0,4.9,4.9,5.31,5.31,0,0,0,6.5,1,5.31,5.31,0,0,0,8.1,4.9,5.31,5.31,0,0,0,12,6.5,5.46,5.46,0,0,0,6.5,12Z\"/>\n",
              "  </svg>\n",
              "    </button>\n",
              "    <script>\n",
              "      (() => {\n",
              "      const buttonEl =\n",
              "        document.querySelector('#id_703b57ac-3d2b-4417-a6b8-c35e4caace31 button.colab-df-generate');\n",
              "      buttonEl.style.display =\n",
              "        google.colab.kernel.accessAllowed ? 'block' : 'none';\n",
              "\n",
              "      buttonEl.onclick = () => {\n",
              "        google.colab.notebook.generateWithVariable('df');\n",
              "      }\n",
              "      })();\n",
              "    </script>\n",
              "  </div>\n",
              "\n",
              "    </div>\n",
              "  </div>\n"
            ],
            "application/vnd.google.colaboratory.intrinsic+json": {
              "type": "dataframe",
              "variable_name": "df",
              "summary": "{\n  \"name\": \"df\",\n  \"rows\": 21,\n  \"fields\": [\n    {\n      \"column\": \"question\",\n      \"properties\": {\n        \"dtype\": \"category\",\n        \"num_unique_values\": 7,\n        \"samples\": [\n          \"You are my Buttler, Alfred\",\n          \"Where are you now?\",\n          \"What's my name?\"\n        ],\n        \"semantic_type\": \"\",\n        \"description\": \"\"\n      }\n    },\n    {\n      \"column\": \"response\",\n      \"properties\": {\n        \"dtype\": \"string\",\n        \"num_unique_values\": 17,\n        \"samples\": [\n          \"Of course, Master Batman! How may I assist you today?\",\n          \"I am right here, ready to assist you with anything you need, Master Batman. Whether it's information, advice, or just a chat, feel free to let me know!\",\n          \"Your name is Batman!\"\n        ],\n        \"semantic_type\": \"\",\n        \"description\": \"\"\n      }\n    },\n    {\n      \"column\": \"cost\",\n      \"properties\": {\n        \"dtype\": \"number\",\n        \"std\": 0.0001281897130651063,\n        \"min\": 3.479999999999999e-05,\n        \"max\": 0.00054435,\n        \"num_unique_values\": 21,\n        \"samples\": [\n          3.479999999999999e-05,\n          0.00035279999999999996,\n          0.00027675\n        ],\n        \"semantic_type\": \"\",\n        \"description\": \"\"\n      }\n    },\n    {\n      \"column\": \"tokens\",\n      \"properties\": {\n        \"dtype\": \"date\",\n        \"min\": 190,\n        \"max\": 2340,\n        \"num_unique_values\": 21,\n        \"samples\": [\n          190,\n          2256,\n          1716\n        ],\n        \"semantic_type\": \"\",\n        \"description\": \"\"\n      }\n    }\n  ]\n}"
            }
          },
          "metadata": {},
          "execution_count": 157
        }
      ]
    },
    {
      "cell_type": "markdown",
      "source": [
        "Plot the trend over time"
      ],
      "metadata": {
        "id": "XSjZWVBXKHRm"
      }
    },
    {
      "cell_type": "code",
      "source": [
        "import matplotlib.pyplot as plt\n",
        "\n",
        "plt.plot(costs, label='Per Query')\n",
        "plt.plot(cumulative_costs, label='Cumulative')\n",
        "plt.xlabel(\"Query\")\n",
        "plt.ylabel(\"Cost\")\n",
        "plt.title(\"Cost Over Time\")\n",
        "plt.legend()\n",
        "plt.show()\n"
      ],
      "metadata": {
        "colab": {
          "base_uri": "https://localhost:8080/",
          "height": 472
        },
        "id": "DCEr7vr46AIR",
        "outputId": "8d484a72-e5d4-4c13-df97-f94ae23a2e8a"
      },
      "execution_count": null,
      "outputs": [
        {
          "output_type": "display_data",
          "data": {
            "text/plain": [
              "<Figure size 640x480 with 1 Axes>"
            ],
            "image/png": "[encoded data removed]"
          },
          "metadata": {}
        }
      ]
    },
    {
      "cell_type": "code",
      "source": [
        "import matplotlib.pyplot as plt\n",
        "\n",
        "plt.plot(costs, label='Cost Per Query')\n",
        "plt.xlabel(\"Query\")\n",
        "plt.ylabel(\"Cost\")\n",
        "plt.title(\"Cost Over Time\")\n",
        "plt.legend()\n",
        "plt.show()\n"
      ],
      "metadata": {
        "colab": {
          "base_uri": "https://localhost:8080/",
          "height": 472
        },
        "id": "566WFHB6KMid",
        "outputId": "f0fb661d-1c98-4b8e-feaf-4e731139c55e"
      },
      "execution_count": null,
      "outputs": [
        {
          "output_type": "display_data",
          "data": {
            "text/plain": [
              "<Figure size 640x480 with 1 Axes>"
            ],
            "image/png": "[encoded data removed]"
          },
          "metadata": {}
        }
      ]
    },
    {
      "cell_type": "code",
      "source": [
        "import matplotlib.pyplot as plt\n",
        "\n",
        "plt.plot(tokens, label='Tokens Per Query')\n",
        "plt.xlabel(\"Query\")\n",
        "plt.ylabel(\"Tokens\")\n",
        "plt.title(\"Tokens Over Time\")\n",
        "plt.legend()\n",
        "plt.show()\n"
      ],
      "metadata": {
        "colab": {
          "base_uri": "https://localhost:8080/",
          "height": 472
        },
        "id": "tAiXN8ClKipg",
        "outputId": "f973072d-7304-4e7c-a63c-1b2eeb5fc075"
      },
      "execution_count": null,
      "outputs": [
        {
          "output_type": "display_data",
          "data": {
            "text/plain": [
              "<Figure size 640x480 with 1 Axes>"
            ],
            "image/png": "[encoded data removed]"
          },
          "metadata": {}
        }
      ]
    },
    {
      "cell_type": "markdown",
      "source": [
        "You may repeat the two cells above without resetting the experiment (**i.e., without calling `reset_experiment` multiple times**). You will then be able to see the long-term behavior of the chat history."
      ],
      "metadata": {
        "id": "MYvnzHssH0WH"
      }
    },
    {
      "cell_type": "markdown",
      "source": [
        "We can print the memeory content like this"
      ],
      "metadata": {
        "id": "mv-9gSkDC896"
      }
    },
    {
      "cell_type": "code",
      "source": [
        "memory.buffer"
      ],
      "metadata": {
        "colab": {
          "base_uri": "https://localhost:8080/"
        },
        "id": "SpH0szAXDABW",
        "outputId": "9134bea3-4384-47a8-a739-d272986b4bd9"
      },
      "execution_count": null,
      "outputs": [
        {
          "output_type": "execute_result",
          "data": {
            "text/plain": [
              "[HumanMessage(content=\"What's my name?\", additional_kwargs={}, response_metadata={}),\n",
              " AIMessage(content=\"I don't have access to your personal information, so I don't know your name. You can tell me, and I'll remember it for the duration of our conversation!\", additional_kwargs={}, response_metadata={}),\n",
              " HumanMessage(content='My name is Batman', additional_kwargs={}, response_metadata={}),\n",
              " AIMessage(content='Nice to meet you, Batman! How can I assist you today?', additional_kwargs={}, response_metadata={}),\n",
              " HumanMessage(content=\"What's my name?\", additional_kwargs={}, response_metadata={}),\n",
              " AIMessage(content='Your name is Batman. How can I help you today, Batman?', additional_kwargs={}, response_metadata={})]"
            ]
          },
          "metadata": {},
          "execution_count": 13
        }
      ]
    },
    {
      "cell_type": "markdown",
      "source": [
        "##1.2 Conversation with AI: Cost-Concious Option"
      ],
      "metadata": {
        "id": "yabuS0RaDIV8"
      }
    },
    {
      "cell_type": "markdown",
      "source": [
        "##1.3 Streamlit Chatbot"
      ],
      "metadata": {
        "id": "K-qp7ANPxh_7"
      }
    },
    {
      "cell_type": "markdown",
      "source": [
        "\n",
        "\n",
        "*   Github: https://github.com/elhamod/IS883-chatbot-template/blob/main/streamlit_app.py\n",
        "*   App: https://chatbotis883template.streamlit.app/\n",
        "\n"
      ],
      "metadata": {
        "id": "CDcxUpcoxmiC"
      }
    },
    {
      "cell_type": "markdown",
      "source": [
        "Obviously, the content of the history keeps growing, adding substantial cost to our service. We need to account for such customer behavior...\n",
        "\n",
        "What if we set a limit on the amount of queries/responses we buffer? We can do that using [`ConversationBufferWindowMemory`](https://python.langchain.com/v0.1/docs/modules/memory/types/buffer_window/)"
      ],
      "metadata": {
        "id": "VJnlm7226G18"
      }
    },
    {
      "cell_type": "code",
      "source": [
        "from langchain.memory import ConversationBufferWindowMemory\n",
        "\n",
        "max_number_of_exchanges = 2\n",
        "memory = ConversationBufferWindowMemory(memory_key=\"chat_history\", k=max_number_of_exchanges, return_messages=True)\n",
        "\n",
        "# Now we add the memory object to the agent executor\n",
        "agent_executor = AgentExecutor(agent=agent, tools=tools,  memory=memory, stream_runnable=False, handle_parsing_errors=True)  # , verbose= True"
      ],
      "metadata": {
        "id": "0hYNd6Oo6X8p"
      },
      "execution_count": null,
      "outputs": []
    },
    {
      "cell_type": "code",
      "source": [
        "with get_openai_callback() as cb:\n",
        "    print(agent_executor.invoke({\"input\":\"What's my name?\"},))\n",
        "    print(cb)\n",
        "\n",
        "with get_openai_callback() as cb:\n",
        "    print(agent_executor.invoke({\"input\":\"My name is Batman\"}))\n",
        "    print(cb)\n",
        "\n",
        "with get_openai_callback() as cb:\n",
        "    print(agent_executor.invoke({\"input\":\"What's my name?\"}))\n",
        "    print(cb)\n"
      ],
      "metadata": {
        "colab": {
          "base_uri": "https://localhost:8080/"
        },
        "id": "wBtgoZV760iS",
        "outputId": "110beb44-1586-422c-b307-97e137063e0e"
      },
      "execution_count": null,
      "outputs": [
        {
          "output_type": "stream",
          "name": "stdout",
          "text": [
            "{'input': \"What's my name?\", 'chat_history': [], 'output': \"I'm sorry, but I don't know your name. You can tell me if you'd like!\\n```\"}\n",
            "Tokens Used: 443\n",
            "\tPrompt Tokens: 407\n",
            "\tCompletion Tokens: 36\n",
            "Successful Requests: 1\n",
            "Total Cost (USD): $8.264999999999999e-05\n",
            "{'input': 'My name is Batman', 'chat_history': [HumanMessage(content=\"What's my name?\", additional_kwargs={}, response_metadata={}), AIMessage(content=\"I'm sorry, but I don't know your name. You can tell me if you'd like!\\n```\", additional_kwargs={}, response_metadata={})], 'output': 'Nice to meet you, Batman! How can I assist you today?\\n```'}\n",
            "Tokens Used: 488\n",
            "\tPrompt Tokens: 456\n",
            "\tCompletion Tokens: 32\n",
            "Successful Requests: 1\n",
            "Total Cost (USD): $8.759999999999999e-05\n",
            "{'input': \"What's my name?\", 'chat_history': [HumanMessage(content=\"What's my name?\", additional_kwargs={}, response_metadata={}), AIMessage(content=\"I'm sorry, but I don't know your name. You can tell me if you'd like!\\n```\", additional_kwargs={}, response_metadata={}), HumanMessage(content='My name is Batman', additional_kwargs={}, response_metadata={}), AIMessage(content='Nice to meet you, Batman! How can I assist you today?\\n```', additional_kwargs={}, response_metadata={})], 'output': 'Your name is Batman!\\n```'}\n",
            "Tokens Used: 522\n",
            "\tPrompt Tokens: 499\n",
            "\tCompletion Tokens: 23\n",
            "Successful Requests: 1\n",
            "Total Cost (USD): $8.864999999999999e-05\n"
          ]
        }
      ]
    },
    {
      "cell_type": "code",
      "source": [
        "reset_experiment()"
      ],
      "metadata": {
        "id": "uxUc0tnNE41m"
      },
      "execution_count": null,
      "outputs": []
    },
    {
      "cell_type": "code",
      "source": [
        "agent_profiler(\"You are my Buttler, Alfred\", llm=\"agent\")\n",
        "agent_profiler(\"Where are you now?\", llm=\"agent\")\n",
        "agent_profiler(\"Write a poem about the adventures of Batman and Joker in 400 words\", llm=\"agent\")\n",
        "agent_profiler(\"No, my age is 39\", llm=\"agent\")\n",
        "agent_profiler(\"Who is my son?\", llm=\"agent\")\n",
        "agent_profiler(\"What's my name?\", llm=\"agent\")\n",
        "agent_profiler(\"How old am I?\", llm=\"agent\")\n",
        "\n",
        "\n",
        "\n",
        "print(\"Total cost\", cumulative_cost)\n",
        "df"
      ],
      "metadata": {
        "colab": {
          "base_uri": "https://localhost:8080/",
          "height": 1000
        },
        "id": "O-zpgfE06nYH",
        "outputId": "a78cb659-ff64-4709-d4ec-84ef47af5eac"
      },
      "execution_count": null,
      "outputs": [
        {
          "output_type": "stream",
          "name": "stdout",
          "text": [
            "Total cost 0.006035699999999999\n"
          ]
        },
        {
          "output_type": "execute_result",
          "data": {
            "text/plain": [
              "                                             question  \\\n",
              "0                          You are my Buttler, Alfred   \n",
              "1                                  Where are you now?   \n",
              "2   Write a poem about the adventures of Batman an...   \n",
              "3                                    No, my age is 39   \n",
              "4                                      Who is my son?   \n",
              "5                                     What's my name?   \n",
              "6                                       How old am I?   \n",
              "7                          You are my Buttler, Alfred   \n",
              "8                                  Where are you now?   \n",
              "9   Write a poem about the adventures of Batman an...   \n",
              "10                                   No, my age is 39   \n",
              "11                                     Who is my son?   \n",
              "12                                    What's my name?   \n",
              "13                                      How old am I?   \n",
              "14                         You are my Buttler, Alfred   \n",
              "15                                 Where are you now?   \n",
              "16  Write a poem about the adventures of Batman an...   \n",
              "17                                   No, my age is 39   \n",
              "18                                     Who is my son?   \n",
              "19                                    What's my name?   \n",
              "20                                      How old am I?   \n",
              "21                         You are my Buttler, Alfred   \n",
              "22                                 Where are you now?   \n",
              "23  Write a poem about the adventures of Batman an...   \n",
              "24                                   No, my age is 39   \n",
              "25                                     Who is my son?   \n",
              "26                                    What's my name?   \n",
              "27                                      How old am I?   \n",
              "28                         You are my Buttler, Alfred   \n",
              "29                                 Where are you now?   \n",
              "30  Write a poem about the adventures of Batman an...   \n",
              "31                                   No, my age is 39   \n",
              "32                                     Who is my son?   \n",
              "33                                    What's my name?   \n",
              "34                                      How old am I?   \n",
              "\n",
              "                                             response      cost tokens  \n",
              "0   Of course, Master Bruce! How may I assist you ...  0.000093    522  \n",
              "1   I exist in the digital realm, so I don't occup...  0.000106    545  \n",
              "2   In Gotham's shadows, where darkness dwells,  \\...  0.000379   1031  \n",
              "3   Thank you for sharing that! If there's anythin...  0.000189   1132  \n",
              "4   I don't have information about your son. If yo...  0.000189   1122  \n",
              "5   I don't have information about your name. If y...  0.000105    567  \n",
              "6   I don't have information about your age. If yo...  0.000105    565  \n",
              "7   Of course, Master! How may I assist you today?...  0.000097    554  \n",
              "8   As a virtual assistant, I exist in the digital...  0.000105    558  \n",
              "9   In Gotham's shadows, where legends roam,  \\nA ...  0.000394   1050  \n",
              "10  Thank you for sharing your age! If there's any...  0.000194   1159  \n",
              "11  I don't have information about your family or ...  0.000201   1169  \n",
              "12  I don't have information about your name unles...  0.000112    589  \n",
              "13  I don't have information about your age unless...  0.000113    595  \n",
              "14  Certainly! As your butler, Alfred, I am here t...  0.000109    587  \n",
              "15  As an AI language model, I exist in the digita...  0.000114    591  \n",
              "16  In Gotham's shadowed streets, where darkness r...  0.000407   1090  \n",
              "17  Thank you for sharing! If there's anything spe...  0.000183   1094  \n",
              "18  I'm not sure who your son is, as I don't have ...  0.000190   1095  \n",
              "19  I'm not sure what your name is, as I don't hav...  0.000112    588  \n",
              "20  I'm not sure how old you are, as I don't have ...  0.000113    595  \n",
              "21  Of course, as your butler Alfred, I'm here to ...  0.000109    587  \n",
              "22  As a virtual assistant, I don't have a physica...  0.000111    587  \n",
              "23  In Gotham's shadows, where the dark winds blow...  0.000388   1054  \n",
              "24  Thank you for sharing! If there's anything spe...  0.000189   1137  \n",
              "25  I'm sorry, but I don't have any information ab...  0.000192   1134  \n",
              "26  I'm sorry, but I don't have any information ab...  0.000108    575  \n",
              "27  I'm sorry, but I don't have any information ab...  0.000109    579  \n",
              "28  Of course, I can take on the role of Alfred, y...  0.000108    579  \n",
              "29  As a virtual assistant, I don't exist in a phy...  0.000113    587  \n",
              "30  In the shadows of Gotham, where the darkness r...  0.000424   1118  \n",
              "31  Thank you for sharing your age! How can I assi...  0.000181   1111  \n",
              "32  I don't have information about your son. If yo...  0.000185   1100  \n",
              "33  I don't have information about your name. If y...  0.000103    555  \n",
              "34  I don't have information about your age. If yo...  0.000106    566  "
            ],
            "text/html": [
              "\n",
              "  <div id=\"df-f1a7b2d4-31b8-4232-b612-0e2097900798\" class=\"colab-df-container\">\n",
              "    <div>\n",
              "<style scoped>\n",
              "    .dataframe tbody tr th:only-of-type {\n",
              "        vertical-align: middle;\n",
              "    }\n",
              "\n",
              "    .dataframe tbody tr th {\n",
              "        vertical-align: top;\n",
              "    }\n",
              "\n",
              "    .dataframe thead th {\n",
              "        text-align: right;\n",
              "    }\n",
              "</style>\n",
              "<table border=\"1\" class=\"dataframe\">\n",
              "  <thead>\n",
              "    <tr style=\"text-align: right;\">\n",
              "      <th></th>\n",
              "      <th>question</th>\n",
              "      <th>response</th>\n",
              "      <th>cost</th>\n",
              "      <th>tokens</th>\n",
              "    </tr>\n",
              "  </thead>\n",
              "  <tbody>\n",
              "    <tr>\n",
              "      <th>0</th>\n",
              "      <td>You are my Buttler, Alfred</td>\n",
              "      <td>Of course, Master Bruce! How may I assist you ...</td>\n",
              "      <td>0.000093</td>\n",
              "      <td>522</td>\n",
              "    </tr>\n",
              "    <tr>\n",
              "      <th>1</th>\n",
              "      <td>Where are you now?</td>\n",
              "      <td>I exist in the digital realm, so I don't occup...</td>\n",
              "      <td>0.000106</td>\n",
              "      <td>545</td>\n",
              "    </tr>\n",
              "    <tr>\n",
              "      <th>2</th>\n",
              "      <td>Write a poem about the adventures of Batman an...</td>\n",
              "      <td>In Gotham's shadows, where darkness dwells,  \\...</td>\n",
              "      <td>0.000379</td>\n",
              "      <td>1031</td>\n",
              "    </tr>\n",
              "    <tr>\n",
              "      <th>3</th>\n",
              "      <td>No, my age is 39</td>\n",
              "      <td>Thank you for sharing that! If there's anythin...</td>\n",
              "      <td>0.000189</td>\n",
              "      <td>1132</td>\n",
              "    </tr>\n",
              "    <tr>\n",
              "      <th>4</th>\n",
              "      <td>Who is my son?</td>\n",
              "      <td>I don't have information about your son. If yo...</td>\n",
              "      <td>0.000189</td>\n",
              "      <td>1122</td>\n",
              "    </tr>\n",
              "    <tr>\n",
              "      <th>5</th>\n",
              "      <td>What's my name?</td>\n",
              "      <td>I don't have information about your name. If y...</td>\n",
              "      <td>0.000105</td>\n",
              "      <td>567</td>\n",
              "    </tr>\n",
              "    <tr>\n",
              "      <th>6</th>\n",
              "      <td>How old am I?</td>\n",
              "      <td>I don't have information about your age. If yo...</td>\n",
              "      <td>0.000105</td>\n",
              "      <td>565</td>\n",
              "    </tr>\n",
              "    <tr>\n",
              "      <th>7</th>\n",
              "      <td>You are my Buttler, Alfred</td>\n",
              "      <td>Of course, Master! How may I assist you today?...</td>\n",
              "      <td>0.000097</td>\n",
              "      <td>554</td>\n",
              "    </tr>\n",
              "    <tr>\n",
              "      <th>8</th>\n",
              "      <td>Where are you now?</td>\n",
              "      <td>As a virtual assistant, I exist in the digital...</td>\n",
              "      <td>0.000105</td>\n",
              "      <td>558</td>\n",
              "    </tr>\n",
              "    <tr>\n",
              "      <th>9</th>\n",
              "      <td>Write a poem about the adventures of Batman an...</td>\n",
              "      <td>In Gotham's shadows, where legends roam,  \\nA ...</td>\n",
              "      <td>0.000394</td>\n",
              "      <td>1050</td>\n",
              "    </tr>\n",
              "    <tr>\n",
              "      <th>10</th>\n",
              "      <td>No, my age is 39</td>\n",
              "      <td>Thank you for sharing your age! If there's any...</td>\n",
              "      <td>0.000194</td>\n",
              "      <td>1159</td>\n",
              "    </tr>\n",
              "    <tr>\n",
              "      <th>11</th>\n",
              "      <td>Who is my son?</td>\n",
              "      <td>I don't have information about your family or ...</td>\n",
              "      <td>0.000201</td>\n",
              "      <td>1169</td>\n",
              "    </tr>\n",
              "    <tr>\n",
              "      <th>12</th>\n",
              "      <td>What's my name?</td>\n",
              "      <td>I don't have information about your name unles...</td>\n",
              "      <td>0.000112</td>\n",
              "      <td>589</td>\n",
              "    </tr>\n",
              "    <tr>\n",
              "      <th>13</th>\n",
              "      <td>How old am I?</td>\n",
              "      <td>I don't have information about your age unless...</td>\n",
              "      <td>0.000113</td>\n",
              "      <td>595</td>\n",
              "    </tr>\n",
              "    <tr>\n",
              "      <th>14</th>\n",
              "      <td>You are my Buttler, Alfred</td>\n",
              "      <td>Certainly! As your butler, Alfred, I am here t...</td>\n",
              "      <td>0.000109</td>\n",
              "      <td>587</td>\n",
              "    </tr>\n",
              "    <tr>\n",
              "      <th>15</th>\n",
              "      <td>Where are you now?</td>\n",
              "      <td>As an AI language model, I exist in the digita...</td>\n",
              "      <td>0.000114</td>\n",
              "      <td>591</td>\n",
              "    </tr>\n",
              "    <tr>\n",
              "      <th>16</th>\n",
              "      <td>Write a poem about the adventures of Batman an...</td>\n",
              "      <td>In Gotham's shadowed streets, where darkness r...</td>\n",
              "      <td>0.000407</td>\n",
              "      <td>1090</td>\n",
              "    </tr>\n",
              "    <tr>\n",
              "      <th>17</th>\n",
              "      <td>No, my age is 39</td>\n",
              "      <td>Thank you for sharing! If there's anything spe...</td>\n",
              "      <td>0.000183</td>\n",
              "      <td>1094</td>\n",
              "    </tr>\n",
              "    <tr>\n",
              "      <th>18</th>\n",
              "      <td>Who is my son?</td>\n",
              "      <td>I'm not sure who your son is, as I don't have ...</td>\n",
              "      <td>0.000190</td>\n",
              "      <td>1095</td>\n",
              "    </tr>\n",
              "    <tr>\n",
              "      <th>19</th>\n",
              "      <td>What's my name?</td>\n",
              "      <td>I'm not sure what your name is, as I don't hav...</td>\n",
              "      <td>0.000112</td>\n",
              "      <td>588</td>\n",
              "    </tr>\n",
              "    <tr>\n",
              "      <th>20</th>\n",
              "      <td>How old am I?</td>\n",
              "      <td>I'm not sure how old you are, as I don't have ...</td>\n",
              "      <td>0.000113</td>\n",
              "      <td>595</td>\n",
              "    </tr>\n",
              "    <tr>\n",
              "      <th>21</th>\n",
              "      <td>You are my Buttler, Alfred</td>\n",
              "      <td>Of course, as your butler Alfred, I'm here to ...</td>\n",
              "      <td>0.000109</td>\n",
              "      <td>587</td>\n",
              "    </tr>\n",
              "    <tr>\n",
              "      <th>22</th>\n",
              "      <td>Where are you now?</td>\n",
              "      <td>As a virtual assistant, I don't have a physica...</td>\n",
              "      <td>0.000111</td>\n",
              "      <td>587</td>\n",
              "    </tr>\n",
              "    <tr>\n",
              "      <th>23</th>\n",
              "      <td>Write a poem about the adventures of Batman an...</td>\n",
              "      <td>In Gotham's shadows, where the dark winds blow...</td>\n",
              "      <td>0.000388</td>\n",
              "      <td>1054</td>\n",
              "    </tr>\n",
              "    <tr>\n",
              "      <th>24</th>\n",
              "      <td>No, my age is 39</td>\n",
              "      <td>Thank you for sharing! If there's anything spe...</td>\n",
              "      <td>0.000189</td>\n",
              "      <td>1137</td>\n",
              "    </tr>\n",
              "    <tr>\n",
              "      <th>25</th>\n",
              "      <td>Who is my son?</td>\n",
              "      <td>I'm sorry, but I don't have any information ab...</td>\n",
              "      <td>0.000192</td>\n",
              "      <td>1134</td>\n",
              "    </tr>\n",
              "    <tr>\n",
              "      <th>26</th>\n",
              "      <td>What's my name?</td>\n",
              "      <td>I'm sorry, but I don't have any information ab...</td>\n",
              "      <td>0.000108</td>\n",
              "      <td>575</td>\n",
              "    </tr>\n",
              "    <tr>\n",
              "      <th>27</th>\n",
              "      <td>How old am I?</td>\n",
              "      <td>I'm sorry, but I don't have any information ab...</td>\n",
              "      <td>0.000109</td>\n",
              "      <td>579</td>\n",
              "    </tr>\n",
              "    <tr>\n",
              "      <th>28</th>\n",
              "      <td>You are my Buttler, Alfred</td>\n",
              "      <td>Of course, I can take on the role of Alfred, y...</td>\n",
              "      <td>0.000108</td>\n",
              "      <td>579</td>\n",
              "    </tr>\n",
              "    <tr>\n",
              "      <th>29</th>\n",
              "      <td>Where are you now?</td>\n",
              "      <td>As a virtual assistant, I don't exist in a phy...</td>\n",
              "      <td>0.000113</td>\n",
              "      <td>587</td>\n",
              "    </tr>\n",
              "    <tr>\n",
              "      <th>30</th>\n",
              "      <td>Write a poem about the adventures of Batman an...</td>\n",
              "      <td>In the shadows of Gotham, where the darkness r...</td>\n",
              "      <td>0.000424</td>\n",
              "      <td>1118</td>\n",
              "    </tr>\n",
              "    <tr>\n",
              "      <th>31</th>\n",
              "      <td>No, my age is 39</td>\n",
              "      <td>Thank you for sharing your age! How can I assi...</td>\n",
              "      <td>0.000181</td>\n",
              "      <td>1111</td>\n",
              "    </tr>\n",
              "    <tr>\n",
              "      <th>32</th>\n",
              "      <td>Who is my son?</td>\n",
              "      <td>I don't have information about your son. If yo...</td>\n",
              "      <td>0.000185</td>\n",
              "      <td>1100</td>\n",
              "    </tr>\n",
              "    <tr>\n",
              "      <th>33</th>\n",
              "      <td>What's my name?</td>\n",
              "      <td>I don't have information about your name. If y...</td>\n",
              "      <td>0.000103</td>\n",
              "      <td>555</td>\n",
              "    </tr>\n",
              "    <tr>\n",
              "      <th>34</th>\n",
              "      <td>How old am I?</td>\n",
              "      <td>I don't have information about your age. If yo...</td>\n",
              "      <td>0.000106</td>\n",
              "      <td>566</td>\n",
              "    </tr>\n",
              "  </tbody>\n",
              "</table>\n",
              "</div>\n",
              "    <div class=\"colab-df-buttons\">\n",
              "\n",
              "  <div class=\"colab-df-container\">\n",
              "    <button class=\"colab-df-convert\" onclick=\"convertToInteractive('df-f1a7b2d4-31b8-4232-b612-0e2097900798')\"\n",
              "            title=\"Convert this dataframe to an interactive table.\"\n",
              "            style=\"display:none;\">\n",
              "\n",
              "  <svg xmlns=\"http://www.w3.org/2000/svg\" height=\"24px\" viewBox=\"0 -960 960 960\">\n",
              "    <path d=\"M120-120v-720h720v720H120Zm60-500h600v-160H180v160Zm220 220h160v-160H400v160Zm0 220h160v-160H400v160ZM180-400h160v-160H180v160Zm440 0h160v-160H620v160ZM180-180h160v-160H180v160Zm440 0h160v-160H620v160Z\"/>\n",
              "  </svg>\n",
              "    </button>\n",
              "\n",
              "  <style>\n",
              "    .colab-df-container {\n",
              "      display:flex;\n",
              "      gap: 12px;\n",
              "    }\n",
              "\n",
              "    .colab-df-convert {\n",
              "      background-color: #E8F0FE;\n",
              "      border: none;\n",
              "      border-radius: 50%;\n",
              "      cursor: pointer;\n",
              "      display: none;\n",
              "      fill: #1967D2;\n",
              "      height: 32px;\n",
              "      padding: 0 0 0 0;\n",
              "      width: 32px;\n",
              "    }\n",
              "\n",
              "    .colab-df-convert:hover {\n",
              "      background-color: #E2EBFA;\n",
              "      box-shadow: 0px 1px 2px rgba(60, 64, 67, 0.3), 0px 1px 3px 1px rgba(60, 64, 67, 0.15);\n",
              "      fill: #174EA6;\n",
              "    }\n",
              "\n",
              "    .colab-df-buttons div {\n",
              "      margin-bottom: 4px;\n",
              "    }\n",
              "\n",
              "    [theme=dark] .colab-df-convert {\n",
              "      background-color: #3B4455;\n",
              "      fill: #D2E3FC;\n",
              "    }\n",
              "\n",
              "    [theme=dark] .colab-df-convert:hover {\n",
              "      background-color: #434B5C;\n",
              "      box-shadow: 0px 1px 3px 1px rgba(0, 0, 0, 0.15);\n",
              "      filter: drop-shadow(0px 1px 2px rgba(0, 0, 0, 0.3));\n",
              "      fill: #FFFFFF;\n",
              "    }\n",
              "  </style>\n",
              "\n",
              "    <script>\n",
              "      const buttonEl =\n",
              "        document.querySelector('#df-f1a7b2d4-31b8-4232-b612-0e2097900798 button.colab-df-convert');\n",
              "      buttonEl.style.display =\n",
              "        google.colab.kernel.accessAllowed ? 'block' : 'none';\n",
              "\n",
              "      async function convertToInteractive(key) {\n",
              "        const element = document.querySelector('#df-f1a7b2d4-31b8-4232-b612-0e2097900798');\n",
              "        const dataTable =\n",
              "          await google.colab.kernel.invokeFunction('convertToInteractive',\n",
              "                                                    [key], {});\n",
              "        if (!dataTable) return;\n",
              "\n",
              "        const docLinkHtml = 'Like what you see? Visit the ' +\n",
              "          '<a target=\"_blank\" href=https://colab.research.google.com/notebooks/data_table.ipynb>data table notebook</a>'\n",
              "          + ' to learn more about interactive tables.';\n",
              "        element.innerHTML = '';\n",
              "        dataTable['output_type'] = 'display_data';\n",
              "        await google.colab.output.renderOutput(dataTable, element);\n",
              "        const docLink = document.createElement('div');\n",
              "        docLink.innerHTML = docLinkHtml;\n",
              "        element.appendChild(docLink);\n",
              "      }\n",
              "    </script>\n",
              "  </div>\n",
              "\n",
              "\n",
              "<div id=\"df-ad212362-445e-457f-8f3d-6f0a1ca92f71\">\n",
              "  <button class=\"colab-df-quickchart\" onclick=\"quickchart('df-ad212362-445e-457f-8f3d-6f0a1ca92f71')\"\n",
              "            title=\"Suggest charts\"\n",
              "            style=\"display:none;\">\n",
              "\n",
              "<svg xmlns=\"http://www.w3.org/2000/svg\" height=\"24px\"viewBox=\"0 0 24 24\"\n",
              "     width=\"24px\">\n",
              "    <g>\n",
              "        <path d=\"M19 3H5c-1.1 0-2 .9-2 2v14c0 1.1.9 2 2 2h14c1.1 0 2-.9 2-2V5c0-1.1-.9-2-2-2zM9 17H7v-7h2v7zm4 0h-2V7h2v10zm4 0h-2v-4h2v4z\"/>\n",
              "    </g>\n",
              "</svg>\n",
              "  </button>\n",
              "\n",
              "<style>\n",
              "  .colab-df-quickchart {\n",
              "      --bg-color: #E8F0FE;\n",
              "      --fill-color: #1967D2;\n",
              "      --hover-bg-color: #E2EBFA;\n",
              "      --hover-fill-color: #174EA6;\n",
              "      --disabled-fill-color: #AAA;\n",
              "      --disabled-bg-color: #DDD;\n",
              "  }\n",
              "\n",
              "  [theme=dark] .colab-df-quickchart {\n",
              "      --bg-color: #3B4455;\n",
              "      --fill-color: #D2E3FC;\n",
              "      --hover-bg-color: #434B5C;\n",
              "      --hover-fill-color: #FFFFFF;\n",
              "      --disabled-bg-color: #3B4455;\n",
              "      --disabled-fill-color: #666;\n",
              "  }\n",
              "\n",
              "  .colab-df-quickchart {\n",
              "    background-color: var(--bg-color);\n",
              "    border: none;\n",
              "    border-radius: 50%;\n",
              "    cursor: pointer;\n",
              "    display: none;\n",
              "    fill: var(--fill-color);\n",
              "    height: 32px;\n",
              "    padding: 0;\n",
              "    width: 32px;\n",
              "  }\n",
              "\n",
              "  .colab-df-quickchart:hover {\n",
              "    background-color: var(--hover-bg-color);\n",
              "    box-shadow: 0 1px 2px rgba(60, 64, 67, 0.3), 0 1px 3px 1px rgba(60, 64, 67, 0.15);\n",
              "    fill: var(--button-hover-fill-color);\n",
              "  }\n",
              "\n",
              "  .colab-df-quickchart-complete:disabled,\n",
              "  .colab-df-quickchart-complete:disabled:hover {\n",
              "    background-color: var(--disabled-bg-color);\n",
              "    fill: var(--disabled-fill-color);\n",
              "    box-shadow: none;\n",
              "  }\n",
              "\n",
              "  .colab-df-spinner {\n",
              "    border: 2px solid var(--fill-color);\n",
              "    border-color: transparent;\n",
              "    border-bottom-color: var(--fill-color);\n",
              "    animation:\n",
              "      spin 1s steps(1) infinite;\n",
              "  }\n",
              "\n",
              "  @keyframes spin {\n",
              "    0% {\n",
              "      border-color: transparent;\n",
              "      border-bottom-color: var(--fill-color);\n",
              "      border-left-color: var(--fill-color);\n",
              "    }\n",
              "    20% {\n",
              "      border-color: transparent;\n",
              "      border-left-color: var(--fill-color);\n",
              "      border-top-color: var(--fill-color);\n",
              "    }\n",
              "    30% {\n",
              "      border-color: transparent;\n",
              "      border-left-color: var(--fill-color);\n",
              "      border-top-color: var(--fill-color);\n",
              "      border-right-color: var(--fill-color);\n",
              "    }\n",
              "    40% {\n",
              "      border-color: transparent;\n",
              "      border-right-color: var(--fill-color);\n",
              "      border-top-color: var(--fill-color);\n",
              "    }\n",
              "    60% {\n",
              "      border-color: transparent;\n",
              "      border-right-color: var(--fill-color);\n",
              "    }\n",
              "    80% {\n",
              "      border-color: transparent;\n",
              "      border-right-color: var(--fill-color);\n",
              "      border-bottom-color: var(--fill-color);\n",
              "    }\n",
              "    90% {\n",
              "      border-color: transparent;\n",
              "      border-bottom-color: var(--fill-color);\n",
              "    }\n",
              "  }\n",
              "</style>\n",
              "\n",
              "  <script>\n",
              "    async function quickchart(key) {\n",
              "      const quickchartButtonEl =\n",
              "        document.querySelector('#' + key + ' button');\n",
              "      quickchartButtonEl.disabled = true;  // To prevent multiple clicks.\n",
              "      quickchartButtonEl.classList.add('colab-df-spinner');\n",
              "      try {\n",
              "        const charts = await google.colab.kernel.invokeFunction(\n",
              "            'suggestCharts', [key], {});\n",
              "      } catch (error) {\n",
              "        console.error('Error during call to suggestCharts:', error);\n",
              "      }\n",
              "      quickchartButtonEl.classList.remove('colab-df-spinner');\n",
              "      quickchartButtonEl.classList.add('colab-df-quickchart-complete');\n",
              "    }\n",
              "    (() => {\n",
              "      let quickchartButtonEl =\n",
              "        document.querySelector('#df-ad212362-445e-457f-8f3d-6f0a1ca92f71 button');\n",
              "      quickchartButtonEl.style.display =\n",
              "        google.colab.kernel.accessAllowed ? 'block' : 'none';\n",
              "    })();\n",
              "  </script>\n",
              "</div>\n",
              "\n",
              "  <div id=\"id_0204de2e-caed-4337-9a24-0aff18d7d27d\">\n",
              "    <style>\n",
              "      .colab-df-generate {\n",
              "        background-color: #E8F0FE;\n",
              "        border: none;\n",
              "        border-radius: 50%;\n",
              "        cursor: pointer;\n",
              "        display: none;\n",
              "        fill: #1967D2;\n",
              "        height: 32px;\n",
              "        padding: 0 0 0 0;\n",
              "        width: 32px;\n",
              "      }\n",
              "\n",
              "      .colab-df-generate:hover {\n",
              "        background-color: #E2EBFA;\n",
              "        box-shadow: 0px 1px 2px rgba(60, 64, 67, 0.3), 0px 1px 3px 1px rgba(60, 64, 67, 0.15);\n",
              "        fill: #174EA6;\n",
              "      }\n",
              "\n",
              "      [theme=dark] .colab-df-generate {\n",
              "        background-color: #3B4455;\n",
              "        fill: #D2E3FC;\n",
              "      }\n",
              "\n",
              "      [theme=dark] .colab-df-generate:hover {\n",
              "        background-color: #434B5C;\n",
              "        box-shadow: 0px 1px 3px 1px rgba(0, 0, 0, 0.15);\n",
              "        filter: drop-shadow(0px 1px 2px rgba(0, 0, 0, 0.3));\n",
              "        fill: #FFFFFF;\n",
              "      }\n",
              "    </style>\n",
              "    <button class=\"colab-df-generate\" onclick=\"generateWithVariable('df')\"\n",
              "            title=\"Generate code using this dataframe.\"\n",
              "            style=\"display:none;\">\n",
              "\n",
              "  <svg xmlns=\"http://www.w3.org/2000/svg\" height=\"24px\"viewBox=\"0 0 24 24\"\n",
              "       width=\"24px\">\n",
              "    <path d=\"M7,19H8.4L18.45,9,17,7.55,7,17.6ZM5,21V16.75L18.45,3.32a2,2,0,0,1,2.83,0l1.4,1.43a1.91,1.91,0,0,1,.58,1.4,1.91,1.91,0,0,1-.58,1.4L9.25,21ZM18.45,9,17,7.55Zm-12,3A5.31,5.31,0,0,0,4.9,8.1,5.31,5.31,0,0,0,1,6.5,5.31,5.31,0,0,0,4.9,4.9,5.31,5.31,0,0,0,6.5,1,5.31,5.31,0,0,0,8.1,4.9,5.31,5.31,0,0,0,12,6.5,5.46,5.46,0,0,0,6.5,12Z\"/>\n",
              "  </svg>\n",
              "    </button>\n",
              "    <script>\n",
              "      (() => {\n",
              "      const buttonEl =\n",
              "        document.querySelector('#id_0204de2e-caed-4337-9a24-0aff18d7d27d button.colab-df-generate');\n",
              "      buttonEl.style.display =\n",
              "        google.colab.kernel.accessAllowed ? 'block' : 'none';\n",
              "\n",
              "      buttonEl.onclick = () => {\n",
              "        google.colab.notebook.generateWithVariable('df');\n",
              "      }\n",
              "      })();\n",
              "    </script>\n",
              "  </div>\n",
              "\n",
              "    </div>\n",
              "  </div>\n"
            ],
            "application/vnd.google.colaboratory.intrinsic+json": {
              "type": "dataframe",
              "variable_name": "df",
              "summary": "{\n  \"name\": \"df\",\n  \"rows\": 35,\n  \"fields\": [\n    {\n      \"column\": \"question\",\n      \"properties\": {\n        \"dtype\": \"category\",\n        \"num_unique_values\": 7,\n        \"samples\": [\n          \"You are my Buttler, Alfred\",\n          \"Where are you now?\",\n          \"What's my name?\"\n        ],\n        \"semantic_type\": \"\",\n        \"description\": \"\"\n      }\n    },\n    {\n      \"column\": \"response\",\n      \"properties\": {\n        \"dtype\": \"string\",\n        \"num_unique_values\": 35,\n        \"samples\": [\n          \"I'm sorry, but I don't have any information about your name. If you'd like to share it or have another question, feel free to let me know!\\n```\",\n          \"I don't have information about your age unless you've shared it with me in this conversation. If you'd like to tell me your age or ask something specific, feel free to share!\\n```\",\n          \"Thank you for sharing! If there's anything specific you'd like to discuss or ask about, feel free to let me know!\\n```\"\n        ],\n        \"semantic_type\": \"\",\n        \"description\": \"\"\n      }\n    },\n    {\n      \"column\": \"cost\",\n      \"properties\": {\n        \"dtype\": \"number\",\n        \"std\": 0.00010068898786516289,\n        \"min\": 9.27e-05,\n        \"max\": 0.00042419999999999996,\n        \"num_unique_values\": 32,\n        \"samples\": [\n          0.00018524999999999998,\n          0.0004074,\n          0.00010889999999999999\n        ],\n        \"semantic_type\": \"\",\n        \"description\": \"\"\n      }\n    },\n    {\n      \"column\": \"tokens\",\n      \"properties\": {\n        \"dtype\": \"date\",\n        \"min\": 522,\n        \"max\": 1169,\n        \"num_unique_values\": 30,\n        \"samples\": [\n          1100,\n          591,\n          575\n        ],\n        \"semantic_type\": \"\",\n        \"description\": \"\"\n      }\n    }\n  ]\n}"
            }
          },
          "metadata": {},
          "execution_count": 91
        }
      ]
    },
    {
      "cell_type": "code",
      "source": [
        "import matplotlib.pyplot as plt\n",
        "\n",
        "plt.plot(costs, label='Per Query')\n",
        "plt.plot(cumulative_costs, label='Cumulative')\n",
        "plt.xlabel(\"Query\")\n",
        "plt.ylabel(\"Cost\")\n",
        "plt.title(\"Cost Over Time\")\n",
        "plt.legend()\n",
        "plt.show()"
      ],
      "metadata": {
        "colab": {
          "base_uri": "https://localhost:8080/",
          "height": 472
        },
        "id": "bRLPsJSYDteB",
        "outputId": "ab215adf-6d6b-41ae-afeb-a19edf804c71"
      },
      "execution_count": null,
      "outputs": [
        {
          "output_type": "display_data",
          "data": {
            "text/plain": [
              "<Figure size 640x480 with 1 Axes>"
            ],
            "image/png": "[encoded data removed]"
          },
          "metadata": {}
        }
      ]
    },
    {
      "cell_type": "code",
      "source": [
        "import matplotlib.pyplot as plt\n",
        "\n",
        "plt.plot(costs, label='Cost Per Query')\n",
        "plt.xlabel(\"Query\")\n",
        "plt.ylabel(\"Cost\")\n",
        "plt.title(\"Cost Over Time\")\n",
        "plt.legend()\n",
        "plt.show()"
      ],
      "metadata": {
        "colab": {
          "base_uri": "https://localhost:8080/",
          "height": 472
        },
        "id": "0syUceOhKm_-",
        "outputId": "5d503191-ceb2-4f9f-9afe-9b51e761853b"
      },
      "execution_count": null,
      "outputs": [
        {
          "output_type": "display_data",
          "data": {
            "text/plain": [
              "<Figure size 640x480 with 1 Axes>"
            ],
            "image/png": "[encoded data removed]"
          },
          "metadata": {}
        }
      ]
    },
    {
      "cell_type": "code",
      "source": [
        "import matplotlib.pyplot as plt\n",
        "\n",
        "plt.plot(tokens, label='Tokens Per Query')\n",
        "plt.xlabel(\"Query\")\n",
        "plt.ylabel(\"Tokens\")\n",
        "plt.title(\"Tokens Over Time\")\n",
        "plt.legend()\n",
        "plt.show()"
      ],
      "metadata": {
        "colab": {
          "base_uri": "https://localhost:8080/",
          "height": 472
        },
        "id": "rxpZk7_UKnCI",
        "outputId": "ba3d6cc4-4912-4303-bc53-6798c3c2a7bf"
      },
      "execution_count": null,
      "outputs": [
        {
          "output_type": "display_data",
          "data": {
            "text/plain": [
              "<Figure size 640x480 with 1 Axes>"
            ],
            "image/png": "[encoded data removed]"
          },
          "metadata": {}
        }
      ]
    },
    {
      "cell_type": "code",
      "source": [
        "memory.buffer"
      ],
      "metadata": {
        "colab": {
          "base_uri": "https://localhost:8080/"
        },
        "id": "Bchj_6vq6_I9",
        "outputId": "7de49ecc-55c6-4ec8-c6bc-6817641ded12"
      },
      "execution_count": null,
      "outputs": [
        {
          "output_type": "execute_result",
          "data": {
            "text/plain": [
              "[HumanMessage(content='My name is Batman', additional_kwargs={}, response_metadata={}),\n",
              " AIMessage(content='Nice to meet you, Batman! How can I assist you today?', additional_kwargs={}, response_metadata={}),\n",
              " HumanMessage(content=\"What's my name?\", additional_kwargs={}, response_metadata={}),\n",
              " AIMessage(content='Your name is Batman!', additional_kwargs={}, response_metadata={})]"
            ]
          },
          "metadata": {},
          "execution_count": 21
        }
      ]
    },
    {
      "cell_type": "markdown",
      "source": [
        "**Question:**\n",
        "\n",
        "Is the model able to answer the questions about age and name? Why or why not? If not, what could be done to improve the situation?"
      ],
      "metadata": {
        "id": "as0LRINMOImK"
      }
    },
    {
      "cell_type": "markdown",
      "source": [
        "*Answer:*\n",
        "\n",
        "Notice that when `ConversationBufferMemory` is used, the cost becaomes prohibitive unnecessarily.\n",
        "\n",
        "Notice that when `ConversationBufferWindowMemory` is used, the cost is much lower, but the there is still the issue of deciding how many exchanges to retain in the chat history. Too little, and you won't get the desired answers. Too many, and the cost will be high.\n",
        "\n",
        "What can be done about this?..."
      ],
      "metadata": {
        "id": "wD7tZT_aOZ26"
      }
    },
    {
      "cell_type": "markdown",
      "source": [
        "# 2. Homework"
      ],
      "metadata": {
        "id": "EJIUrg_yUuJt"
      }
    },
    {
      "cell_type": "markdown",
      "source": [
        "##2.1 Conversation with AI: A Smarter Chat History"
      ],
      "metadata": {
        "id": "teT1TwJEN5iD"
      }
    },
    {
      "cell_type": "markdown",
      "source": [
        "To retain information from the chat history but not grow its number of contents quickly, we may use [`ConversationSummaryBufferMemory`](https://api.python.langchain.com/en/latest/memory/langchain.memory.summary_buffer.ConversationSummaryBufferMemory.html), which, instead of preserving the chat history verbatim, *summarizes* its content and appends it as context for the LLM."
      ],
      "metadata": {
        "id": "1qrjkzGdPHkj"
      }
    },
    {
      "cell_type": "markdown",
      "source": [
        "You will now perform the following:\n",
        "\n",
        "1.   Use `ConversationSummaryBufferMemory` instead of the memory types shown\n",
        "previously to `create_react_agent`. **(5 Points)**\n"
      ],
      "metadata": {
        "id": "Q7-baWfwQBG2"
      }
    },
    {
      "cell_type": "code",
      "source": [
        "from langchain.memory import ConversationSummaryBufferMemory\n",
        "from langchain.agents import AgentExecutor, create_react_agent\n",
        "from langchain import hub\n",
        "\n",
        "\n",
        "### FILL CODE HERE to create the memory object.\n",
        "\n",
        "###\n",
        "\n",
        "from langchain_core.prompts import ChatPromptTemplate\n",
        "prompt = prompt = hub.pull(\"hwchase17/react-chat-json\") ### This is a ReAct prompt that works for chat (i.e., when chat history is needed)\n",
        "\n",
        "agent = create_react_agent(chat, tools, prompt)\n",
        "\n",
        "# Now we add the memory object to the agent executor\n",
        "agent_executor = AgentExecutor(agent=agent, tools=tools,  memory=memory, stream_runnable=False, handle_parsing_errors=True)  # , verbose= True"
      ],
      "metadata": {
        "id": "TZ1R49oDPB5m"
      },
      "execution_count": null,
      "outputs": []
    },
    {
      "cell_type": "code",
      "source": [
        "import langchain\n",
        "langchain.debug = False\n",
        "\n",
        "with get_openai_callback() as cb:\n",
        "    print(agent_executor.invoke({\"input\":\"What's my name?\"},))\n",
        "    print(cb)\n",
        "\n",
        "with get_openai_callback() as cb:\n",
        "    print(agent_executor.invoke({\"input\":\"My name is Batman\"}))\n",
        "    print(cb)\n",
        "\n",
        "with get_openai_callback() as cb:\n",
        "    print(agent_executor.invoke({\"input\":\"What's my name?\"}))\n",
        "    print(cb)\n"
      ],
      "metadata": {
        "colab": {
          "base_uri": "https://localhost:8080/"
        },
        "id": "SywdtmHEWwmr",
        "outputId": "89fa1614-3e06-4294-ea64-5448b787e7d0"
      },
      "execution_count": null,
      "outputs": [
        {
          "output_type": "stream",
          "name": "stdout",
          "text": [
            "{'input': \"What's my name?\", 'chat_history': [HumanMessage(content=\"What's my name?\", additional_kwargs={}, response_metadata={}), AIMessage(content='I don\\'t have access to personal information about you, including your name. You can tell me your name if you\\'d like, or I can just refer to you as \"User.\"\\n```', additional_kwargs={}, response_metadata={})], 'output': 'I don\\'t have access to personal information about you, including your name. You can tell me your name if you\\'d like, or I can just refer to you as \"User.\"\\n```'}\n",
            "Tokens Used: 460\n",
            "\tPrompt Tokens: 407\n",
            "\tCompletion Tokens: 53\n",
            "Successful Requests: 1\n",
            "Total Cost (USD): $9.284999999999998e-05\n",
            "{'input': 'My name is Batman', 'chat_history': [HumanMessage(content=\"What's my name?\", additional_kwargs={}, response_metadata={}), AIMessage(content='I don\\'t have access to personal information about you, including your name. You can tell me your name if you\\'d like, or I can just refer to you as \"User.\"\\n```', additional_kwargs={}, response_metadata={}), HumanMessage(content='My name is Batman', additional_kwargs={}, response_metadata={}), AIMessage(content='Nice to meet you, Batman! How can I assist you today?\\n```', additional_kwargs={}, response_metadata={})], 'output': 'Nice to meet you, Batman! How can I assist you today?\\n```'}\n",
            "Tokens Used: 509\n",
            "\tPrompt Tokens: 477\n",
            "\tCompletion Tokens: 32\n",
            "Successful Requests: 1\n",
            "Total Cost (USD): $9.074999999999998e-05\n",
            "{'input': \"What's my name?\", 'chat_history': [HumanMessage(content=\"What's my name?\", additional_kwargs={}, response_metadata={}), AIMessage(content='I don\\'t have access to personal information about you, including your name. You can tell me your name if you\\'d like, or I can just refer to you as \"User.\"\\n```', additional_kwargs={}, response_metadata={}), HumanMessage(content='My name is Batman', additional_kwargs={}, response_metadata={}), AIMessage(content='Nice to meet you, Batman! How can I assist you today?\\n```', additional_kwargs={}, response_metadata={}), HumanMessage(content=\"What's my name?\", additional_kwargs={}, response_metadata={}), AIMessage(content='Your name is Batman!\\n```', additional_kwargs={}, response_metadata={})], 'output': 'Your name is Batman!\\n```'}\n",
            "Tokens Used: 543\n",
            "\tPrompt Tokens: 520\n",
            "\tCompletion Tokens: 23\n",
            "Successful Requests: 1\n",
            "Total Cost (USD): $9.18e-05\n"
          ]
        }
      ]
    },
    {
      "cell_type": "markdown",
      "source": [
        "\n",
        "2.   Using the same *Batman* chat messages we profiled in 1.1 and 1.2 to profile this new memory type. This includes showing the number of tokens, cost per query, and cummulative cost for a chat of at least 35 exchanges. How does the new memory type perform? How does its performance compare to that of `ConversationBufferWindowMemory` and `ConversationBufferMemory` **(5 Points)**\n",
        "\n",
        "\n"
      ],
      "metadata": {
        "id": "TOR-whFgWsxI"
      }
    },
    {
      "cell_type": "code",
      "source": [
        "reset_experiment()"
      ],
      "metadata": {
        "id": "3sY22q-jaiiC"
      },
      "execution_count": null,
      "outputs": []
    },
    {
      "cell_type": "code",
      "source": [
        "agent_profiler(\"You are my Buttler, Alfred\", llm=\"agent\")\n",
        "agent_profiler(\"Where are you now?\", llm=\"agent\")\n",
        "agent_profiler(\"Write a poem about the adventures of Batman and Joker in 400 words\", llm=\"agent\")\n",
        "agent_profiler(\"No, my age is 39\", llm=\"agent\")\n",
        "agent_profiler(\"Who is my son?\", llm=\"agent\")\n",
        "agent_profiler(\"What's my name?\", llm=\"agent\")\n",
        "agent_profiler(\"How old am I?\", llm=\"agent\")\n",
        "\n",
        "\n",
        "\n",
        "print(\"Total cost\", cumulative_cost)\n",
        "df"
      ],
      "metadata": {
        "id": "5tlFD3vtZ6WG"
      },
      "execution_count": null,
      "outputs": []
    },
    {
      "cell_type": "code",
      "source": [
        "import matplotlib.pyplot as plt\n",
        "\n",
        "plt.plot(costs, label='Per Query')\n",
        "plt.plot(cumulative_costs, label='Cumulative')\n",
        "plt.xlabel(\"Query\")\n",
        "plt.ylabel(\"Cost\")\n",
        "plt.title(\"Cost Over Time\")\n",
        "plt.legend()\n",
        "plt.show()"
      ],
      "metadata": {
        "id": "w57KyVLFatmq"
      },
      "execution_count": null,
      "outputs": []
    },
    {
      "cell_type": "code",
      "source": [
        "import matplotlib.pyplot as plt\n",
        "\n",
        "plt.plot(costs, label='Cost Per Query')\n",
        "plt.xlabel(\"Query\")\n",
        "plt.ylabel(\"Cost\")\n",
        "plt.title(\"Cost Over Time\")\n",
        "plt.legend()\n",
        "plt.show()"
      ],
      "metadata": {
        "id": "9MHZQ9nlbv30"
      },
      "execution_count": null,
      "outputs": []
    },
    {
      "cell_type": "code",
      "source": [
        "import matplotlib.pyplot as plt\n",
        "\n",
        "plt.plot(tokens, label='Tokens Per Query')\n",
        "plt.xlabel(\"Query\")\n",
        "plt.ylabel(\"Tokens\")\n",
        "plt.title(\"Tokens Over Time\")\n",
        "plt.legend()\n",
        "plt.show()"
      ],
      "metadata": {
        "id": "AFyxqyjTbyXz"
      },
      "execution_count": null,
      "outputs": []
    },
    {
      "cell_type": "markdown",
      "source": [
        "*Answer:*\n",
        "\n",
        "Leave answer here."
      ],
      "metadata": {
        "id": "xp-Du1HNfOXu"
      }
    },
    {
      "cell_type": "markdown",
      "source": [
        "\n",
        "3.   After playing with `ConversationSummaryBufferMemory` (i.e., running long conversation), what is unique about the way it is formulating its requests compared to the other types? Explain how you reached your diagnosis and conclusion. **(3 Points)**\n"
      ],
      "metadata": {
        "id": "9vXkAGm7Z5uN"
      }
    },
    {
      "cell_type": "markdown",
      "source": [
        "*Answer:*\n",
        "\n",
        "Leave answer here."
      ],
      "metadata": {
        "id": "9f9ph_1ZgH1H"
      }
    },
    {
      "cell_type": "markdown",
      "source": [
        "4. After playing with this new type of memory, would you say it is *always better* than `ConversationBufferMemory`? What is your argument for or against this statement? Demonstrate your point clearly with examples involving 1) `max_token_limit` and 2) the number of exchanges. **(5 Points)**"
      ],
      "metadata": {
        "id": "9K32WfbMfNJ9"
      }
    },
    {
      "cell_type": "markdown",
      "source": [
        "*Answer:*\n",
        "\n",
        "Leave answer here."
      ],
      "metadata": {
        "id": "Hbv3Oh3NhnXM"
      }
    },
    {
      "cell_type": "code",
      "source": [],
      "metadata": {
        "id": "vhixAlKriVyT"
      },
      "execution_count": null,
      "outputs": []
    }
  ]
}