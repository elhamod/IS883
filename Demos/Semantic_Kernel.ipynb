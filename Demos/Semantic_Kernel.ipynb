{
  "cells": [
    {
      "cell_type": "markdown",
      "metadata": {
        "colab_type": "text",
        "id": "view-in-github"
      },
      "source": [
        "<a href=\"https://colab.research.google.com/github/elhamod/IS883/blob/main/Semantic_Kernel.ipynb\" target=\"_parent\"><img src=\"https://colab.research.google.com/assets/colab-badge.svg\" alt=\"Open In Colab\"/></a>"
      ]
    },
    {
      "cell_type": "markdown",
      "metadata": {},
      "source": [
        "# Semantic Kernel by Microsoft\n",
        "\n",
        "## Overview\n",
        "This notebook has been created for IS883 at Questrom School of Business - Boston University. It is designed to guide students through using Semantic Kernel package to build LLM plugins for business use-cases.\n",
        "\n",
        "### Created By\n",
        "- **Author:** Mohannad Elhamod\n",
        "- **Position:** Clinical Assistant Profressor\n",
        "- **Institution:** Questrom School of Business - Boston University\n",
        "\n",
        "\n",
        "\n",
        "*Note: This notebook is intended for educational purposes and is part of the coursework for IS883. Unauthorized distribution or use is not permitted.*\n",
        "\n",
        "---\n"
      ]
    },
    {
      "cell_type": "markdown",
      "metadata": {
        "id": "JA56z1x8knpr"
      },
      "source": [
        "`semantic_kernel` is a framework plugin that helps abstracting out the technical details of language modeling, making the process more conceptual, user-friendly, and easier to use by non-tech-savvy users."
      ]
    },
    {
      "cell_type": "markdown",
      "metadata": {
        "id": "kLyxEtQ9md1J"
      },
      "source": [
        "https://github.com/microsoft/semantic-kernel"
      ]
    },
    {
      "cell_type": "markdown",
      "metadata": {
        "id": "JjTCflzT_Qh_"
      },
      "source": [
        "Let's first load the OpenAI key."
      ]
    },
    {
      "cell_type": "code",
      "execution_count": 1,
      "metadata": {
        "colab": {
          "base_uri": "https://localhost:8080/"
        },
        "id": "CpkXpD1BhXKy",
        "outputId": "66aaede7-78ee-4915-8ac4-6c989a57595c"
      },
      "outputs": [
        {
          "name": "stdout",
          "output_type": "stream",
          "text": [
            "Mounted at /content/drive/\n"
          ]
        }
      ],
      "source": [
        "from google.colab import drive\n",
        "drive.mount('/content/drive/')"
      ]
    },
    {
      "cell_type": "code",
      "execution_count": 2,
      "metadata": {
        "id": "BXxrzJ__nCia"
      },
      "outputs": [],
      "source": [
        "config_ini_location = '/content/drive/MyDrive/Colab Notebooks/IS883/OpenAI guide/config.ini' # Change this to point to the location of your config.ini file.\n",
        "\n",
        "import configparser\n",
        "\n",
        "config = configparser.ConfigParser()\n",
        "config.read(config_ini_location)\n",
        "openai_api_key = config['OpenAI']['API_KEY']"
      ]
    },
    {
      "cell_type": "markdown",
      "metadata": {
        "id": "TgPcR44S_oZ6"
      },
      "source": [
        "Now, install OpenAI package"
      ]
    },
    {
      "cell_type": "code",
      "execution_count": 3,
      "metadata": {
        "colab": {
          "base_uri": "https://localhost:8080/"
        },
        "id": "GGME_qzWnQ4h",
        "outputId": "99f94014-fc95-4448-a5b0-f4b71f289489"
      },
      "outputs": [
        {
          "name": "stdout",
          "output_type": "stream",
          "text": [
            "Collecting openai\n",
            "  Downloading openai-0.28.1-py3-none-any.whl (76 kB)\n",
            "\u001b[?25l     \u001b[90m━━━━━━━━━━━━━━━━━━━━━━━━━━━━━━━━━━━━━━━━\u001b[0m \u001b[32m0.0/77.0 kB\u001b[0m \u001b[31m?\u001b[0m eta \u001b[36m-:--:--\u001b[0m\r\u001b[2K     \u001b[91m━━━━━━━━━━━━━━━━━━━━━━━━━━━━━━━━━━━━━\u001b[0m\u001b[90m╺\u001b[0m\u001b[90m━━\u001b[0m \u001b[32m71.7/77.0 kB\u001b[0m \u001b[31m2.1 MB/s\u001b[0m eta \u001b[36m0:00:01\u001b[0m\r\u001b[2K     \u001b[90m━━━━━━━━━━━━━━━━━━━━━━━━━━━━━━━━━━━━━━━━\u001b[0m \u001b[32m77.0/77.0 kB\u001b[0m \u001b[31m1.8 MB/s\u001b[0m eta \u001b[36m0:00:00\u001b[0m\n",
            "\u001b[?25hRequirement already satisfied: requests>=2.20 in /usr/local/lib/python3.10/dist-packages (from openai) (2.31.0)\n",
            "Requirement already satisfied: tqdm in /usr/local/lib/python3.10/dist-packages (from openai) (4.66.1)\n",
            "Requirement already satisfied: aiohttp in /usr/local/lib/python3.10/dist-packages (from openai) (3.8.6)\n",
            "Requirement already satisfied: charset-normalizer<4,>=2 in /usr/local/lib/python3.10/dist-packages (from requests>=2.20->openai) (3.3.1)\n",
            "Requirement already satisfied: idna<4,>=2.5 in /usr/local/lib/python3.10/dist-packages (from requests>=2.20->openai) (3.4)\n",
            "Requirement already satisfied: urllib3<3,>=1.21.1 in /usr/local/lib/python3.10/dist-packages (from requests>=2.20->openai) (2.0.7)\n",
            "Requirement already satisfied: certifi>=2017.4.17 in /usr/local/lib/python3.10/dist-packages (from requests>=2.20->openai) (2023.7.22)\n",
            "Requirement already satisfied: attrs>=17.3.0 in /usr/local/lib/python3.10/dist-packages (from aiohttp->openai) (23.1.0)\n",
            "Requirement already satisfied: multidict<7.0,>=4.5 in /usr/local/lib/python3.10/dist-packages (from aiohttp->openai) (6.0.4)\n",
            "Requirement already satisfied: async-timeout<5.0,>=4.0.0a3 in /usr/local/lib/python3.10/dist-packages (from aiohttp->openai) (4.0.3)\n",
            "Requirement already satisfied: yarl<2.0,>=1.0 in /usr/local/lib/python3.10/dist-packages (from aiohttp->openai) (1.9.2)\n",
            "Requirement already satisfied: frozenlist>=1.1.1 in /usr/local/lib/python3.10/dist-packages (from aiohttp->openai) (1.4.0)\n",
            "Requirement already satisfied: aiosignal>=1.1.2 in /usr/local/lib/python3.10/dist-packages (from aiohttp->openai) (1.3.1)\n",
            "Installing collected packages: openai\n",
            "\u001b[31mERROR: pip's dependency resolver does not currently take into account all the packages that are installed. This behaviour is the source of the following dependency conflicts.\n",
            "llmx 0.0.15a0 requires cohere, which is not installed.\n",
            "llmx 0.0.15a0 requires tiktoken, which is not installed.\u001b[0m\u001b[31m\n",
            "\u001b[0mSuccessfully installed openai-0.28.1\n"
          ]
        }
      ],
      "source": [
        "!pip install openai"
      ]
    },
    {
      "cell_type": "markdown",
      "metadata": {
        "id": "2ZR_gdS9_s2a"
      },
      "source": [
        "Set OpenAI key"
      ]
    },
    {
      "cell_type": "code",
      "execution_count": 4,
      "metadata": {
        "id": "UzmfPgAnnO2Q"
      },
      "outputs": [],
      "source": [
        "import openai\n",
        "\n",
        "# Initialize the OpenAI API with your API key\n",
        "openai.api_key = openai_api_key"
      ]
    },
    {
      "cell_type": "markdown",
      "metadata": {
        "id": "IfUvh9e4_vkK"
      },
      "source": [
        "Now, let's install `semantic_kernel`"
      ]
    },
    {
      "cell_type": "code",
      "execution_count": 5,
      "metadata": {
        "colab": {
          "base_uri": "https://localhost:8080/"
        },
        "id": "sGYGCm63nfHQ",
        "outputId": "30c595b7-8ac3-4f3c-9c74-ca3585e372ec"
      },
      "outputs": [
        {
          "name": "stdout",
          "output_type": "stream",
          "text": [
            "Collecting semantic_kernel\n",
            "  Downloading semantic_kernel-0.3.14.dev0-py3-none-any.whl (191 kB)\n",
            "\u001b[?25l     \u001b[90m━━━━━━━━━━━━━━━━━━━━━━━━━━━━━━━━━━━━━━━━\u001b[0m \u001b[32m0.0/191.8 kB\u001b[0m \u001b[31m?\u001b[0m eta \u001b[36m-:--:--\u001b[0m\r\u001b[2K     \u001b[91m━━━━━━━━━━━━━━━━━━━\u001b[0m\u001b[90m╺\u001b[0m\u001b[90m━━━━━━━━━━━━━━━━━━━━\u001b[0m \u001b[32m92.2/191.8 kB\u001b[0m \u001b[31m2.5 MB/s\u001b[0m eta \u001b[36m0:00:01\u001b[0m\r\u001b[2K     \u001b[90m━━━━━━━━━━━━━━━━━━━━━━━━━━━━━━━━━━━━━━━━\u001b[0m \u001b[32m191.8/191.8 kB\u001b[0m \u001b[31m3.6 MB/s\u001b[0m eta \u001b[36m0:00:00\u001b[0m\n",
            "\u001b[?25hCollecting aiofiles<24.0.0,>=23.1.0 (from semantic_kernel)\n",
            "  Downloading aiofiles-23.2.1-py3-none-any.whl (15 kB)\n",
            "Collecting motor<4.0.0,>=3.3.1 (from semantic_kernel)\n",
            "  Downloading motor-3.3.1-py3-none-any.whl (70 kB)\n",
            "\u001b[2K     \u001b[90m━━━━━━━━━━━━━━━━━━━━━━━━━━━━━━━━━━━━━━━━\u001b[0m \u001b[32m70.1/70.1 kB\u001b[0m \u001b[31m7.2 MB/s\u001b[0m eta \u001b[36m0:00:00\u001b[0m\n",
            "\u001b[?25hCollecting numpy<2.0.0,>=1.24.2 (from semantic_kernel)\n",
            "  Downloading numpy-1.26.1-cp310-cp310-manylinux_2_17_x86_64.manylinux2014_x86_64.whl (18.2 MB)\n",
            "\u001b[2K     \u001b[90m━━━━━━━━━━━━━━━━━━━━━━━━━━━━━━━━━━━━━━━━\u001b[0m \u001b[32m18.2/18.2 MB\u001b[0m \u001b[31m41.1 MB/s\u001b[0m eta \u001b[36m0:00:00\u001b[0m\n",
            "\u001b[?25hRequirement already satisfied: openai<0.29,>=0.27 in /usr/local/lib/python3.10/dist-packages (from semantic_kernel) (0.28.1)\n",
            "Collecting openapi_core<0.19.0,>=0.18.0 (from semantic_kernel)\n",
            "  Downloading openapi_core-0.18.1-py3-none-any.whl (82 kB)\n",
            "\u001b[2K     \u001b[90m━━━━━━━━━━━━━━━━━━━━━━━━━━━━━━━━━━━━━━━━\u001b[0m \u001b[32m82.3/82.3 kB\u001b[0m \u001b[31m6.5 MB/s\u001b[0m eta \u001b[36m0:00:00\u001b[0m\n",
            "\u001b[?25hCollecting prance<24.0.0.0,>=23.6.21.0 (from semantic_kernel)\n",
            "  Downloading prance-23.6.21.0-py3-none-any.whl (36 kB)\n",
            "Requirement already satisfied: pydantic<2 in /usr/local/lib/python3.10/dist-packages (from semantic_kernel) (1.10.13)\n",
            "Collecting python-dotenv==1.0.0 (from semantic_kernel)\n",
            "  Downloading python_dotenv-1.0.0-py3-none-any.whl (19 kB)\n",
            "Requirement already satisfied: regex<2024.0.0,>=2023.6.3 in /usr/local/lib/python3.10/dist-packages (from semantic_kernel) (2023.6.3)\n",
            "Collecting pymongo<5,>=4.5 (from motor<4.0.0,>=3.3.1->semantic_kernel)\n",
            "  Downloading pymongo-4.5.0-cp310-cp310-manylinux_2_17_x86_64.manylinux2014_x86_64.whl (671 kB)\n",
            "\u001b[2K     \u001b[90m━━━━━━━━━━━━━━━━━━━━━━━━━━━━━━━━━━━━━━━━\u001b[0m \u001b[32m671.3/671.3 kB\u001b[0m \u001b[31m13.6 MB/s\u001b[0m eta \u001b[36m0:00:00\u001b[0m\n",
            "\u001b[?25hRequirement already satisfied: requests>=2.20 in /usr/local/lib/python3.10/dist-packages (from openai<0.29,>=0.27->semantic_kernel) (2.31.0)\n",
            "Requirement already satisfied: tqdm in /usr/local/lib/python3.10/dist-packages (from openai<0.29,>=0.27->semantic_kernel) (4.66.1)\n",
            "Requirement already satisfied: aiohttp in /usr/local/lib/python3.10/dist-packages (from openai<0.29,>=0.27->semantic_kernel) (3.8.6)\n",
            "Collecting asgiref<4.0.0,>=3.6.0 (from openapi_core<0.19.0,>=0.18.0->semantic_kernel)\n",
            "  Downloading asgiref-3.7.2-py3-none-any.whl (24 kB)\n",
            "Collecting isodate (from openapi_core<0.19.0,>=0.18.0->semantic_kernel)\n",
            "  Downloading isodate-0.6.1-py2.py3-none-any.whl (41 kB)\n",
            "\u001b[2K     \u001b[90m━━━━━━━━━━━━━━━━━━━━━━━━━━━━━━━━━━━━━━━━\u001b[0m \u001b[32m41.7/41.7 kB\u001b[0m \u001b[31m3.7 MB/s\u001b[0m eta \u001b[36m0:00:00\u001b[0m\n",
            "\u001b[?25hRequirement already satisfied: jsonschema<5.0.0,>=4.18.0 in /usr/local/lib/python3.10/dist-packages (from openapi_core<0.19.0,>=0.18.0->semantic_kernel) (4.19.1)\n",
            "Collecting jsonschema-spec<0.3.0,>=0.2.3 (from openapi_core<0.19.0,>=0.18.0->semantic_kernel)\n",
            "  Downloading jsonschema_spec-0.2.4-py3-none-any.whl (14 kB)\n",
            "Requirement already satisfied: more-itertools in /usr/local/lib/python3.10/dist-packages (from openapi_core<0.19.0,>=0.18.0->semantic_kernel) (10.1.0)\n",
            "Collecting openapi-schema-validator<0.7.0,>=0.6.0 (from openapi_core<0.19.0,>=0.18.0->semantic_kernel)\n",
            "  Downloading openapi_schema_validator-0.6.2-py3-none-any.whl (8.8 kB)\n",
            "Collecting openapi-spec-validator<0.7.0,>=0.6.0 (from openapi_core<0.19.0,>=0.18.0->semantic_kernel)\n",
            "  Downloading openapi_spec_validator-0.6.0-py3-none-any.whl (32 kB)\n",
            "Collecting parse (from openapi_core<0.19.0,>=0.18.0->semantic_kernel)\n",
            "  Downloading parse-1.19.1-py2.py3-none-any.whl (18 kB)\n",
            "Requirement already satisfied: werkzeug in /usr/local/lib/python3.10/dist-packages (from openapi_core<0.19.0,>=0.18.0->semantic_kernel) (3.0.1)\n",
            "Requirement already satisfied: chardet>=3.0 in /usr/local/lib/python3.10/dist-packages (from prance<24.0.0.0,>=23.6.21.0->semantic_kernel) (5.2.0)\n",
            "Collecting ruamel.yaml>=0.17.10 (from prance<24.0.0.0,>=23.6.21.0->semantic_kernel)\n",
            "  Downloading ruamel.yaml-0.18.3-py3-none-any.whl (114 kB)\n",
            "\u001b[2K     \u001b[90m━━━━━━━━━━━━━━━━━━━━━━━━━━━━━━━━━━━━━━━━\u001b[0m \u001b[32m114.7/114.7 kB\u001b[0m \u001b[31m11.6 MB/s\u001b[0m eta \u001b[36m0:00:00\u001b[0m\n",
            "\u001b[?25hRequirement already satisfied: six~=1.15 in /usr/local/lib/python3.10/dist-packages (from prance<24.0.0.0,>=23.6.21.0->semantic_kernel) (1.16.0)\n",
            "Requirement already satisfied: packaging>=21.3 in /usr/local/lib/python3.10/dist-packages (from prance<24.0.0.0,>=23.6.21.0->semantic_kernel) (23.2)\n",
            "Requirement already satisfied: typing-extensions>=4.2.0 in /usr/local/lib/python3.10/dist-packages (from pydantic<2->semantic_kernel) (4.5.0)\n",
            "Requirement already satisfied: attrs>=22.2.0 in /usr/local/lib/python3.10/dist-packages (from jsonschema<5.0.0,>=4.18.0->openapi_core<0.19.0,>=0.18.0->semantic_kernel) (23.1.0)\n",
            "Requirement already satisfied: jsonschema-specifications>=2023.03.6 in /usr/local/lib/python3.10/dist-packages (from jsonschema<5.0.0,>=4.18.0->openapi_core<0.19.0,>=0.18.0->semantic_kernel) (2023.7.1)\n",
            "Requirement already satisfied: referencing>=0.28.4 in /usr/local/lib/python3.10/dist-packages (from jsonschema<5.0.0,>=4.18.0->openapi_core<0.19.0,>=0.18.0->semantic_kernel) (0.30.2)\n",
            "Requirement already satisfied: rpds-py>=0.7.1 in /usr/local/lib/python3.10/dist-packages (from jsonschema<5.0.0,>=4.18.0->openapi_core<0.19.0,>=0.18.0->semantic_kernel) (0.10.6)\n",
            "Requirement already satisfied: PyYAML>=5.1 in /usr/local/lib/python3.10/dist-packages (from jsonschema-spec<0.3.0,>=0.2.3->openapi_core<0.19.0,>=0.18.0->semantic_kernel) (6.0.1)\n",
            "Collecting pathable<0.5.0,>=0.4.1 (from jsonschema-spec<0.3.0,>=0.2.3->openapi_core<0.19.0,>=0.18.0->semantic_kernel)\n",
            "  Downloading pathable-0.4.3-py3-none-any.whl (9.6 kB)\n",
            "Collecting rfc3339-validator (from openapi-schema-validator<0.7.0,>=0.6.0->openapi_core<0.19.0,>=0.18.0->semantic_kernel)\n",
            "  Downloading rfc3339_validator-0.1.4-py2.py3-none-any.whl (3.5 kB)\n",
            "Collecting lazy-object-proxy<2.0.0,>=1.7.1 (from openapi-spec-validator<0.7.0,>=0.6.0->openapi_core<0.19.0,>=0.18.0->semantic_kernel)\n",
            "  Downloading lazy_object_proxy-1.9.0-cp310-cp310-manylinux_2_5_x86_64.manylinux1_x86_64.manylinux_2_17_x86_64.manylinux2014_x86_64.whl (63 kB)\n",
            "\u001b[2K     \u001b[90m━━━━━━━━━━━━━━━━━━━━━━━━━━━━━━━━━━━━━━━━\u001b[0m \u001b[32m63.3/63.3 kB\u001b[0m \u001b[31m6.0 MB/s\u001b[0m eta \u001b[36m0:00:00\u001b[0m\n",
            "\u001b[?25hCollecting dnspython<3.0.0,>=1.16.0 (from pymongo<5,>=4.5->motor<4.0.0,>=3.3.1->semantic_kernel)\n",
            "  Downloading dnspython-2.4.2-py3-none-any.whl (300 kB)\n",
            "\u001b[2K     \u001b[90m━━━━━━━━━━━━━━━━━━━━━━━━━━━━━━━━━━━━━━━━\u001b[0m \u001b[32m300.4/300.4 kB\u001b[0m \u001b[31m22.5 MB/s\u001b[0m eta \u001b[36m0:00:00\u001b[0m\n",
            "\u001b[?25hRequirement already satisfied: charset-normalizer<4,>=2 in /usr/local/lib/python3.10/dist-packages (from requests>=2.20->openai<0.29,>=0.27->semantic_kernel) (3.3.1)\n",
            "Requirement already satisfied: idna<4,>=2.5 in /usr/local/lib/python3.10/dist-packages (from requests>=2.20->openai<0.29,>=0.27->semantic_kernel) (3.4)\n",
            "Requirement already satisfied: urllib3<3,>=1.21.1 in /usr/local/lib/python3.10/dist-packages (from requests>=2.20->openai<0.29,>=0.27->semantic_kernel) (2.0.7)\n",
            "Requirement already satisfied: certifi>=2017.4.17 in /usr/local/lib/python3.10/dist-packages (from requests>=2.20->openai<0.29,>=0.27->semantic_kernel) (2023.7.22)\n",
            "Collecting ruamel.yaml.clib>=0.2.7 (from ruamel.yaml>=0.17.10->prance<24.0.0.0,>=23.6.21.0->semantic_kernel)\n",
            "  Downloading ruamel.yaml.clib-0.2.8-cp310-cp310-manylinux_2_17_x86_64.manylinux2014_x86_64.manylinux_2_24_x86_64.whl (526 kB)\n",
            "\u001b[2K     \u001b[90m━━━━━━━━━━━━━━━━━━━━━━━━━━━━━━━━━━━━━━━━\u001b[0m \u001b[32m526.7/526.7 kB\u001b[0m \u001b[31m36.7 MB/s\u001b[0m eta \u001b[36m0:00:00\u001b[0m\n",
            "\u001b[?25hRequirement already satisfied: multidict<7.0,>=4.5 in /usr/local/lib/python3.10/dist-packages (from aiohttp->openai<0.29,>=0.27->semantic_kernel) (6.0.4)\n",
            "Requirement already satisfied: async-timeout<5.0,>=4.0.0a3 in /usr/local/lib/python3.10/dist-packages (from aiohttp->openai<0.29,>=0.27->semantic_kernel) (4.0.3)\n",
            "Requirement already satisfied: yarl<2.0,>=1.0 in /usr/local/lib/python3.10/dist-packages (from aiohttp->openai<0.29,>=0.27->semantic_kernel) (1.9.2)\n",
            "Requirement already satisfied: frozenlist>=1.1.1 in /usr/local/lib/python3.10/dist-packages (from aiohttp->openai<0.29,>=0.27->semantic_kernel) (1.4.0)\n",
            "Requirement already satisfied: aiosignal>=1.1.2 in /usr/local/lib/python3.10/dist-packages (from aiohttp->openai<0.29,>=0.27->semantic_kernel) (1.3.1)\n",
            "Requirement already satisfied: MarkupSafe>=2.1.1 in /usr/local/lib/python3.10/dist-packages (from werkzeug->openapi_core<0.19.0,>=0.18.0->semantic_kernel) (2.1.3)\n",
            "Installing collected packages: parse, ruamel.yaml.clib, rfc3339-validator, python-dotenv, pathable, numpy, lazy-object-proxy, isodate, dnspython, asgiref, aiofiles, ruamel.yaml, pymongo, jsonschema-spec, prance, motor, openapi-schema-validator, openapi-spec-validator, openapi_core, semantic_kernel\n",
            "  Attempting uninstall: numpy\n",
            "    Found existing installation: numpy 1.23.5\n",
            "    Uninstalling numpy-1.23.5:\n",
            "      Successfully uninstalled numpy-1.23.5\n",
            "\u001b[31mERROR: pip's dependency resolver does not currently take into account all the packages that are installed. This behaviour is the source of the following dependency conflicts.\n",
            "lida 0.0.10 requires fastapi, which is not installed.\n",
            "lida 0.0.10 requires kaleido, which is not installed.\n",
            "lida 0.0.10 requires python-multipart, which is not installed.\n",
            "lida 0.0.10 requires uvicorn, which is not installed.\n",
            "cupy-cuda11x 11.0.0 requires numpy<1.26,>=1.20, but you have numpy 1.26.1 which is incompatible.\n",
            "numba 0.56.4 requires numpy<1.24,>=1.18, but you have numpy 1.26.1 which is incompatible.\u001b[0m\u001b[31m\n",
            "\u001b[0mSuccessfully installed aiofiles-23.2.1 asgiref-3.7.2 dnspython-2.4.2 isodate-0.6.1 jsonschema-spec-0.2.4 lazy-object-proxy-1.9.0 motor-3.3.1 numpy-1.26.1 openapi-schema-validator-0.6.2 openapi-spec-validator-0.6.0 openapi_core-0.18.1 parse-1.19.1 pathable-0.4.3 prance-23.6.21.0 pymongo-4.5.0 python-dotenv-1.0.0 rfc3339-validator-0.1.4 ruamel.yaml-0.18.3 ruamel.yaml.clib-0.2.8 semantic_kernel-0.3.14.dev0\n"
          ]
        }
      ],
      "source": [
        "!pip install semantic_kernel"
      ]
    },
    {
      "cell_type": "code",
      "execution_count": 6,
      "metadata": {
        "id": "v2HZxwSebWEM"
      },
      "outputs": [],
      "source": [
        "import semantic_kernel as sk\n",
        "from semantic_kernel.connectors.ai.open_ai import OpenAIChatCompletion\n",
        "\n",
        "from IPython.display import display, Markdown"
      ]
    },
    {
      "cell_type": "markdown",
      "metadata": {
        "id": "pUqDswlmAf2g"
      },
      "source": [
        "Create a kernel for text completion"
      ]
    },
    {
      "cell_type": "code",
      "execution_count": 7,
      "metadata": {
        "colab": {
          "base_uri": "https://localhost:8080/"
        },
        "id": "8PjZm3FinO67",
        "outputId": "8c6901e5-1f09-4d5f-f35e-fc4964b9a034"
      },
      "outputs": [
        {
          "data": {
            "text/plain": [
              "<semantic_kernel.kernel.Kernel at 0x7c5e077263e0>"
            ]
          },
          "execution_count": 7,
          "metadata": {},
          "output_type": "execute_result"
        }
      ],
      "source": [
        "kernel = sk.Kernel()\n",
        "\n",
        "kernel.add_text_completion_service(\"testing\", OpenAIChatCompletion(\"gpt-3.5-turbo\", openai_api_key))"
      ]
    },
    {
      "cell_type": "markdown",
      "metadata": {
        "id": "LCXb22HXZN6G"
      },
      "source": [
        "The way `semantic_kernel` works is by loading the plug-in definition from its directory"
      ]
    },
    {
      "cell_type": "markdown",
      "metadata": {
        "id": "j4t-s1DOBvEJ"
      },
      "source": [
        "Examples of some plug-ins can be found [here](https://github.com/elhamod/IS883/tree/main/plugins-sk)"
      ]
    },
    {
      "cell_type": "code",
      "execution_count": 8,
      "metadata": {
        "id": "YmghT0nWZODR"
      },
      "outputs": [],
      "source": [
        "pluginsDirectory = \"/content/drive/MyDrive/Colab Notebooks/plugins-sk\""
      ]
    },
    {
      "cell_type": "markdown",
      "metadata": {
        "id": "SnZ3W2trBJ1o"
      },
      "source": [
        "##Business Strategy based on SWOT analysis."
      ]
    },
    {
      "cell_type": "markdown",
      "metadata": {
        "id": "9Pxqs3fmoqQ6"
      },
      "source": [
        "**SWOT (Strength Weakness Opportunity Threats) analysis** is useful for identifying the problems and areas of growth for a business."
      ]
    },
    {
      "cell_type": "markdown",
      "metadata": {
        "id": "gOykdejvBU2W"
      },
      "source": [
        "Here, given a business's SWOT, we won't a business strategy based on that SWOT."
      ]
    },
    {
      "cell_type": "code",
      "execution_count": 9,
      "metadata": {
        "id": "c7qkrY5VoqXi"
      },
      "outputs": [],
      "source": [
        "strengths = [ \"Unique garlic pizza recipe that wins top awards\",\n",
        "             \"Owner trained in Sicily at some of the best pizzerias\",\n",
        "              \"Strong local reputation\",\"Prime location on university campus\" ]\n",
        "\n",
        "weaknesses = [ \"High staff turnover\",\n",
        "              \"Floods in the area damaged the seating areas that are in need of repair\",\n",
        "               \"Absence of popular calzones from menu\",\n",
        "               \"Negative reviews from younger demographic for lack of hip ingredients\" ]\n",
        "\n",
        "opportunities = [ \"Untapped catering potential\",\n",
        "                 \"Growing local tech startup community\",\n",
        "                  \"Unexplored online presence and order capabilities\",\n",
        "                  \"Upcoming annual food fair\" ]\n",
        "\n",
        "threats = [ \"Competition from cheaper pizza businesses nearby\",\n",
        "           \"There's nearby street construction that will impact foot traffic\",\n",
        "            \"Rising cost of cheese will increase the cost of pizzas\",\n",
        "            \"No immediate local regulatory changes but it's election season\" ]"
      ]
    },
    {
      "cell_type": "code",
      "execution_count": 10,
      "metadata": {
        "colab": {
          "base_uri": "https://localhost:8080/",
          "height": 795
        },
        "id": "DNE3bGRpCGwC",
        "outputId": "f90d41a6-ecb8-49da-cd69-bde449fa93c9"
      },
      "outputs": [
        {
          "data": {
            "text/markdown": [
              "### Building on strengths can immediately improve the business\n",
              "\n",
              "| Title | Strength | Weakness | Description |\n",
              "| ----- | -------- | -------- | ----------- |\n",
              "| Expanding menu options | Unique garlic pizza recipe that wins top awards | Absence of popular calzones from menu | Introduce a variety of calzones with unique and flavorful fillings to attract a wider customer base and cater to different preferences. This will enhance the menu and provide more options for customers. |\n",
              "| Enhancing customer experience | Strong local reputation | Negative reviews from younger demographic for lack of hip ingredients | Conduct market research to identify popular and trendy ingredients among the younger demographic. Incorporate these ingredients into the menu to appeal to a wider range of customers and improve customer satisfaction. |\n",
              "| Staff retention and training programs | Owner trained in Sicily at some of the best pizzerias | High staff turnover | Implement training programs and incentives to improve staff retention. Provide opportunities for staff members to enhance their skills and knowledge in pizza making, creating a sense of pride and loyalty among employees. This will result in a more consistent and high-quality product, leading to customer satisfaction and repeat business. |\n",
              "\n",
              "### Taking advantage of opportunities whenever possible\n",
              "\n",
              "| Title | Opportunity | Description |\n",
              "| ----- | -------- | ----------- |\n",
              "| Catering services expansion | Untapped catering potential | Tap into the catering market by offering catering services for events, parties, and corporate functions. Develop specialized catering menus and packages to attract customers and increase revenue streams. |\n",
              "| Online ordering and delivery platform | Unexplored online presence and order capabilities | Develop a user-friendly website and mobile app for online ordering and delivery. Partner with popular food delivery platforms to reach a wider customer base and provide convenience to customers. |\n",
              "| Participating in the annual food fair | Upcoming annual food fair | Secure a booth or space at the upcoming annual food fair to showcase the unique garlic pizza recipe and attract new customers. Offer special promotions and discounts during the event to encourage trial and generate buzz. |\n",
              "\n",
              "### Building resilience to threats is always a good idea\n",
              "\n",
              "| Title | Threat | Description |\n",
              "| ----- | -------- | ----------- |\n",
              "| Diversifying suppliers | Rising cost of cheese will increase the cost of pizzas | Identify alternative cheese suppliers or negotiate better pricing with existing suppliers to mitigate the impact of rising cheese costs. This will help maintain profitability and ensure price competitiveness. |\n",
              "| Implementing marketing strategies | Competition from cheaper pizza businesses nearby | Develop targeted marketing campaigns highlighting the unique garlic pizza recipe, quality ingredients, and the overall dining experience. Emphasize the value and differentiation to attract customers who prioritize quality over price. |\n",
              "| Building customer loyalty programs | There's nearby street construction that will impact foot traffic | Implement customer loyalty programs to incentivize repeat visits and maintain customer loyalty during the period of street construction. Offer exclusive discounts, rewards, and personalized experiences to encourage customers to continue choosing the business despite the temporary inconvenience. |"
            ],
            "text/plain": [
              "<IPython.core.display.Markdown object>"
            ]
          },
          "metadata": {},
          "output_type": "display_data"
        }
      ],
      "source": [
        "pluginBT = kernel.import_semantic_skill_from_directory(pluginsDirectory, \"BusinessThinking\");\n",
        "\n",
        "my_context = kernel.create_new_context()\n",
        "my_context['input'] = 'makes pizzas'\n",
        "my_context['strengths'] = \", \".join(strengths)\n",
        "my_context['weaknesses'] = \", \".join(weaknesses)\n",
        "my_context['opportunities'] = \", \".join(opportunities)\n",
        "my_context['threats'] = \", \".join(threats)\n",
        "\n",
        "bizstrat_result = await kernel.run_async(pluginBT[\"BasicStrategies\"],input_context=my_context)\n",
        "display(Markdown(str(bizstrat_result)))\n"
      ]
    },
    {
      "cell_type": "markdown",
      "metadata": {
        "id": "QMMicX--j1P4"
      },
      "source": [
        "##Design Thinking"
      ]
    },
    {
      "cell_type": "markdown",
      "metadata": {
        "id": "PmTHnChfRIM2"
      },
      "source": [
        "Design thinking is a framework through which we can look at a business idea from the customer's point of view."
      ]
    },
    {
      "cell_type": "markdown",
      "metadata": {
        "id": "-BLVI11KSybZ"
      },
      "source": [
        "Empathize -> Define -> Ideate -> Prototype -> Test"
      ]
    },
    {
      "cell_type": "markdown",
      "metadata": {
        "id": "tJDIWCLTSqG_"
      },
      "source": [
        "Here, given some customer feedback, we want to do some \"Design Thinking\"."
      ]
    },
    {
      "cell_type": "code",
      "execution_count": 11,
      "metadata": {
        "id": "fQCTkgW7Q7RZ"
      },
      "outputs": [],
      "source": [
        "customer_comments = \"\"\"\n",
        "Customer 1: The seats look really raggedy.\n",
        "Customer 2: The garlic pizza is the best on this earth.\n",
        "Customer 3: I've noticed that there's a new server every time I visit, and they're clueless.\n",
        "Customer 4: Why aren't there calzones?\n",
        "Customer 5: I love the garlic pizza and can't get it anywhere else.\n",
        "Customer 6: The garlic pizza is exceptional.\n",
        "Customer 7: I prefer a calzone's portable nature as compared with pizza.\n",
        "Customer 8: Why is the pizza so expensive?\n",
        "Customer 9: There's no way to do online ordering.\n",
        "Customer 10: Why is the seating so uncomfortable and dirty?\n",
        "\"\"\""
      ]
    },
    {
      "cell_type": "markdown",
      "metadata": {
        "id": "RbU2jbg7TJqc"
      },
      "source": [
        "Let's \"Empathize\" first."
      ]
    },
    {
      "cell_type": "code",
      "execution_count": 12,
      "metadata": {
        "colab": {
          "base_uri": "https://localhost:8080/"
        },
        "id": "XWVHHRZyH5Lv",
        "outputId": "547f23da-6199-47c3-cefa-37c13a221528"
      },
      "outputs": [
        {
          "name": "stdout",
          "output_type": "stream",
          "text": [
            "[\n",
            "    {\n",
            "        \"sentiment\": \"negative\",\n",
            "        \"summary\": \"The seats are raggedy and uncomfortable.\"\n",
            "    },\n",
            "    {\n",
            "        \"sentiment\": \"positive\",\n",
            "        \"summary\": \"The garlic pizza is the best and exceptional.\"\n",
            "    },\n",
            "    {\n",
            "        \"sentiment\": \"negative\",\n",
            "        \"summary\": \"There are new clueless servers every time.\"\n",
            "    },\n",
            "    {\n",
            "        \"sentiment\": \"negative\",\n",
            "        \"summary\": \"Customers want calzones, but they are not available.\"\n",
            "    },\n",
            "    {\n",
            "        \"sentiment\": \"negative\",\n",
            "        \"summary\": \"The pizza is expensive and there is no online ordering option.\"\n",
            "    }\n",
            "]\n"
          ]
        }
      ],
      "source": [
        "kernel = sk.Kernel()\n",
        "kernel.add_text_completion_service(\"openai\", OpenAIChatCompletion(\"gpt-3.5-turbo-16k\", openai_api_key))\n",
        "\n",
        "pluginDT = kernel.import_semantic_skill_from_directory(pluginsDirectory, \"DesignThinking\");\n",
        "\n",
        "my_result = await kernel.run_async(pluginDT[\"Empathize\"], input_str=customer_comments)\n",
        "\n",
        "# print(my_result)\n",
        "import json\n",
        "json_data = json.loads(str(my_result))\n",
        "print(json.dumps(json_data, indent=4))"
      ]
    },
    {
      "cell_type": "markdown",
      "metadata": {
        "id": "mOQfvXnWTSKy"
      },
      "source": [
        "Now, let's \"Define\" the problem(s)."
      ]
    },
    {
      "cell_type": "code",
      "execution_count": 13,
      "metadata": {
        "colab": {
          "base_uri": "https://localhost:8080/",
          "height": 275
        },
        "id": "620IAyKuTV4h",
        "outputId": "d4d31434-912f-4601-cf74-0768c6f20e3c"
      },
      "outputs": [
        {
          "data": {
            "text/markdown": [
              "| Analysis | Definition | Possible Source |\n",
              "| --- | --- | --- |\n",
              "| Seats are raggedy and uncomfortable | Customers complain about the poor quality and discomfort of the seats | Low-quality or worn-out seats |\n",
              "| Garlic pizza is the best and exceptional | Customers praise the exceptional taste and quality of the garlic pizza | High-quality ingredients and skilled chefs |\n",
              "| New clueless servers every time | Customers express frustration with inexperienced and uninformed servers | High turnover rate or lack of proper training |\n",
              "| Customers want calzones, but they are not available | Customers are disappointed that calzones are not offered on the menu | Menu limitations or decision to not include calzones |\n",
              "| Pizza is expensive and no online ordering option | Customers complain about the high price of pizza and the absence of online ordering | Pricing strategy or lack of technological integration |"
            ],
            "text/plain": [
              "<IPython.core.display.Markdown object>"
            ]
          },
          "metadata": {},
          "output_type": "display_data"
        }
      ],
      "source": [
        "my_result = await kernel.run_async(pluginDT[\"Empathize\"], pluginDT[\"Define\"], input_str=customer_comments)\n",
        "\n",
        "display(Markdown(str(my_result)))"
      ]
    },
    {
      "cell_type": "markdown",
      "metadata": {
        "id": "acTy13Z9TajF"
      },
      "source": [
        "Now, \"Ideate\"."
      ]
    },
    {
      "cell_type": "code",
      "execution_count": 14,
      "metadata": {
        "colab": {
          "base_uri": "https://localhost:8080/",
          "height": 501
        },
        "id": "JVITU55KT9QN",
        "outputId": "b2c4f204-db75-42f3-9f2f-a275471ab8bf"
      },
      "outputs": [
        {
          "data": {
            "text/markdown": [
              "| Lower-hanging fruit | Higher-hanging fruit |\n",
              "| --- | --- |\n",
              "| 1. Replace raggedy seats with new, comfortable ones | 1. Conduct a comprehensive customer satisfaction survey to identify all areas of improvement |\n",
              "| 2. Train servers on menu knowledge and customer service skills | 2. Hire experienced servers and provide them with extensive training |\n",
              "| 3. Offer a limited-time promotion for discounted calzones to gauge customer interest | 3. Conduct a thorough analysis of the supply chain to identify and resolve any issues |\n",
              "| 4. Implement an online ordering system to improve convenience for customers | 4. Redesign the pricing strategy to offer competitive prices without compromising quality |\n",
              "| 5. Introduce a garlic pizza special with additional toppings or flavors | 5. Invest in high-quality ingredients and skilled chefs to consistently deliver exceptional pizzas |\n",
              "| 6. Provide incentives for customers to provide feedback on their dining experience | 6. Develop a mobile app for easy online ordering and tracking |\n",
              "| 7. Train existing servers on upselling techniques to increase average order value | 7. Collaborate with local farmers or suppliers to ensure a steady and reliable source of ingredients |\n",
              "| 8. Conduct regular maintenance checks on all furniture to prevent further deterioration | 8. Implement a comprehensive training program for new servers to ensure they are well-prepared |\n",
              "| 9. Offer a loyalty program to reward frequent customers | 9. Expand the menu to include a wider variety of options, including calzones |\n",
              "| 10. Improve the ambiance of the restaurant with updated decor and lighting | 10. Conduct market research to understand customer preferences and tailor the menu accordingly |"
            ],
            "text/plain": [
              "<IPython.core.display.Markdown object>"
            ]
          },
          "metadata": {},
          "output_type": "display_data"
        }
      ],
      "source": [
        "my_result = await kernel.run_async(pluginDT[\"Empathize\"], pluginDT[\"Define\"], pluginDT[\"Ideate\"], input_str=customer_comments)\n",
        "\n",
        "display(Markdown(str(my_result)))"
      ]
    },
    {
      "cell_type": "code",
      "execution_count": 15,
      "metadata": {
        "colab": {
          "base_uri": "https://localhost:8080/",
          "height": 997
        },
        "id": "QJnGMqr7UG6c",
        "outputId": "900ce1fb-be56-4e67-a7ab-591128811301"
      },
      "outputs": [
        {
          "data": {
            "text/markdown": [
              "1. Regular seat maintenance and cleaning schedule:\n",
              "- Create a simple paper calendar or checklist with dates and tasks for seat maintenance and cleaning.\n",
              "- Use different colors or symbols to represent different tasks (e.g., wiping, vacuuming, deep cleaning).\n",
              "- Show how to mark off completed tasks or indicate any issues that need attention.\n",
              "\n",
              "2. Train servers on basic customer service skills:\n",
              "- Design a paper training manual with sections covering various customer service skills.\n",
              "- Include written instructions, examples, and tips for each skill.\n",
              "- Use visuals, such as diagrams or illustrations, to enhance understanding.\n",
              "\n",
              "3. Offer a special discount on garlic pizza:\n",
              "- Create a paper coupon or voucher that customers can present to avail the discount.\n",
              "- Clearly state the discount percentage or amount and any specific terms or conditions.\n",
              "- Add a barcode or QR code for easy scanning or tracking.\n",
              "\n",
              "4. Create a rotating menu with different types of calzones:\n",
              "- Design a paper menu with different sections for each type of calzone.\n",
              "- List the available options under each section with brief descriptions.\n",
              "- Use placeholders or placeholders to represent images of the calzones.\n",
              "\n",
              "5. Implement online ordering system with delivery option:\n",
              "- Create a paper mock-up of a website or app interface for online ordering.\n",
              "- Show different screens, such as the homepage, menu selection, customization options, and checkout.\n",
              "- Use arrows or annotations to indicate the flow and interactions between screens.\n",
              "\n",
              "6. Offer a loyalty program for frequent customers:\n",
              "- Design a paper loyalty card or stamp card with spaces for stamps or signatures.\n",
              "- Include instructions on how customers can earn and redeem rewards.\n",
              "- Provide a sample scenario or example to demonstrate how the loyalty program works.\n",
              "\n",
              "7. Provide seat cushions for added comfort:\n",
              "- Create a paper cut-out template of a seat cushion.\n",
              "- Show the dimensions and shape of the cushion.\n",
              "- Indicate any additional features, such as straps or ties for securing the cushion.\n",
              "\n",
              "8. Offer a vegetarian calzone option:\n",
              "- Design a paper menu insert or separate menu specifically for vegetarian options.\n",
              "- List the available vegetarian calzones with descriptions and ingredients.\n",
              "- Use symbols or icons to indicate any dietary restrictions or special features.\n",
              "\n",
              "9. Install seat covers for easy cleaning:\n",
              "- Create a paper template of a seat cover that fits the restaurant's chairs.\n",
              "- Show the dimensions and shape of the cover.\n",
              "- Indicate any additional features, such as elastic bands or Velcro for securing the cover.\n",
              "\n",
              "10. Train servers on the menu and ingredients:\n",
              "- Design a paper booklet or flashcards with information about the menu and ingredients.\n",
              "- Include pictures or illustrations of each dish and its ingredients.\n",
              "- Provide prompts or questions to test servers' knowledge."
            ],
            "text/plain": [
              "<IPython.core.display.Markdown object>"
            ]
          },
          "metadata": {},
          "output_type": "display_data"
        }
      ],
      "source": [
        "my_result = await kernel.run_async(pluginDT[\"Empathize\"], pluginDT[\"Define\"], pluginDT[\"Ideate\"], pluginDT[\"Prototype\"], input_str=customer_comments)\n",
        "\n",
        "display(Markdown(str(my_result)))\n"
      ]
    },
    {
      "cell_type": "markdown",
      "metadata": {
        "id": "L4VuLEgqUvLp"
      },
      "source": [
        "##Create your own plugin!"
      ]
    },
    {
      "cell_type": "markdown",
      "metadata": {
        "id": "DMU0ItlHXVV6"
      },
      "source": [
        "Let's create a plugin that takes in student feedback for this class, sort through the negative and positive feedback and suggestions, and then provide some some analysis of the situation"
      ]
    },
    {
      "cell_type": "markdown",
      "metadata": {
        "id": "hnD3FyRPrN2A"
      },
      "source": [
        "[Here](https://docs.google.com/spreadsheets/d/1c3MAjM4kLom3V15qtA0b38i3UBXeASo88G8GIF99aiw/edit?usp=sharing) is an example of a feedback sheet"
      ]
    },
    {
      "cell_type": "code",
      "execution_count": 17,
      "metadata": {
        "colab": {
          "base_uri": "https://localhost:8080/",
          "height": 740
        },
        "id": "fFARW9hBo1Eo",
        "outputId": "4fa4456a-97e0-400b-bc23-d0d2a365e96c"
      },
      "outputs": [
        {
          "data": {
            "text/markdown": [
              "1. Instructor teaching rating: 4\n",
              "The instructor is rated highly in terms of class teaching based on the feedback. Students appreciate the conceptual lectures and find in-class exercises helpful.\n",
              "\n",
              "2. Assignment creation rating: 2\n",
              "The instructor's rating in terms of assignment creation is lower. Students find the assignments complex and overwhelming, and suggest shorter assignments that focus more on teaching theoretical concepts.\n",
              "\n",
              "| Negative feedback | Severity | Action to take |\n",
              "| ----------------- | -------- | -------------- |\n",
              "| Workload is too much | High | Reduce the workload and ensure clear communication about the level of the class and its understanding of ML |\n",
              "| Assignments are too complex | Medium | Create more approachable and manageable assignments that promote learning |\n",
              "| Insufficient time for questions | Medium | Provide more time for students to ask questions and receive responses from the instructor/TA |\n",
              "| Lack of clarity in assignments | Low | Improve assignment instructions and provide clearer guidance |\n",
              "| High expectations without explanation | Low | Clearly explain the purpose and relevance of the tasks to students |\n",
              "\n",
              "| Positive feedback | Action to take |\n",
              "| ----------------- | -------------- |\n",
              "| Conceptual lectures are helpful | Continue teaching more about prompt engineering |\n",
              "| Sharing exceptional knowledge | Continue sharing knowledge and expertise |\n",
              "| In-class exercises make sense | Continue conducting in-class exercises |\n",
              "\n",
              "| Suggestion | Potential Impact | Is Realistic? | Side Effects |\n",
              "| ---------- | ---------------- | ------------- | ------------ |\n",
              "| Use simple concepts/examples | Enhance understanding | Yes | None mentioned |\n",
              "| More practice opportunities | Improved learning | Yes | None mentioned |\n",
              "| Assign individual grades for projects | Fair evaluation | Yes | Potential resentment among students |\n",
              "| Assignments due on Fridays | Increased access to office hours | Yes | Potential workload distribution issues |\n",
              "| Explore alternative means for grades | Encourage diverse skills | Yes | Potential complexity in grading system |\n",
              "\n",
              "| Feedback 1 | Feedback 2 | Explanation |\n",
              "| ----------- | ----------- | ----------- |\n",
              "| Workload is too much | Assignments need to be shorter | These feedback conflict as one suggests reducing workload while the other suggests shorter assignments. Finding a balance is necessary. |"
            ],
            "text/plain": [
              "<IPython.core.display.Markdown object>"
            ]
          },
          "metadata": {},
          "output_type": "display_data"
        }
      ],
      "source": [
        "pluginDT = kernel.import_semantic_skill_from_directory(pluginsDirectory, \"ClassFeedback\");\n",
        "student_feedback = '''\n",
        "Start,Stop,Continue,Rate the content of the course,\n",
        "Find a way not wasting time for environment setup,,,4,4\n",
        ",,,4,4\n",
        ",,Use simple concept or example to introduce concept,3,3\n",
        "If we're doing something in an assignment it would be nice if we actually covered the technicals in class. We seem to do ,The workload is honestly too much. Especially when you consider the assignments plus the group assignments. I think there has been some miscommunication within the team. I don't think you were told the actual level of the class and its understanding of ML. Some people have taken an entirely separate course on ML and are still lost on the technicals. ,Continue the in class excercises. It is the only time anything makes sense to me. Those in class exercises I follow.  ,1,3\n",
        "\"Create more exercises/homework assignments that slowly build off lectures. Currently, lectures are delivered clearly but there is no opportunity to practice these concepts/ideas in a manner that is not completely overwhelming. The individual assignments as currently constructed are too complex and do not promote learning. They would be better off as group assignments that are graded on completion. Also, make due dates for assignments on Fridays to give students the opportunity to maximize office hours during the week. One hour before a due date or the day after a due date are not good times for office hours.\",\"Stop assuming that all students can start homework assignments more than 4 days in advance, even though it gives minimal time for a response from the Professor/TA to answer questions, especially if a question comes in on a Friday before a Monday due date. Given my experience from the last homework, however, I could have sent the professor 50 emails about the assignment and likely still would not have figured it out. So I had no realistic way to complete it fully given my level of knowledge. Assignments need to be shorter and better teach theorical concepts. Most students in the class do not want to code as a career, so having everyone get stuck on 1 piece of code rather than teaching something conceptually was a waste of time for all involved. As of this moment, I strongly dislike the class not because of the material or the professor, but because of the huge amount of time I have wasted in the last month trying to learn technical things that I am not yet skilled enough to comprehend.\",\"Conceptual lectures are helpful. Please continue teaching more about prompt engineering, as a huge issue on HW assignments is not knowing what to even ask chatgpt.\",1,2\n",
        "\"Providing us with assignments that are more approachable and manageable would be one viable option. Additionally, exploring alternative means to enhance our grades could prove beneficial. If i am not the best coder, I should be able to make up in other ways if I bring a strong work ethic. Pls assign ndividual grades for the project, as opposed to one big grade for all, as some MSDT students are not putting in their best foot forward and the rest of us shouldnt suffer because of it. \",\"Assigning these subpar grades may seem inconsequential in the broader perspective where grades hold little significance. However, in today's fiercely competitive job market, employers increasingly demand a comprehensive evaluation of academic performance. Despite our diligent efforts, receiving disappointing grades can be profoundly disheartening and demotivating. \", Sharing your exceptional knowledge with us.,3,5\n",
        ",,,3,2\n",
        "why are we doing things? what do that do,too high expectations,,1,1\n",
        "'''\n",
        "\n",
        "my_result = await kernel.run_async(pluginDT[\"Extract\"], input_str=student_feedback)\n",
        "\n",
        "\n",
        "display(Markdown(str(my_result)))\n"
      ]
    }
  ],
  "metadata": {
    "colab": {
      "authorship_tag": "ABX9TyMqI1+rGYLDP22wCU6jVSbx",
      "include_colab_link": true,
      "provenance": []
    },
    "kernelspec": {
      "display_name": "Python 3",
      "name": "python3"
    },
    "language_info": {
      "name": "python"
    }
  },
  "nbformat": 4,
  "nbformat_minor": 0
}
