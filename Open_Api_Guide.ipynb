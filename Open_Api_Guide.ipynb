{
  "cells": [
    {
      "cell_type": "markdown",
      "metadata": {
        "id": "view-in-github",
        "colab_type": "text"
      },
      "source": [
        "<a href=\"https://colab.research.google.com/github/elhamod/IS883/blob/main/Open_Api_Guide.ipynb\" target=\"_parent\"><img src=\"https://colab.research.google.com/assets/colab-badge.svg\" alt=\"Open In Colab\"/></a>"
      ]
    },
    {
      "cell_type": "markdown",
      "metadata": {
        "id": "kRYraJFQU06h"
      },
      "source": [
        "## Creating and Copying a New Secret API Key on OpenAI\n",
        "\n",
        "### 1. Login to OpenAI Platform:\n",
        "- Visit [OpenAI Platform](https://platform.openai.com/) and log into your account.\n",
        "\n",
        "### 2. Navigate to API Keys Section:\n",
        "- After logging in, click on your profile icon or name, usually located at the top-right corner.\n",
        "- In the dropdown menu, choose \"API Keys\" or navigate to a section related to keys or credentials.\n",
        "![Screenshot](https://drive.google.com/uc?export=view&id=1y3yfRGDvBVjcVCZCCjo_mAbylgaHjycx)\n",
        "<!-- ![Screenshot for Step 2](https://drive.google.com/uc?export=view&id=1cJF_u_bU1QbXVEtfgWjzzaB7bLSggfnM) -->\n",
        "\n",
        "\n",
        "\n",
        "### 3. Create a New Secret Key:\n",
        "- Once in the \"API Keys\" section, find the \"Create New Secret Key\" button or something similar.\n",
        "- Click on it.\n",
        "- Optionally, name or label the key for identification, such as \"dev\" for development.\n",
        "![Screenshot for Step 2](https://drive.google.com/uc?export=view&id=1cJF_u_bU1QbXVEtfgWjzzaB7bLSggfnM)\n",
        "\n",
        "\n",
        "\n",
        "### 4. Copy the New Secret Key:\n",
        "- After the key is created, it should appear on your screen. Remember, this may be the only time you'll view the entire key.\n",
        "- Use the \"Copy\" button next to the key, or manually select the key and press `Ctrl + C` (or `Cmd + C` on Mac).\n",
        "![Screenshot](https://drive.google.com/uc?export=view&id=1YdetYP4xO4UkMxP75evCY0jltzRw9tcz)\n",
        "\n",
        "\n",
        "### 5. **Safe Storage**:\n",
        "   - Safeguard the copied key in a secure location like a password manager or encrypted note.\n",
        "   - Ensure you don't share your API keys publicly and avoid hardcoding them into applications. Save it to your Google Drive to a 'config.ini' file.\n",
        "\n",
        "**Note**: If you ever suspect your key is at risk, return to the API Keys section to regenerate or delete it. Then, create a fresh one following these steps.\n",
        "\n"
      ]
    },
    {
      "cell_type": "markdown",
      "metadata": {
        "id": "RftgFUd8hUz4"
      },
      "source": [
        "### 6 Implementation of Open AI API\n",
        "Now that we have generated the API key we will install the OpenAI Python Library\n"
      ]
    },
    {
      "cell_type": "code",
      "execution_count": null,
      "metadata": {
        "id": "2z7CrPl6hLvo"
      },
      "outputs": [],
      "source": [
        "# !pip install openai\n"
      ]
    },
    {
      "cell_type": "markdown",
      "source": [
        "We will load the 'config.ini' file that contains the secret key"
      ],
      "metadata": {
        "id": "-13aDVlL9aLj"
      }
    },
    {
      "cell_type": "code",
      "source": [
        "from google.colab import drive\n",
        "drive.mount('/content/drive')\n",
        "\n",
        "# Set up your API key\n",
        "# openai.api_key = 'YOUR_OPENAI_API_KEY'\n",
        "\n",
        "import configparser\n",
        "\n",
        "config = configparser.ConfigParser()\n",
        "config.read('/content/drive/MyDrive/Colab Notebooks/IS883/config.ini')\n",
        "openai_api_key = config['OpenAI']['API_KEY']"
      ],
      "metadata": {
        "colab": {
          "base_uri": "https://localhost:8080/"
        },
        "id": "2XGHjDAi4Jn8",
        "outputId": "de5fb338-5592-4d54-9214-3d04f2e41ccd"
      },
      "execution_count": null,
      "outputs": [
        {
          "output_type": "stream",
          "name": "stdout",
          "text": [
            "Drive already mounted at /content/drive; to attempt to forcibly remount, call drive.mount(\"/content/drive\", force_remount=True).\n"
          ]
        }
      ]
    },
    {
      "cell_type": "markdown",
      "metadata": {
        "id": "KumKB9o6hRpv"
      },
      "source": [
        "Now, we can interact with the OpenAI API. Below is a Python code to run a sample prompt.\n",
        "\n"
      ]
    },
    {
      "cell_type": "code",
      "execution_count": null,
      "metadata": {
        "colab": {
          "base_uri": "https://localhost:8080/"
        },
        "id": "WjBCcUuuhSwp",
        "outputId": "0fd2b2c9-7c42-42b0-d978-d43e31186cdf"
      },
      "outputs": [
        {
          "output_type": "stream",
          "name": "stdout",
          "text": [
            "Bonjour, comment allez-vous?\n"
          ]
        }
      ],
      "source": [
        "import openai\n",
        "\n",
        "# Initialize the OpenAI API with your API key\n",
        "openai.api_key = openai_api_key\n",
        "\n",
        "response = openai.Completion.create(\n",
        "  engine=\"text-davinci-003\",\n",
        "  prompt=\"Translate the following English text to French: 'Hello, how are you?'\",\n",
        "  max_tokens=50\n",
        ")\n",
        "\n",
        "print(response.choices[0].text.strip())\n"
      ]
    },
    {
      "cell_type": "markdown",
      "metadata": {
        "id": "4OzgtccLhjyz"
      },
      "source": [
        "**Note**: Remember to replace `'YOUR_OPENAI_API_KEY'` with your actual OpenAI API key."
      ]
    }
  ],
  "metadata": {
    "colab": {
      "provenance": [],
      "include_colab_link": true
    },
    "kernelspec": {
      "display_name": "Python 3",
      "name": "python3"
    },
    "language_info": {
      "name": "python"
    }
  },
  "nbformat": 4,
  "nbformat_minor": 0
}