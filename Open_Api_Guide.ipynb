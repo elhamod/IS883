{
  "cells": [
    {
      "cell_type": "markdown",
      "metadata": {
        "id": "view-in-github",
        "colab_type": "text"
      },
      "source": [
        "<a href=\"https://colab.research.google.com/github/elhamod/IS883/blob/main/Open_Api_Guide.ipynb\" target=\"_parent\"><img src=\"https://colab.research.google.com/assets/colab-badge.svg\" alt=\"Open In Colab\"/></a>"
      ]
    },
    {
      "cell_type": "markdown",
      "metadata": {
        "id": "kRYraJFQU06h"
      },
      "source": [
        "## Creating and Copying a New Secret API Key on OpenAI\n",
        "\n",
        "### 1. Login to OpenAI Platform:\n",
        "- Visit [OpenAI Platform](https://platform.openai.com/) and log into your account.\n",
        "\n",
        "### 2. Navigate to API Keys Section:\n",
        "- After logging in, click on your profile icon or name, usually located at the top-right corner.\n",
        "- In the dropdown menu, choose \"API Keys\" or navigate to a section related to keys or credentials.\n",
        "![Screenshot](https://drive.google.com/uc?export=view&id=1JFLw9Z0uhApj1prZEpA5uBCmZ_lis6Nv)\n",
        "\n",
        "\n",
        "\n",
        "### 3. Create a New Secret Key:\n",
        "- Once in the \"API Keys\" section, find the \"Create New Secret Key\" button or something similar.\n",
        "- Click on it.\n",
        "- Optionally, name or label the key for identification, such as \"dev\" for development.\n",
        "![Screenshot for Step 2](https://drive.google.com/uc?export=view&id=1fEugZ36pCwOl7S2bQv25lwxtDMWvuJN0)\n",
        "\n",
        "\n",
        "\n",
        "### 4. Copy the New Secret Key:\n",
        "- After the key is created, it should appear on your screen. Remember, this may be the only time you'll view the entire key.\n",
        "- Use the \"Copy\" button next to the key, or manually select the key and press `Ctrl + C` (or `Cmd + C` on Mac).\n",
        "![Screenshot](https://drive.google.com/uc?export=view&id=1qv0xh6ZiJhwFvfBTv6deD86n75uIl9mR)\n",
        "\n",
        "\n",
        "### 5. **Safe Storage**:\n",
        "   - Safeguard the copied key in a secure location like a password manager or encrypted note.\n",
        "   - Ensure you don't share your API keys publicly and avoid hardcoding them into applications. Save it to your Google Drive in a [`config.ini`](https://drive.google.com/file/d/16yw5_cPWedUSM19DMJwkkOio_iuGxoeo/view?usp=sharing) file.\n",
        "![Screenshot](https://drive.google.com/uc?export=view&id=1iFmM1x0K49PylQfEdB107rht_mNTgR_H)\n",
        "   \n",
        "\n",
        "**Note**: If you ever suspect your key is at risk, return to the API Keys section to regenerate or delete it. Then, create a fresh one following these steps.\n",
        "\n"
      ]
    },
    {
      "cell_type": "markdown",
      "metadata": {
        "id": "RftgFUd8hUz4"
      },
      "source": [
        "### 6 Implementation of Open AI API\n",
        "Now that we have generated the API key we will install the OpenAI Python Library\n"
      ]
    },
    {
      "cell_type": "code",
      "execution_count": 5,
      "metadata": {
        "id": "2z7CrPl6hLvo",
        "colab": {
          "base_uri": "https://localhost:8080/",
          "height": 0
        },
        "outputId": "79a344d8-5745-47c4-85bc-abd6b1f1b5d4"
      },
      "outputs": [
        {
          "output_type": "stream",
          "name": "stdout",
          "text": [
            "Collecting openai\n",
            "  Downloading openai-0.28.1-py3-none-any.whl (76 kB)\n",
            "\u001b[?25l     \u001b[90m━━━━━━━━━━━━━━━━━━━━━━━━━━━━━━━━━━━━━━━━\u001b[0m \u001b[32m0.0/77.0 kB\u001b[0m \u001b[31m?\u001b[0m eta \u001b[36m-:--:--\u001b[0m\r\u001b[2K     \u001b[90m━━━━━━━━━━━━━━━━━━━━━━━━━━━━━━━━━━━━━━━━\u001b[0m \u001b[32m77.0/77.0 kB\u001b[0m \u001b[31m2.1 MB/s\u001b[0m eta \u001b[36m0:00:00\u001b[0m\n",
            "\u001b[?25hRequirement already satisfied: requests>=2.20 in /usr/local/lib/python3.10/dist-packages (from openai) (2.31.0)\n",
            "Requirement already satisfied: tqdm in /usr/local/lib/python3.10/dist-packages (from openai) (4.66.1)\n",
            "Requirement already satisfied: aiohttp in /usr/local/lib/python3.10/dist-packages (from openai) (3.8.5)\n",
            "Requirement already satisfied: charset-normalizer<4,>=2 in /usr/local/lib/python3.10/dist-packages (from requests>=2.20->openai) (3.2.0)\n",
            "Requirement already satisfied: idna<4,>=2.5 in /usr/local/lib/python3.10/dist-packages (from requests>=2.20->openai) (3.4)\n",
            "Requirement already satisfied: urllib3<3,>=1.21.1 in /usr/local/lib/python3.10/dist-packages (from requests>=2.20->openai) (2.0.4)\n",
            "Requirement already satisfied: certifi>=2017.4.17 in /usr/local/lib/python3.10/dist-packages (from requests>=2.20->openai) (2023.7.22)\n",
            "Requirement already satisfied: attrs>=17.3.0 in /usr/local/lib/python3.10/dist-packages (from aiohttp->openai) (23.1.0)\n",
            "Requirement already satisfied: multidict<7.0,>=4.5 in /usr/local/lib/python3.10/dist-packages (from aiohttp->openai) (6.0.4)\n",
            "Requirement already satisfied: async-timeout<5.0,>=4.0.0a3 in /usr/local/lib/python3.10/dist-packages (from aiohttp->openai) (4.0.3)\n",
            "Requirement already satisfied: yarl<2.0,>=1.0 in /usr/local/lib/python3.10/dist-packages (from aiohttp->openai) (1.9.2)\n",
            "Requirement already satisfied: frozenlist>=1.1.1 in /usr/local/lib/python3.10/dist-packages (from aiohttp->openai) (1.4.0)\n",
            "Requirement already satisfied: aiosignal>=1.1.2 in /usr/local/lib/python3.10/dist-packages (from aiohttp->openai) (1.3.1)\n",
            "Installing collected packages: openai\n",
            "Successfully installed openai-0.28.1\n"
          ]
        }
      ],
      "source": [
        "# !pip install openai"
      ]
    },
    {
      "cell_type": "markdown",
      "source": [
        "We will load the 'config.ini' file that contains the secret key"
      ],
      "metadata": {
        "id": "-13aDVlL9aLj"
      }
    },
    {
      "cell_type": "code",
      "source": [
        "from google.colab import drive\n",
        "drive.mount('/content/drive/')\n",
        "\n",
        "config_ini_location = '/content/drive/MyDrive/Colab Notebooks/IS883/OpenAI guide/config.ini' # Change this to point to the location of your config.ini file.\n",
        "\n",
        "# You can set up your API key by harcdcoding it here. It is a hacky and bad practice as others will see your secret key clearly and use your account. But, can be used for trying something quick and dirty\n",
        "# openai.api_key = 'YOUR_OPENAI_API_KEY'\n",
        "\n",
        "import configparser\n",
        "\n",
        "config = configparser.ConfigParser()\n",
        "config.read(config_ini_location)\n",
        "openai_api_key = config['OpenAI']['API_KEY']"
      ],
      "metadata": {
        "colab": {
          "base_uri": "https://localhost:8080/",
          "height": 0
        },
        "id": "2XGHjDAi4Jn8",
        "outputId": "77949053-3b60-4a6a-ef2c-b021f248cd87"
      },
      "execution_count": 3,
      "outputs": [
        {
          "output_type": "stream",
          "name": "stdout",
          "text": [
            "Drive already mounted at /content/drive/; to attempt to forcibly remount, call drive.mount(\"/content/drive/\", force_remount=True).\n"
          ]
        }
      ]
    },
    {
      "cell_type": "markdown",
      "metadata": {
        "id": "KumKB9o6hRpv"
      },
      "source": [
        "Now, we can interact with the OpenAI API. Below is a Python code to run a sample prompt.\n",
        "\n"
      ]
    },
    {
      "cell_type": "code",
      "execution_count": 6,
      "metadata": {
        "id": "WjBCcUuuhSwp",
        "colab": {
          "base_uri": "https://localhost:8080/",
          "height": 0
        },
        "outputId": "8eaff122-2350-48a1-bb74-a1824ad58e4f"
      },
      "outputs": [
        {
          "output_type": "stream",
          "name": "stdout",
          "text": [
            "Bonjour, comment allez-vous ?\n"
          ]
        }
      ],
      "source": [
        "import openai\n",
        "\n",
        "# Initialize the OpenAI API with your API key\n",
        "openai.api_key = openai_api_key\n",
        "\n",
        "response = openai.Completion.create(\n",
        "  engine=\"text-davinci-003\",\n",
        "  prompt=\"Translate the following English text to French: 'Hello, how are you?'\",\n",
        "  max_tokens=50\n",
        ")\n",
        "\n",
        "print(response.choices[0].text.strip())\n"
      ]
    },
    {
      "cell_type": "markdown",
      "metadata": {
        "id": "4OzgtccLhjyz"
      },
      "source": [
        "**Note**: Remember to replace `'YOUR_OPENAI_API_KEY'` with your actual OpenAI API key."
      ]
    }
  ],
  "metadata": {
    "colab": {
      "provenance": [],
      "include_colab_link": true
    },
    "kernelspec": {
      "display_name": "Python 3",
      "name": "python3"
    },
    "language_info": {
      "name": "python"
    }
  },
  "nbformat": 4,
  "nbformat_minor": 0
}