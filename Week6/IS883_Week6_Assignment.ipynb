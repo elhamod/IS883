{
  "cells": [
    {
      "cell_type": "markdown",
      "metadata": {
        "id": "view-in-github",
        "colab_type": "text"
      },
      "source": [
        "<a href=\"https://colab.research.google.com/github/elhamod/IS883/blob/main/Week6/IS883_Week6_Assignment.ipynb\" target=\"_parent\"><img src=\"https://colab.research.google.com/assets/colab-badge.svg\" alt=\"Open In Colab\"/></a>"
      ]
    },
    {
      "cell_type": "markdown",
      "metadata": {
        "id": "Z4FDekTFJuaW"
      },
      "source": [
        "# IS883 Week 6: Advanced Language Modeling\n"
      ]
    },
    {
      "cell_type": "markdown",
      "metadata": {
        "id": "p7KF7bFqKEIG"
      },
      "source": [
        "1. Use Google Colab for this assignment.\n",
        "\n",
        "2. **You are NOT allowed to use ChatGPT for this assignment. However, you may use Google and other online resources. As per the syllabus, you are required to cite your usage. You are also responsible for understanding the solution and defending it when asked in class.**\n",
        "\n",
        "3. For each question, fill in the answer in the cell(s) right below it. The answer could be code or text. You can add as many cells as you need for clarity.\n",
        "\n",
        "4. Enter your BUID (only numerical part) below.\n",
        "\n",
        "5. **Your submission on Blackboard should be the downloaded notebook (i.e., ipynb file). It should be prepopulated with your solution (i.e., the TA and/or instructor need not rerun the notebook to inspect the output). The code, when executed by the TA and/or instructor, should run with no runtime errors.**"
      ]
    },
    {
      "cell_type": "markdown",
      "metadata": {
        "id": "FWtanyk2ODGq"
      },
      "source": [
        "#Part 1: In-class Work"
      ]
    },
    {
      "cell_type": "markdown",
      "metadata": {
        "id": "jvccp4Pue_1L"
      },
      "source": [
        "## 1.1 Introducing Streamlit: Deploying an OpenAI API Interactive App."
      ]
    },
    {
      "cell_type": "markdown",
      "metadata": {
        "id": "hniSh2rEfuc1"
      },
      "source": [
        "Now that we have mastered harnessing OpenAI AP, let's deploy an app that uses it! An example of such an app can be found [here](https://openaistreamis883.streamlit.app/).\n",
        "\n",
        "Things to keep in mind:\n",
        "\n",
        "- Add the secret API key in their proper place under *Settings*. Refer to [this link](https://docs.streamlit.io/deploy/streamlit-community-cloud/deploy-your-app/secrets-management) for help.\n",
        "- Add the required packages under *requirements.txt* in your GitHub repo.\n"
      ]
    },
    {
      "cell_type": "markdown",
      "source": [
        "**Answer:**\n",
        "\n",
        "Here is the code: https://github.com/elhamod/openaistreamlit"
      ],
      "metadata": {
        "id": "-KTKQyOP9dJh"
      }
    },
    {
      "cell_type": "markdown",
      "metadata": {
        "id": "ecrC1JLuOK6d"
      },
      "source": [
        "# 2. Homework"
      ]
    },
    {
      "cell_type": "markdown",
      "metadata": {
        "id": "LvrEKUXYT6eq"
      },
      "source": [
        "##2.1 Deploy a GPT2 App online"
      ]
    },
    {
      "cell_type": "markdown",
      "metadata": {
        "id": "ZM06lOK3asxy"
      },
      "source": [
        "Now, that you have seen how to use Streamlit in 1.1 and how to locally use a GPT2 model in a previous class (See [here](https://github.com/elhamod/IS883/blob/main/Week3/IS883_Week3_assignment.ipynb)), you should be able to put the two together to create a webpage that takes in your prompt and returns GPT2's response.\n",
        "\n",
        "- Your app should have a textbox that takes in the user's prompt **(5 Points)**\n",
        "- Your app should also have a textbox that takes in the number of tokens to be used (i.e., the expected length of the response). **(5 Points)**\n",
        "- Once the user hits Enter, the webpage should display the response to that prompt.\n",
        "- Make your app generate two responses: One with a high level of *creativity*, and one that is more *predictable*. How do you test this feature? **(10 Points)**\n",
        "\n",
        "- Share the URL of your *publicly visible* GitHub so your code could be graded.\n",
        "- Share the URL of your app after deploying it. Make sure it is running so it could be graded."
      ]
    },
    {
      "cell_type": "markdown",
      "metadata": {
        "id": "tZnYLsb4kejh"
      },
      "source": [
        "**Answer**"
      ]
    },
    {
      "cell_type": "markdown",
      "source": [
        "*Answer here*"
      ],
      "metadata": {
        "id": "QslPGUsiVKIw"
      }
    }
  ],
  "metadata": {
    "accelerator": "GPU",
    "colab": {
      "gpuType": "T4",
      "provenance": [],
      "collapsed_sections": [
        "P2VJtVl9hgH5"
      ],
      "include_colab_link": true
    },
    "kernelspec": {
      "display_name": "Python 3",
      "name": "python3"
    },
    "language_info": {
      "name": "python"
    }
  },
  "nbformat": 4,
  "nbformat_minor": 0
}