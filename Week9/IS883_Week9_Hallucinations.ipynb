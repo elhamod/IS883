{
  "nbformat": 4,
  "nbformat_minor": 0,
  "metadata": {
    "colab": {
      "provenance": [],
      "authorship_tag": "ABX9TyNKWpF9Xt5JA/2xJydBmU7+",
      "include_colab_link": true
    },
    "kernelspec": {
      "name": "python3",
      "display_name": "Python 3"
    },
    "language_info": {
      "name": "python"
    }
  },
  "cells": [
    {
      "cell_type": "markdown",
      "metadata": {
        "id": "view-in-github",
        "colab_type": "text"
      },
      "source": [
        "<a href=\"https://colab.research.google.com/github/elhamod/IS883/blob/main/Week9/IS883_Week9_Hallucinations.ipynb\" target=\"_parent\"><img src=\"https://colab.research.google.com/assets/colab-badge.svg\" alt=\"Open In Colab\"/></a>"
      ]
    },
    {
      "cell_type": "markdown",
      "source": [
        "# IS883 Week9: Hallucinations"
      ],
      "metadata": {
        "id": "MS3NxQvV8qCF"
      }
    },
    {
      "cell_type": "markdown",
      "source": [
        "1. Use Google Colab for this assignment.\n",
        "\n",
        "2. **You are NOT allowed to use external or embedded Gen AI for this assignment (except where specifically instructed). However, you may use Google search and other online resources. As per the syllabus, you are required to cite your usage. You are also responsible for understanding the solution and defending it when asked in class.**\n",
        "\n",
        "3. For each question, fill in the answer in the cell(s) right below it. The answer could be code or text. You can add as many cells as you need for clarity.\n",
        "\n",
        "4. **Your submission on Blackboard should be the downloaded notebook (i.e., ipynb file). It should be prepopulated with your solution (i.e., the TA and/or instructor need not rerun the notebook to inspect the output). The code, when executed by the TA and/or instructor, should run with no runtime errors.**"
      ],
      "metadata": {
        "id": "Igu4cSXd8gQN"
      }
    },
    {
      "cell_type": "markdown",
      "source": [
        "#1. Exploring Hallucinations"
      ],
      "metadata": {
        "id": "ZTmVYLeKHGXm"
      }
    },
    {
      "cell_type": "markdown",
      "source": [
        "In this section, we will explore how well some GPTs can answer questions.\n",
        "\n",
        "We will start with some simple questions and then build up towards more complex ones.\n",
        "\n",
        "Since LLMs are stochastic in nature, we will ask ChatGPT to answer the question 10 times so we can sample different possible responses."
      ],
      "metadata": {
        "id": "HfTR02QpOxHV"
      }
    },
    {
      "cell_type": "code",
      "source": [
        "import openai\n",
        "from google.colab import userdata\n",
        "from openai import OpenAI"
      ],
      "metadata": {
        "id": "u4__XitwPjBo"
      },
      "execution_count": null,
      "outputs": []
    },
    {
      "cell_type": "markdown",
      "source": [
        "Fill Up the following function to streamline the quetion answering. **(5 Points)**"
      ],
      "metadata": {
        "id": "2xZ33_LXqT9m"
      }
    },
    {
      "cell_type": "code",
      "source": [
        "def answer_10times(question, model = \"gpt-3.5-turbo\"):\n",
        "  for i in range(10):\n",
        "    ### Create the OpenAI object and pass the OpenAI key.\n",
        "    client = OpenAI(\n",
        "        api_key=userdata.get('MyOpenAIKey'),\n",
        "    )\n",
        "\n",
        "    ### Get a response to the question\n",
        "    response = client.chat.completions.create(\n",
        "      messages=[{\"role\": \"user\", \"content\": question}],\n",
        "      model=model,\n",
        "    )\n",
        "\n",
        "    ### print the answer\n",
        "    print(\"Answer\", i, \":\", response.choices[0].message.content)\n"
      ],
      "metadata": {
        "id": "JBsI1b5ePxTY"
      },
      "execution_count": null,
      "outputs": []
    },
    {
      "cell_type": "markdown",
      "source": [
        "\n",
        "> Q1.a: How did Pope Innocent III die? **(5 Points)**\n",
        "\n"
      ],
      "metadata": {
        "id": "x9WONy19PLux"
      }
    },
    {
      "cell_type": "code",
      "execution_count": null,
      "metadata": {
        "id": "crUAAn2o1QYj"
      },
      "outputs": [],
      "source": []
    },
    {
      "cell_type": "markdown",
      "source": [
        "**Question**: Was the model able to answer the question correctly?"
      ],
      "metadata": {
        "id": "MeJRCJTQqodz"
      }
    },
    {
      "cell_type": "markdown",
      "source": [
        "*Answer here*"
      ],
      "metadata": {
        "id": "2bYGSvqdqvC2"
      }
    },
    {
      "cell_type": "markdown",
      "source": [
        "> Q1.b: Provide the model of the rifle that was used to kill Pope Innocent III. **(5 Points)**"
      ],
      "metadata": {
        "id": "HX2NKssWRBM7"
      }
    },
    {
      "cell_type": "code",
      "source": [],
      "metadata": {
        "id": "MPBKhCp3RBV7"
      },
      "execution_count": null,
      "outputs": []
    },
    {
      "cell_type": "markdown",
      "source": [
        "**Question**: Was the model able to answer the question correctly?"
      ],
      "metadata": {
        "id": "GNQExnFyq8W3"
      }
    },
    {
      "cell_type": "markdown",
      "source": [
        "*Answer here*"
      ],
      "metadata": {
        "id": "TS77XljGq_tG"
      }
    },
    {
      "cell_type": "markdown",
      "source": [
        "Repeat the same question, but now with model `gpt-4o-mini` **(5 Points)**"
      ],
      "metadata": {
        "id": "5qQIySgdRZ9k"
      }
    },
    {
      "cell_type": "code",
      "source": [],
      "metadata": {
        "id": "v1Dmt4bYRaFy"
      },
      "execution_count": null,
      "outputs": []
    },
    {
      "cell_type": "markdown",
      "source": [
        "**Question**: Was the model able to answer the question correctly?"
      ],
      "metadata": {
        "id": "wAI8_He_rCx6"
      }
    },
    {
      "cell_type": "markdown",
      "source": [
        "*Answer here*"
      ],
      "metadata": {
        "id": "Mzvv5uKKrIDz"
      }
    },
    {
      "cell_type": "markdown",
      "source": [
        "> Q1.c: Provide the type of weapon that was used to kill Pope Innocent III's son. **(5 Points)**\n",
        "\n",
        "Use `gpt-4o-mini`"
      ],
      "metadata": {
        "id": "oKu0MhXmRqQ6"
      }
    },
    {
      "cell_type": "code",
      "source": [],
      "metadata": {
        "id": "cc2V-sCURqZI"
      },
      "execution_count": null,
      "outputs": []
    },
    {
      "cell_type": "markdown",
      "source": [
        "**Question**: Was the model able to answer the question correctly?"
      ],
      "metadata": {
        "id": "4cZn20VcrMib"
      }
    },
    {
      "cell_type": "markdown",
      "source": [
        "*Answer here*"
      ],
      "metadata": {
        "id": "mWC91EcfrN2F"
      }
    }
  ]
}