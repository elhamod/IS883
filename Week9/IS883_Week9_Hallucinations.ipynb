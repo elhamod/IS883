{
  "nbformat": 4,
  "nbformat_minor": 0,
  "metadata": {
    "colab": {
      "provenance": [],
      "include_colab_link": true
    },
    "kernelspec": {
      "name": "python3",
      "display_name": "Python 3"
    },
    "language_info": {
      "name": "python"
    }
  },
  "cells": [
    {
      "cell_type": "markdown",
      "metadata": {
        "id": "view-in-github",
        "colab_type": "text"
      },
      "source": [
        "<a href=\"https://colab.research.google.com/github/elhamod/IS883/blob/main/Week9/IS883_Week9_Hallucinations.ipynb\" target=\"_parent\"><img src=\"https://colab.research.google.com/assets/colab-badge.svg\" alt=\"Open In Colab\"/></a>"
      ]
    },
    {
      "cell_type": "markdown",
      "source": [
        "# IS883 Week9: Hallucinations"
      ],
      "metadata": {
        "id": "MS3NxQvV8qCF"
      }
    },
    {
      "cell_type": "markdown",
      "source": [
        "1. Use Google Colab for this assignment.\n",
        "\n",
        "2. **You are NOT allowed to use external or embedded Gen AI for this assignment (except where specifically instructed). However, you may use Google search and other online resources. As per the syllabus, you are required to cite your usage. You are also responsible for understanding the solution and defending it when asked in class.**\n",
        "\n",
        "3. For each question, fill in the answer in the cell(s) right below it. The answer could be code or text. You can add as many cells as you need for clarity.\n",
        "\n",
        "4. **Your submission on Blackboard should be the downloaded notebook (i.e., ipynb file). It should be prepopulated with your solution (i.e., the TA and/or instructor need not rerun the notebook to inspect the output). The code, when executed by the TA and/or instructor, should run with no runtime errors.**"
      ],
      "metadata": {
        "id": "Igu4cSXd8gQN"
      }
    },
    {
      "cell_type": "markdown",
      "source": [
        "#1. Exploring Hallucinations"
      ],
      "metadata": {
        "id": "ZTmVYLeKHGXm"
      }
    },
    {
      "cell_type": "markdown",
      "source": [
        "In this section, we will explore how well some GPTs can answer questions.\n",
        "\n",
        "We will start with some simple questions and then build up towards more complex ones.\n",
        "\n",
        "Since LLMs are stochastic in nature, we will ask ChatGPT to answer the question 10 times so we can sample different possible responses."
      ],
      "metadata": {
        "id": "HfTR02QpOxHV"
      }
    },
    {
      "cell_type": "code",
      "source": [
        "import openai\n",
        "from google.colab import userdata\n",
        "from openai import OpenAI"
      ],
      "metadata": {
        "id": "u4__XitwPjBo"
      },
      "execution_count": 1,
      "outputs": []
    },
    {
      "cell_type": "markdown",
      "source": [
        "Fill Up the following function to streamline the quetion answering. **(5 Points)**"
      ],
      "metadata": {
        "id": "2xZ33_LXqT9m"
      }
    },
    {
      "cell_type": "code",
      "source": [
        "def answer_10times(question, model = \"gpt-3.5-turbo\"):\n",
        "  for i in range(10):\n",
        "    ### Create the OpenAI object and pass the OpenAI key.\n",
        "    client = OpenAI(\n",
        "        api_key=userdata.get('MyOpenAIKey')\n",
        "    )\n",
        "\n",
        "    ### Get a response to the question\n",
        "    response = client.chat.completions.create(\n",
        "      messages=[{\"role\": \"user\", \"content\": question}],\n",
        "      model=model,\n",
        "      temperature=1.0\n",
        "    )\n",
        "\n",
        "    ### print the answer\n",
        "    print(\"Answer\", i, \":\", response.choices[0].message.content)\n"
      ],
      "metadata": {
        "id": "JBsI1b5ePxTY"
      },
      "execution_count": 2,
      "outputs": []
    },
    {
      "cell_type": "markdown",
      "source": [
        "\n",
        "> Q1.a: How did Pope Innocent III die? **(5 Points)**\n",
        "\n"
      ],
      "metadata": {
        "id": "x9WONy19PLux"
      }
    },
    {
      "cell_type": "code",
      "execution_count": 3,
      "metadata": {
        "id": "crUAAn2o1QYj",
        "outputId": "a05a6565-fe83-4d04-9d51-2cf4b6801202",
        "colab": {
          "base_uri": "https://localhost:8080/"
        }
      },
      "outputs": [
        {
          "output_type": "stream",
          "name": "stdout",
          "text": [
            "Answer 0 : 07/16/1216\n",
            "Answer 1 : 07/16/1216\n",
            "Answer 2 : 07/16/1216\n",
            "Answer 3 : 07/16/1216\n",
            "Answer 4 : 07/16/1216\n",
            "Answer 5 : 07/16/1216\n",
            "Answer 6 : 07/16/1216\n",
            "Answer 7 : 07/16/1216\n",
            "Answer 8 : 07/16/1216\n",
            "Answer 9 : 07/16/1216\n"
          ]
        }
      ],
      "source": [
        "answer_10times(\"How did Pope Innocent III die? Respond only as a date in the format of MM/DD/YYYY.\")"
      ]
    },
    {
      "cell_type": "markdown",
      "source": [
        "**Question**: Was the model able to answer the question correctly?"
      ],
      "metadata": {
        "id": "MeJRCJTQqodz"
      }
    },
    {
      "cell_type": "markdown",
      "source": [
        "The answer is 100% correct."
      ],
      "metadata": {
        "id": "2bYGSvqdqvC2"
      }
    },
    {
      "cell_type": "markdown",
      "source": [
        "> Q1.b: Provide the model of the rifle that was used to kill Pope Innocent III. **(5 Points)**"
      ],
      "metadata": {
        "id": "HX2NKssWRBM7"
      }
    },
    {
      "cell_type": "code",
      "source": [
        "answer_10times(\"Provide the model of the rifle that was used to kill Pope Innocent III. \")\n",
        "\n",
        "# Some prompt engineering examples\n",
        "# answer_10times(\"If Pope Innocent III died with a rifle, what was the model of the rifle?\")\n",
        "# answer_10times(\"Provide the model of the rifle that was used to kill Pope Innocent III. Make sure to provide references. \")\n",
        "# answer_10times(\"Provide the model of the rifle that was used to kill Pope Innocent III. Check wikipedia website \")"
      ],
      "metadata": {
        "id": "MPBKhCp3RBV7",
        "outputId": "0661554c-f931-4c81-b8eb-c1f174a0a0b5",
        "colab": {
          "base_uri": "https://localhost:8080/"
        }
      },
      "execution_count": 7,
      "outputs": [
        {
          "output_type": "stream",
          "name": "stdout",
          "text": [
            "Answer 0 : The rifle used to kill Pope Innocent III was a Winchester Model 1892 lever-action rifle.\n",
            "Answer 1 : The rifle that was used to kill Pope Innocent III in 1216 was a crossbow.\n",
            "Answer 2 : The rifle that was used to kill Pope Innocent III was a handgun model called a Bodeo M1889.\n",
            "Answer 3 : The rifle model used to kill Pope Innocent III is unknown, as firearms were not yet invented during his lifetime in the 12th and 13th centuries. Pope Innocent III was actually killed by poisoning in 1216, not by a rifle.\n",
            "Answer 4 : The rifle model that was used to kill Pope Innocent III was a Beretta Model 70.\n",
            "Answer 5 : The specific model of the rifle that was used to kill Pope Innocent III is not known, as firearms were not developed until centuries after his death in 1216. Pope Innocent III was actually killed by an illness and not by a gunshot or any other type of firearm.\n",
            "Answer 6 : The rifle used to kill Pope Innocent III was a Winchester Model 1894 lever-action rifle.\n",
            "Answer 7 : The rifle model that was used to kill Pope Innocent III is the \"Beretta 92F.\"\n",
            "Answer 8 : The rifle that was used to kill Pope Innocent III is not applicable as rifles were not invented and used during his lifetime. Pope Innocent III reigned from 1198 to 1216, and firearms did not become prevalent until centuries later.\n",
            "Answer 9 : The rifle that was used to kill Pope Innocent III was a Beretta 92F 9mm handgun.\n"
          ]
        }
      ]
    },
    {
      "cell_type": "markdown",
      "source": [
        "**Question**: Was the model able to answer the question correctly?"
      ],
      "metadata": {
        "id": "GNQExnFyq8W3"
      }
    },
    {
      "cell_type": "markdown",
      "source": [
        "The answers are generally incorrect. But, some prompt engineering may partially help (e.g., saying I don't know or that this leads to a historic inaccuracy)."
      ],
      "metadata": {
        "id": "TS77XljGq_tG"
      }
    },
    {
      "cell_type": "markdown",
      "source": [
        "Repeat the same question, but now with model `gpt-4o-mini` **(5 Points)**"
      ],
      "metadata": {
        "id": "5qQIySgdRZ9k"
      }
    },
    {
      "cell_type": "code",
      "source": [
        "answer_10times(\"Provide the model of the rifle that was used to kill Pope Innocent III. \", model=\"gpt-4o\")"
      ],
      "metadata": {
        "id": "v1Dmt4bYRaFy",
        "outputId": "3ffd6b28-edc8-4a22-f1cb-e094893e50fa",
        "colab": {
          "base_uri": "https://localhost:8080/"
        }
      },
      "execution_count": 5,
      "outputs": [
        {
          "output_type": "stream",
          "name": "stdout",
          "text": [
            "Answer 0 : Pope Innocent III, who served as pope from 1198 to 1216, was not killed by a rifle or any other form of firearm. Firearms did not exist during his time; they were developed much later. Historical records indicate that Pope Innocent III died of natural causes, possibly from a fever, on July 16, 1216.\n",
            "Answer 1 : Pope Innocent III, who served as pope from 1198 to 1216, was not killed by a rifle or any other weapon. He died of natural causes in 1216. Rifles did not exist during that time period, as they were developed much later, around the 16th century.\n",
            "Answer 2 : Pope Innocent III, who reigned from 1198 to 1216, was not killed by a rifle. In fact, rifles did not exist during his time, as they were developed much later, around the 16th century. Pope Innocent III died of natural causes on July 16, 1216.\n",
            "Answer 3 : Pope Innocent III was not killed by a rifle. He died on July 16, 1216, of natural causes. Firearms, as we know them today, did not exist during his lifetime. The technology for rifles and other kinds of firearms was developed much later.\n",
            "Answer 4 : Pope Innocent III, who served as pope from 1198 to 1216, was not killed by a rifle or any form of firearm. He died of natural causes, likely from an illness, in 1216. Firearms were not invented until the 14th century, well after the time of Pope Innocent III. Therefore, there is no rifle or firearm associated with his death.\n",
            "Answer 5 : Pope Innocent III was not killed by a rifle or any other weapon. He died in 1216, long before firearms were invented. His death is generally attributed to natural causes, possibly due to fever. Firearms, particularly rifles, did not come into existence until several centuries later.\n",
            "Answer 6 : Pope Innocent III, who reigned from 1198 to 1216, was not killed by a rifle or any other form of firearm. He died of natural causes in 1216, a time period long before firearms were invented. The first recorded use of firearms in Europe occurred in the late Middle Ages, well after the time of Pope Innocent III. Therefore, there is no rifle associated with his death.\n",
            "Answer 7 : Pope Innocent III was not killed by a rifle or any form of modern weaponry. He died on July 16, 1216, likely due to natural causes or illness, as he lived in a time long before the invention of firearms. Firearms and rifles did not exist during the early 13th century.\n",
            "Answer 8 : Pope Innocent III, who served as pope from 1198 to 1216, was not killed by a rifle or any form of assassination. He died of natural causes, likely due to a fever, on July 16, 1216. Firearms did not exist during his time; they were developed much later, with early forms of gunpowder weaponry appearing in the late Middle Ages. Thus, there is no rifle associated with his death.\n",
            "Answer 9 : Pope Innocent III, who served as pope from 1198 to 1216, was not killed by a rifle or any other firearm. Firearms did not exist during his time; they were developed much later, in the 14th century. Pope Innocent III died of natural causes in Perugia, Italy, in 1216.\n"
          ]
        }
      ]
    },
    {
      "cell_type": "markdown",
      "source": [
        "**Question**: Was the model able to answer the question correctly?"
      ],
      "metadata": {
        "id": "wAI8_He_rCx6"
      }
    },
    {
      "cell_type": "markdown",
      "source": [
        "100% accurate. A newer model, though expensive, was able to answer correctly."
      ],
      "metadata": {
        "id": "Mzvv5uKKrIDz"
      }
    },
    {
      "cell_type": "markdown",
      "source": [
        "> Q1.c: Provide the type of weapon that was used to kill Pope Innocent III's son. **(5 Points)**\n",
        "\n",
        "Use `gpt-4o-mini`"
      ],
      "metadata": {
        "id": "oKu0MhXmRqQ6"
      }
    },
    {
      "cell_type": "code",
      "source": [
        "answer_10times(\"Provide the type of weapon that was used to kill Pope Innocent III's son.\", model=\"gpt-4o-mini\")"
      ],
      "metadata": {
        "id": "cc2V-sCURqZI",
        "outputId": "00b82ca2-4663-4d45-e1cb-b14bb47e2688",
        "colab": {
          "base_uri": "https://localhost:8080/"
        }
      },
      "execution_count": 6,
      "outputs": [
        {
          "output_type": "stream",
          "name": "stdout",
          "text": [
            "Answer 0 : Pope Innocent III's son, Giovanni, was killed with a crossbow.\n",
            "Answer 1 : Pope Innocent III's son, Giovanni di Laterrano, was reportedly killed by a crossbow. This incident occurred in 1209 during a conflict related to the political power struggles of the time.\n",
            "Answer 2 : Pope Innocent III's son, who is often referred to as a son named Giovanni, was reportedly killed by a crossbow. This incident took place during a conflict involving the Pope and the Kingdom of Sicily.\n",
            "Answer 3 : Pope Innocent III's son, who is often believed to be killed in 1216, was reportedly killed by a crossbow bolt. This type of weapon was commonly used during that time period for both hunting and warfare.\n",
            "Answer 4 : Pope Innocent III's son, who was named Giovanni, was killed by a crossbow bolt during a skirmish near the town of L'Aquila in 1209. This incident reflects the political conflicts and military struggles of the time, particularly in the context of the ongoing power dynamics in Italy and the Church's involvement.\n",
            "Answer 5 : Pope Innocent III's son, Giovanni, is believed to have been killed by a crossbow bolt. This incident occurred during a battle in which Innocent III was involved in the conflict over Sicily. Crossbows were commonly used as weapons in that era, making them a likely choice for the circumstances surrounding Giovanni's death.\n",
            "Answer 6 : Pope Innocent III had a son named Giacomo Lothario di Colloredo, who is said to have died under mysterious circumstances, but specific historical records about his death and the type of weapon used are limited. It's important to note that Pope Innocent III himself was known for his political and religious influence during his papacy from 1198 to 1216, rather than for details about his family life. If you are referring to a specific event or context, please provide more details for clarification.\n",
            "Answer 7 : Pope Innocent III's son, Giovanni, is thought to have been killed in battle, specifically during the Siege of Castillon in 1214. The weapon used in such battles during that period would likely have been a sword or another type of melee weapon typical of medieval warfare, such as a lance or spear. However, historical records may not specify the exact weapon that caused his death.\n",
            "Answer 8 : Pope Innocent III's son, Giovanni, was killed with a dagger.\n",
            "Answer 9 : Pope Innocent III's son, Giovanni, was reportedly killed by a crossbow. This event occurred during the conflict surrounding the political tensions of the time, and crossbows were a common weapon used in siege warfare and skirmishes in the late medieval period.\n"
          ]
        }
      ]
    },
    {
      "cell_type": "markdown",
      "source": [
        "**Question**: Was the model able to answer the question correctly?"
      ],
      "metadata": {
        "id": "4cZn20VcrMib"
      }
    },
    {
      "cell_type": "markdown",
      "source": [
        "Even the newer model was confused because of the question's layered nature."
      ],
      "metadata": {
        "id": "mWC91EcfrN2F"
      }
    }
  ]
}