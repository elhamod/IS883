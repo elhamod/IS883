{
  "nbformat": 4,
  "nbformat_minor": 0,
  "metadata": {
    "colab": {
      "provenance": [],
      "include_colab_link": true
    },
    "kernelspec": {
      "name": "python3",
      "display_name": "Python 3"
    },
    "language_info": {
      "name": "python"
    }
  },
  "cells": [
    {
      "cell_type": "markdown",
      "metadata": {
        "id": "view-in-github",
        "colab_type": "text"
      },
      "source": [
        "<a href=\"https://colab.research.google.com/github/elhamod/IS883/blob/main/Week9/IS883_2024_Week9_assignment.ipynb\" target=\"_parent\"><img src=\"https://colab.research.google.com/assets/colab-badge.svg\" alt=\"Open In Colab\"/></a>"
      ]
    },
    {
      "cell_type": "markdown",
      "source": [
        "# IS883 Week9: Retrieval Augmented Generation (RAG) - Accessing knowledge from documents."
      ],
      "metadata": {
        "id": "MS3NxQvV8qCF"
      }
    },
    {
      "cell_type": "markdown",
      "source": [
        "1. Use Google Colab for this assignment.\n",
        "\n",
        "2. **You are NOT allowed to use external or embedded Gen AI for this assignment (except where specifically instructed). However, you may use Google search and other online resources. As per the syllabus, you are required to cite your usage. You are also responsible for understanding the solution and defending it when asked in class.**\n",
        "\n",
        "3. For each question, fill in the answer in the cell(s) right below it. The answer could be code or text. You can add as many cells as you need for clarity.\n",
        "\n",
        "4. **Your submission on Blackboard should be the downloaded notebook (i.e., ipynb file). It should be prepopulated with your solution (i.e., the TA and/or instructor need not rerun the notebook to inspect the output). The code, when executed by the TA and/or instructor, should run with no runtime errors.**"
      ],
      "metadata": {
        "id": "Igu4cSXd8gQN"
      }
    },
    {
      "cell_type": "markdown",
      "source": [
        "# Part 1: In-class Work"
      ],
      "metadata": {
        "id": "tLLEoCuc9Qbk"
      }
    },
    {
      "cell_type": "markdown",
      "source": [
        "##1.1 Using Gen AI for Recruiting"
      ],
      "metadata": {
        "id": "HMk54JuFyRjj"
      }
    },
    {
      "cell_type": "markdown",
      "source": [
        "Let's say you are a recruiter who is trying to determine whether a candidate is a good fit for a job posting you have.\n",
        "\n",
        "Your workflow probably goes like this:\n",
        "- Load the candidate's CV.\n",
        "- Inspect it for education, career, and extracurricular highlights.\n",
        "- Read the job description.\n",
        "- Check if there is a match.\n",
        "\n",
        "We will do exactly that in the next few cells.\n",
        "\n",
        "While this excerise could be done using ChatGPT without coding **(We could even create a GPT for this!)**, it will become clear later why a programmatic approach may be needed."
      ],
      "metadata": {
        "id": "EW9BW2ueN9H7"
      }
    },
    {
      "cell_type": "code",
      "source": [
        "!pip install pypdf langchain-community"
      ],
      "metadata": {
        "id": "F6NXnWeFOA5U",
        "colab": {
          "base_uri": "https://localhost:8080/"
        },
        "outputId": "2485ad1e-50e7-4468-8446-423e12f3fa4c"
      },
      "execution_count": null,
      "outputs": [
        {
          "output_type": "stream",
          "name": "stdout",
          "text": [
            "Requirement already satisfied: pypdf in /usr/local/lib/python3.10/dist-packages (5.1.0)\n",
            "Requirement already satisfied: langchain-community in /usr/local/lib/python3.10/dist-packages (0.3.5)\n",
            "Requirement already satisfied: typing_extensions>=4.0 in /usr/local/lib/python3.10/dist-packages (from pypdf) (4.12.2)\n",
            "Requirement already satisfied: PyYAML>=5.3 in /usr/local/lib/python3.10/dist-packages (from langchain-community) (6.0.2)\n",
            "Requirement already satisfied: SQLAlchemy<2.0.36,>=1.4 in /usr/local/lib/python3.10/dist-packages (from langchain-community) (2.0.35)\n",
            "Requirement already satisfied: aiohttp<4.0.0,>=3.8.3 in /usr/local/lib/python3.10/dist-packages (from langchain-community) (3.10.10)\n",
            "Requirement already satisfied: dataclasses-json<0.7,>=0.5.7 in /usr/local/lib/python3.10/dist-packages (from langchain-community) (0.6.7)\n",
            "Requirement already satisfied: httpx-sse<0.5.0,>=0.4.0 in /usr/local/lib/python3.10/dist-packages (from langchain-community) (0.4.0)\n",
            "Requirement already satisfied: langchain<0.4.0,>=0.3.6 in /usr/local/lib/python3.10/dist-packages (from langchain-community) (0.3.7)\n",
            "Requirement already satisfied: langchain-core<0.4.0,>=0.3.15 in /usr/local/lib/python3.10/dist-packages (from langchain-community) (0.3.15)\n",
            "Requirement already satisfied: langsmith<0.2.0,>=0.1.125 in /usr/local/lib/python3.10/dist-packages (from langchain-community) (0.1.137)\n",
            "Requirement already satisfied: numpy<2,>=1 in /usr/local/lib/python3.10/dist-packages (from langchain-community) (1.26.4)\n",
            "Requirement already satisfied: pydantic-settings<3.0.0,>=2.4.0 in /usr/local/lib/python3.10/dist-packages (from langchain-community) (2.6.1)\n",
            "Requirement already satisfied: requests<3,>=2 in /usr/local/lib/python3.10/dist-packages (from langchain-community) (2.32.3)\n",
            "Requirement already satisfied: tenacity!=8.4.0,<10,>=8.1.0 in /usr/local/lib/python3.10/dist-packages (from langchain-community) (9.0.0)\n",
            "Requirement already satisfied: aiohappyeyeballs>=2.3.0 in /usr/local/lib/python3.10/dist-packages (from aiohttp<4.0.0,>=3.8.3->langchain-community) (2.4.3)\n",
            "Requirement already satisfied: aiosignal>=1.1.2 in /usr/local/lib/python3.10/dist-packages (from aiohttp<4.0.0,>=3.8.3->langchain-community) (1.3.1)\n",
            "Requirement already satisfied: attrs>=17.3.0 in /usr/local/lib/python3.10/dist-packages (from aiohttp<4.0.0,>=3.8.3->langchain-community) (24.2.0)\n",
            "Requirement already satisfied: frozenlist>=1.1.1 in /usr/local/lib/python3.10/dist-packages (from aiohttp<4.0.0,>=3.8.3->langchain-community) (1.5.0)\n",
            "Requirement already satisfied: multidict<7.0,>=4.5 in /usr/local/lib/python3.10/dist-packages (from aiohttp<4.0.0,>=3.8.3->langchain-community) (6.1.0)\n",
            "Requirement already satisfied: yarl<2.0,>=1.12.0 in /usr/local/lib/python3.10/dist-packages (from aiohttp<4.0.0,>=3.8.3->langchain-community) (1.17.0)\n",
            "Requirement already satisfied: async-timeout<5.0,>=4.0 in /usr/local/lib/python3.10/dist-packages (from aiohttp<4.0.0,>=3.8.3->langchain-community) (4.0.3)\n",
            "Requirement already satisfied: marshmallow<4.0.0,>=3.18.0 in /usr/local/lib/python3.10/dist-packages (from dataclasses-json<0.7,>=0.5.7->langchain-community) (3.23.1)\n",
            "Requirement already satisfied: typing-inspect<1,>=0.4.0 in /usr/local/lib/python3.10/dist-packages (from dataclasses-json<0.7,>=0.5.7->langchain-community) (0.9.0)\n",
            "Requirement already satisfied: langchain-text-splitters<0.4.0,>=0.3.0 in /usr/local/lib/python3.10/dist-packages (from langchain<0.4.0,>=0.3.6->langchain-community) (0.3.0)\n",
            "Requirement already satisfied: pydantic<3.0.0,>=2.7.4 in /usr/local/lib/python3.10/dist-packages (from langchain<0.4.0,>=0.3.6->langchain-community) (2.9.2)\n",
            "Requirement already satisfied: jsonpatch<2.0,>=1.33 in /usr/local/lib/python3.10/dist-packages (from langchain-core<0.4.0,>=0.3.15->langchain-community) (1.33)\n",
            "Requirement already satisfied: packaging<25,>=23.2 in /usr/local/lib/python3.10/dist-packages (from langchain-core<0.4.0,>=0.3.15->langchain-community) (24.1)\n",
            "Requirement already satisfied: httpx<1,>=0.23.0 in /usr/local/lib/python3.10/dist-packages (from langsmith<0.2.0,>=0.1.125->langchain-community) (0.27.2)\n",
            "Requirement already satisfied: orjson<4.0.0,>=3.9.14 in /usr/local/lib/python3.10/dist-packages (from langsmith<0.2.0,>=0.1.125->langchain-community) (3.10.10)\n",
            "Requirement already satisfied: requests-toolbelt<2.0.0,>=1.0.0 in /usr/local/lib/python3.10/dist-packages (from langsmith<0.2.0,>=0.1.125->langchain-community) (1.0.0)\n",
            "Requirement already satisfied: python-dotenv>=0.21.0 in /usr/local/lib/python3.10/dist-packages (from pydantic-settings<3.0.0,>=2.4.0->langchain-community) (1.0.1)\n",
            "Requirement already satisfied: charset-normalizer<4,>=2 in /usr/local/lib/python3.10/dist-packages (from requests<3,>=2->langchain-community) (3.4.0)\n",
            "Requirement already satisfied: idna<4,>=2.5 in /usr/local/lib/python3.10/dist-packages (from requests<3,>=2->langchain-community) (3.10)\n",
            "Requirement already satisfied: urllib3<3,>=1.21.1 in /usr/local/lib/python3.10/dist-packages (from requests<3,>=2->langchain-community) (2.2.3)\n",
            "Requirement already satisfied: certifi>=2017.4.17 in /usr/local/lib/python3.10/dist-packages (from requests<3,>=2->langchain-community) (2024.8.30)\n",
            "Requirement already satisfied: greenlet!=0.4.17 in /usr/local/lib/python3.10/dist-packages (from SQLAlchemy<2.0.36,>=1.4->langchain-community) (3.1.1)\n",
            "Requirement already satisfied: anyio in /usr/local/lib/python3.10/dist-packages (from httpx<1,>=0.23.0->langsmith<0.2.0,>=0.1.125->langchain-community) (3.7.1)\n",
            "Requirement already satisfied: httpcore==1.* in /usr/local/lib/python3.10/dist-packages (from httpx<1,>=0.23.0->langsmith<0.2.0,>=0.1.125->langchain-community) (1.0.6)\n",
            "Requirement already satisfied: sniffio in /usr/local/lib/python3.10/dist-packages (from httpx<1,>=0.23.0->langsmith<0.2.0,>=0.1.125->langchain-community) (1.3.1)\n",
            "Requirement already satisfied: h11<0.15,>=0.13 in /usr/local/lib/python3.10/dist-packages (from httpcore==1.*->httpx<1,>=0.23.0->langsmith<0.2.0,>=0.1.125->langchain-community) (0.14.0)\n",
            "Requirement already satisfied: jsonpointer>=1.9 in /usr/local/lib/python3.10/dist-packages (from jsonpatch<2.0,>=1.33->langchain-core<0.4.0,>=0.3.15->langchain-community) (3.0.0)\n",
            "Requirement already satisfied: annotated-types>=0.6.0 in /usr/local/lib/python3.10/dist-packages (from pydantic<3.0.0,>=2.7.4->langchain<0.4.0,>=0.3.6->langchain-community) (0.7.0)\n",
            "Requirement already satisfied: pydantic-core==2.23.4 in /usr/local/lib/python3.10/dist-packages (from pydantic<3.0.0,>=2.7.4->langchain<0.4.0,>=0.3.6->langchain-community) (2.23.4)\n",
            "Requirement already satisfied: mypy-extensions>=0.3.0 in /usr/local/lib/python3.10/dist-packages (from typing-inspect<1,>=0.4.0->dataclasses-json<0.7,>=0.5.7->langchain-community) (1.0.0)\n",
            "Requirement already satisfied: propcache>=0.2.0 in /usr/local/lib/python3.10/dist-packages (from yarl<2.0,>=1.12.0->aiohttp<4.0.0,>=3.8.3->langchain-community) (0.2.0)\n",
            "Requirement already satisfied: exceptiongroup in /usr/local/lib/python3.10/dist-packages (from anyio->httpx<1,>=0.23.0->langsmith<0.2.0,>=0.1.125->langchain-community) (1.2.2)\n"
          ]
        }
      ]
    },
    {
      "cell_type": "markdown",
      "source": [
        "First specify where the CV is."
      ],
      "metadata": {
        "id": "KqWmUd5bAVeF"
      }
    },
    {
      "cell_type": "code",
      "source": [
        "cv_path = \"https://questromapps.bu.edu/faculty/uploadFiles/cvUploadsProfile/IS_Elhamod_Mohannad_CV.pdf\""
      ],
      "metadata": {
        "id": "1XuxLj0eu8-I"
      },
      "execution_count": null,
      "outputs": []
    },
    {
      "cell_type": "markdown",
      "source": [
        "We will use [`PyPDFLoader`](https://api.python.langchain.com/en/latest/document_loaders/langchain_community.document_loaders.pdf.PyPDFLoader.html#langchain_community.document_loaders.pdf.PyPDFLoader.load_and_split) to load the CV."
      ],
      "metadata": {
        "id": "4wkIwwPeAbi2"
      }
    },
    {
      "cell_type": "code",
      "source": [
        "from langchain.document_loaders import PyPDFLoader\n",
        "\n",
        "loader = PyPDFLoader(cv_path)\n",
        "document = loader.load()\n",
        "document"
      ],
      "metadata": {
        "id": "cr-mqduMN8xM",
        "colab": {
          "base_uri": "https://localhost:8080/"
        },
        "outputId": "2964753b-7727-418a-8762-5a2257fc284e"
      },
      "execution_count": null,
      "outputs": [
        {
          "output_type": "execute_result",
          "data": {
            "text/plain": [
              "[Document(metadata={'source': 'https://questromapps.bu.edu/faculty/uploadFiles/cvUploadsProfile/IS_Elhamod_Mohannad_CV.pdf', 'page': 0}, page_content='Mohannad Elhamod\\n/envel⌢peelhamod@bu.edu • /linkedin-inmohannadelhamod\\nResearch and Teaching Interests\\nHighly engaged in interdisciplinary research and teaching, with a focus on interpretability and visualization in Machine\\nLearning. Keen on evaluating and instructing on the influence of generative AI and language models across various\\nbusiness sectors such as management, marketing, strategy, and finance. Actively exploring and integrating these\\nadvanced technologies, along with Knowledge-Guided ML, into both academic inquiries and classroom settings\\nto foster innovation, enhance learning experiences, and create new opportunities in the wider business spectrum.\\nThis approach not only advances research frontiers but also equips students with critical, cutting-edge skills and\\nunderstandings necessary for navigating the evolving business landscape.\\nEducation\\nPh.D. in Computer Science May 2023\\nVirginia Tech Blacksburg, VA\\nM.Eng in Computer Engineering April 2012\\nMcGill University Montreal, QC\\nB.Sc in Computer Engineering June 2007\\nJordan University of Science and Technology Irbid, Jordan\\nResearch Experience\\nNASA (The Durability, Damage Tolerance and Reliability Branch) June 2022 — August 2022\\nResearch Intern\\n○ Developed and tested physics-informed generative adversarial networks to learn and quantify the variability in aerospace\\nmaterials.\\nVirginia Tech (Knowledge-Guided Machine Learning Lab) August 2019 — May 2023\\nGraduate Research Assistant\\n○ Supervised by Prof. Anuj Karpatne\\n○ Thesis: Understanding The Effects of Incorporating Scientific Knowledge on Neural Network Outputs and Loss\\nLandscapes:\\n- Guiding Neural Networks Using Taxonomies and Phylogenies for Species Modelling:Focused on overcoming the challenge\\nof species modeling in the context of limited labelled training data, by infusing taxonomic and phylogenetic data during\\nmodel training. Subsequently, model interpretability was enhanced via learning visual features that map onto biological\\ntraits. The resulting model aids biologists in addressing inquiries about species and their defining anatomical traits.\\n- Learning Physics-guided Neural Networks with Competing Loss Functions for Solving Eigenvalue Problems: Investigated\\ninto the application of a deep learning approach towards replacing computationally expensive eigen-decomposition\\nnumerical solvers, with respective applications demonstrated within the realms of quantum physics and electromagnetic\\npropagation. The resulting mode achieves high accuracy while maintaining low computational complexity.\\nMcGill University (Visual Surveillance Group) January 2010 — April 2012\\nGraduate Research Assistant\\n○ Supervised by Prof. Martin D. Levine.\\n○ Thesis: Real-Time Automated Annotation of Surveillance Scenes :\\n- Developed a real-time video surveillance system, with the capacity to detect semantically defined activities of interest.\\nThis project included successful enhancement of low-level processing and object tracking performance.\\n○ Unconstrained real-time face recognition using face morphing and SVM classifiers.\\nTeaching Experience\\nSynthesizing Digital Efforts to Deliver Better Outcomes (IS 883) Fall 2023 (Instructor)\\nMSDT (Graduate) Boston University\\nData-Centric Computing Capstone (CS 4884) Spring 2022 (Instructor-of-record)\\n(Undergraduate) Virginia Tech\\nComputer and Biological Vision (ECSE 529) (Teaching Assistant)\\n(Graduate) McGill University\\nArtificial Intelligence (ECSE 526) (Teaching Assistant)\\n(Graduate) McGill University'),\n",
              " Document(metadata={'source': 'https://questromapps.bu.edu/faculty/uploadFiles/cvUploadsProfile/IS_Elhamod_Mohannad_CV.pdf', 'page': 1}, page_content='Work Experience\\nBoston University (Questrom School of Business) August 2023 – Present\\nClinical Assistant Professor\\n○ Developing and teaching innovative courses focusing on neural networks, unsupervised learning, and generative AI, with\\na focus on integrating these technologies seamlessly into the business curriculum and equip students with cutting-edge\\nknowledge and skills in AI.\\nMicrosoft April 2016 – July 2019\\nSoftware Development Engineer (SDE)\\n○ Azure Monitoring: Worked on Metrics Explorer, a cloud computing feature that allows millions of customers to visualize and\\nanalyze their data. Also lead Azure Monitoring’s product accessibility compliance efforts to provide a seamless experience\\nfor people with disabilities.\\n○ Microsoft Edge: Worked on core features on the Windows Phone platform, such as InPrivate experience and tabs center.\\nAlso lead the product’s accessibility compliance efforts to provide a seamless experience for people with disabilities.\\nPapers Under Review\\n○ Mohannad Elhamod and Anuj Karpatne. Neuro-visualizer: An auto-encoder-based loss landscape visualization\\nmethod, 2023\\nPeer-Reviewed Journal and Conference Publications\\n○ Elhamod, Mohannad, Mridul Khurana, Harish Babu Manogaran, Josef C. Uyeda, Meghan A. Balk, Wasila Dahdul,\\nYasin Bakis, Henry L. Bart, Paula M. Mabee, Hilmar Lapp, James P. Balhoff, Caleb Charpentier, David Carlyn,\\nWei-Lun Chao, Charles V. Stewart, Daniel I. Rubenstein, Tanya Berger-Wolf, and Anuj Karpatne. Discovering\\nnovel biological traits from images using phylogeny-guided neural networks. In Proceedings of the 29th ACM\\nSIGKDD Conference on Knowledge Discovery and Data Mining , KDD ’23, page 3966–3978, New York, NY, USA,\\n2023. Association for Computing Machinery\\n○ Abantika Ghosh, Mohannad Elhamod, Jie Bu, Wei-Cheng Lee, Anuj Karpatne, and Viktor A. Podolskiy. Physics-\\ninformed machine learning of optical modes in composites. In Conference on Lasers and Electro-Optics , page\\nFTu1B.1. Optica Publishing Group, 2022\\n○ Mohannad Elhamod, Jie Bu, Christopher Singh, Matthew Redell, Abantika Ghosh, Viktor Podolskiy, Wei-Cheng\\nLee, and Anuj Karpatne. Cophy-pgnn: Learning physics-guided neural networks with competing loss functions for\\nsolving eigenvalue problems. ACM Trans. Intell. Syst. Technol. , 2022\\n○ Mohannad Elhamod, Kelly M. Diamond, A. Murat Maga, Yasin Bakis, Henry L. Bart Jr., Paula Mabee, Wasila\\nDahdul, Jeremy Leipzig, Jane Greenberg, Brian Avants, and Anuj Karpatne. Hierarchy-guided neural networks for\\nspecies classification. Methods in Ecology and Evolution , 2021.\\n○ Jeremy Leipzig, Yasin Bakis, Xiaojun Wang, Mohannad Elhamod, Kelly Diamond, Wasila Dahdul, Anuj Karpatne,\\nMurat Maga, Paula Mabee, Henry L. Bart, and Jane Greenberg. Biodiversity image quality metadata augments\\nconvolutional neural network classification of fish species. In Emmanouel Garoufallou and Mar ´ ıa-Antonia Ovalle-\\nPerandones, editors, Metadata and Semantic Research , pages 3–12, Cham, 2021. Springer International Publishing.\\n[Best Research Paper Award.]\\n○ Mohannad Elhamod and Martin D. Levine. Automated real-time detection of potentially suspicious behavior in\\npublic transport areas. IEEE Transactions on Intelligent Transportation Systems , 14(2):688–699, 2013\\n○ Mohannad Elhamod and Martin D. Levine. Real-time semantics-based detection of suspicious activities in public\\nspaces. In 2012 Ninth Conference on Computer and Robot Vision , pages 268–275, 2012'),\n",
              " Document(metadata={'source': 'https://questromapps.bu.edu/faculty/uploadFiles/cvUploadsProfile/IS_Elhamod_Mohannad_CV.pdf', 'page': 2}, page_content='Workshop Papers, Presentations, and Posters\\n○ Mohannad Elhamod , Mridul Khurana, Harish Babu Manogaran, Josef Uyeda, Meghan Balk, Wasila Dahdul,\\nYasin Bakis, Henry L. L Bart Jr., Paula Mabee, Hilmar Lappand James Balhoff, Caleb Charpentier, David E Carlyn,\\nWei-Lun Chao, Charles V Stewart, Daniel Rubenstein, Tanya Berger-Wolf, and Anuj Karpatne. Discovering novel\\nbiological traits from images using phylogeny-guided neural networks. In CV4Animals: Computer Vision for Animal\\nBehavior, 2023\\n○ Reshma R Babu, Yael Stochel, Christopher Lawrence, Daniel Rubenstein, Chuck Stewart, Wei-Lun Chao, David\\nCarlyn, Jihyung Kil, Yu Su, Luke Song, Anuj Karpatne, Mohannad Elhamod, Krzysztof Kozak, Owen McMillan,\\nand Tanya Berger-Wolf. Understanding mimicry in butterflies from images using machine learning. In CV4Animals:\\nComputer Vision for Animal Behavior , 2022\\n○ Mohannad Elhamod, Kelly M. Diamond, A. Murat Maga, Yasin Bakis, Henry L. Bart, Paula Mabee, Wasila\\nDahdul, Jeremy Leipzig, Jane Greenberg, Brian Avants, and Anuj Karpatne. Hierarchy-guided neural networks for\\nspecies classification. In 2nd Symposium on Science-Guided AI (SGAI-AAAI-21) , November 2021\\n○ Mohannad Elhamod , Jie Bu, Christopher Singh, Matthew Redell, Abantika Ghosh, Viktor Podolskiy, Wei-Cheng\\nLee, and Anuj Karpatne. Learning Physics-guided Neural Networks with Competing Physics Loss: A Summary of\\nResults in Solving Eigenvalue Problems. In AAAI 2021 Spring Symposium on Combining Artificial Intelligence and\\nMachine Learning with Physical Sciences . AAAI-MLPS 2021, AAAI, March 2021\\n○ M Elhamod, MA Maruf, PK Mandke, and A Karpatne. Biology-guided neural network for species classification.\\nIn Integrative and Comparative Biology , volume 61, pages E228–E229. Oxford Univ Press Inc Journals Dept, 2001\\nEvans Rd, Cary, NC 27513 USA, 2021. [Nominated for Best Student Paper: Wake Award.]\\n○ MA Maruf, M Elhamod, PK Mandke, and A Karpatne. Biology-guided neural network for fish trait discovery. In\\nIntegrative and Comparative Biology , volume 61, pages E577–E578. Oxford Univ Press Inc Journals Dept, 2001\\nEvans Rd, Cary, NC 27513 USA, 2021\\n○ Mohannad Elhamod, Jie Bu, Christopher Singh, Matthew Redell, Wei-Cheng Lee, and Anuj Karpatne. Poster:\\nPhysics-inspired neural networks meet condensed matter theory. In 3rd Physics Informed Machine Learning ,\\nJanuary 2020\\nHonors and Awards\\nPratt Fellowship July 2021 and July 2022\\nDepartment of Computer Science, Virginia Tech○ Awarded to a limited number of exceptional applicants\\nJoseph Frank Hunkler Memorial Scholarship January 2022\\n○ Nominated by the department of Computer Science at Virginia Tech.\\nGoogle PhD Fellowship Program August 2021\\nGoogle○ Nominated by the department of Computer Science at Virginia Tech.\\nMicrosoft Research PhD Fellowship May 2021\\nMicrosoft○ Nominated by the department of Computer Science at Virginia Tech.\\nWake Award October 2020\\nSociety for Integrative and Comparative Biology (SICB)○ Nominated for Best Student Paper.\\nSpecial Stock Award September 2018\\nMicrosoft○ Awarded to exceptional employees for their contributions in areas of great impact.\\nProvost’s and Principal’s Graduate Fellowship February 2010\\nMcGill University○ Awarded to recruit high-caliber students.'),\n",
              " Document(metadata={'source': 'https://questromapps.bu.edu/faculty/uploadFiles/cvUploadsProfile/IS_Elhamod_Mohannad_CV.pdf', 'page': 3}, page_content='Professional Service\\nQuestrom Academic Conduct Committee 2023 – 2024\\nCommittee member Boston University\\nKnowledge-Guided ML Workshop (KGML) 2022 – 2024\\nReviewer and Program Committee member AAAI\\nWorkshop on Machine Learning and the Physical Sciences (MLPS) 2023\\nReviewer and Program Committee member NeurIPS\\nQuestrom Faculty Recruiting Committee 2023\\nCommittee member Boston University\\nComputer Science Graduate Council 2020 – 2021, 2022 – 2023\\nElected board member Virginia Tech\\n○ Having been elected for two terms as Treasurer and Vice President, respectively, I lead efforts for promoting student rights\\nand resolving student-advisor conflicts. I also hosted a workshop on building healthy student-advisor relationships.\\nGraduate Academy for Teaching Excellence (GrATE) 2022 – 2023\\nFellow Virginia Tech\\n○ Delivered a workshop titled ”Takeaways from being a class instructor” .\\n○ Founded and hosted ”The Ranting Pedagogue” , a graduate student podcast on teaching and education.\\nScience-Guided AI Workshop (SGAI) 2021\\nReviewer and Program Committee member AAAI\\nTransactions on Emerging Topics in Computational Intelligence (TETCI) 2021\\nReviewer IEEE\\nKnowledge Discovery and Data Mining (KDD) 2021\\nExternal Reviewer ACM\\nGreat Lakes Bioinformatics Conference 2021\\nCo-organizer\\nInterdisciplinary Research Honor Society 2021\\nMember Virginia Tech\\nGraduate and Professional Student Senate 2019 – 2020\\nDelegate Virginia Tech\\nExtracurricular Activities, Skills, and Projects\\nMachine Learning Mentor 2022 – Present\\nMentorCruise\\n○ Offering consulting and mentoring services to researchers and engineers from different disciplines.\\nThe Future Professoriate Certificate 2020 – 2023\\nVirginia Tech\\n○ The program prepares future faculty and academic leaders and challenge existing practices.\\n○ As part of the program, I hosted a talk titled “The Graduate Student and Self-Worth”.\\nGlobal Perspectives Program (GPP) 2022\\nVirginia Tech\\n○ Visited European universities and developed a global understanding of different education systems.\\nMartial Arts, Blogging, Photography, Stand-up comedy, and Classical Arabic Music')]"
            ]
          },
          "metadata": {},
          "execution_count": 50
        }
      ]
    },
    {
      "cell_type": "markdown",
      "source": [
        "Notice that `document` is a list and not string."
      ],
      "metadata": {
        "id": "TVTU4IVWpXvP"
      }
    },
    {
      "cell_type": "code",
      "source": [
        "type(document)"
      ],
      "metadata": {
        "colab": {
          "base_uri": "https://localhost:8080/"
        },
        "id": "czk96rBupXzK",
        "outputId": "db86f2f4-bdcc-4c24-fdab-db82b7cc42e7"
      },
      "execution_count": null,
      "outputs": [
        {
          "output_type": "execute_result",
          "data": {
            "text/plain": [
              "list"
            ]
          },
          "metadata": {},
          "execution_count": 51
        }
      ]
    },
    {
      "cell_type": "markdown",
      "source": [
        "Let's say we want to use the entire CV as a reference. We need to aggregate the pages together to make a single text."
      ],
      "metadata": {
        "id": "iUis5y03FPxL"
      }
    },
    {
      "cell_type": "code",
      "source": [
        "fullCV = \"\"\n",
        "for i, page in enumerate(document):\n",
        "  fullCV = fullCV + \"\\n\" + page.page_content\n",
        "\n",
        "fullCV"
      ],
      "metadata": {
        "colab": {
          "base_uri": "https://localhost:8080/",
          "height": 87
        },
        "id": "IesgQjliCF1j",
        "outputId": "14143d82-3e76-4229-9caf-c9796cf1940c"
      },
      "execution_count": null,
      "outputs": [
        {
          "output_type": "execute_result",
          "data": {
            "text/plain": [
              "'\\nMohannad Elhamod\\n/envel⌢peelhamod@bu.edu • /linkedin-inmohannadelhamod\\nResearch and Teaching Interests\\nHighly engaged in interdisciplinary research and teaching, with a focus on interpretability and visualization in Machine\\nLearning. Keen on evaluating and instructing on the influence of generative AI and language models across various\\nbusiness sectors such as management, marketing, strategy, and finance. Actively exploring and integrating these\\nadvanced technologies, along with Knowledge-Guided ML, into both academic inquiries and classroom settings\\nto foster innovation, enhance learning experiences, and create new opportunities in the wider business spectrum.\\nThis approach not only advances research frontiers but also equips students with critical, cutting-edge skills and\\nunderstandings necessary for navigating the evolving business landscape.\\nEducation\\nPh.D. in Computer Science May 2023\\nVirginia Tech Blacksburg, VA\\nM.Eng in Computer Engineering April 2012\\nMcGill University Montreal, QC\\nB.Sc in Computer Engineering June 2007\\nJordan University of Science and Technology Irbid, Jordan\\nResearch Experience\\nNASA (The Durability, Damage Tolerance and Reliability Branch) June 2022 — August 2022\\nResearch Intern\\n○ Developed and tested physics-informed generative adversarial networks to learn and quantify the variability in aerospace\\nmaterials.\\nVirginia Tech (Knowledge-Guided Machine Learning Lab) August 2019 — May 2023\\nGraduate Research Assistant\\n○ Supervised by Prof. Anuj Karpatne\\n○ Thesis: Understanding The Effects of Incorporating Scientific Knowledge on Neural Network Outputs and Loss\\nLandscapes:\\n- Guiding Neural Networks Using Taxonomies and Phylogenies for Species Modelling:Focused on overcoming the challenge\\nof species modeling in the context of limited labelled training data, by infusing taxonomic and phylogenetic data during\\nmodel training. Subsequently, model interpretability was enhanced via learning visual features that map onto biological\\ntraits. The resulting model aids biologists in addressing inquiries about species and their defining anatomical traits.\\n- Learning Physics-guided Neural Networks with Competing Loss Functions for Solving Eigenvalue Problems: Investigated\\ninto the application of a deep learning approach towards replacing computationally expensive eigen-decomposition\\nnumerical solvers, with respective applications demonstrated within the realms of quantum physics and electromagnetic\\npropagation. The resulting mode achieves high accuracy while maintaining low computational complexity.\\nMcGill University (Visual Surveillance Group) January 2010 — April 2012\\nGraduate Research Assistant\\n○ Supervised by Prof. Martin D. Levine.\\n○ Thesis: Real-Time Automated Annotation of Surveillance Scenes :\\n- Developed a real-time video surveillance system, with the capacity to detect semantically defined activities of interest.\\nThis project included successful enhancement of low-level processing and object tracking performance.\\n○ Unconstrained real-time face recognition using face morphing and SVM classifiers.\\nTeaching Experience\\nSynthesizing Digital Efforts to Deliver Better Outcomes (IS 883) Fall 2023 (Instructor)\\nMSDT (Graduate) Boston University\\nData-Centric Computing Capstone (CS 4884) Spring 2022 (Instructor-of-record)\\n(Undergraduate) Virginia Tech\\nComputer and Biological Vision (ECSE 529) (Teaching Assistant)\\n(Graduate) McGill University\\nArtificial Intelligence (ECSE 526) (Teaching Assistant)\\n(Graduate) McGill University\\nWork Experience\\nBoston University (Questrom School of Business) August 2023 – Present\\nClinical Assistant Professor\\n○ Developing and teaching innovative courses focusing on neural networks, unsupervised learning, and generative AI, with\\na focus on integrating these technologies seamlessly into the business curriculum and equip students with cutting-edge\\nknowledge and skills in AI.\\nMicrosoft April 2016 – July 2019\\nSoftware Development Engineer (SDE)\\n○ Azure Monitoring: Worked on Metrics Explorer, a cloud computing feature that allows millions of customers to visualize and\\nanalyze their data. Also lead Azure Monitoring’s product accessibility compliance efforts to provide a seamless experience\\nfor people with disabilities.\\n○ Microsoft Edge: Worked on core features on the Windows Phone platform, such as InPrivate experience and tabs center.\\nAlso lead the product’s accessibility compliance efforts to provide a seamless experience for people with disabilities.\\nPapers Under Review\\n○ Mohannad Elhamod and Anuj Karpatne. Neuro-visualizer: An auto-encoder-based loss landscape visualization\\nmethod, 2023\\nPeer-Reviewed Journal and Conference Publications\\n○ Elhamod, Mohannad, Mridul Khurana, Harish Babu Manogaran, Josef C. Uyeda, Meghan A. Balk, Wasila Dahdul,\\nYasin Bakis, Henry L. Bart, Paula M. Mabee, Hilmar Lapp, James P. Balhoff, Caleb Charpentier, David Carlyn,\\nWei-Lun Chao, Charles V. Stewart, Daniel I. Rubenstein, Tanya Berger-Wolf, and Anuj Karpatne. Discovering\\nnovel biological traits from images using phylogeny-guided neural networks. In Proceedings of the 29th ACM\\nSIGKDD Conference on Knowledge Discovery and Data Mining , KDD ’23, page 3966–3978, New York, NY, USA,\\n2023. Association for Computing Machinery\\n○ Abantika Ghosh, Mohannad Elhamod, Jie Bu, Wei-Cheng Lee, Anuj Karpatne, and Viktor A. Podolskiy. Physics-\\ninformed machine learning of optical modes in composites. In Conference on Lasers and Electro-Optics , page\\nFTu1B.1. Optica Publishing Group, 2022\\n○ Mohannad Elhamod, Jie Bu, Christopher Singh, Matthew Redell, Abantika Ghosh, Viktor Podolskiy, Wei-Cheng\\nLee, and Anuj Karpatne. Cophy-pgnn: Learning physics-guided neural networks with competing loss functions for\\nsolving eigenvalue problems. ACM Trans. Intell. Syst. Technol. , 2022\\n○ Mohannad Elhamod, Kelly M. Diamond, A. Murat Maga, Yasin Bakis, Henry L. Bart Jr., Paula Mabee, Wasila\\nDahdul, Jeremy Leipzig, Jane Greenberg, Brian Avants, and Anuj Karpatne. Hierarchy-guided neural networks for\\nspecies classification. Methods in Ecology and Evolution , 2021.\\n○ Jeremy Leipzig, Yasin Bakis, Xiaojun Wang, Mohannad Elhamod, Kelly Diamond, Wasila Dahdul, Anuj Karpatne,\\nMurat Maga, Paula Mabee, Henry L. Bart, and Jane Greenberg. Biodiversity image quality metadata augments\\nconvolutional neural network classification of fish species. In Emmanouel Garoufallou and Mar ´ ıa-Antonia Ovalle-\\nPerandones, editors, Metadata and Semantic Research , pages 3–12, Cham, 2021. Springer International Publishing.\\n[Best Research Paper Award.]\\n○ Mohannad Elhamod and Martin D. Levine. Automated real-time detection of potentially suspicious behavior in\\npublic transport areas. IEEE Transactions on Intelligent Transportation Systems , 14(2):688–699, 2013\\n○ Mohannad Elhamod and Martin D. Levine. Real-time semantics-based detection of suspicious activities in public\\nspaces. In 2012 Ninth Conference on Computer and Robot Vision , pages 268–275, 2012\\nWorkshop Papers, Presentations, and Posters\\n○ Mohannad Elhamod , Mridul Khurana, Harish Babu Manogaran, Josef Uyeda, Meghan Balk, Wasila Dahdul,\\nYasin Bakis, Henry L. L Bart Jr., Paula Mabee, Hilmar Lappand James Balhoff, Caleb Charpentier, David E Carlyn,\\nWei-Lun Chao, Charles V Stewart, Daniel Rubenstein, Tanya Berger-Wolf, and Anuj Karpatne. Discovering novel\\nbiological traits from images using phylogeny-guided neural networks. In CV4Animals: Computer Vision for Animal\\nBehavior, 2023\\n○ Reshma R Babu, Yael Stochel, Christopher Lawrence, Daniel Rubenstein, Chuck Stewart, Wei-Lun Chao, David\\nCarlyn, Jihyung Kil, Yu Su, Luke Song, Anuj Karpatne, Mohannad Elhamod, Krzysztof Kozak, Owen McMillan,\\nand Tanya Berger-Wolf. Understanding mimicry in butterflies from images using machine learning. In CV4Animals:\\nComputer Vision for Animal Behavior , 2022\\n○ Mohannad Elhamod, Kelly M. Diamond, A. Murat Maga, Yasin Bakis, Henry L. Bart, Paula Mabee, Wasila\\nDahdul, Jeremy Leipzig, Jane Greenberg, Brian Avants, and Anuj Karpatne. Hierarchy-guided neural networks for\\nspecies classification. In 2nd Symposium on Science-Guided AI (SGAI-AAAI-21) , November 2021\\n○ Mohannad Elhamod , Jie Bu, Christopher Singh, Matthew Redell, Abantika Ghosh, Viktor Podolskiy, Wei-Cheng\\nLee, and Anuj Karpatne. Learning Physics-guided Neural Networks with Competing Physics Loss: A Summary of\\nResults in Solving Eigenvalue Problems. In AAAI 2021 Spring Symposium on Combining Artificial Intelligence and\\nMachine Learning with Physical Sciences . AAAI-MLPS 2021, AAAI, March 2021\\n○ M Elhamod, MA Maruf, PK Mandke, and A Karpatne. Biology-guided neural network for species classification.\\nIn Integrative and Comparative Biology , volume 61, pages E228–E229. Oxford Univ Press Inc Journals Dept, 2001\\nEvans Rd, Cary, NC 27513 USA, 2021. [Nominated for Best Student Paper: Wake Award.]\\n○ MA Maruf, M Elhamod, PK Mandke, and A Karpatne. Biology-guided neural network for fish trait discovery. In\\nIntegrative and Comparative Biology , volume 61, pages E577–E578. Oxford Univ Press Inc Journals Dept, 2001\\nEvans Rd, Cary, NC 27513 USA, 2021\\n○ Mohannad Elhamod, Jie Bu, Christopher Singh, Matthew Redell, Wei-Cheng Lee, and Anuj Karpatne. Poster:\\nPhysics-inspired neural networks meet condensed matter theory. In 3rd Physics Informed Machine Learning ,\\nJanuary 2020\\nHonors and Awards\\nPratt Fellowship July 2021 and July 2022\\nDepartment of Computer Science, Virginia Tech○ Awarded to a limited number of exceptional applicants\\nJoseph Frank Hunkler Memorial Scholarship January 2022\\n○ Nominated by the department of Computer Science at Virginia Tech.\\nGoogle PhD Fellowship Program August 2021\\nGoogle○ Nominated by the department of Computer Science at Virginia Tech.\\nMicrosoft Research PhD Fellowship May 2021\\nMicrosoft○ Nominated by the department of Computer Science at Virginia Tech.\\nWake Award October 2020\\nSociety for Integrative and Comparative Biology (SICB)○ Nominated for Best Student Paper.\\nSpecial Stock Award September 2018\\nMicrosoft○ Awarded to exceptional employees for their contributions in areas of great impact.\\nProvost’s and Principal’s Graduate Fellowship February 2010\\nMcGill University○ Awarded to recruit high-caliber students.\\nProfessional Service\\nQuestrom Academic Conduct Committee 2023 – 2024\\nCommittee member Boston University\\nKnowledge-Guided ML Workshop (KGML) 2022 – 2024\\nReviewer and Program Committee member AAAI\\nWorkshop on Machine Learning and the Physical Sciences (MLPS) 2023\\nReviewer and Program Committee member NeurIPS\\nQuestrom Faculty Recruiting Committee 2023\\nCommittee member Boston University\\nComputer Science Graduate Council 2020 – 2021, 2022 – 2023\\nElected board member Virginia Tech\\n○ Having been elected for two terms as Treasurer and Vice President, respectively, I lead efforts for promoting student rights\\nand resolving student-advisor conflicts. I also hosted a workshop on building healthy student-advisor relationships.\\nGraduate Academy for Teaching Excellence (GrATE) 2022 – 2023\\nFellow Virginia Tech\\n○ Delivered a workshop titled ”Takeaways from being a class instructor” .\\n○ Founded and hosted ”The Ranting Pedagogue” , a graduate student podcast on teaching and education.\\nScience-Guided AI Workshop (SGAI) 2021\\nReviewer and Program Committee member AAAI\\nTransactions on Emerging Topics in Computational Intelligence (TETCI) 2021\\nReviewer IEEE\\nKnowledge Discovery and Data Mining (KDD) 2021\\nExternal Reviewer ACM\\nGreat Lakes Bioinformatics Conference 2021\\nCo-organizer\\nInterdisciplinary Research Honor Society 2021\\nMember Virginia Tech\\nGraduate and Professional Student Senate 2019 – 2020\\nDelegate Virginia Tech\\nExtracurricular Activities, Skills, and Projects\\nMachine Learning Mentor 2022 – Present\\nMentorCruise\\n○ Offering consulting and mentoring services to researchers and engineers from different disciplines.\\nThe Future Professoriate Certificate 2020 – 2023\\nVirginia Tech\\n○ The program prepares future faculty and academic leaders and challenge existing practices.\\n○ As part of the program, I hosted a talk titled “The Graduate Student and Self-Worth”.\\nGlobal Perspectives Program (GPP) 2022\\nVirginia Tech\\n○ Visited European universities and developed a global understanding of different education systems.\\nMartial Arts, Blogging, Photography, Stand-up comedy, and Classical Arabic Music'"
            ],
            "application/vnd.google.colaboratory.intrinsic+json": {
              "type": "string"
            }
          },
          "metadata": {},
          "execution_count": 52
        }
      ]
    },
    {
      "cell_type": "markdown",
      "source": [
        "###Case 1: CV Question-Answering."
      ],
      "metadata": {
        "id": "iBrq7uuSB7wQ"
      }
    },
    {
      "cell_type": "markdown",
      "source": [
        "Let's try interrogating our CV. You may try this in ChatGPT as well and see how the behavior is different."
      ],
      "metadata": {
        "id": "NpSxh8jyFzwY"
      }
    },
    {
      "cell_type": "code",
      "source": [
        "question = \"Where did Mohannad Elhamod graduate from?\"\n",
        "# question = \"What is the candidate's email address?\" # PDF foprmatting may be jumbled.\n",
        "# question = \"How many papers has Mohannad published?\" # Uncertainty in answer\n",
        "# question = \"Where was Mohannad Elhamod born?\" # Uncertainty in answer\n",
        "# question = \"What are the highlights of the candidate's career?\"\n",
        "# question = \"Based on this CV, would the candidate be a good fit for a technical consultant position at an investment firm?\"\n",
        "# question = \"What positions would the candidate be good for?\""
      ],
      "metadata": {
        "id": "hKBOAA1mHsCl"
      },
      "execution_count": null,
      "outputs": []
    },
    {
      "cell_type": "code",
      "source": [
        "prompt_template = \"\"\"\n",
        "Answer the following question based on the provided CV.\n",
        "\n",
        "\n",
        "CV:\n",
        "{fullCV}\n",
        "\n",
        "\n",
        "Question:\n",
        "{question}\n",
        "\n",
        "\"\"\"\n",
        "\n",
        "from langchain.prompts import ChatPromptTemplate\n",
        "\n",
        "# Create the template and the CV and question into it.\n",
        "prompt_template = ChatPromptTemplate.from_template(prompt_template)\n",
        "prompt = prompt_template.format_messages(fullCV=fullCV, question=question)\n",
        "print(prompt)"
      ],
      "metadata": {
        "id": "9wsVq3K8P5-k",
        "colab": {
          "base_uri": "https://localhost:8080/"
        },
        "outputId": "cabf243a-31bd-46fc-de40-2d9ac6adbd9f"
      },
      "execution_count": null,
      "outputs": [
        {
          "output_type": "stream",
          "name": "stdout",
          "text": [
            "[HumanMessage(content='\\nAnswer the following question based on the provided CV.\\n\\n\\nCV:\\n\\nMohannad Elhamod\\n/envel⌢peelhamod@bu.edu • /linkedin-inmohannadelhamod\\nResearch and Teaching Interests\\nHighly engaged in interdisciplinary research and teaching, with a focus on interpretability and visualization in Machine\\nLearning. Keen on evaluating and instructing on the influence of generative AI and language models across various\\nbusiness sectors such as management, marketing, strategy, and finance. Actively exploring and integrating these\\nadvanced technologies, along with Knowledge-Guided ML, into both academic inquiries and classroom settings\\nto foster innovation, enhance learning experiences, and create new opportunities in the wider business spectrum.\\nThis approach not only advances research frontiers but also equips students with critical, cutting-edge skills and\\nunderstandings necessary for navigating the evolving business landscape.\\nEducation\\nPh.D. in Computer Science May 2023\\nVirginia Tech Blacksburg, VA\\nM.Eng in Computer Engineering April 2012\\nMcGill University Montreal, QC\\nB.Sc in Computer Engineering June 2007\\nJordan University of Science and Technology Irbid, Jordan\\nResearch Experience\\nNASA (The Durability, Damage Tolerance and Reliability Branch) June 2022 — August 2022\\nResearch Intern\\n○ Developed and tested physics-informed generative adversarial networks to learn and quantify the variability in aerospace\\nmaterials.\\nVirginia Tech (Knowledge-Guided Machine Learning Lab) August 2019 — May 2023\\nGraduate Research Assistant\\n○ Supervised by Prof. Anuj Karpatne\\n○ Thesis: Understanding The Effects of Incorporating Scientific Knowledge on Neural Network Outputs and Loss\\nLandscapes:\\n- Guiding Neural Networks Using Taxonomies and Phylogenies for Species Modelling:Focused on overcoming the challenge\\nof species modeling in the context of limited labelled training data, by infusing taxonomic and phylogenetic data during\\nmodel training. Subsequently, model interpretability was enhanced via learning visual features that map onto biological\\ntraits. The resulting model aids biologists in addressing inquiries about species and their defining anatomical traits.\\n- Learning Physics-guided Neural Networks with Competing Loss Functions for Solving Eigenvalue Problems: Investigated\\ninto the application of a deep learning approach towards replacing computationally expensive eigen-decomposition\\nnumerical solvers, with respective applications demonstrated within the realms of quantum physics and electromagnetic\\npropagation. The resulting mode achieves high accuracy while maintaining low computational complexity.\\nMcGill University (Visual Surveillance Group) January 2010 — April 2012\\nGraduate Research Assistant\\n○ Supervised by Prof. Martin D. Levine.\\n○ Thesis: Real-Time Automated Annotation of Surveillance Scenes :\\n- Developed a real-time video surveillance system, with the capacity to detect semantically defined activities of interest.\\nThis project included successful enhancement of low-level processing and object tracking performance.\\n○ Unconstrained real-time face recognition using face morphing and SVM classifiers.\\nTeaching Experience\\nSynthesizing Digital Efforts to Deliver Better Outcomes (IS 883) Fall 2023 (Instructor)\\nMSDT (Graduate) Boston University\\nData-Centric Computing Capstone (CS 4884) Spring 2022 (Instructor-of-record)\\n(Undergraduate) Virginia Tech\\nComputer and Biological Vision (ECSE 529) (Teaching Assistant)\\n(Graduate) McGill University\\nArtificial Intelligence (ECSE 526) (Teaching Assistant)\\n(Graduate) McGill University\\nWork Experience\\nBoston University (Questrom School of Business) August 2023 – Present\\nClinical Assistant Professor\\n○ Developing and teaching innovative courses focusing on neural networks, unsupervised learning, and generative AI, with\\na focus on integrating these technologies seamlessly into the business curriculum and equip students with cutting-edge\\nknowledge and skills in AI.\\nMicrosoft April 2016 – July 2019\\nSoftware Development Engineer (SDE)\\n○ Azure Monitoring: Worked on Metrics Explorer, a cloud computing feature that allows millions of customers to visualize and\\nanalyze their data. Also lead Azure Monitoring’s product accessibility compliance efforts to provide a seamless experience\\nfor people with disabilities.\\n○ Microsoft Edge: Worked on core features on the Windows Phone platform, such as InPrivate experience and tabs center.\\nAlso lead the product’s accessibility compliance efforts to provide a seamless experience for people with disabilities.\\nPapers Under Review\\n○ Mohannad Elhamod and Anuj Karpatne. Neuro-visualizer: An auto-encoder-based loss landscape visualization\\nmethod, 2023\\nPeer-Reviewed Journal and Conference Publications\\n○ Elhamod, Mohannad, Mridul Khurana, Harish Babu Manogaran, Josef C. Uyeda, Meghan A. Balk, Wasila Dahdul,\\nYasin Bakis, Henry L. Bart, Paula M. Mabee, Hilmar Lapp, James P. Balhoff, Caleb Charpentier, David Carlyn,\\nWei-Lun Chao, Charles V. Stewart, Daniel I. Rubenstein, Tanya Berger-Wolf, and Anuj Karpatne. Discovering\\nnovel biological traits from images using phylogeny-guided neural networks. In Proceedings of the 29th ACM\\nSIGKDD Conference on Knowledge Discovery and Data Mining , KDD ’23, page 3966–3978, New York, NY, USA,\\n2023. Association for Computing Machinery\\n○ Abantika Ghosh, Mohannad Elhamod, Jie Bu, Wei-Cheng Lee, Anuj Karpatne, and Viktor A. Podolskiy. Physics-\\ninformed machine learning of optical modes in composites. In Conference on Lasers and Electro-Optics , page\\nFTu1B.1. Optica Publishing Group, 2022\\n○ Mohannad Elhamod, Jie Bu, Christopher Singh, Matthew Redell, Abantika Ghosh, Viktor Podolskiy, Wei-Cheng\\nLee, and Anuj Karpatne. Cophy-pgnn: Learning physics-guided neural networks with competing loss functions for\\nsolving eigenvalue problems. ACM Trans. Intell. Syst. Technol. , 2022\\n○ Mohannad Elhamod, Kelly M. Diamond, A. Murat Maga, Yasin Bakis, Henry L. Bart Jr., Paula Mabee, Wasila\\nDahdul, Jeremy Leipzig, Jane Greenberg, Brian Avants, and Anuj Karpatne. Hierarchy-guided neural networks for\\nspecies classification. Methods in Ecology and Evolution , 2021.\\n○ Jeremy Leipzig, Yasin Bakis, Xiaojun Wang, Mohannad Elhamod, Kelly Diamond, Wasila Dahdul, Anuj Karpatne,\\nMurat Maga, Paula Mabee, Henry L. Bart, and Jane Greenberg. Biodiversity image quality metadata augments\\nconvolutional neural network classification of fish species. In Emmanouel Garoufallou and Mar ´ ıa-Antonia Ovalle-\\nPerandones, editors, Metadata and Semantic Research , pages 3–12, Cham, 2021. Springer International Publishing.\\n[Best Research Paper Award.]\\n○ Mohannad Elhamod and Martin D. Levine. Automated real-time detection of potentially suspicious behavior in\\npublic transport areas. IEEE Transactions on Intelligent Transportation Systems , 14(2):688–699, 2013\\n○ Mohannad Elhamod and Martin D. Levine. Real-time semantics-based detection of suspicious activities in public\\nspaces. In 2012 Ninth Conference on Computer and Robot Vision , pages 268–275, 2012\\nWorkshop Papers, Presentations, and Posters\\n○ Mohannad Elhamod , Mridul Khurana, Harish Babu Manogaran, Josef Uyeda, Meghan Balk, Wasila Dahdul,\\nYasin Bakis, Henry L. L Bart Jr., Paula Mabee, Hilmar Lappand James Balhoff, Caleb Charpentier, David E Carlyn,\\nWei-Lun Chao, Charles V Stewart, Daniel Rubenstein, Tanya Berger-Wolf, and Anuj Karpatne. Discovering novel\\nbiological traits from images using phylogeny-guided neural networks. In CV4Animals: Computer Vision for Animal\\nBehavior, 2023\\n○ Reshma R Babu, Yael Stochel, Christopher Lawrence, Daniel Rubenstein, Chuck Stewart, Wei-Lun Chao, David\\nCarlyn, Jihyung Kil, Yu Su, Luke Song, Anuj Karpatne, Mohannad Elhamod, Krzysztof Kozak, Owen McMillan,\\nand Tanya Berger-Wolf. Understanding mimicry in butterflies from images using machine learning. In CV4Animals:\\nComputer Vision for Animal Behavior , 2022\\n○ Mohannad Elhamod, Kelly M. Diamond, A. Murat Maga, Yasin Bakis, Henry L. Bart, Paula Mabee, Wasila\\nDahdul, Jeremy Leipzig, Jane Greenberg, Brian Avants, and Anuj Karpatne. Hierarchy-guided neural networks for\\nspecies classification. In 2nd Symposium on Science-Guided AI (SGAI-AAAI-21) , November 2021\\n○ Mohannad Elhamod , Jie Bu, Christopher Singh, Matthew Redell, Abantika Ghosh, Viktor Podolskiy, Wei-Cheng\\nLee, and Anuj Karpatne. Learning Physics-guided Neural Networks with Competing Physics Loss: A Summary of\\nResults in Solving Eigenvalue Problems. In AAAI 2021 Spring Symposium on Combining Artificial Intelligence and\\nMachine Learning with Physical Sciences . AAAI-MLPS 2021, AAAI, March 2021\\n○ M Elhamod, MA Maruf, PK Mandke, and A Karpatne. Biology-guided neural network for species classification.\\nIn Integrative and Comparative Biology , volume 61, pages E228–E229. Oxford Univ Press Inc Journals Dept, 2001\\nEvans Rd, Cary, NC 27513 USA, 2021. [Nominated for Best Student Paper: Wake Award.]\\n○ MA Maruf, M Elhamod, PK Mandke, and A Karpatne. Biology-guided neural network for fish trait discovery. In\\nIntegrative and Comparative Biology , volume 61, pages E577–E578. Oxford Univ Press Inc Journals Dept, 2001\\nEvans Rd, Cary, NC 27513 USA, 2021\\n○ Mohannad Elhamod, Jie Bu, Christopher Singh, Matthew Redell, Wei-Cheng Lee, and Anuj Karpatne. Poster:\\nPhysics-inspired neural networks meet condensed matter theory. In 3rd Physics Informed Machine Learning ,\\nJanuary 2020\\nHonors and Awards\\nPratt Fellowship July 2021 and July 2022\\nDepartment of Computer Science, Virginia Tech○ Awarded to a limited number of exceptional applicants\\nJoseph Frank Hunkler Memorial Scholarship January 2022\\n○ Nominated by the department of Computer Science at Virginia Tech.\\nGoogle PhD Fellowship Program August 2021\\nGoogle○ Nominated by the department of Computer Science at Virginia Tech.\\nMicrosoft Research PhD Fellowship May 2021\\nMicrosoft○ Nominated by the department of Computer Science at Virginia Tech.\\nWake Award October 2020\\nSociety for Integrative and Comparative Biology (SICB)○ Nominated for Best Student Paper.\\nSpecial Stock Award September 2018\\nMicrosoft○ Awarded to exceptional employees for their contributions in areas of great impact.\\nProvost’s and Principal’s Graduate Fellowship February 2010\\nMcGill University○ Awarded to recruit high-caliber students.\\nProfessional Service\\nQuestrom Academic Conduct Committee 2023 – 2024\\nCommittee member Boston University\\nKnowledge-Guided ML Workshop (KGML) 2022 – 2024\\nReviewer and Program Committee member AAAI\\nWorkshop on Machine Learning and the Physical Sciences (MLPS) 2023\\nReviewer and Program Committee member NeurIPS\\nQuestrom Faculty Recruiting Committee 2023\\nCommittee member Boston University\\nComputer Science Graduate Council 2020 – 2021, 2022 – 2023\\nElected board member Virginia Tech\\n○ Having been elected for two terms as Treasurer and Vice President, respectively, I lead efforts for promoting student rights\\nand resolving student-advisor conflicts. I also hosted a workshop on building healthy student-advisor relationships.\\nGraduate Academy for Teaching Excellence (GrATE) 2022 – 2023\\nFellow Virginia Tech\\n○ Delivered a workshop titled ”Takeaways from being a class instructor” .\\n○ Founded and hosted ”The Ranting Pedagogue” , a graduate student podcast on teaching and education.\\nScience-Guided AI Workshop (SGAI) 2021\\nReviewer and Program Committee member AAAI\\nTransactions on Emerging Topics in Computational Intelligence (TETCI) 2021\\nReviewer IEEE\\nKnowledge Discovery and Data Mining (KDD) 2021\\nExternal Reviewer ACM\\nGreat Lakes Bioinformatics Conference 2021\\nCo-organizer\\nInterdisciplinary Research Honor Society 2021\\nMember Virginia Tech\\nGraduate and Professional Student Senate 2019 – 2020\\nDelegate Virginia Tech\\nExtracurricular Activities, Skills, and Projects\\nMachine Learning Mentor 2022 – Present\\nMentorCruise\\n○ Offering consulting and mentoring services to researchers and engineers from different disciplines.\\nThe Future Professoriate Certificate 2020 – 2023\\nVirginia Tech\\n○ The program prepares future faculty and academic leaders and challenge existing practices.\\n○ As part of the program, I hosted a talk titled “The Graduate Student and Self-Worth”.\\nGlobal Perspectives Program (GPP) 2022\\nVirginia Tech\\n○ Visited European universities and developed a global understanding of different education systems.\\nMartial Arts, Blogging, Photography, Stand-up comedy, and Classical Arabic Music\\n\\n\\nQuestion:\\nWhere did Mohannad Elhamod graduate from?\\n\\n', additional_kwargs={}, response_metadata={})]\n"
          ]
        }
      ]
    },
    {
      "cell_type": "code",
      "source": [
        "# For debugging\n",
        "import langchain\n",
        "langchain.debug = True"
      ],
      "metadata": {
        "id": "RHmXlruyicL_"
      },
      "execution_count": null,
      "outputs": []
    },
    {
      "cell_type": "markdown",
      "source": [
        "We can use `get_openai_callback` to calculate cost."
      ],
      "metadata": {
        "id": "I0teLsH04hOm"
      }
    },
    {
      "cell_type": "code",
      "source": [
        "# Getting OpenAI API Key\n",
        "from google.colab import userdata\n",
        "openai_api_key = userdata.get('MyOpenAIKey')\n",
        "\n",
        "\n",
        "from langchain.chat_models import ChatOpenAI\n",
        "from langchain.callbacks import get_openai_callback\n",
        "\n",
        "# Get the answer!\n",
        "chat = ChatOpenAI(openai_api_key=openai_api_key, model=\"gpt-4o\") # Things to try: a differnt model\n",
        "with get_openai_callback() as cb: # Used to get cost information.\n",
        "  print(chat.predict(prompt[0].content))\n",
        "  print(cb) # print the cost."
      ],
      "metadata": {
        "id": "FKe-uGkJOhpF",
        "colab": {
          "base_uri": "https://localhost:8080/"
        },
        "outputId": "fc84de2a-5ee7-470b-d75d-6bbf87afa8c6"
      },
      "execution_count": null,
      "outputs": [
        {
          "output_type": "stream",
          "name": "stdout",
          "text": [
            "\u001b[32;1m\u001b[1;3m[llm/start]\u001b[0m \u001b[1m[llm:ChatOpenAI] Entering LLM run with input:\n",
            "\u001b[0m{\n",
            "  \"prompts\": [\n",
            "    \"Human: \\nAnswer the following question based on the provided CV.\\n\\n\\nCV:\\n\\nMohannad Elhamod\\n/envel⌢peelhamod@bu.edu • /linkedin-inmohannadelhamod\\nResearch and Teaching Interests\\nHighly engaged in interdisciplinary research and teaching, with a focus on interpretability and visualization in Machine\\nLearning. Keen on evaluating and instructing on the influence of generative AI and language models across various\\nbusiness sectors such as management, marketing, strategy, and finance. Actively exploring and integrating these\\nadvanced technologies, along with Knowledge-Guided ML, into both academic inquiries and classroom settings\\nto foster innovation, enhance learning experiences, and create new opportunities in the wider business spectrum.\\nThis approach not only advances research frontiers but also equips students with critical, cutting-edge skills and\\nunderstandings necessary for navigating the evolving business landscape.\\nEducation\\nPh.D. in Computer Science May 2023\\nVirginia Tech Blacksburg, VA\\nM.Eng in Computer Engineering April 2012\\nMcGill University Montreal, QC\\nB.Sc in Computer Engineering June 2007\\nJordan University of Science and Technology Irbid, Jordan\\nResearch Experience\\nNASA (The Durability, Damage Tolerance and Reliability Branch) June 2022 — August 2022\\nResearch Intern\\n○ Developed and tested physics-informed generative adversarial networks to learn and quantify the variability in aerospace\\nmaterials.\\nVirginia Tech (Knowledge-Guided Machine Learning Lab) August 2019 — May 2023\\nGraduate Research Assistant\\n○ Supervised by Prof. Anuj Karpatne\\n○ Thesis: Understanding The Effects of Incorporating Scientific Knowledge on Neural Network Outputs and Loss\\nLandscapes:\\n- Guiding Neural Networks Using Taxonomies and Phylogenies for Species Modelling:Focused on overcoming the challenge\\nof species modeling in the context of limited labelled training data, by infusing taxonomic and phylogenetic data during\\nmodel training. Subsequently, model interpretability was enhanced via learning visual features that map onto biological\\ntraits. The resulting model aids biologists in addressing inquiries about species and their defining anatomical traits.\\n- Learning Physics-guided Neural Networks with Competing Loss Functions for Solving Eigenvalue Problems: Investigated\\ninto the application of a deep learning approach towards replacing computationally expensive eigen-decomposition\\nnumerical solvers, with respective applications demonstrated within the realms of quantum physics and electromagnetic\\npropagation. The resulting mode achieves high accuracy while maintaining low computational complexity.\\nMcGill University (Visual Surveillance Group) January 2010 — April 2012\\nGraduate Research Assistant\\n○ Supervised by Prof. Martin D. Levine.\\n○ Thesis: Real-Time Automated Annotation of Surveillance Scenes :\\n- Developed a real-time video surveillance system, with the capacity to detect semantically defined activities of interest.\\nThis project included successful enhancement of low-level processing and object tracking performance.\\n○ Unconstrained real-time face recognition using face morphing and SVM classifiers.\\nTeaching Experience\\nSynthesizing Digital Efforts to Deliver Better Outcomes (IS 883) Fall 2023 (Instructor)\\nMSDT (Graduate) Boston University\\nData-Centric Computing Capstone (CS 4884) Spring 2022 (Instructor-of-record)\\n(Undergraduate) Virginia Tech\\nComputer and Biological Vision (ECSE 529) (Teaching Assistant)\\n(Graduate) McGill University\\nArtificial Intelligence (ECSE 526) (Teaching Assistant)\\n(Graduate) McGill University\\nWork Experience\\nBoston University (Questrom School of Business) August 2023 – Present\\nClinical Assistant Professor\\n○ Developing and teaching innovative courses focusing on neural networks, unsupervised learning, and generative AI, with\\na focus on integrating these technologies seamlessly into the business curriculum and equip students with cutting-edge\\nknowledge and skills in AI.\\nMicrosoft April 2016 – July 2019\\nSoftware Development Engineer (SDE)\\n○ Azure Monitoring: Worked on Metrics Explorer, a cloud computing feature that allows millions of customers to visualize and\\nanalyze their data. Also lead Azure Monitoring’s product accessibility compliance efforts to provide a seamless experience\\nfor people with disabilities.\\n○ Microsoft Edge: Worked on core features on the Windows Phone platform, such as InPrivate experience and tabs center.\\nAlso lead the product’s accessibility compliance efforts to provide a seamless experience for people with disabilities.\\nPapers Under Review\\n○ Mohannad Elhamod and Anuj Karpatne. Neuro-visualizer: An auto-encoder-based loss landscape visualization\\nmethod, 2023\\nPeer-Reviewed Journal and Conference Publications\\n○ Elhamod, Mohannad, Mridul Khurana, Harish Babu Manogaran, Josef C. Uyeda, Meghan A. Balk, Wasila Dahdul,\\nYasin Bakis, Henry L. Bart, Paula M. Mabee, Hilmar Lapp, James P. Balhoff, Caleb Charpentier, David Carlyn,\\nWei-Lun Chao, Charles V. Stewart, Daniel I. Rubenstein, Tanya Berger-Wolf, and Anuj Karpatne. Discovering\\nnovel biological traits from images using phylogeny-guided neural networks. In Proceedings of the 29th ACM\\nSIGKDD Conference on Knowledge Discovery and Data Mining , KDD ’23, page 3966–3978, New York, NY, USA,\\n2023. Association for Computing Machinery\\n○ Abantika Ghosh, Mohannad Elhamod, Jie Bu, Wei-Cheng Lee, Anuj Karpatne, and Viktor A. Podolskiy. Physics-\\ninformed machine learning of optical modes in composites. In Conference on Lasers and Electro-Optics , page\\nFTu1B.1. Optica Publishing Group, 2022\\n○ Mohannad Elhamod, Jie Bu, Christopher Singh, Matthew Redell, Abantika Ghosh, Viktor Podolskiy, Wei-Cheng\\nLee, and Anuj Karpatne. Cophy-pgnn: Learning physics-guided neural networks with competing loss functions for\\nsolving eigenvalue problems. ACM Trans. Intell. Syst. Technol. , 2022\\n○ Mohannad Elhamod, Kelly M. Diamond, A. Murat Maga, Yasin Bakis, Henry L. Bart Jr., Paula Mabee, Wasila\\nDahdul, Jeremy Leipzig, Jane Greenberg, Brian Avants, and Anuj Karpatne. Hierarchy-guided neural networks for\\nspecies classification. Methods in Ecology and Evolution , 2021.\\n○ Jeremy Leipzig, Yasin Bakis, Xiaojun Wang, Mohannad Elhamod, Kelly Diamond, Wasila Dahdul, Anuj Karpatne,\\nMurat Maga, Paula Mabee, Henry L. Bart, and Jane Greenberg. Biodiversity image quality metadata augments\\nconvolutional neural network classification of fish species. In Emmanouel Garoufallou and Mar ´ ıa-Antonia Ovalle-\\nPerandones, editors, Metadata and Semantic Research , pages 3–12, Cham, 2021. Springer International Publishing.\\n[Best Research Paper Award.]\\n○ Mohannad Elhamod and Martin D. Levine. Automated real-time detection of potentially suspicious behavior in\\npublic transport areas. IEEE Transactions on Intelligent Transportation Systems , 14(2):688–699, 2013\\n○ Mohannad Elhamod and Martin D. Levine. Real-time semantics-based detection of suspicious activities in public\\nspaces. In 2012 Ninth Conference on Computer and Robot Vision , pages 268–275, 2012\\nWorkshop Papers, Presentations, and Posters\\n○ Mohannad Elhamod , Mridul Khurana, Harish Babu Manogaran, Josef Uyeda, Meghan Balk, Wasila Dahdul,\\nYasin Bakis, Henry L. L Bart Jr., Paula Mabee, Hilmar Lappand James Balhoff, Caleb Charpentier, David E Carlyn,\\nWei-Lun Chao, Charles V Stewart, Daniel Rubenstein, Tanya Berger-Wolf, and Anuj Karpatne. Discovering novel\\nbiological traits from images using phylogeny-guided neural networks. In CV4Animals: Computer Vision for Animal\\nBehavior, 2023\\n○ Reshma R Babu, Yael Stochel, Christopher Lawrence, Daniel Rubenstein, Chuck Stewart, Wei-Lun Chao, David\\nCarlyn, Jihyung Kil, Yu Su, Luke Song, Anuj Karpatne, Mohannad Elhamod, Krzysztof Kozak, Owen McMillan,\\nand Tanya Berger-Wolf. Understanding mimicry in butterflies from images using machine learning. In CV4Animals:\\nComputer Vision for Animal Behavior , 2022\\n○ Mohannad Elhamod, Kelly M. Diamond, A. Murat Maga, Yasin Bakis, Henry L. Bart, Paula Mabee, Wasila\\nDahdul, Jeremy Leipzig, Jane Greenberg, Brian Avants, and Anuj Karpatne. Hierarchy-guided neural networks for\\nspecies classification. In 2nd Symposium on Science-Guided AI (SGAI-AAAI-21) , November 2021\\n○ Mohannad Elhamod , Jie Bu, Christopher Singh, Matthew Redell, Abantika Ghosh, Viktor Podolskiy, Wei-Cheng\\nLee, and Anuj Karpatne. Learning Physics-guided Neural Networks with Competing Physics Loss: A Summary of\\nResults in Solving Eigenvalue Problems. In AAAI 2021 Spring Symposium on Combining Artificial Intelligence and\\nMachine Learning with Physical Sciences . AAAI-MLPS 2021, AAAI, March 2021\\n○ M Elhamod, MA Maruf, PK Mandke, and A Karpatne. Biology-guided neural network for species classification.\\nIn Integrative and Comparative Biology , volume 61, pages E228–E229. Oxford Univ Press Inc Journals Dept, 2001\\nEvans Rd, Cary, NC 27513 USA, 2021. [Nominated for Best Student Paper: Wake Award.]\\n○ MA Maruf, M Elhamod, PK Mandke, and A Karpatne. Biology-guided neural network for fish trait discovery. In\\nIntegrative and Comparative Biology , volume 61, pages E577–E578. Oxford Univ Press Inc Journals Dept, 2001\\nEvans Rd, Cary, NC 27513 USA, 2021\\n○ Mohannad Elhamod, Jie Bu, Christopher Singh, Matthew Redell, Wei-Cheng Lee, and Anuj Karpatne. Poster:\\nPhysics-inspired neural networks meet condensed matter theory. In 3rd Physics Informed Machine Learning ,\\nJanuary 2020\\nHonors and Awards\\nPratt Fellowship July 2021 and July 2022\\nDepartment of Computer Science, Virginia Tech○ Awarded to a limited number of exceptional applicants\\nJoseph Frank Hunkler Memorial Scholarship January 2022\\n○ Nominated by the department of Computer Science at Virginia Tech.\\nGoogle PhD Fellowship Program August 2021\\nGoogle○ Nominated by the department of Computer Science at Virginia Tech.\\nMicrosoft Research PhD Fellowship May 2021\\nMicrosoft○ Nominated by the department of Computer Science at Virginia Tech.\\nWake Award October 2020\\nSociety for Integrative and Comparative Biology (SICB)○ Nominated for Best Student Paper.\\nSpecial Stock Award September 2018\\nMicrosoft○ Awarded to exceptional employees for their contributions in areas of great impact.\\nProvost’s and Principal’s Graduate Fellowship February 2010\\nMcGill University○ Awarded to recruit high-caliber students.\\nProfessional Service\\nQuestrom Academic Conduct Committee 2023 – 2024\\nCommittee member Boston University\\nKnowledge-Guided ML Workshop (KGML) 2022 – 2024\\nReviewer and Program Committee member AAAI\\nWorkshop on Machine Learning and the Physical Sciences (MLPS) 2023\\nReviewer and Program Committee member NeurIPS\\nQuestrom Faculty Recruiting Committee 2023\\nCommittee member Boston University\\nComputer Science Graduate Council 2020 – 2021, 2022 – 2023\\nElected board member Virginia Tech\\n○ Having been elected for two terms as Treasurer and Vice President, respectively, I lead efforts for promoting student rights\\nand resolving student-advisor conflicts. I also hosted a workshop on building healthy student-advisor relationships.\\nGraduate Academy for Teaching Excellence (GrATE) 2022 – 2023\\nFellow Virginia Tech\\n○ Delivered a workshop titled ”Takeaways from being a class instructor” .\\n○ Founded and hosted ”The Ranting Pedagogue” , a graduate student podcast on teaching and education.\\nScience-Guided AI Workshop (SGAI) 2021\\nReviewer and Program Committee member AAAI\\nTransactions on Emerging Topics in Computational Intelligence (TETCI) 2021\\nReviewer IEEE\\nKnowledge Discovery and Data Mining (KDD) 2021\\nExternal Reviewer ACM\\nGreat Lakes Bioinformatics Conference 2021\\nCo-organizer\\nInterdisciplinary Research Honor Society 2021\\nMember Virginia Tech\\nGraduate and Professional Student Senate 2019 – 2020\\nDelegate Virginia Tech\\nExtracurricular Activities, Skills, and Projects\\nMachine Learning Mentor 2022 – Present\\nMentorCruise\\n○ Offering consulting and mentoring services to researchers and engineers from different disciplines.\\nThe Future Professoriate Certificate 2020 – 2023\\nVirginia Tech\\n○ The program prepares future faculty and academic leaders and challenge existing practices.\\n○ As part of the program, I hosted a talk titled “The Graduate Student and Self-Worth”.\\nGlobal Perspectives Program (GPP) 2022\\nVirginia Tech\\n○ Visited European universities and developed a global understanding of different education systems.\\nMartial Arts, Blogging, Photography, Stand-up comedy, and Classical Arabic Music\\n\\n\\nQuestion:\\nWhere did Mohannad Elhamod graduate from?\"\n",
            "  ]\n",
            "}\n",
            "\u001b[36;1m\u001b[1;3m[llm/end]\u001b[0m \u001b[1m[llm:ChatOpenAI] [2.12s] Exiting LLM run with output:\n",
            "\u001b[0m{\n",
            "  \"generations\": [\n",
            "    [\n",
            "      {\n",
            "        \"text\": \"Mohannad Elhamod graduated with a Ph.D. in Computer Science from Virginia Tech in May 2023. He also earned an M.Eng in Computer Engineering from McGill University in April 2012 and a B.Sc in Computer Engineering from Jordan University of Science and Technology in June 2007.\",\n",
            "        \"generation_info\": {\n",
            "          \"finish_reason\": \"stop\",\n",
            "          \"logprobs\": null\n",
            "        },\n",
            "        \"type\": \"ChatGeneration\",\n",
            "        \"message\": {\n",
            "          \"lc\": 1,\n",
            "          \"type\": \"constructor\",\n",
            "          \"id\": [\n",
            "            \"langchain\",\n",
            "            \"schema\",\n",
            "            \"messages\",\n",
            "            \"AIMessage\"\n",
            "          ],\n",
            "          \"kwargs\": {\n",
            "            \"content\": \"Mohannad Elhamod graduated with a Ph.D. in Computer Science from Virginia Tech in May 2023. He also earned an M.Eng in Computer Engineering from McGill University in April 2012 and a B.Sc in Computer Engineering from Jordan University of Science and Technology in June 2007.\",\n",
            "            \"response_metadata\": {\n",
            "              \"token_usage\": {\n",
            "                \"completion_tokens\": 63,\n",
            "                \"prompt_tokens\": 2876,\n",
            "                \"total_tokens\": 2939,\n",
            "                \"completion_tokens_details\": {\n",
            "                  \"audio_tokens\": null,\n",
            "                  \"reasoning_tokens\": 0,\n",
            "                  \"accepted_prediction_tokens\": 0,\n",
            "                  \"rejected_prediction_tokens\": 0\n",
            "                },\n",
            "                \"prompt_tokens_details\": {\n",
            "                  \"audio_tokens\": null,\n",
            "                  \"cached_tokens\": 0\n",
            "                }\n",
            "              },\n",
            "              \"model_name\": \"gpt-4o\",\n",
            "              \"system_fingerprint\": \"fp_159d8341cc\",\n",
            "              \"finish_reason\": \"stop\",\n",
            "              \"logprobs\": null\n",
            "            },\n",
            "            \"type\": \"ai\",\n",
            "            \"id\": \"run-df4bdd09-461d-4d35-9f12-c80d8b6a1d90-0\",\n",
            "            \"tool_calls\": [],\n",
            "            \"invalid_tool_calls\": []\n",
            "          }\n",
            "        }\n",
            "      }\n",
            "    ]\n",
            "  ],\n",
            "  \"llm_output\": {\n",
            "    \"token_usage\": {\n",
            "      \"completion_tokens\": 63,\n",
            "      \"prompt_tokens\": 2876,\n",
            "      \"total_tokens\": 2939,\n",
            "      \"completion_tokens_details\": {\n",
            "        \"audio_tokens\": null,\n",
            "        \"reasoning_tokens\": 0,\n",
            "        \"accepted_prediction_tokens\": 0,\n",
            "        \"rejected_prediction_tokens\": 0\n",
            "      },\n",
            "      \"prompt_tokens_details\": {\n",
            "        \"audio_tokens\": null,\n",
            "        \"cached_tokens\": 0\n",
            "      }\n",
            "    },\n",
            "    \"model_name\": \"gpt-4o\",\n",
            "    \"system_fingerprint\": \"fp_159d8341cc\"\n",
            "  },\n",
            "  \"run\": null,\n",
            "  \"type\": \"LLMResult\"\n",
            "}\n",
            "Mohannad Elhamod graduated with a Ph.D. in Computer Science from Virginia Tech in May 2023. He also earned an M.Eng in Computer Engineering from McGill University in April 2012 and a B.Sc in Computer Engineering from Jordan University of Science and Technology in June 2007.\n",
            "Tokens Used: 2939\n",
            "\tPrompt Tokens: 2876\n",
            "\tCompletion Tokens: 63\n",
            "Successful Requests: 1\n",
            "Total Cost (USD): $0.00782\n"
          ]
        }
      ]
    },
    {
      "cell_type": "markdown",
      "source": [
        "Notce that if we do not use the CV as context, we get hallucinations or the inability to answer."
      ],
      "metadata": {
        "id": "wFBAagEXp9JS"
      }
    },
    {
      "cell_type": "code",
      "source": [
        "chat.invoke(p)"
      ],
      "metadata": {
        "colab": {
          "base_uri": "https://localhost:8080/"
        },
        "id": "7qdjYvulKMAF",
        "outputId": "e67be3f7-0259-4118-fde9-d159a60b3920"
      },
      "execution_count": null,
      "outputs": [
        {
          "output_type": "stream",
          "name": "stdout",
          "text": [
            "\u001b[32;1m\u001b[1;3m[llm/start]\u001b[0m \u001b[1m[llm:ChatOpenAI] Entering LLM run with input:\n",
            "\u001b[0m{\n",
            "  \"prompts\": [\n",
            "    \"Human: Based on this CV, would the candidate be a good fit for a technical consultant position at an investment firm?\"\n",
            "  ]\n",
            "}\n",
            "\u001b[36;1m\u001b[1;3m[llm/end]\u001b[0m \u001b[1m[llm:ChatOpenAI] [4.87s] Exiting LLM run with output:\n",
            "\u001b[0m{\n",
            "  \"generations\": [\n",
            "    [\n",
            "      {\n",
            "        \"text\": \"I'm unable to view specific documents like a CV. However, I can certainly help you evaluate whether a candidate might be a good fit for a technical consultant position at an investment firm based on typical qualifications and skills required for such a role. Here are some aspects to consider:\\n\\n1. **Technical Skills**: The candidate should have a strong foundation in relevant technical skills, such as programming languages (Python, R, Java, etc.), data analysis, and possibly financial modeling. Experience with databases, data visualization tools, and financial software could also be beneficial.\\n\\n2. **Industry Knowledge**: Familiarity with the financial industry, including understanding of financial markets, instruments, and regulations, is crucial. Look for any previous experience in finance, banking, or investment sectors.\\n\\n3. **Consulting Experience**: Previous experience in a consulting role or similar client-facing positions can be advantageous. The candidate should have skills in problem-solving, strategic thinking, and the ability to deliver solutions tailored to client needs.\\n\\n4. **Communication Skills**: Strong communication and interpersonal skills are essential for working with clients, presenting findings, and collaborating with team members. Look for evidence of public speaking, report writing, or teamwork.\\n\\n5. **Education**: A degree in a relevant field such as finance, computer science, engineering, or business can be advantageous. Additional certifications, like CFA, CFP, or technical certifications, could also add value.\\n\\n6. **Project Management**: Experience in managing projects, meeting deadlines, and delivering on client expectations is important. Look for any experience that demonstrates the ability to handle multiple tasks and priorities.\\n\\n7. **Problem-Solving Ability**: Analytical and critical thinking skills are crucial for diagnosing issues and developing effective solutions. Any experience with complex problem-solving should be highlighted.\\n\\nIf the CV reflects these competencies, the candidate might be a strong contender for a technical consultant position at an investment firm.\",\n",
            "        \"generation_info\": {\n",
            "          \"finish_reason\": \"stop\",\n",
            "          \"logprobs\": null\n",
            "        },\n",
            "        \"type\": \"ChatGeneration\",\n",
            "        \"message\": {\n",
            "          \"lc\": 1,\n",
            "          \"type\": \"constructor\",\n",
            "          \"id\": [\n",
            "            \"langchain\",\n",
            "            \"schema\",\n",
            "            \"messages\",\n",
            "            \"AIMessage\"\n",
            "          ],\n",
            "          \"kwargs\": {\n",
            "            \"content\": \"I'm unable to view specific documents like a CV. However, I can certainly help you evaluate whether a candidate might be a good fit for a technical consultant position at an investment firm based on typical qualifications and skills required for such a role. Here are some aspects to consider:\\n\\n1. **Technical Skills**: The candidate should have a strong foundation in relevant technical skills, such as programming languages (Python, R, Java, etc.), data analysis, and possibly financial modeling. Experience with databases, data visualization tools, and financial software could also be beneficial.\\n\\n2. **Industry Knowledge**: Familiarity with the financial industry, including understanding of financial markets, instruments, and regulations, is crucial. Look for any previous experience in finance, banking, or investment sectors.\\n\\n3. **Consulting Experience**: Previous experience in a consulting role or similar client-facing positions can be advantageous. The candidate should have skills in problem-solving, strategic thinking, and the ability to deliver solutions tailored to client needs.\\n\\n4. **Communication Skills**: Strong communication and interpersonal skills are essential for working with clients, presenting findings, and collaborating with team members. Look for evidence of public speaking, report writing, or teamwork.\\n\\n5. **Education**: A degree in a relevant field such as finance, computer science, engineering, or business can be advantageous. Additional certifications, like CFA, CFP, or technical certifications, could also add value.\\n\\n6. **Project Management**: Experience in managing projects, meeting deadlines, and delivering on client expectations is important. Look for any experience that demonstrates the ability to handle multiple tasks and priorities.\\n\\n7. **Problem-Solving Ability**: Analytical and critical thinking skills are crucial for diagnosing issues and developing effective solutions. Any experience with complex problem-solving should be highlighted.\\n\\nIf the CV reflects these competencies, the candidate might be a strong contender for a technical consultant position at an investment firm.\",\n",
            "            \"response_metadata\": {\n",
            "              \"token_usage\": {\n",
            "                \"completion_tokens\": 380,\n",
            "                \"prompt_tokens\": 29,\n",
            "                \"total_tokens\": 409,\n",
            "                \"completion_tokens_details\": {\n",
            "                  \"audio_tokens\": null,\n",
            "                  \"reasoning_tokens\": 0,\n",
            "                  \"accepted_prediction_tokens\": 0,\n",
            "                  \"rejected_prediction_tokens\": 0\n",
            "                },\n",
            "                \"prompt_tokens_details\": {\n",
            "                  \"audio_tokens\": null,\n",
            "                  \"cached_tokens\": 0\n",
            "                }\n",
            "              },\n",
            "              \"model_name\": \"gpt-4o\",\n",
            "              \"system_fingerprint\": \"fp_45cf54deae\",\n",
            "              \"finish_reason\": \"stop\",\n",
            "              \"logprobs\": null\n",
            "            },\n",
            "            \"type\": \"ai\",\n",
            "            \"id\": \"run-62aca200-e12e-4a6a-acc1-8d57c175b521-0\",\n",
            "            \"tool_calls\": [],\n",
            "            \"invalid_tool_calls\": []\n",
            "          }\n",
            "        }\n",
            "      }\n",
            "    ]\n",
            "  ],\n",
            "  \"llm_output\": {\n",
            "    \"token_usage\": {\n",
            "      \"completion_tokens\": 380,\n",
            "      \"prompt_tokens\": 29,\n",
            "      \"total_tokens\": 409,\n",
            "      \"completion_tokens_details\": {\n",
            "        \"audio_tokens\": null,\n",
            "        \"reasoning_tokens\": 0,\n",
            "        \"accepted_prediction_tokens\": 0,\n",
            "        \"rejected_prediction_tokens\": 0\n",
            "      },\n",
            "      \"prompt_tokens_details\": {\n",
            "        \"audio_tokens\": null,\n",
            "        \"cached_tokens\": 0\n",
            "      }\n",
            "    },\n",
            "    \"model_name\": \"gpt-4o\",\n",
            "    \"system_fingerprint\": \"fp_45cf54deae\"\n",
            "  },\n",
            "  \"run\": null,\n",
            "  \"type\": \"LLMResult\"\n",
            "}\n"
          ]
        },
        {
          "output_type": "execute_result",
          "data": {
            "text/plain": [
              "AIMessage(content=\"I'm unable to view specific documents like a CV. However, I can certainly help you evaluate whether a candidate might be a good fit for a technical consultant position at an investment firm based on typical qualifications and skills required for such a role. Here are some aspects to consider:\\n\\n1. **Technical Skills**: The candidate should have a strong foundation in relevant technical skills, such as programming languages (Python, R, Java, etc.), data analysis, and possibly financial modeling. Experience with databases, data visualization tools, and financial software could also be beneficial.\\n\\n2. **Industry Knowledge**: Familiarity with the financial industry, including understanding of financial markets, instruments, and regulations, is crucial. Look for any previous experience in finance, banking, or investment sectors.\\n\\n3. **Consulting Experience**: Previous experience in a consulting role or similar client-facing positions can be advantageous. The candidate should have skills in problem-solving, strategic thinking, and the ability to deliver solutions tailored to client needs.\\n\\n4. **Communication Skills**: Strong communication and interpersonal skills are essential for working with clients, presenting findings, and collaborating with team members. Look for evidence of public speaking, report writing, or teamwork.\\n\\n5. **Education**: A degree in a relevant field such as finance, computer science, engineering, or business can be advantageous. Additional certifications, like CFA, CFP, or technical certifications, could also add value.\\n\\n6. **Project Management**: Experience in managing projects, meeting deadlines, and delivering on client expectations is important. Look for any experience that demonstrates the ability to handle multiple tasks and priorities.\\n\\n7. **Problem-Solving Ability**: Analytical and critical thinking skills are crucial for diagnosing issues and developing effective solutions. Any experience with complex problem-solving should be highlighted.\\n\\nIf the CV reflects these competencies, the candidate might be a strong contender for a technical consultant position at an investment firm.\", additional_kwargs={}, response_metadata={'token_usage': {'completion_tokens': 380, 'prompt_tokens': 29, 'total_tokens': 409, 'completion_tokens_details': {'audio_tokens': None, 'reasoning_tokens': 0, 'accepted_prediction_tokens': 0, 'rejected_prediction_tokens': 0}, 'prompt_tokens_details': {'audio_tokens': None, 'cached_tokens': 0}}, 'model_name': 'gpt-4o', 'system_fingerprint': 'fp_45cf54deae', 'finish_reason': 'stop', 'logprobs': None}, id='run-62aca200-e12e-4a6a-acc1-8d57c175b521-0')"
            ]
          },
          "metadata": {},
          "execution_count": 57
        }
      ]
    },
    {
      "cell_type": "markdown",
      "source": [
        "###Case 2: Is The Candidate a Good Fit For a Certain Job?"
      ],
      "metadata": {
        "id": "nJplYiOJM9jL"
      }
    },
    {
      "cell_type": "markdown",
      "source": [
        "Now, let's upgrade the functionality such that we get a score for how well a candidate matches a job posting."
      ],
      "metadata": {
        "id": "wTmpgZNSNIwx"
      }
    },
    {
      "cell_type": "code",
      "source": [
        "# Example 1: Questrom Faculty job posting.\n",
        "jobposting_path = \"https://github.com/elhamod/IS883/blob/5d2bd74a75cef838c3a945c12e956fe10f1cd895/Week9/2024%20BU%20Recruiting.pdf?raw=true\"\n",
        "\n",
        "# Example 2: Software Developer job posting.\n",
        "# jobposting_path = \"https://cse.sc.edu/files/SFSoftwareDeveloper.pdf\""
      ],
      "metadata": {
        "id": "ZqV8Z941NmpF"
      },
      "execution_count": null,
      "outputs": []
    },
    {
      "cell_type": "code",
      "source": [
        "# Load and process the job posting document\n",
        "loader = PyPDFLoader(jobposting_path)\n",
        "document = loader.load()\n",
        "document\n",
        "\n",
        "jobposting = \"\"\n",
        "for i, page in enumerate(document):\n",
        "  jobposting = jobposting + \"\\n\" + page.page_content\n",
        "\n",
        "jobposting"
      ],
      "metadata": {
        "colab": {
          "base_uri": "https://localhost:8080/",
          "height": 87
        },
        "id": "KyJ53byFO3D8",
        "outputId": "df54d353-311f-484d-a486-3520a3ff96d6"
      },
      "execution_count": null,
      "outputs": [
        {
          "output_type": "execute_result",
          "data": {
            "text/plain": [
              "'\\nBoston University Questrom School of Business  \\nThe Questrom School of Business at Boston University is hiring a full-time, tenure-track Assistant Professor of Information Systems with an anticipated start date of July 1, 2025.  We are seeking exceptional candidates with interests in the Business of AI. This position is part of a Boston University cluster hiring initiative led by the Faculty of Computing and Data Science. Prospective candidates must have a PhD in a core business discipline such as Information Systems or a PhD in Computer Science, Data Science, or Computer Engineering, with research focused on problems related to the development, management, and application of AI in business.   Prospective candidates must have demonstrated capabilities in producing original and innovative scholarly work of the highest possible quality with impact in the top business academic journals.  Candidates will be expected to teach a variety of undergraduate and graduate courses in information systems, machine learning, artificial intelligence, and business analytics and contribute to cross-disciplinary curriculum development activities.  Salary is competitive and commensurate with experience.  The Questrom School of Business believes that the cultural and social diversity of our faculty, staff, and students is vitally important to the distinction and excellence of our research and academic programs. Our university community welcomes differences, encourages open-minded exploration, and upholds freedom of expression. We are especially eager to have join our ranks a colleague who supports our institutional commitment to ensuring BU is inclusive, equitable, diverse, and a place where all constituents can thrive. The Questrom School of Business seeks to continue diversifying our faculty, student, and staff ranks, recognizing that diversity of experience and thought deepens the intellectual endeavor. Boston University is an institution with a rich tradition dedicated to inclusion and social justice. We are proud that we were the first American University to award a Ph.D. to a woman and of our record of inclusiveness. Interested candidates are encouraged to submit applications through the BU AI Clustering Hiring Initiative website (AI Cluster Hiring Initiative | Faculty of Computing & Data Sciences -Please only choose “QST” for the academic unit interested) and include the following: • A cover letter stating interest and qualification • A curriculum vitae • Three letters of recommendation • Research and teaching statements • Representative publications  \\nBoston University Questrom School of Business  \\nReview of applications to this position will start on November 1, 2024, and will be reviewed on an ongoing basis until November 10, 2024.  We will begin interviewing in early November for a July 1, 2025 start. BU conducts a background check on all final candidates for certain faculty and staff positions. The background check includes contacting the final candidate’s current and previous employer(s) to ask whether, in the last seven years, there has been a substantiated finding of misconduct violating that employer’s applicable sexual misconduct policies. To implement this process, the University requires a final candidate to complete and sign the form entitled “Authorization to Release Information” after execution of an offer letter. We are an equal opportunity employer, and all qualified applicants will receive consideration for employment without regard to race, color, religion, sex, age, national origin, physical or mental disability, sexual orientation, gender identity, genetic information, military service, pregnancy or pregnancy-related condition, or because of marital, parental, or veteran status. We are a VEVRAA Federal Contractor.  '"
            ],
            "application/vnd.google.colaboratory.intrinsic+json": {
              "type": "string"
            }
          },
          "metadata": {},
          "execution_count": 59
        }
      ]
    },
    {
      "cell_type": "markdown",
      "source": [
        "Let' do a great job with prompt engineering. Notice how we used instructions, persona, formatting, and constraints."
      ],
      "metadata": {
        "id": "ZleXWHifqNwj"
      }
    },
    {
      "cell_type": "code",
      "source": [
        "prompt_template = \"\"\"\n",
        "You are acting as a professional recruiter that is vetting candidate CVs for a position to get best job-candidate matches.\n",
        "Below, you are given a candidate's CV and job posting.\n",
        "Do not make up any answers if you do not have evidence. If you are unsure about a certain detail or conclusion, state you are unsure about it.\n",
        "You are to provide the following:\n",
        "- A key summary of the position\n",
        "- A key summary of the candidate\n",
        "- A table of the strengths the candidate has that makes them a good fit for the job.\n",
        "Structure the table as follows:\n",
        "     Strength | Evidence | Degree of relevance |How it is relevant to the job\n",
        "     ---------|----------|---------------------|-------------------------------\n",
        "- A table of missing skills or issues in the candidate's background, along with the degree of severity for this gap in the CV.\n",
        "Structure the table as follows:\n",
        "     Weakness | Severity level | How it is relevant to the job\n",
        "     ---------|----------------|----------------------------------\n",
        "- A rating between 0 and 5, indicating whether the candidate is a good fit or not, 5 being an excellent fit.\n",
        "- A recommendation whether to proceed with the candidate or not for a round of interviews.\n",
        "\n",
        "\n",
        "CV:\n",
        "{fullCV}\n",
        "\n",
        "\n",
        "Job posting:\n",
        "{jobposting}\n",
        "\n",
        "\"\"\"\n",
        "\n",
        "from langchain.prompts import ChatPromptTemplate\n",
        "\n",
        "# Construct the prompt and substitute into it.\n",
        "prompt_template = ChatPromptTemplate.from_template(prompt_template)\n",
        "prompt = prompt_template.format_messages(fullCV=fullCV, jobposting=jobposting)"
      ],
      "metadata": {
        "id": "ysNlrF_iSOc3"
      },
      "execution_count": null,
      "outputs": []
    },
    {
      "cell_type": "code",
      "source": [
        "with get_openai_callback() as cb:\n",
        "  print(chat.predict(prompt[0].content))\n",
        "  print(cb)"
      ],
      "metadata": {
        "colab": {
          "base_uri": "https://localhost:8080/"
        },
        "id": "VgAUtvRkTXMy",
        "outputId": "0449d465-0349-4bf5-8af8-19835beae831"
      },
      "execution_count": null,
      "outputs": [
        {
          "output_type": "stream",
          "name": "stdout",
          "text": [
            "\u001b[32;1m\u001b[1;3m[llm/start]\u001b[0m \u001b[1m[llm:ChatOpenAI] Entering LLM run with input:\n",
            "\u001b[0m{\n",
            "  \"prompts\": [\n",
            "    \"Human: \\nYou are acting as a professional recruiter that is vetting candidate CVs for a position to get best job-candidate matches.\\nBelow, you are given a candidate's CV and job posting.\\nDo not make up any answers if you do not have evidence. If you are unsure about a certain detail or conclusion, state you are unsure about it.\\nYou are to provide the following:\\n- A key summary of the position\\n- A key summary of the candidate\\n- A table of the strengths the candidate has that makes them a good fit for the job.\\nStructure the table as follows:\\n     Strength | Evidence | Degree of relevance |How it is relevant to the job\\n     ---------|----------|---------------------|-------------------------------\\n- A table of missing skills or issues in the candidate's background, along with the degree of severity for this gap in the CV.\\nStructure the table as follows:\\n     Weakness | Severity level | How it is relevant to the job\\n     ---------|----------------|----------------------------------\\n- A rating between 0 and 5, indicating whether the candidate is a good fit or not, 5 being an excellent fit.\\n- A recommendation whether to proceed with the candidate or not for a round of interviews.\\n\\n\\nCV:\\n\\nMohannad Elhamod\\n/envel⌢peelhamod@bu.edu • /linkedin-inmohannadelhamod\\nResearch and Teaching Interests\\nHighly engaged in interdisciplinary research and teaching, with a focus on interpretability and visualization in Machine\\nLearning. Keen on evaluating and instructing on the influence of generative AI and language models across various\\nbusiness sectors such as management, marketing, strategy, and finance. Actively exploring and integrating these\\nadvanced technologies, along with Knowledge-Guided ML, into both academic inquiries and classroom settings\\nto foster innovation, enhance learning experiences, and create new opportunities in the wider business spectrum.\\nThis approach not only advances research frontiers but also equips students with critical, cutting-edge skills and\\nunderstandings necessary for navigating the evolving business landscape.\\nEducation\\nPh.D. in Computer Science May 2023\\nVirginia Tech Blacksburg, VA\\nM.Eng in Computer Engineering April 2012\\nMcGill University Montreal, QC\\nB.Sc in Computer Engineering June 2007\\nJordan University of Science and Technology Irbid, Jordan\\nResearch Experience\\nNASA (The Durability, Damage Tolerance and Reliability Branch) June 2022 — August 2022\\nResearch Intern\\n○ Developed and tested physics-informed generative adversarial networks to learn and quantify the variability in aerospace\\nmaterials.\\nVirginia Tech (Knowledge-Guided Machine Learning Lab) August 2019 — May 2023\\nGraduate Research Assistant\\n○ Supervised by Prof. Anuj Karpatne\\n○ Thesis: Understanding The Effects of Incorporating Scientific Knowledge on Neural Network Outputs and Loss\\nLandscapes:\\n- Guiding Neural Networks Using Taxonomies and Phylogenies for Species Modelling:Focused on overcoming the challenge\\nof species modeling in the context of limited labelled training data, by infusing taxonomic and phylogenetic data during\\nmodel training. Subsequently, model interpretability was enhanced via learning visual features that map onto biological\\ntraits. The resulting model aids biologists in addressing inquiries about species and their defining anatomical traits.\\n- Learning Physics-guided Neural Networks with Competing Loss Functions for Solving Eigenvalue Problems: Investigated\\ninto the application of a deep learning approach towards replacing computationally expensive eigen-decomposition\\nnumerical solvers, with respective applications demonstrated within the realms of quantum physics and electromagnetic\\npropagation. The resulting mode achieves high accuracy while maintaining low computational complexity.\\nMcGill University (Visual Surveillance Group) January 2010 — April 2012\\nGraduate Research Assistant\\n○ Supervised by Prof. Martin D. Levine.\\n○ Thesis: Real-Time Automated Annotation of Surveillance Scenes :\\n- Developed a real-time video surveillance system, with the capacity to detect semantically defined activities of interest.\\nThis project included successful enhancement of low-level processing and object tracking performance.\\n○ Unconstrained real-time face recognition using face morphing and SVM classifiers.\\nTeaching Experience\\nSynthesizing Digital Efforts to Deliver Better Outcomes (IS 883) Fall 2023 (Instructor)\\nMSDT (Graduate) Boston University\\nData-Centric Computing Capstone (CS 4884) Spring 2022 (Instructor-of-record)\\n(Undergraduate) Virginia Tech\\nComputer and Biological Vision (ECSE 529) (Teaching Assistant)\\n(Graduate) McGill University\\nArtificial Intelligence (ECSE 526) (Teaching Assistant)\\n(Graduate) McGill University\\nWork Experience\\nBoston University (Questrom School of Business) August 2023 – Present\\nClinical Assistant Professor\\n○ Developing and teaching innovative courses focusing on neural networks, unsupervised learning, and generative AI, with\\na focus on integrating these technologies seamlessly into the business curriculum and equip students with cutting-edge\\nknowledge and skills in AI.\\nMicrosoft April 2016 – July 2019\\nSoftware Development Engineer (SDE)\\n○ Azure Monitoring: Worked on Metrics Explorer, a cloud computing feature that allows millions of customers to visualize and\\nanalyze their data. Also lead Azure Monitoring’s product accessibility compliance efforts to provide a seamless experience\\nfor people with disabilities.\\n○ Microsoft Edge: Worked on core features on the Windows Phone platform, such as InPrivate experience and tabs center.\\nAlso lead the product’s accessibility compliance efforts to provide a seamless experience for people with disabilities.\\nPapers Under Review\\n○ Mohannad Elhamod and Anuj Karpatne. Neuro-visualizer: An auto-encoder-based loss landscape visualization\\nmethod, 2023\\nPeer-Reviewed Journal and Conference Publications\\n○ Elhamod, Mohannad, Mridul Khurana, Harish Babu Manogaran, Josef C. Uyeda, Meghan A. Balk, Wasila Dahdul,\\nYasin Bakis, Henry L. Bart, Paula M. Mabee, Hilmar Lapp, James P. Balhoff, Caleb Charpentier, David Carlyn,\\nWei-Lun Chao, Charles V. Stewart, Daniel I. Rubenstein, Tanya Berger-Wolf, and Anuj Karpatne. Discovering\\nnovel biological traits from images using phylogeny-guided neural networks. In Proceedings of the 29th ACM\\nSIGKDD Conference on Knowledge Discovery and Data Mining , KDD ’23, page 3966–3978, New York, NY, USA,\\n2023. Association for Computing Machinery\\n○ Abantika Ghosh, Mohannad Elhamod, Jie Bu, Wei-Cheng Lee, Anuj Karpatne, and Viktor A. Podolskiy. Physics-\\ninformed machine learning of optical modes in composites. In Conference on Lasers and Electro-Optics , page\\nFTu1B.1. Optica Publishing Group, 2022\\n○ Mohannad Elhamod, Jie Bu, Christopher Singh, Matthew Redell, Abantika Ghosh, Viktor Podolskiy, Wei-Cheng\\nLee, and Anuj Karpatne. Cophy-pgnn: Learning physics-guided neural networks with competing loss functions for\\nsolving eigenvalue problems. ACM Trans. Intell. Syst. Technol. , 2022\\n○ Mohannad Elhamod, Kelly M. Diamond, A. Murat Maga, Yasin Bakis, Henry L. Bart Jr., Paula Mabee, Wasila\\nDahdul, Jeremy Leipzig, Jane Greenberg, Brian Avants, and Anuj Karpatne. Hierarchy-guided neural networks for\\nspecies classification. Methods in Ecology and Evolution , 2021.\\n○ Jeremy Leipzig, Yasin Bakis, Xiaojun Wang, Mohannad Elhamod, Kelly Diamond, Wasila Dahdul, Anuj Karpatne,\\nMurat Maga, Paula Mabee, Henry L. Bart, and Jane Greenberg. Biodiversity image quality metadata augments\\nconvolutional neural network classification of fish species. In Emmanouel Garoufallou and Mar ´ ıa-Antonia Ovalle-\\nPerandones, editors, Metadata and Semantic Research , pages 3–12, Cham, 2021. Springer International Publishing.\\n[Best Research Paper Award.]\\n○ Mohannad Elhamod and Martin D. Levine. Automated real-time detection of potentially suspicious behavior in\\npublic transport areas. IEEE Transactions on Intelligent Transportation Systems , 14(2):688–699, 2013\\n○ Mohannad Elhamod and Martin D. Levine. Real-time semantics-based detection of suspicious activities in public\\nspaces. In 2012 Ninth Conference on Computer and Robot Vision , pages 268–275, 2012\\nWorkshop Papers, Presentations, and Posters\\n○ Mohannad Elhamod , Mridul Khurana, Harish Babu Manogaran, Josef Uyeda, Meghan Balk, Wasila Dahdul,\\nYasin Bakis, Henry L. L Bart Jr., Paula Mabee, Hilmar Lappand James Balhoff, Caleb Charpentier, David E Carlyn,\\nWei-Lun Chao, Charles V Stewart, Daniel Rubenstein, Tanya Berger-Wolf, and Anuj Karpatne. Discovering novel\\nbiological traits from images using phylogeny-guided neural networks. In CV4Animals: Computer Vision for Animal\\nBehavior, 2023\\n○ Reshma R Babu, Yael Stochel, Christopher Lawrence, Daniel Rubenstein, Chuck Stewart, Wei-Lun Chao, David\\nCarlyn, Jihyung Kil, Yu Su, Luke Song, Anuj Karpatne, Mohannad Elhamod, Krzysztof Kozak, Owen McMillan,\\nand Tanya Berger-Wolf. Understanding mimicry in butterflies from images using machine learning. In CV4Animals:\\nComputer Vision for Animal Behavior , 2022\\n○ Mohannad Elhamod, Kelly M. Diamond, A. Murat Maga, Yasin Bakis, Henry L. Bart, Paula Mabee, Wasila\\nDahdul, Jeremy Leipzig, Jane Greenberg, Brian Avants, and Anuj Karpatne. Hierarchy-guided neural networks for\\nspecies classification. In 2nd Symposium on Science-Guided AI (SGAI-AAAI-21) , November 2021\\n○ Mohannad Elhamod , Jie Bu, Christopher Singh, Matthew Redell, Abantika Ghosh, Viktor Podolskiy, Wei-Cheng\\nLee, and Anuj Karpatne. Learning Physics-guided Neural Networks with Competing Physics Loss: A Summary of\\nResults in Solving Eigenvalue Problems. In AAAI 2021 Spring Symposium on Combining Artificial Intelligence and\\nMachine Learning with Physical Sciences . AAAI-MLPS 2021, AAAI, March 2021\\n○ M Elhamod, MA Maruf, PK Mandke, and A Karpatne. Biology-guided neural network for species classification.\\nIn Integrative and Comparative Biology , volume 61, pages E228–E229. Oxford Univ Press Inc Journals Dept, 2001\\nEvans Rd, Cary, NC 27513 USA, 2021. [Nominated for Best Student Paper: Wake Award.]\\n○ MA Maruf, M Elhamod, PK Mandke, and A Karpatne. Biology-guided neural network for fish trait discovery. In\\nIntegrative and Comparative Biology , volume 61, pages E577–E578. Oxford Univ Press Inc Journals Dept, 2001\\nEvans Rd, Cary, NC 27513 USA, 2021\\n○ Mohannad Elhamod, Jie Bu, Christopher Singh, Matthew Redell, Wei-Cheng Lee, and Anuj Karpatne. Poster:\\nPhysics-inspired neural networks meet condensed matter theory. In 3rd Physics Informed Machine Learning ,\\nJanuary 2020\\nHonors and Awards\\nPratt Fellowship July 2021 and July 2022\\nDepartment of Computer Science, Virginia Tech○ Awarded to a limited number of exceptional applicants\\nJoseph Frank Hunkler Memorial Scholarship January 2022\\n○ Nominated by the department of Computer Science at Virginia Tech.\\nGoogle PhD Fellowship Program August 2021\\nGoogle○ Nominated by the department of Computer Science at Virginia Tech.\\nMicrosoft Research PhD Fellowship May 2021\\nMicrosoft○ Nominated by the department of Computer Science at Virginia Tech.\\nWake Award October 2020\\nSociety for Integrative and Comparative Biology (SICB)○ Nominated for Best Student Paper.\\nSpecial Stock Award September 2018\\nMicrosoft○ Awarded to exceptional employees for their contributions in areas of great impact.\\nProvost’s and Principal’s Graduate Fellowship February 2010\\nMcGill University○ Awarded to recruit high-caliber students.\\nProfessional Service\\nQuestrom Academic Conduct Committee 2023 – 2024\\nCommittee member Boston University\\nKnowledge-Guided ML Workshop (KGML) 2022 – 2024\\nReviewer and Program Committee member AAAI\\nWorkshop on Machine Learning and the Physical Sciences (MLPS) 2023\\nReviewer and Program Committee member NeurIPS\\nQuestrom Faculty Recruiting Committee 2023\\nCommittee member Boston University\\nComputer Science Graduate Council 2020 – 2021, 2022 – 2023\\nElected board member Virginia Tech\\n○ Having been elected for two terms as Treasurer and Vice President, respectively, I lead efforts for promoting student rights\\nand resolving student-advisor conflicts. I also hosted a workshop on building healthy student-advisor relationships.\\nGraduate Academy for Teaching Excellence (GrATE) 2022 – 2023\\nFellow Virginia Tech\\n○ Delivered a workshop titled ”Takeaways from being a class instructor” .\\n○ Founded and hosted ”The Ranting Pedagogue” , a graduate student podcast on teaching and education.\\nScience-Guided AI Workshop (SGAI) 2021\\nReviewer and Program Committee member AAAI\\nTransactions on Emerging Topics in Computational Intelligence (TETCI) 2021\\nReviewer IEEE\\nKnowledge Discovery and Data Mining (KDD) 2021\\nExternal Reviewer ACM\\nGreat Lakes Bioinformatics Conference 2021\\nCo-organizer\\nInterdisciplinary Research Honor Society 2021\\nMember Virginia Tech\\nGraduate and Professional Student Senate 2019 – 2020\\nDelegate Virginia Tech\\nExtracurricular Activities, Skills, and Projects\\nMachine Learning Mentor 2022 – Present\\nMentorCruise\\n○ Offering consulting and mentoring services to researchers and engineers from different disciplines.\\nThe Future Professoriate Certificate 2020 – 2023\\nVirginia Tech\\n○ The program prepares future faculty and academic leaders and challenge existing practices.\\n○ As part of the program, I hosted a talk titled “The Graduate Student and Self-Worth”.\\nGlobal Perspectives Program (GPP) 2022\\nVirginia Tech\\n○ Visited European universities and developed a global understanding of different education systems.\\nMartial Arts, Blogging, Photography, Stand-up comedy, and Classical Arabic Music\\n\\n\\nJob posting:\\n\\nBoston University Questrom School of Business  \\nThe Questrom School of Business at Boston University is hiring a full-time, tenure-track Assistant Professor of Information Systems with an anticipated start date of July 1, 2025.  We are seeking exceptional candidates with interests in the Business of AI. This position is part of a Boston University cluster hiring initiative led by the Faculty of Computing and Data Science. Prospective candidates must have a PhD in a core business discipline such as Information Systems or a PhD in Computer Science, Data Science, or Computer Engineering, with research focused on problems related to the development, management, and application of AI in business.   Prospective candidates must have demonstrated capabilities in producing original and innovative scholarly work of the highest possible quality with impact in the top business academic journals.  Candidates will be expected to teach a variety of undergraduate and graduate courses in information systems, machine learning, artificial intelligence, and business analytics and contribute to cross-disciplinary curriculum development activities.  Salary is competitive and commensurate with experience.  The Questrom School of Business believes that the cultural and social diversity of our faculty, staff, and students is vitally important to the distinction and excellence of our research and academic programs. Our university community welcomes differences, encourages open-minded exploration, and upholds freedom of expression. We are especially eager to have join our ranks a colleague who supports our institutional commitment to ensuring BU is inclusive, equitable, diverse, and a place where all constituents can thrive. The Questrom School of Business seeks to continue diversifying our faculty, student, and staff ranks, recognizing that diversity of experience and thought deepens the intellectual endeavor. Boston University is an institution with a rich tradition dedicated to inclusion and social justice. We are proud that we were the first American University to award a Ph.D. to a woman and of our record of inclusiveness. Interested candidates are encouraged to submit applications through the BU AI Clustering Hiring Initiative website (AI Cluster Hiring Initiative | Faculty of Computing & Data Sciences -Please only choose “QST” for the academic unit interested) and include the following: • A cover letter stating interest and qualification • A curriculum vitae • Three letters of recommendation • Research and teaching statements • Representative publications  \\nBoston University Questrom School of Business  \\nReview of applications to this position will start on November 1, 2024, and will be reviewed on an ongoing basis until November 10, 2024.  We will begin interviewing in early November for a July 1, 2025 start. BU conducts a background check on all final candidates for certain faculty and staff positions. The background check includes contacting the final candidate’s current and previous employer(s) to ask whether, in the last seven years, there has been a substantiated finding of misconduct violating that employer’s applicable sexual misconduct policies. To implement this process, the University requires a final candidate to complete and sign the form entitled “Authorization to Release Information” after execution of an offer letter. We are an equal opportunity employer, and all qualified applicants will receive consideration for employment without regard to race, color, religion, sex, age, national origin, physical or mental disability, sexual orientation, gender identity, genetic information, military service, pregnancy or pregnancy-related condition, or because of marital, parental, or veteran status. We are a VEVRAA Federal Contractor.\"\n",
            "  ]\n",
            "}\n",
            "\u001b[36;1m\u001b[1;3m[llm/end]\u001b[0m \u001b[1m[llm:ChatOpenAI] [7.63s] Exiting LLM run with output:\n",
            "\u001b[0m{\n",
            "  \"generations\": [\n",
            "    [\n",
            "      {\n",
            "        \"text\": \"### Key Summary of the Position\\nThe position is a tenure-track Assistant Professor role in Information Systems at Boston University's Questrom School of Business, with a focus on the Business of AI. Candidates should have a Ph.D. in a relevant field and a strong track record of original, high-quality research with potential impact on top business academic journals. The role involves teaching undergraduate and graduate courses in information systems, machine learning, AI, and business analytics, and contributing to cross-disciplinary curriculum development. The institution values diversity and inclusivity and is part of a cluster hiring initiative led by the Faculty of Computing and Data Science.\\n\\n### Key Summary of the Candidate\\nMohannad Elhamod is a Clinical Assistant Professor at Boston University with a Ph.D. in Computer Science from Virginia Tech. His research focuses on machine learning, particularly in interpretability, visualization, and the integration of AI into business sectors. He has extensive teaching and research experience, including roles at NASA and Microsoft, and has been recognized with several fellowships and awards. His academic work includes numerous peer-reviewed publications, and he has actively contributed to interdisciplinary research and professional service.\\n\\n### Strengths Table\\n\\n| Strength                            | Evidence                                                                                                      | Degree of Relevance | How it is Relevant to the Job                                                                 |\\n|-------------------------------------|---------------------------------------------------------------------------------------------------------------|---------------------|------------------------------------------------------------------------------------------------|\\n| Strong research background in AI    | Ph.D. in Computer Science, numerous publications on machine learning and AI                                   | High                | The position requires a candidate with a strong research focus on AI in business contexts.     |\\n| Teaching experience in AI and ML    | Taught courses like \\\"Synthesizing Digital Efforts to Deliver Better Outcomes\\\" and \\\"Data-Centric Computing Capstone\\\" | High                | The role involves teaching AI and machine learning courses.                                    |\\n| Interdisciplinary research focus    | Engages in interdisciplinary research and teaching, focusing on AI in business sectors                        | High                | The job requires contribution to cross-disciplinary curriculum development activities.          |\\n| Industry experience                 | Worked as a Software Development Engineer at Microsoft, involved in product development                       | Medium              | Provides practical insights into the application of AI and ML in business settings.             |\\n| Commitment to diversity and inclusion | Member of committees and workshops that promote diversity and student rights                                   | High                | BU values diversity and inclusivity as essential to its academic programs.                      |\\n\\n### Weaknesses/Issues Table\\n\\n| Weakness                         | Severity Level | How it is Relevant to the Job                                                                 |\\n|----------------------------------|----------------|------------------------------------------------------------------------------------------------|\\n| No explicit mention of business journal publications | Medium         | The role requires scholarly work with impact in top business academic journals.               |\\n| Not explicitly tenure-track experience | Low            | The candidate is currently a Clinical Assistant Professor, not in a tenure-track position.     |\\n\\n### Overall Rating\\n4 out of 5\\n\\n### Recommendation\\nProceed with the candidate for a round of interviews. Mohannad Elhamod has a strong academic background, relevant teaching experience, and interdisciplinary research focus, making him a well-suited candidate for the position. However, his lack of explicit publications in top business journals could be explored further during the interview process.\",\n",
            "        \"generation_info\": {\n",
            "          \"finish_reason\": \"stop\",\n",
            "          \"logprobs\": null\n",
            "        },\n",
            "        \"type\": \"ChatGeneration\",\n",
            "        \"message\": {\n",
            "          \"lc\": 1,\n",
            "          \"type\": \"constructor\",\n",
            "          \"id\": [\n",
            "            \"langchain\",\n",
            "            \"schema\",\n",
            "            \"messages\",\n",
            "            \"AIMessage\"\n",
            "          ],\n",
            "          \"kwargs\": {\n",
            "            \"content\": \"### Key Summary of the Position\\nThe position is a tenure-track Assistant Professor role in Information Systems at Boston University's Questrom School of Business, with a focus on the Business of AI. Candidates should have a Ph.D. in a relevant field and a strong track record of original, high-quality research with potential impact on top business academic journals. The role involves teaching undergraduate and graduate courses in information systems, machine learning, AI, and business analytics, and contributing to cross-disciplinary curriculum development. The institution values diversity and inclusivity and is part of a cluster hiring initiative led by the Faculty of Computing and Data Science.\\n\\n### Key Summary of the Candidate\\nMohannad Elhamod is a Clinical Assistant Professor at Boston University with a Ph.D. in Computer Science from Virginia Tech. His research focuses on machine learning, particularly in interpretability, visualization, and the integration of AI into business sectors. He has extensive teaching and research experience, including roles at NASA and Microsoft, and has been recognized with several fellowships and awards. His academic work includes numerous peer-reviewed publications, and he has actively contributed to interdisciplinary research and professional service.\\n\\n### Strengths Table\\n\\n| Strength                            | Evidence                                                                                                      | Degree of Relevance | How it is Relevant to the Job                                                                 |\\n|-------------------------------------|---------------------------------------------------------------------------------------------------------------|---------------------|------------------------------------------------------------------------------------------------|\\n| Strong research background in AI    | Ph.D. in Computer Science, numerous publications on machine learning and AI                                   | High                | The position requires a candidate with a strong research focus on AI in business contexts.     |\\n| Teaching experience in AI and ML    | Taught courses like \\\"Synthesizing Digital Efforts to Deliver Better Outcomes\\\" and \\\"Data-Centric Computing Capstone\\\" | High                | The role involves teaching AI and machine learning courses.                                    |\\n| Interdisciplinary research focus    | Engages in interdisciplinary research and teaching, focusing on AI in business sectors                        | High                | The job requires contribution to cross-disciplinary curriculum development activities.          |\\n| Industry experience                 | Worked as a Software Development Engineer at Microsoft, involved in product development                       | Medium              | Provides practical insights into the application of AI and ML in business settings.             |\\n| Commitment to diversity and inclusion | Member of committees and workshops that promote diversity and student rights                                   | High                | BU values diversity and inclusivity as essential to its academic programs.                      |\\n\\n### Weaknesses/Issues Table\\n\\n| Weakness                         | Severity Level | How it is Relevant to the Job                                                                 |\\n|----------------------------------|----------------|------------------------------------------------------------------------------------------------|\\n| No explicit mention of business journal publications | Medium         | The role requires scholarly work with impact in top business academic journals.               |\\n| Not explicitly tenure-track experience | Low            | The candidate is currently a Clinical Assistant Professor, not in a tenure-track position.     |\\n\\n### Overall Rating\\n4 out of 5\\n\\n### Recommendation\\nProceed with the candidate for a round of interviews. Mohannad Elhamod has a strong academic background, relevant teaching experience, and interdisciplinary research focus, making him a well-suited candidate for the position. However, his lack of explicit publications in top business journals could be explored further during the interview process.\",\n",
            "            \"response_metadata\": {\n",
            "              \"token_usage\": {\n",
            "                \"completion_tokens\": 639,\n",
            "                \"prompt_tokens\": 3774,\n",
            "                \"total_tokens\": 4413,\n",
            "                \"completion_tokens_details\": {\n",
            "                  \"audio_tokens\": null,\n",
            "                  \"reasoning_tokens\": 0,\n",
            "                  \"accepted_prediction_tokens\": 0,\n",
            "                  \"rejected_prediction_tokens\": 0\n",
            "                },\n",
            "                \"prompt_tokens_details\": {\n",
            "                  \"audio_tokens\": null,\n",
            "                  \"cached_tokens\": 0\n",
            "                }\n",
            "              },\n",
            "              \"model_name\": \"gpt-4o\",\n",
            "              \"system_fingerprint\": \"fp_159d8341cc\",\n",
            "              \"finish_reason\": \"stop\",\n",
            "              \"logprobs\": null\n",
            "            },\n",
            "            \"type\": \"ai\",\n",
            "            \"id\": \"run-00ed2135-951b-41d4-a0e4-34174f496429-0\",\n",
            "            \"tool_calls\": [],\n",
            "            \"invalid_tool_calls\": []\n",
            "          }\n",
            "        }\n",
            "      }\n",
            "    ]\n",
            "  ],\n",
            "  \"llm_output\": {\n",
            "    \"token_usage\": {\n",
            "      \"completion_tokens\": 639,\n",
            "      \"prompt_tokens\": 3774,\n",
            "      \"total_tokens\": 4413,\n",
            "      \"completion_tokens_details\": {\n",
            "        \"audio_tokens\": null,\n",
            "        \"reasoning_tokens\": 0,\n",
            "        \"accepted_prediction_tokens\": 0,\n",
            "        \"rejected_prediction_tokens\": 0\n",
            "      },\n",
            "      \"prompt_tokens_details\": {\n",
            "        \"audio_tokens\": null,\n",
            "        \"cached_tokens\": 0\n",
            "      }\n",
            "    },\n",
            "    \"model_name\": \"gpt-4o\",\n",
            "    \"system_fingerprint\": \"fp_159d8341cc\"\n",
            "  },\n",
            "  \"run\": null,\n",
            "  \"type\": \"LLMResult\"\n",
            "}\n",
            "### Key Summary of the Position\n",
            "The position is a tenure-track Assistant Professor role in Information Systems at Boston University's Questrom School of Business, with a focus on the Business of AI. Candidates should have a Ph.D. in a relevant field and a strong track record of original, high-quality research with potential impact on top business academic journals. The role involves teaching undergraduate and graduate courses in information systems, machine learning, AI, and business analytics, and contributing to cross-disciplinary curriculum development. The institution values diversity and inclusivity and is part of a cluster hiring initiative led by the Faculty of Computing and Data Science.\n",
            "\n",
            "### Key Summary of the Candidate\n",
            "Mohannad Elhamod is a Clinical Assistant Professor at Boston University with a Ph.D. in Computer Science from Virginia Tech. His research focuses on machine learning, particularly in interpretability, visualization, and the integration of AI into business sectors. He has extensive teaching and research experience, including roles at NASA and Microsoft, and has been recognized with several fellowships and awards. His academic work includes numerous peer-reviewed publications, and he has actively contributed to interdisciplinary research and professional service.\n",
            "\n",
            "### Strengths Table\n",
            "\n",
            "| Strength                            | Evidence                                                                                                      | Degree of Relevance | How it is Relevant to the Job                                                                 |\n",
            "|-------------------------------------|---------------------------------------------------------------------------------------------------------------|---------------------|------------------------------------------------------------------------------------------------|\n",
            "| Strong research background in AI    | Ph.D. in Computer Science, numerous publications on machine learning and AI                                   | High                | The position requires a candidate with a strong research focus on AI in business contexts.     |\n",
            "| Teaching experience in AI and ML    | Taught courses like \"Synthesizing Digital Efforts to Deliver Better Outcomes\" and \"Data-Centric Computing Capstone\" | High                | The role involves teaching AI and machine learning courses.                                    |\n",
            "| Interdisciplinary research focus    | Engages in interdisciplinary research and teaching, focusing on AI in business sectors                        | High                | The job requires contribution to cross-disciplinary curriculum development activities.          |\n",
            "| Industry experience                 | Worked as a Software Development Engineer at Microsoft, involved in product development                       | Medium              | Provides practical insights into the application of AI and ML in business settings.             |\n",
            "| Commitment to diversity and inclusion | Member of committees and workshops that promote diversity and student rights                                   | High                | BU values diversity and inclusivity as essential to its academic programs.                      |\n",
            "\n",
            "### Weaknesses/Issues Table\n",
            "\n",
            "| Weakness                         | Severity Level | How it is Relevant to the Job                                                                 |\n",
            "|----------------------------------|----------------|------------------------------------------------------------------------------------------------|\n",
            "| No explicit mention of business journal publications | Medium         | The role requires scholarly work with impact in top business academic journals.               |\n",
            "| Not explicitly tenure-track experience | Low            | The candidate is currently a Clinical Assistant Professor, not in a tenure-track position.     |\n",
            "\n",
            "### Overall Rating\n",
            "4 out of 5\n",
            "\n",
            "### Recommendation\n",
            "Proceed with the candidate for a round of interviews. Mohannad Elhamod has a strong academic background, relevant teaching experience, and interdisciplinary research focus, making him a well-suited candidate for the position. However, his lack of explicit publications in top business journals could be explored further during the interview process.\n",
            "Tokens Used: 4413\n",
            "\tPrompt Tokens: 3774\n",
            "\tCompletion Tokens: 639\n",
            "Successful Requests: 1\n",
            "Total Cost (USD): $0.015825\n"
          ]
        }
      ]
    },
    {
      "cell_type": "markdown",
      "source": [
        "###Case 3: Online Job Postings."
      ],
      "metadata": {
        "id": "eLVg78XsV6cg"
      }
    },
    {
      "cell_type": "markdown",
      "source": [
        "Some job postings are not in PDF format, but we still want to be able to check them."
      ],
      "metadata": {
        "id": "Mo0N9jU99G2X"
      }
    },
    {
      "cell_type": "code",
      "source": [
        "!pip install playwright html2text"
      ],
      "metadata": {
        "colab": {
          "base_uri": "https://localhost:8080/"
        },
        "id": "1D0PDBZIWJJa",
        "outputId": "97c821d4-00b1-4e30-87c3-6b6cddd377d7"
      },
      "execution_count": null,
      "outputs": [
        {
          "output_type": "stream",
          "name": "stdout",
          "text": [
            "Collecting playwright\n",
            "  Downloading playwright-1.48.0-py3-none-manylinux1_x86_64.whl.metadata (3.5 kB)\n",
            "Collecting html2text\n",
            "  Downloading html2text-2024.2.26.tar.gz (56 kB)\n",
            "\u001b[2K     \u001b[90m━━━━━━━━━━━━━━━━━━━━━━━━━━━━━━━━━━━━━━━━\u001b[0m \u001b[32m56.5/56.5 kB\u001b[0m \u001b[31m1.8 MB/s\u001b[0m eta \u001b[36m0:00:00\u001b[0m\n",
            "\u001b[?25h  Preparing metadata (setup.py) ... \u001b[?25l\u001b[?25hdone\n",
            "Requirement already satisfied: greenlet==3.1.1 in /usr/local/lib/python3.10/dist-packages (from playwright) (3.1.1)\n",
            "Collecting pyee==12.0.0 (from playwright)\n",
            "  Downloading pyee-12.0.0-py3-none-any.whl.metadata (2.8 kB)\n",
            "Requirement already satisfied: typing-extensions in /usr/local/lib/python3.10/dist-packages (from pyee==12.0.0->playwright) (4.12.2)\n",
            "Downloading playwright-1.48.0-py3-none-manylinux1_x86_64.whl (38.2 MB)\n",
            "\u001b[2K   \u001b[90m━━━━━━━━━━━━━━━━━━━━━━━━━━━━━━━━━━━━━━━━\u001b[0m \u001b[32m38.2/38.2 MB\u001b[0m \u001b[31m28.9 MB/s\u001b[0m eta \u001b[36m0:00:00\u001b[0m\n",
            "\u001b[?25hDownloading pyee-12.0.0-py3-none-any.whl (14 kB)\n",
            "Building wheels for collected packages: html2text\n",
            "  Building wheel for html2text (setup.py) ... \u001b[?25l\u001b[?25hdone\n",
            "  Created wheel for html2text: filename=html2text-2024.2.26-py3-none-any.whl size=33111 sha256=edca0280c5ae1ad2c9a12e346f68036a1402c216f7f51a959f96bbf52355f3bc\n",
            "  Stored in directory: /root/.cache/pip/wheels/f3/96/6d/a7eba8f80d31cbd188a2787b81514d82fc5ae6943c44777659\n",
            "Successfully built html2text\n",
            "Installing collected packages: pyee, html2text, playwright\n",
            "Successfully installed html2text-2024.2.26 playwright-1.48.0 pyee-12.0.0\n"
          ]
        }
      ]
    },
    {
      "cell_type": "code",
      "source": [
        "from langchain_community.document_transformers import Html2TextTransformer\n",
        "from langchain_community.document_loaders import WebBaseLoader\n",
        "\n",
        "# Example 1: MLOPs position\n",
        "url = \"https://www.capitalonecareers.com/job/new-york/senior-machine-learning-engineer-python-spark-dask-mlops/1732/69791453600\"\n",
        "\n",
        "# Example 2: Amazon Software Developer\n",
        "# url = \"https://www.indeed.com/viewjob?jk=d24100691c8a049b&utm_campaign=google_jobs_apply&utm_source=google_jobs_apply&utm_medium=organic\"\n",
        "\n",
        "# Example 3: Head of investments operations\n",
        "# url = \"https://careers.massmutual.com/job/boston/head-of-investment-operations-and-accounting-ecosystem-program/724/71301983296?utm_campaign=google_jobs_apply&utm_source=google_jobs_apply&utm_medium=organic\"\n",
        "\n",
        "# Example 4: Warehouse worker\n",
        "# url = \"https://careers.fedex.com/handler-warehouse-like/job/P25-94693-3\"\n",
        "\n",
        "# Example 5: Data scientist\n",
        "# url= \"https://jobs.careers.microsoft.com/global/en/job/1711166/Data-Scientist\"\n",
        "\n",
        "# load the page and convert it from HTML to plain text,\n",
        "loader = WebBaseLoader(url)\n",
        "html_doc = loader.load()\n",
        "text_doc = Html2TextTransformer().transform_documents(html_doc)\n",
        "jobposting = text_doc[0].page_content\n",
        "jobposting"
      ],
      "metadata": {
        "colab": {
          "base_uri": "https://localhost:8080/",
          "height": 104
        },
        "id": "D_SpjwR6V91J",
        "outputId": "2794b78c-d6d9-4eff-dde4-c419808abeb4"
      },
      "execution_count": null,
      "outputs": [
        {
          "output_type": "stream",
          "name": "stderr",
          "text": [
            "WARNING:langchain_community.utils.user_agent:USER_AGENT environment variable not set, consider setting it to identify your requests.\n"
          ]
        },
        {
          "output_type": "execute_result",
          "data": {
            "text/plain": [
              "\"Senior Machine Learning Engineer (Python, Spark/Dask, MLOPS) at Capital One Skip to main content Menu Menu Explore Jobs back Explore Jobs Teams Military Pinned Jobs All Jobs Locations back Locations United States Canada India Mexico Philippines United Kingdom Students & Grads back Students & Grads Overview Internship Programs Full-Time Programs Graduate Programs Events Working at Capital One back Working at Capital One Benefits Culture Diversity, Inclusion & Belonging How We Work Innovation Careers Blog FAQs Search Jobs Returning Applicant You’re located near You’re interested in Find Jobs Here, one dream job leads to the next dream Sasha, Customer Experience R196828 Posted 10/28/2024 Senior Machine Learning Engineer (Python, Spark/Dask, MLOPS) New York, New York | McLean, Virginia Pin job Apply Category Engineering Experience Principal Associate Primary Address New York, New York Overview 11 West 19th Street (22008), United States of America, New York, New YorkSenior Machine Learning Engineer (Python, Spark/Dask, MLOPS)As a Capital One Machine Learning Engineer (MLE), you'll be part of an Agileteam dedicated to productionizing machine learning applications and systems at scale. You’ll participate in the detailed technical design, development, and implementation of machine learning applications using existing and emerging technology platforms. You’ll focus on machine learning architectural design, develop and review model and application code, and ensure high availability and performance of our machine learning applications. You'll have the opportunity to continuously learn and apply the latest innovations and best practices in machine learning engineering. What you’ll do in the role: The MLE role overlaps with many disciplines, such as Ops, Modeling, and Data Engineering. In this role, you'll be expected to perform many ML engineering activities, including one or more of the following:Design, build, and/or deliver ML models and components that solve real-world business problems, while working in collaboration with the Product and Data Science teams. Inform your ML infrastructure decisions using your understanding of ML modeling techniques and issues, including choice of model, data, and feature selection, model training, hyperparameter tuning, dimensionality, bias/variance, and validation).Solve complex problems by writing and testing application code, developing and validating ML models, and automating tests and deployment. Collaborate as part of a cross-functional Agile team to create and enhance software that enables state-of-the-art big data and ML applications. Retrain, maintain, and monitor models in production.Leverage or build cloud-based architectures, technologies, and/or platforms to deliver optimized ML models at scale.Construct optimized data pipelines to feed ML models. Leverage continuous integration and continuous deployment best practices, including test automation and monitoring, to ensure successful deployment of ML models and application code. Ensure all code is well-managed to reduce vulnerabilities, models are well-governed from a risk perspective, and the ML follows best practices in Responsible and Explainable AI. Use programming languages like Python, Scala, or Java. Basic Qualifications:Bachelor’s degreeAt least 4 years of experience programming with Python, Scala, or Java (Internship experience does not apply)At least 3 years of experience designing and building data-intensive solutions using distributed computing At least 2 years of on-the-job experience with an industry recognized ML frameworks (scikit-learn, PyTorch, Dask, Spark, or TensorFlow) At least 1 year of experience productionizing, monitoring, and maintaining models Preferred Qualifications:1+ years of experience building, scaling, and optimizing ML systems1+ years of experience with data gathering and preparation for ML models2+ years of experience developing performant, resilient, and maintainable codeExperience developing and deploying ML solutions in a public cloud such as AWS, Azure, or Google Cloud PlatformMaster's or doctoral degree in computer science, electrical engineering, mathematics, or a similar field 3+ years of experience with distributed file systems or multi-node database paradigmsContributed to open source ML software Authored/co-authored a paper on a ML technique, model, or proof of concept3+ years of experience building production-ready data pipelines that feed ML models Experience designing, implementing, and scaling complex data pipelines for ML models and evaluating their performance At this time, Capital One will not sponsor a new applicant for employment authorization for this position.The minimum and maximum full-time annual salaries for this role are listed below, by location. Please note that this salary information is solely for candidates hired to perform work within one of these locations, and refers to the amount Capital One is willing to pay at the time of this posting. Salaries for part-time roles will be prorated based upon the agreed upon number of hours to be regularly worked.New York City (Hybrid On-Site): $165,100 - $188,500 for Senior Machine Learning EngineerCandidates hired to work in other locations will be subject to the pay range associated with that location, and the actual annualized salary amount offered to any candidate at the time of hire will be reflected solely in the candidate’s offer letter.This role is also eligible to earn performance based incentive compensation, which may include cash bonus(es) and/or long term incentives (LTI). Incentives could be discretionary or non discretionary depending on the plan.Capital One offers a comprehensive, competitive, and inclusive set of health, financial and other benefits that support your total well-being. Learn more at theCapital One Careers website. Eligibility varies based on full or part-time status, exempt or non-exempt status, and management level.This role is expected to accept applications for a minimum of 5 business days.No agencies please. Capital One is an equal opportunity employer committed to diversity and inclusion in the workplace. All qualified applicants will receive consideration for employment without regard to sex (including pregnancy, childbirth or related medical conditions), race, color, age, national origin, religion, disability, genetic information, marital status, sexual orientation, gender identity, gender reassignment, citizenship, immigration status, protected veteran status, or any other basis prohibited under applicable federal, state or local law. Capital One promotes a drug-free workplace. Capital One will consider for employment qualified applicants with a criminal history in a manner consistent with the requirements of applicable laws regarding criminal background inquiries, including, to the extent applicable, Article 23-A of the New York Correction Law; San Francisco, California Police Code Article 49, Sections 4901-4920; New York City’s Fair Chance Act; Philadelphia’s Fair Criminal Records Screening Act; and other applicable federal, state, and local laws and regulations regarding criminal background inquiries.If you have visited our website in search of information on employment opportunities or to apply for a position, and you require an accommodation, please contact Capital One Recruiting at 1-800-304-9102 or via email at RecruitingAccommodation@capitalone.com. All information you provide will be kept confidential and will be used only to the extent required to provide needed reasonable accommodations.For technical support or questions about Capital One's recruiting process, please send an email to Careers@capitalone.comCapital One does not provide, endorse nor guarantee and is not liable for third-party products, services, educational tools or other information available through this site.Capital One Financial is made up of several different entities. Please note that any position posted in Canada is for Capital One Canada, any position posted in the United Kingdom is for Capital One Europe and any position posted in the Philippines is for Capital One Philippines Service Corp. (COPSSC). Hiring Process Stories Benefits Career Journey How We Hire We take finding great coworkers pretty seriously. Step 1 Apply It only takes a few minutes to complete our application and assessment. Step 2 Screen and Schedule If your application is a good match you’ll hear from one of our recruiters to set up a screening interview. Step 3 Interview(s) Now’s your chance to learn about the job, show us who you are, share why you would be a great addition to the team and determine if Capital One is the place for you. Step 4 Decision The team will discuss — if it’s a good fit for us and you, we’ll make it official! How to Pick the Perfect Career Opportunity Overwhelmed by a tough career choice? Read these tips from Devon Rollins, Senior Director of Cyber Intelligence, to help you accept the right offer with confidence. Read this story View More Stories Your wellbeing is our priority Our benefits and total compensation package is designed for the whole person. Caring for both you and your family. Healthy Body, Healthy Mind You have options and we have the tools to help you decide which health plans best fit your needs. Save Money, Make Money Secure your present, plan for your future and reduce expenses along the way. Time, Family and Advice Options for your time, opportunities for your family, and advice along the way. It’s time to BeWell. Career Journey Here’s how the team fits together. We’re big on growth and knowing who and how coworkers can best support you. Image Description Close A possible career journey at Capital One: Coordinator Senior Coordinator Principal Coordinator Associate Senior Associate Principal Associate Manager Senior Manager Director Senior Director VP Similar Jobs 72431189280 Senior Data Engineer (Bank Tech) New York, New York 72431187472 Senior Data Engineer (Python, Spark, AWS) Chicago, Illinois 72431184288 Senior AI Engineer San Francisco, California 71624273296 Senior AI Engineer McLean, Virginia Pinned Jobs You don't have any pinned jobs right now Want more jobs like this? Set a Job Alert Sign up Close Job Alerts Don’t miss a thing. Stay in the know about opportunities you may be interested in! Email AddressInterested InTo create job alerts, you can either select a job category from the list of options or search by location. For location, you can search by city, state, zip or “remote”, then click 'Add'. Once done, click ‘Sign up’ to receive your job alerts.Job CategorySelect a Job CategoryApplied ResearchAuditBranch AmbassadorBrandBusiness AnalystBusiness BankingCaféCommercial BankingConcierge ServicesCustomer CareCyberData AnalystData ScienceDesignEngineeringFinanceHuman ResourcesInvestment BankingLegalMarketing and CommunicationsOperationsProcess and Project ManagementProductRisk ManagementSoftware EngineerStrategyTechnologyLocationAddEngineering, New York, New York, United StatesRemoveEngineering, McLean, Virginia, United StatesRemoveTechnology, New York, New York, United StatesRemoveTechnology, McLean, Virginia, United StatesRemoveRemoveAre you interested in Student & Grad opportunities?SelectNoYes Confirm Email By submitting your information, you acknowledge that you have read our privacy policy and consent to receive email communication from Capital One. Sign Up *Required Field Instagram Facebook LinkedIn YouTube Explore Jobs Job Search Teams Military Students & Grads Technology Customer Care US Locations Overview Atlanta, GA Boston, MA Chicago, IL Dallas, TX McLean, VA New York, NY Philadelphia, PA Richmond, VA San Francisco, CA View All Jobs Working at Capital One Culture Diversity, Inclusion & Belonging Benefits #LifeAtCapitalOne Blog Awards How We Work Innovation Connect With Us FAQs Locations United States Canada India Mexico Philippines United Kingdom E-Verify® is a registered trademark of the U.S. Department of Homeland Security. COVID-19 Response www.capitalone.com Accommodation If you have visited our website in search of information on employment opportunities or to apply for a position and you require an accommodation, please contact Capital One Recruiting at 1-800-304-9102 or via email at RecruitingAccommodation@capitalone.com. All information you provide will be kept confidential and will be used only to the extent required to provide needed reasonable accommodation. Capital One is an equal opportunity employer (PDF) committed to diversity and inclusion in the workplace. All qualified applicants will receive consideration for employment without regard to sex (including pregnancy, childbirth or related medical conditions), race, color, age (40 and older), national origin, religion, disability, genetic information, marital status, sexual orientation, gender identity, gender reassignment, citizenship, immigration status, protected veteran status, or any other basis prohibited under applicable federal, state or local law. Know Your Rights Poster (PDF) Pay Transparency Nondiscrimination Provision (PDF) Footnotes Capital One is a federally registered service mark. All rights reserved. Blank Check® is a registered trademark of Capital One Services, LLC. Capital One does not provide, endorse or guarantee and is not liable for third-party products, services, educational tools or other information available through this site. © 2024 FORTUNE Media IP Limited. All rights reserved. Used under license. FORTUNE is not affiliated with, and does not endorse products or services of, Capital One. PEOPLE Companies That Care logo is used under license, © 2024 TI Gotham, Inc. © 2024 Capital One Cookie Management Privacy Security AdChoices Terms & Conditions Patriot Act Cert. (PDF) Servicemembers Civil Relief Act Sitemap \\n\\n\""
            ],
            "application/vnd.google.colaboratory.intrinsic+json": {
              "type": "string"
            }
          },
          "metadata": {},
          "execution_count": 63
        }
      ]
    },
    {
      "cell_type": "code",
      "source": [
        "# Construct the prompt\n",
        "prompt = prompt_template.format_messages(fullCV=fullCV, jobposting=jobposting)\n",
        "\n",
        "# Get the answer!\n",
        "with get_openai_callback() as cb:\n",
        "  print(chat.predict(prompt[0].content))\n",
        "  print(cb)"
      ],
      "metadata": {
        "colab": {
          "base_uri": "https://localhost:8080/"
        },
        "id": "qtT2_PSKZNr-",
        "outputId": "9b4a2693-afcd-42ea-eb7e-d2fdf1e759ca"
      },
      "execution_count": null,
      "outputs": [
        {
          "output_type": "stream",
          "name": "stdout",
          "text": [
            "\u001b[32;1m\u001b[1;3m[llm/start]\u001b[0m \u001b[1m[llm:ChatOpenAI] Entering LLM run with input:\n",
            "\u001b[0m{\n",
            "  \"prompts\": [\n",
            "    \"Human: \\nYou are acting as a professional recruiter that is vetting candidate CVs for a position to get best job-candidate matches.\\nBelow, you are given a candidate's CV and job posting.\\nDo not make up any answers if you do not have evidence. If you are unsure about a certain detail or conclusion, state you are unsure about it.\\nYou are to provide the following:\\n- A key summary of the position\\n- A key summary of the candidate\\n- A table of the strengths the candidate has that makes them a good fit for the job.\\nStructure the table as follows:\\n     Strength | Evidence | Degree of relevance |How it is relevant to the job\\n     ---------|----------|---------------------|-------------------------------\\n- A table of missing skills or issues in the candidate's background, along with the degree of severity for this gap in the CV.\\nStructure the table as follows:\\n     Weakness | Severity level | How it is relevant to the job\\n     ---------|----------------|----------------------------------\\n- A rating between 0 and 5, indicating whether the candidate is a good fit or not, 5 being an excellent fit.\\n- A recommendation whether to proceed with the candidate or not for a round of interviews.\\n\\n\\nCV:\\n\\nMohannad Elhamod\\n/envel⌢peelhamod@bu.edu • /linkedin-inmohannadelhamod\\nResearch and Teaching Interests\\nHighly engaged in interdisciplinary research and teaching, with a focus on interpretability and visualization in Machine\\nLearning. Keen on evaluating and instructing on the influence of generative AI and language models across various\\nbusiness sectors such as management, marketing, strategy, and finance. Actively exploring and integrating these\\nadvanced technologies, along with Knowledge-Guided ML, into both academic inquiries and classroom settings\\nto foster innovation, enhance learning experiences, and create new opportunities in the wider business spectrum.\\nThis approach not only advances research frontiers but also equips students with critical, cutting-edge skills and\\nunderstandings necessary for navigating the evolving business landscape.\\nEducation\\nPh.D. in Computer Science May 2023\\nVirginia Tech Blacksburg, VA\\nM.Eng in Computer Engineering April 2012\\nMcGill University Montreal, QC\\nB.Sc in Computer Engineering June 2007\\nJordan University of Science and Technology Irbid, Jordan\\nResearch Experience\\nNASA (The Durability, Damage Tolerance and Reliability Branch) June 2022 — August 2022\\nResearch Intern\\n○ Developed and tested physics-informed generative adversarial networks to learn and quantify the variability in aerospace\\nmaterials.\\nVirginia Tech (Knowledge-Guided Machine Learning Lab) August 2019 — May 2023\\nGraduate Research Assistant\\n○ Supervised by Prof. Anuj Karpatne\\n○ Thesis: Understanding The Effects of Incorporating Scientific Knowledge on Neural Network Outputs and Loss\\nLandscapes:\\n- Guiding Neural Networks Using Taxonomies and Phylogenies for Species Modelling:Focused on overcoming the challenge\\nof species modeling in the context of limited labelled training data, by infusing taxonomic and phylogenetic data during\\nmodel training. Subsequently, model interpretability was enhanced via learning visual features that map onto biological\\ntraits. The resulting model aids biologists in addressing inquiries about species and their defining anatomical traits.\\n- Learning Physics-guided Neural Networks with Competing Loss Functions for Solving Eigenvalue Problems: Investigated\\ninto the application of a deep learning approach towards replacing computationally expensive eigen-decomposition\\nnumerical solvers, with respective applications demonstrated within the realms of quantum physics and electromagnetic\\npropagation. The resulting mode achieves high accuracy while maintaining low computational complexity.\\nMcGill University (Visual Surveillance Group) January 2010 — April 2012\\nGraduate Research Assistant\\n○ Supervised by Prof. Martin D. Levine.\\n○ Thesis: Real-Time Automated Annotation of Surveillance Scenes :\\n- Developed a real-time video surveillance system, with the capacity to detect semantically defined activities of interest.\\nThis project included successful enhancement of low-level processing and object tracking performance.\\n○ Unconstrained real-time face recognition using face morphing and SVM classifiers.\\nTeaching Experience\\nSynthesizing Digital Efforts to Deliver Better Outcomes (IS 883) Fall 2023 (Instructor)\\nMSDT (Graduate) Boston University\\nData-Centric Computing Capstone (CS 4884) Spring 2022 (Instructor-of-record)\\n(Undergraduate) Virginia Tech\\nComputer and Biological Vision (ECSE 529) (Teaching Assistant)\\n(Graduate) McGill University\\nArtificial Intelligence (ECSE 526) (Teaching Assistant)\\n(Graduate) McGill University\\nWork Experience\\nBoston University (Questrom School of Business) August 2023 – Present\\nClinical Assistant Professor\\n○ Developing and teaching innovative courses focusing on neural networks, unsupervised learning, and generative AI, with\\na focus on integrating these technologies seamlessly into the business curriculum and equip students with cutting-edge\\nknowledge and skills in AI.\\nMicrosoft April 2016 – July 2019\\nSoftware Development Engineer (SDE)\\n○ Azure Monitoring: Worked on Metrics Explorer, a cloud computing feature that allows millions of customers to visualize and\\nanalyze their data. Also lead Azure Monitoring’s product accessibility compliance efforts to provide a seamless experience\\nfor people with disabilities.\\n○ Microsoft Edge: Worked on core features on the Windows Phone platform, such as InPrivate experience and tabs center.\\nAlso lead the product’s accessibility compliance efforts to provide a seamless experience for people with disabilities.\\nPapers Under Review\\n○ Mohannad Elhamod and Anuj Karpatne. Neuro-visualizer: An auto-encoder-based loss landscape visualization\\nmethod, 2023\\nPeer-Reviewed Journal and Conference Publications\\n○ Elhamod, Mohannad, Mridul Khurana, Harish Babu Manogaran, Josef C. Uyeda, Meghan A. Balk, Wasila Dahdul,\\nYasin Bakis, Henry L. Bart, Paula M. Mabee, Hilmar Lapp, James P. Balhoff, Caleb Charpentier, David Carlyn,\\nWei-Lun Chao, Charles V. Stewart, Daniel I. Rubenstein, Tanya Berger-Wolf, and Anuj Karpatne. Discovering\\nnovel biological traits from images using phylogeny-guided neural networks. In Proceedings of the 29th ACM\\nSIGKDD Conference on Knowledge Discovery and Data Mining , KDD ’23, page 3966–3978, New York, NY, USA,\\n2023. Association for Computing Machinery\\n○ Abantika Ghosh, Mohannad Elhamod, Jie Bu, Wei-Cheng Lee, Anuj Karpatne, and Viktor A. Podolskiy. Physics-\\ninformed machine learning of optical modes in composites. In Conference on Lasers and Electro-Optics , page\\nFTu1B.1. Optica Publishing Group, 2022\\n○ Mohannad Elhamod, Jie Bu, Christopher Singh, Matthew Redell, Abantika Ghosh, Viktor Podolskiy, Wei-Cheng\\nLee, and Anuj Karpatne. Cophy-pgnn: Learning physics-guided neural networks with competing loss functions for\\nsolving eigenvalue problems. ACM Trans. Intell. Syst. Technol. , 2022\\n○ Mohannad Elhamod, Kelly M. Diamond, A. Murat Maga, Yasin Bakis, Henry L. Bart Jr., Paula Mabee, Wasila\\nDahdul, Jeremy Leipzig, Jane Greenberg, Brian Avants, and Anuj Karpatne. Hierarchy-guided neural networks for\\nspecies classification. Methods in Ecology and Evolution , 2021.\\n○ Jeremy Leipzig, Yasin Bakis, Xiaojun Wang, Mohannad Elhamod, Kelly Diamond, Wasila Dahdul, Anuj Karpatne,\\nMurat Maga, Paula Mabee, Henry L. Bart, and Jane Greenberg. Biodiversity image quality metadata augments\\nconvolutional neural network classification of fish species. In Emmanouel Garoufallou and Mar ´ ıa-Antonia Ovalle-\\nPerandones, editors, Metadata and Semantic Research , pages 3–12, Cham, 2021. Springer International Publishing.\\n[Best Research Paper Award.]\\n○ Mohannad Elhamod and Martin D. Levine. Automated real-time detection of potentially suspicious behavior in\\npublic transport areas. IEEE Transactions on Intelligent Transportation Systems , 14(2):688–699, 2013\\n○ Mohannad Elhamod and Martin D. Levine. Real-time semantics-based detection of suspicious activities in public\\nspaces. In 2012 Ninth Conference on Computer and Robot Vision , pages 268–275, 2012\\nWorkshop Papers, Presentations, and Posters\\n○ Mohannad Elhamod , Mridul Khurana, Harish Babu Manogaran, Josef Uyeda, Meghan Balk, Wasila Dahdul,\\nYasin Bakis, Henry L. L Bart Jr., Paula Mabee, Hilmar Lappand James Balhoff, Caleb Charpentier, David E Carlyn,\\nWei-Lun Chao, Charles V Stewart, Daniel Rubenstein, Tanya Berger-Wolf, and Anuj Karpatne. Discovering novel\\nbiological traits from images using phylogeny-guided neural networks. In CV4Animals: Computer Vision for Animal\\nBehavior, 2023\\n○ Reshma R Babu, Yael Stochel, Christopher Lawrence, Daniel Rubenstein, Chuck Stewart, Wei-Lun Chao, David\\nCarlyn, Jihyung Kil, Yu Su, Luke Song, Anuj Karpatne, Mohannad Elhamod, Krzysztof Kozak, Owen McMillan,\\nand Tanya Berger-Wolf. Understanding mimicry in butterflies from images using machine learning. In CV4Animals:\\nComputer Vision for Animal Behavior , 2022\\n○ Mohannad Elhamod, Kelly M. Diamond, A. Murat Maga, Yasin Bakis, Henry L. Bart, Paula Mabee, Wasila\\nDahdul, Jeremy Leipzig, Jane Greenberg, Brian Avants, and Anuj Karpatne. Hierarchy-guided neural networks for\\nspecies classification. In 2nd Symposium on Science-Guided AI (SGAI-AAAI-21) , November 2021\\n○ Mohannad Elhamod , Jie Bu, Christopher Singh, Matthew Redell, Abantika Ghosh, Viktor Podolskiy, Wei-Cheng\\nLee, and Anuj Karpatne. Learning Physics-guided Neural Networks with Competing Physics Loss: A Summary of\\nResults in Solving Eigenvalue Problems. In AAAI 2021 Spring Symposium on Combining Artificial Intelligence and\\nMachine Learning with Physical Sciences . AAAI-MLPS 2021, AAAI, March 2021\\n○ M Elhamod, MA Maruf, PK Mandke, and A Karpatne. Biology-guided neural network for species classification.\\nIn Integrative and Comparative Biology , volume 61, pages E228–E229. Oxford Univ Press Inc Journals Dept, 2001\\nEvans Rd, Cary, NC 27513 USA, 2021. [Nominated for Best Student Paper: Wake Award.]\\n○ MA Maruf, M Elhamod, PK Mandke, and A Karpatne. Biology-guided neural network for fish trait discovery. In\\nIntegrative and Comparative Biology , volume 61, pages E577–E578. Oxford Univ Press Inc Journals Dept, 2001\\nEvans Rd, Cary, NC 27513 USA, 2021\\n○ Mohannad Elhamod, Jie Bu, Christopher Singh, Matthew Redell, Wei-Cheng Lee, and Anuj Karpatne. Poster:\\nPhysics-inspired neural networks meet condensed matter theory. In 3rd Physics Informed Machine Learning ,\\nJanuary 2020\\nHonors and Awards\\nPratt Fellowship July 2021 and July 2022\\nDepartment of Computer Science, Virginia Tech○ Awarded to a limited number of exceptional applicants\\nJoseph Frank Hunkler Memorial Scholarship January 2022\\n○ Nominated by the department of Computer Science at Virginia Tech.\\nGoogle PhD Fellowship Program August 2021\\nGoogle○ Nominated by the department of Computer Science at Virginia Tech.\\nMicrosoft Research PhD Fellowship May 2021\\nMicrosoft○ Nominated by the department of Computer Science at Virginia Tech.\\nWake Award October 2020\\nSociety for Integrative and Comparative Biology (SICB)○ Nominated for Best Student Paper.\\nSpecial Stock Award September 2018\\nMicrosoft○ Awarded to exceptional employees for their contributions in areas of great impact.\\nProvost’s and Principal’s Graduate Fellowship February 2010\\nMcGill University○ Awarded to recruit high-caliber students.\\nProfessional Service\\nQuestrom Academic Conduct Committee 2023 – 2024\\nCommittee member Boston University\\nKnowledge-Guided ML Workshop (KGML) 2022 – 2024\\nReviewer and Program Committee member AAAI\\nWorkshop on Machine Learning and the Physical Sciences (MLPS) 2023\\nReviewer and Program Committee member NeurIPS\\nQuestrom Faculty Recruiting Committee 2023\\nCommittee member Boston University\\nComputer Science Graduate Council 2020 – 2021, 2022 – 2023\\nElected board member Virginia Tech\\n○ Having been elected for two terms as Treasurer and Vice President, respectively, I lead efforts for promoting student rights\\nand resolving student-advisor conflicts. I also hosted a workshop on building healthy student-advisor relationships.\\nGraduate Academy for Teaching Excellence (GrATE) 2022 – 2023\\nFellow Virginia Tech\\n○ Delivered a workshop titled ”Takeaways from being a class instructor” .\\n○ Founded and hosted ”The Ranting Pedagogue” , a graduate student podcast on teaching and education.\\nScience-Guided AI Workshop (SGAI) 2021\\nReviewer and Program Committee member AAAI\\nTransactions on Emerging Topics in Computational Intelligence (TETCI) 2021\\nReviewer IEEE\\nKnowledge Discovery and Data Mining (KDD) 2021\\nExternal Reviewer ACM\\nGreat Lakes Bioinformatics Conference 2021\\nCo-organizer\\nInterdisciplinary Research Honor Society 2021\\nMember Virginia Tech\\nGraduate and Professional Student Senate 2019 – 2020\\nDelegate Virginia Tech\\nExtracurricular Activities, Skills, and Projects\\nMachine Learning Mentor 2022 – Present\\nMentorCruise\\n○ Offering consulting and mentoring services to researchers and engineers from different disciplines.\\nThe Future Professoriate Certificate 2020 – 2023\\nVirginia Tech\\n○ The program prepares future faculty and academic leaders and challenge existing practices.\\n○ As part of the program, I hosted a talk titled “The Graduate Student and Self-Worth”.\\nGlobal Perspectives Program (GPP) 2022\\nVirginia Tech\\n○ Visited European universities and developed a global understanding of different education systems.\\nMartial Arts, Blogging, Photography, Stand-up comedy, and Classical Arabic Music\\n\\n\\nJob posting:\\nSenior Machine Learning Engineer (Python, Spark/Dask, MLOPS) at Capital One Skip to main content Menu Menu Explore Jobs back Explore Jobs Teams Military Pinned Jobs All Jobs Locations back Locations United States Canada India Mexico Philippines United Kingdom Students & Grads back Students & Grads Overview Internship Programs Full-Time Programs Graduate Programs Events Working at Capital One back Working at Capital One Benefits Culture Diversity, Inclusion & Belonging How We Work Innovation Careers Blog FAQs Search Jobs Returning Applicant You’re located near You’re interested in Find Jobs Here, one dream job leads to the next dream Sasha, Customer Experience R196828 Posted 10/28/2024 Senior Machine Learning Engineer (Python, Spark/Dask, MLOPS) New York, New York | McLean, Virginia Pin job Apply Category Engineering Experience Principal Associate Primary Address New York, New York Overview 11 West 19th Street (22008), United States of America, New York, New YorkSenior Machine Learning Engineer (Python, Spark/Dask, MLOPS)As a Capital One Machine Learning Engineer (MLE), you'll be part of an Agileteam dedicated to productionizing machine learning applications and systems at scale. You’ll participate in the detailed technical design, development, and implementation of machine learning applications using existing and emerging technology platforms. You’ll focus on machine learning architectural design, develop and review model and application code, and ensure high availability and performance of our machine learning applications. You'll have the opportunity to continuously learn and apply the latest innovations and best practices in machine learning engineering. What you’ll do in the role: The MLE role overlaps with many disciplines, such as Ops, Modeling, and Data Engineering. In this role, you'll be expected to perform many ML engineering activities, including one or more of the following:Design, build, and/or deliver ML models and components that solve real-world business problems, while working in collaboration with the Product and Data Science teams. Inform your ML infrastructure decisions using your understanding of ML modeling techniques and issues, including choice of model, data, and feature selection, model training, hyperparameter tuning, dimensionality, bias/variance, and validation).Solve complex problems by writing and testing application code, developing and validating ML models, and automating tests and deployment. Collaborate as part of a cross-functional Agile team to create and enhance software that enables state-of-the-art big data and ML applications. Retrain, maintain, and monitor models in production.Leverage or build cloud-based architectures, technologies, and/or platforms to deliver optimized ML models at scale.Construct optimized data pipelines to feed ML models. Leverage continuous integration and continuous deployment best practices, including test automation and monitoring, to ensure successful deployment of ML models and application code. Ensure all code is well-managed to reduce vulnerabilities, models are well-governed from a risk perspective, and the ML follows best practices in Responsible and Explainable AI. Use programming languages like Python, Scala, or Java. Basic Qualifications:Bachelor’s degreeAt least 4 years of experience programming with Python, Scala, or Java (Internship experience does not apply)At least 3 years of experience designing and building data-intensive solutions using distributed computing At least 2 years of on-the-job experience with an industry recognized ML frameworks (scikit-learn, PyTorch, Dask, Spark, or TensorFlow) At least 1 year of experience productionizing, monitoring, and maintaining models Preferred Qualifications:1+ years of experience building, scaling, and optimizing ML systems1+ years of experience with data gathering and preparation for ML models2+ years of experience developing performant, resilient, and maintainable codeExperience developing and deploying ML solutions in a public cloud such as AWS, Azure, or Google Cloud PlatformMaster's or doctoral degree in computer science, electrical engineering, mathematics, or a similar field 3+ years of experience with distributed file systems or multi-node database paradigmsContributed to open source ML software Authored/co-authored a paper on a ML technique, model, or proof of concept3+ years of experience building production-ready data pipelines that feed ML models Experience designing, implementing, and scaling complex data pipelines for ML models and evaluating their performance At this time, Capital One will not sponsor a new applicant for employment authorization for this position.The minimum and maximum full-time annual salaries for this role are listed below, by location. Please note that this salary information is solely for candidates hired to perform work within one of these locations, and refers to the amount Capital One is willing to pay at the time of this posting. Salaries for part-time roles will be prorated based upon the agreed upon number of hours to be regularly worked.New York City (Hybrid On-Site): $165,100 - $188,500 for Senior Machine Learning EngineerCandidates hired to work in other locations will be subject to the pay range associated with that location, and the actual annualized salary amount offered to any candidate at the time of hire will be reflected solely in the candidate’s offer letter.This role is also eligible to earn performance based incentive compensation, which may include cash bonus(es) and/or long term incentives (LTI). Incentives could be discretionary or non discretionary depending on the plan.Capital One offers a comprehensive, competitive, and inclusive set of health, financial and other benefits that support your total well-being. Learn more at theCapital One Careers website. Eligibility varies based on full or part-time status, exempt or non-exempt status, and management level.This role is expected to accept applications for a minimum of 5 business days.No agencies please. Capital One is an equal opportunity employer committed to diversity and inclusion in the workplace. All qualified applicants will receive consideration for employment without regard to sex (including pregnancy, childbirth or related medical conditions), race, color, age, national origin, religion, disability, genetic information, marital status, sexual orientation, gender identity, gender reassignment, citizenship, immigration status, protected veteran status, or any other basis prohibited under applicable federal, state or local law. Capital One promotes a drug-free workplace. Capital One will consider for employment qualified applicants with a criminal history in a manner consistent with the requirements of applicable laws regarding criminal background inquiries, including, to the extent applicable, Article 23-A of the New York Correction Law; San Francisco, California Police Code Article 49, Sections 4901-4920; New York City’s Fair Chance Act; Philadelphia’s Fair Criminal Records Screening Act; and other applicable federal, state, and local laws and regulations regarding criminal background inquiries.If you have visited our website in search of information on employment opportunities or to apply for a position, and you require an accommodation, please contact Capital One Recruiting at 1-800-304-9102 or via email at RecruitingAccommodation@capitalone.com. All information you provide will be kept confidential and will be used only to the extent required to provide needed reasonable accommodations.For technical support or questions about Capital One's recruiting process, please send an email to Careers@capitalone.comCapital One does not provide, endorse nor guarantee and is not liable for third-party products, services, educational tools or other information available through this site.Capital One Financial is made up of several different entities. Please note that any position posted in Canada is for Capital One Canada, any position posted in the United Kingdom is for Capital One Europe and any position posted in the Philippines is for Capital One Philippines Service Corp. (COPSSC). Hiring Process Stories Benefits Career Journey How We Hire We take finding great coworkers pretty seriously. Step 1 Apply It only takes a few minutes to complete our application and assessment. Step 2 Screen and Schedule If your application is a good match you’ll hear from one of our recruiters to set up a screening interview. Step 3 Interview(s) Now’s your chance to learn about the job, show us who you are, share why you would be a great addition to the team and determine if Capital One is the place for you. Step 4 Decision The team will discuss — if it’s a good fit for us and you, we’ll make it official! How to Pick the Perfect Career Opportunity Overwhelmed by a tough career choice? Read these tips from Devon Rollins, Senior Director of Cyber Intelligence, to help you accept the right offer with confidence. Read this story View More Stories Your wellbeing is our priority Our benefits and total compensation package is designed for the whole person. Caring for both you and your family. Healthy Body, Healthy Mind You have options and we have the tools to help you decide which health plans best fit your needs. Save Money, Make Money Secure your present, plan for your future and reduce expenses along the way. Time, Family and Advice Options for your time, opportunities for your family, and advice along the way. It’s time to BeWell. Career Journey Here’s how the team fits together. We’re big on growth and knowing who and how coworkers can best support you. Image Description Close A possible career journey at Capital One: Coordinator Senior Coordinator Principal Coordinator Associate Senior Associate Principal Associate Manager Senior Manager Director Senior Director VP Similar Jobs 72431189280 Senior Data Engineer (Bank Tech) New York, New York 72431187472 Senior Data Engineer (Python, Spark, AWS) Chicago, Illinois 72431184288 Senior AI Engineer San Francisco, California 71624273296 Senior AI Engineer McLean, Virginia Pinned Jobs You don't have any pinned jobs right now Want more jobs like this? Set a Job Alert Sign up Close Job Alerts Don’t miss a thing. Stay in the know about opportunities you may be interested in! Email AddressInterested InTo create job alerts, you can either select a job category from the list of options or search by location. For location, you can search by city, state, zip or “remote”, then click 'Add'. Once done, click ‘Sign up’ to receive your job alerts.Job CategorySelect a Job CategoryApplied ResearchAuditBranch AmbassadorBrandBusiness AnalystBusiness BankingCaféCommercial BankingConcierge ServicesCustomer CareCyberData AnalystData ScienceDesignEngineeringFinanceHuman ResourcesInvestment BankingLegalMarketing and CommunicationsOperationsProcess and Project ManagementProductRisk ManagementSoftware EngineerStrategyTechnologyLocationAddEngineering, New York, New York, United StatesRemoveEngineering, McLean, Virginia, United StatesRemoveTechnology, New York, New York, United StatesRemoveTechnology, McLean, Virginia, United StatesRemoveRemoveAre you interested in Student & Grad opportunities?SelectNoYes Confirm Email By submitting your information, you acknowledge that you have read our privacy policy and consent to receive email communication from Capital One. Sign Up *Required Field Instagram Facebook LinkedIn YouTube Explore Jobs Job Search Teams Military Students & Grads Technology Customer Care US Locations Overview Atlanta, GA Boston, MA Chicago, IL Dallas, TX McLean, VA New York, NY Philadelphia, PA Richmond, VA San Francisco, CA View All Jobs Working at Capital One Culture Diversity, Inclusion & Belonging Benefits #LifeAtCapitalOne Blog Awards How We Work Innovation Connect With Us FAQs Locations United States Canada India Mexico Philippines United Kingdom E-Verify® is a registered trademark of the U.S. Department of Homeland Security. COVID-19 Response www.capitalone.com Accommodation If you have visited our website in search of information on employment opportunities or to apply for a position and you require an accommodation, please contact Capital One Recruiting at 1-800-304-9102 or via email at RecruitingAccommodation@capitalone.com. All information you provide will be kept confidential and will be used only to the extent required to provide needed reasonable accommodation. Capital One is an equal opportunity employer (PDF) committed to diversity and inclusion in the workplace. All qualified applicants will receive consideration for employment without regard to sex (including pregnancy, childbirth or related medical conditions), race, color, age (40 and older), national origin, religion, disability, genetic information, marital status, sexual orientation, gender identity, gender reassignment, citizenship, immigration status, protected veteran status, or any other basis prohibited under applicable federal, state or local law. Know Your Rights Poster (PDF) Pay Transparency Nondiscrimination Provision (PDF) Footnotes Capital One is a federally registered service mark. All rights reserved. Blank Check® is a registered trademark of Capital One Services, LLC. Capital One does not provide, endorse or guarantee and is not liable for third-party products, services, educational tools or other information available through this site. © 2024 FORTUNE Media IP Limited. All rights reserved. Used under license. FORTUNE is not affiliated with, and does not endorse products or services of, Capital One. PEOPLE Companies That Care logo is used under license, © 2024 TI Gotham, Inc. © 2024 Capital One Cookie Management Privacy Security AdChoices Terms & Conditions Patriot Act Cert. (PDF) Servicemembers Civil Relief Act Sitemap\"\n",
            "  ]\n",
            "}\n",
            "\u001b[36;1m\u001b[1;3m[llm/end]\u001b[0m \u001b[1m[llm:ChatOpenAI] [9.34s] Exiting LLM run with output:\n",
            "\u001b[0m{\n",
            "  \"generations\": [\n",
            "    [\n",
            "      {\n",
            "        \"text\": \"- **Key Summary of the Position:**\\n  The Senior Machine Learning Engineer position at Capital One requires the candidate to work on productionizing machine learning applications at scale using tools like Python, Spark/Dask, and MLOps. The role involves designing, building, and deploying ML models and ensuring high performance and availability. It also emphasizes continuous learning, collaboration in an Agile environment, and leveraging cloud-based technologies. Key qualifications include experience with Python or similar languages, distributed computing, ML frameworks, and productionizing ML models.\\n\\n- **Key Summary of the Candidate:**\\n  Mohannad Elhamod is a Clinical Assistant Professor with a Ph.D. in Computer Science, focusing on machine learning interpretability and visualization. He has extensive research experience, particularly in knowledge-guided machine learning and generative adversarial networks, as evidenced by his work at NASA and Virginia Tech. His teaching experience involves courses in neural networks and generative AI. Professionally, he has worked as a Software Development Engineer at Microsoft, where he contributed to Azure Monitoring and Microsoft Edge.\\n\\n- **Strengths Table:**\\n\\n  | Strength                                      | Evidence                                                                                              | Degree of relevance | How it is relevant to the job                                                                                                                                                    |\\n  |-----------------------------------------------|-------------------------------------------------------------------------------------------------------|---------------------|----------------------------------------------------------------------------------------------------------------------------------------------------------------------------------|\\n  | Strong ML Research Background                 | Ph.D. in Computer Science with a focus on machine learning interpretability and visualization         | High                | The role requires designing and building ML models, which aligns with the candidate's research expertise.                                                                         |\\n  | Experience with Generative Models             | Developed physics-informed generative adversarial networks at NASA                                    | High                | Relevant to developing ML models and components that solve real-world business problems.                                                                                         |\\n  | Teaching Experience in ML                     | Developed and taught courses on neural networks and generative AI                                     | Medium              | Demonstrates ability to explain complex ML concepts, which can aid in collaboration and team communication.                                                                       |\\n  | Industry Experience with Large-Scale Systems  | Worked at Microsoft on Azure Monitoring and Microsoft Edge                                            | High                | Experience with cloud-based architectures and large-scale deployments is crucial for developing and deploying ML solutions.                                                       |\\n  | Experience with Python                        | Extensive programming experience including Python                                                     | High                | Python is a preferred language for the position.                                                                                                                                  |\\n  | Experience with ML Frameworks                 | Research work involving neural networks and various ML techniques                                     | High                | Experience with ML frameworks is essential for the role.                                                                                                                          |\\n\\n- **Weaknesses Table:**\\n\\n  | Weakness                         | Severity level | How it is relevant to the job                                                                                   |\\n  |----------------------------------|----------------|-----------------------------------------------------------------------------------------------------------------|\\n  | Lack of Direct MLOps Experience  | Medium         | The job requires experience with MLOps practices, which is not explicitly mentioned in the candidate's CV.       |\\n  | Limited Evidence of Spark/Dask   | High           | The position specifically requires experience with Spark or Dask, which is not indicated in the candidate's CV. |\\n  | Lack of Direct Productionizing Experience | Medium | Although the candidate has some relevant industry experience, direct experience in productionizing ML models is not detailed. |\\n\\n- **Rating:**\\n  3 out of 5\\n\\n- **Recommendation:**\\n  Proceed with the candidate for a round of interviews. While the candidate has a strong background in machine learning, research, and teaching, and some relevant industry experience, further assessment is needed to evaluate his practical experience with MLOps, Spark/Dask, and productionizing ML models at scale.\",\n",
            "        \"generation_info\": {\n",
            "          \"finish_reason\": \"stop\",\n",
            "          \"logprobs\": null\n",
            "        },\n",
            "        \"type\": \"ChatGeneration\",\n",
            "        \"message\": {\n",
            "          \"lc\": 1,\n",
            "          \"type\": \"constructor\",\n",
            "          \"id\": [\n",
            "            \"langchain\",\n",
            "            \"schema\",\n",
            "            \"messages\",\n",
            "            \"AIMessage\"\n",
            "          ],\n",
            "          \"kwargs\": {\n",
            "            \"content\": \"- **Key Summary of the Position:**\\n  The Senior Machine Learning Engineer position at Capital One requires the candidate to work on productionizing machine learning applications at scale using tools like Python, Spark/Dask, and MLOps. The role involves designing, building, and deploying ML models and ensuring high performance and availability. It also emphasizes continuous learning, collaboration in an Agile environment, and leveraging cloud-based technologies. Key qualifications include experience with Python or similar languages, distributed computing, ML frameworks, and productionizing ML models.\\n\\n- **Key Summary of the Candidate:**\\n  Mohannad Elhamod is a Clinical Assistant Professor with a Ph.D. in Computer Science, focusing on machine learning interpretability and visualization. He has extensive research experience, particularly in knowledge-guided machine learning and generative adversarial networks, as evidenced by his work at NASA and Virginia Tech. His teaching experience involves courses in neural networks and generative AI. Professionally, he has worked as a Software Development Engineer at Microsoft, where he contributed to Azure Monitoring and Microsoft Edge.\\n\\n- **Strengths Table:**\\n\\n  | Strength                                      | Evidence                                                                                              | Degree of relevance | How it is relevant to the job                                                                                                                                                    |\\n  |-----------------------------------------------|-------------------------------------------------------------------------------------------------------|---------------------|----------------------------------------------------------------------------------------------------------------------------------------------------------------------------------|\\n  | Strong ML Research Background                 | Ph.D. in Computer Science with a focus on machine learning interpretability and visualization         | High                | The role requires designing and building ML models, which aligns with the candidate's research expertise.                                                                         |\\n  | Experience with Generative Models             | Developed physics-informed generative adversarial networks at NASA                                    | High                | Relevant to developing ML models and components that solve real-world business problems.                                                                                         |\\n  | Teaching Experience in ML                     | Developed and taught courses on neural networks and generative AI                                     | Medium              | Demonstrates ability to explain complex ML concepts, which can aid in collaboration and team communication.                                                                       |\\n  | Industry Experience with Large-Scale Systems  | Worked at Microsoft on Azure Monitoring and Microsoft Edge                                            | High                | Experience with cloud-based architectures and large-scale deployments is crucial for developing and deploying ML solutions.                                                       |\\n  | Experience with Python                        | Extensive programming experience including Python                                                     | High                | Python is a preferred language for the position.                                                                                                                                  |\\n  | Experience with ML Frameworks                 | Research work involving neural networks and various ML techniques                                     | High                | Experience with ML frameworks is essential for the role.                                                                                                                          |\\n\\n- **Weaknesses Table:**\\n\\n  | Weakness                         | Severity level | How it is relevant to the job                                                                                   |\\n  |----------------------------------|----------------|-----------------------------------------------------------------------------------------------------------------|\\n  | Lack of Direct MLOps Experience  | Medium         | The job requires experience with MLOps practices, which is not explicitly mentioned in the candidate's CV.       |\\n  | Limited Evidence of Spark/Dask   | High           | The position specifically requires experience with Spark or Dask, which is not indicated in the candidate's CV. |\\n  | Lack of Direct Productionizing Experience | Medium | Although the candidate has some relevant industry experience, direct experience in productionizing ML models is not detailed. |\\n\\n- **Rating:**\\n  3 out of 5\\n\\n- **Recommendation:**\\n  Proceed with the candidate for a round of interviews. While the candidate has a strong background in machine learning, research, and teaching, and some relevant industry experience, further assessment is needed to evaluate his practical experience with MLOps, Spark/Dask, and productionizing ML models at scale.\",\n",
            "            \"response_metadata\": {\n",
            "              \"token_usage\": {\n",
            "                \"completion_tokens\": 718,\n",
            "                \"prompt_tokens\": 5685,\n",
            "                \"total_tokens\": 6403,\n",
            "                \"completion_tokens_details\": {\n",
            "                  \"audio_tokens\": null,\n",
            "                  \"reasoning_tokens\": 0,\n",
            "                  \"accepted_prediction_tokens\": 0,\n",
            "                  \"rejected_prediction_tokens\": 0\n",
            "                },\n",
            "                \"prompt_tokens_details\": {\n",
            "                  \"audio_tokens\": null,\n",
            "                  \"cached_tokens\": 2944\n",
            "                }\n",
            "              },\n",
            "              \"model_name\": \"gpt-4o\",\n",
            "              \"system_fingerprint\": \"fp_159d8341cc\",\n",
            "              \"finish_reason\": \"stop\",\n",
            "              \"logprobs\": null\n",
            "            },\n",
            "            \"type\": \"ai\",\n",
            "            \"id\": \"run-db37e08e-042f-4a5e-84e7-0b9820a4debe-0\",\n",
            "            \"tool_calls\": [],\n",
            "            \"invalid_tool_calls\": []\n",
            "          }\n",
            "        }\n",
            "      }\n",
            "    ]\n",
            "  ],\n",
            "  \"llm_output\": {\n",
            "    \"token_usage\": {\n",
            "      \"completion_tokens\": 718,\n",
            "      \"prompt_tokens\": 5685,\n",
            "      \"total_tokens\": 6403,\n",
            "      \"completion_tokens_details\": {\n",
            "        \"audio_tokens\": null,\n",
            "        \"reasoning_tokens\": 0,\n",
            "        \"accepted_prediction_tokens\": 0,\n",
            "        \"rejected_prediction_tokens\": 0\n",
            "      },\n",
            "      \"prompt_tokens_details\": {\n",
            "        \"audio_tokens\": null,\n",
            "        \"cached_tokens\": 2944\n",
            "      }\n",
            "    },\n",
            "    \"model_name\": \"gpt-4o\",\n",
            "    \"system_fingerprint\": \"fp_159d8341cc\"\n",
            "  },\n",
            "  \"run\": null,\n",
            "  \"type\": \"LLMResult\"\n",
            "}\n",
            "- **Key Summary of the Position:**\n",
            "  The Senior Machine Learning Engineer position at Capital One requires the candidate to work on productionizing machine learning applications at scale using tools like Python, Spark/Dask, and MLOps. The role involves designing, building, and deploying ML models and ensuring high performance and availability. It also emphasizes continuous learning, collaboration in an Agile environment, and leveraging cloud-based technologies. Key qualifications include experience with Python or similar languages, distributed computing, ML frameworks, and productionizing ML models.\n",
            "\n",
            "- **Key Summary of the Candidate:**\n",
            "  Mohannad Elhamod is a Clinical Assistant Professor with a Ph.D. in Computer Science, focusing on machine learning interpretability and visualization. He has extensive research experience, particularly in knowledge-guided machine learning and generative adversarial networks, as evidenced by his work at NASA and Virginia Tech. His teaching experience involves courses in neural networks and generative AI. Professionally, he has worked as a Software Development Engineer at Microsoft, where he contributed to Azure Monitoring and Microsoft Edge.\n",
            "\n",
            "- **Strengths Table:**\n",
            "\n",
            "  | Strength                                      | Evidence                                                                                              | Degree of relevance | How it is relevant to the job                                                                                                                                                    |\n",
            "  |-----------------------------------------------|-------------------------------------------------------------------------------------------------------|---------------------|----------------------------------------------------------------------------------------------------------------------------------------------------------------------------------|\n",
            "  | Strong ML Research Background                 | Ph.D. in Computer Science with a focus on machine learning interpretability and visualization         | High                | The role requires designing and building ML models, which aligns with the candidate's research expertise.                                                                         |\n",
            "  | Experience with Generative Models             | Developed physics-informed generative adversarial networks at NASA                                    | High                | Relevant to developing ML models and components that solve real-world business problems.                                                                                         |\n",
            "  | Teaching Experience in ML                     | Developed and taught courses on neural networks and generative AI                                     | Medium              | Demonstrates ability to explain complex ML concepts, which can aid in collaboration and team communication.                                                                       |\n",
            "  | Industry Experience with Large-Scale Systems  | Worked at Microsoft on Azure Monitoring and Microsoft Edge                                            | High                | Experience with cloud-based architectures and large-scale deployments is crucial for developing and deploying ML solutions.                                                       |\n",
            "  | Experience with Python                        | Extensive programming experience including Python                                                     | High                | Python is a preferred language for the position.                                                                                                                                  |\n",
            "  | Experience with ML Frameworks                 | Research work involving neural networks and various ML techniques                                     | High                | Experience with ML frameworks is essential for the role.                                                                                                                          |\n",
            "\n",
            "- **Weaknesses Table:**\n",
            "\n",
            "  | Weakness                         | Severity level | How it is relevant to the job                                                                                   |\n",
            "  |----------------------------------|----------------|-----------------------------------------------------------------------------------------------------------------|\n",
            "  | Lack of Direct MLOps Experience  | Medium         | The job requires experience with MLOps practices, which is not explicitly mentioned in the candidate's CV.       |\n",
            "  | Limited Evidence of Spark/Dask   | High           | The position specifically requires experience with Spark or Dask, which is not indicated in the candidate's CV. |\n",
            "  | Lack of Direct Productionizing Experience | Medium | Although the candidate has some relevant industry experience, direct experience in productionizing ML models is not detailed. |\n",
            "\n",
            "- **Rating:**\n",
            "  3 out of 5\n",
            "\n",
            "- **Recommendation:**\n",
            "  Proceed with the candidate for a round of interviews. While the candidate has a strong background in machine learning, research, and teaching, and some relevant industry experience, further assessment is needed to evaluate his practical experience with MLOps, Spark/Dask, and productionizing ML models at scale.\n",
            "Tokens Used: 6403\n",
            "\tPrompt Tokens: 5685\n",
            "\tCompletion Tokens: 718\n",
            "Successful Requests: 1\n",
            "Total Cost (USD): $0.0213925\n"
          ]
        }
      ]
    },
    {
      "cell_type": "markdown",
      "source": [
        "#Part 2: Homework"
      ],
      "metadata": {
        "id": "6QOIueVJiup4"
      }
    },
    {
      "cell_type": "markdown",
      "source": [
        "##2.1 Question Answering System Using the School's Syllabus Database"
      ],
      "metadata": {
        "id": "I1kJUnAY9dUB"
      }
    },
    {
      "cell_type": "markdown",
      "source": [
        " At your school, the department has embarked on a project to utilize language modeling for the development of a question-answering agent. This initiative aims to streamline the access to information for faculty and staff, particularly regarding the extensive array of courses offered at our institution. The data pertaining to these courses is currently dispersed across numerous documents within [the department's syllabus corpus](https://drive.google.com/drive/folders/1dH-t_Ujih4lMMzUOaNOHngvOYLK_gWOp?usp=sharing).\n",
        "\n",
        "*Note: The used syllabus corpus is a subset of [Cal Poly's Syllabus Corpus dataset](https://www.kaggle.com/datasets/mfekadu/syllabus-corpus).*"
      ],
      "metadata": {
        "id": "CZyoG9F9_pYS"
      }
    },
    {
      "cell_type": "markdown",
      "source": [
        "###2.1.1 Let's first download the files\n",
        "\n",
        "*Note: Downloading the files may be slow. No need to run this step more than once.*"
      ],
      "metadata": {
        "id": "W3hkShHcce9e"
      }
    },
    {
      "cell_type": "code",
      "source": [
        "!pip install --upgrade gdown\n",
        "!gdown --folder https://drive.google.com/drive/folders/1dH-t_Ujih4lMMzUOaNOHngvOYLK_gWOp"
      ],
      "metadata": {
        "colab": {
          "base_uri": "https://localhost:8080/"
        },
        "id": "wc5fsmdo18v9",
        "outputId": "e72dcc25-a409-4b40-83f4-0d13b33d8c93"
      },
      "execution_count": null,
      "outputs": [
        {
          "output_type": "stream",
          "name": "stdout",
          "text": [
            "Requirement already satisfied: gdown in /usr/local/lib/python3.10/dist-packages (5.2.0)\n",
            "Requirement already satisfied: beautifulsoup4 in /usr/local/lib/python3.10/dist-packages (from gdown) (4.12.3)\n",
            "Requirement already satisfied: filelock in /usr/local/lib/python3.10/dist-packages (from gdown) (3.16.1)\n",
            "Requirement already satisfied: requests[socks] in /usr/local/lib/python3.10/dist-packages (from gdown) (2.32.3)\n",
            "Requirement already satisfied: tqdm in /usr/local/lib/python3.10/dist-packages (from gdown) (4.66.6)\n",
            "Requirement already satisfied: soupsieve>1.2 in /usr/local/lib/python3.10/dist-packages (from beautifulsoup4->gdown) (2.6)\n",
            "Requirement already satisfied: charset-normalizer<4,>=2 in /usr/local/lib/python3.10/dist-packages (from requests[socks]->gdown) (3.4.0)\n",
            "Requirement already satisfied: idna<4,>=2.5 in /usr/local/lib/python3.10/dist-packages (from requests[socks]->gdown) (3.10)\n",
            "Requirement already satisfied: urllib3<3,>=1.21.1 in /usr/local/lib/python3.10/dist-packages (from requests[socks]->gdown) (2.2.3)\n",
            "Requirement already satisfied: certifi>=2017.4.17 in /usr/local/lib/python3.10/dist-packages (from requests[socks]->gdown) (2024.8.30)\n",
            "Requirement already satisfied: PySocks!=1.5.7,>=1.5.6 in /usr/local/lib/python3.10/dist-packages (from requests[socks]->gdown) (1.7.1)\n",
            "Retrieving folder contents\n",
            "Processing file 1coF5-0feLpYVDPomRPRTliitFUYUJb0i 1___syllabus.pdf\n",
            "Processing file 1kAzZOyO0klFCcR_WDcwju7ymzGPQL1Ja 2___syllabus.pdf\n",
            "Processing file 1GD-C007dvGBniAbZJjTdERR72caxap6Z 3___Syllabus-Lean-Sigma-Green-Belt-Cert12.pdf\n",
            "Processing file 1EJlGrtRdzkjm_t8tJNRS_XbECedBdc05 4___syllabus.pdf\n",
            "Processing file 1QZuoGCgSis5_SNhYnl3V8GPOGk2rH1xo 5___LA114-213Lec.pdf\n",
            "Processing file 1CbCQQH-AGhnmh0RPsghRsuOtLYYPRore 6___syllabus.pdf\n",
            "Processing file 192_AeIBU4feZhNcJAMyZhuoLueY9dJ7a 7___Syllabus-Summer-Online-GB-TGB-2017-IT303G.pdf\n",
            "Processing file 1G5h0fH4Ig1IwyjxPwAE3jD8MugSQnqmS 8___syllabus.pdf\n",
            "Processing file 1TyktAq4SAaA1RUnNRPVBLfz8e7tFZKn3 9___syllabus.pdf\n",
            "Processing file 1GaYYH2K5sQw1s9bNuTD-JP0rohCejhGq 10___syllabus.pdf\n",
            "Processing file 1iQOQUCZJBJmQcOiXmE5AAX091L7bHId8 11___syllabus.pdf\n",
            "Processing file 17vGMIy5skXXOZ_Oq6LP6kvQrmCQicroT 12___WebPageSly.pdf\n",
            "Processing file 1msOVu6i58lKvxSTtwCXVLXwqPGuhtHuD 13___syllabus.pdf\n",
            "Processing file 13_rIvyOCp02TQj3uc15oSF5cyQ1hhW9t 14___FSN250.pdf\n",
            "Processing file 1r2o5Fyg8hj0Alf61bH8jgSBOcJaPlaGr 15___syllabus.pdf\n",
            "Processing file 1L6wyoSpLWqk5sC20hyO8s0pZNnH4VG0s 16___syllabus.pdf\n",
            "Processing file 1WKMzlgA4uzTGQkX89_GC1Kpca-LK2UhE 17___Syllabus-241-09-1pg.pdf\n",
            "Processing file 1g3dxbfdl_QAGLhfRFgetlx0Ozla6SuD9 18___viewcontent.cgi\n",
            "Processing file 1WTRzg5eO9ASBgkRnYNXIeySfHHStDXoW 19___Syllabus-Lean-Sigma-Black-Belt34-1.pdf\n",
            "Processing file 1Q6gOK3N8rsGXdyFREIS94tzvgq8ybGK5 20___syllabus09.pdf\n",
            "Retrieving folder contents completed\n",
            "Building directory structure\n",
            "Building directory structure completed\n",
            "Downloading...\n",
            "From: https://drive.google.com/uc?id=1coF5-0feLpYVDPomRPRTliitFUYUJb0i\n",
            "To: /content/IS883_HW4_syllabus_corpus/1___syllabus.pdf\n",
            "100% 124k/124k [00:00<00:00, 4.96MB/s]\n",
            "Downloading...\n",
            "From: https://drive.google.com/uc?id=1kAzZOyO0klFCcR_WDcwju7ymzGPQL1Ja\n",
            "To: /content/IS883_HW4_syllabus_corpus/2___syllabus.pdf\n",
            "100% 121k/121k [00:00<00:00, 3.30MB/s]\n",
            "Downloading...\n",
            "From: https://drive.google.com/uc?id=1GD-C007dvGBniAbZJjTdERR72caxap6Z\n",
            "To: /content/IS883_HW4_syllabus_corpus/3___Syllabus-Lean-Sigma-Green-Belt-Cert12.pdf\n",
            "100% 257k/257k [00:00<00:00, 4.03MB/s]\n",
            "Downloading...\n",
            "From: https://drive.google.com/uc?id=1EJlGrtRdzkjm_t8tJNRS_XbECedBdc05\n",
            "To: /content/IS883_HW4_syllabus_corpus/4___syllabus.pdf\n",
            "100% 123k/123k [00:00<00:00, 2.78MB/s]\n",
            "Downloading...\n",
            "From: https://drive.google.com/uc?id=1QZuoGCgSis5_SNhYnl3V8GPOGk2rH1xo\n",
            "To: /content/IS883_HW4_syllabus_corpus/5___LA114-213Lec.pdf\n",
            "100% 394k/394k [00:00<00:00, 5.08MB/s]\n",
            "Downloading...\n",
            "From: https://drive.google.com/uc?id=1CbCQQH-AGhnmh0RPsghRsuOtLYYPRore\n",
            "To: /content/IS883_HW4_syllabus_corpus/6___syllabus.pdf\n",
            "100% 124k/124k [00:00<00:00, 3.08MB/s]\n",
            "Downloading...\n",
            "From: https://drive.google.com/uc?id=192_AeIBU4feZhNcJAMyZhuoLueY9dJ7a\n",
            "To: /content/IS883_HW4_syllabus_corpus/7___Syllabus-Summer-Online-GB-TGB-2017-IT303G.pdf\n",
            "100% 169k/169k [00:00<00:00, 3.64MB/s]\n",
            "Downloading...\n",
            "From: https://drive.google.com/uc?id=1G5h0fH4Ig1IwyjxPwAE3jD8MugSQnqmS\n",
            "To: /content/IS883_HW4_syllabus_corpus/8___syllabus.pdf\n",
            "100% 88.0k/88.0k [00:00<00:00, 2.85MB/s]\n",
            "Downloading...\n",
            "From: https://drive.google.com/uc?id=1TyktAq4SAaA1RUnNRPVBLfz8e7tFZKn3\n",
            "To: /content/IS883_HW4_syllabus_corpus/9___syllabus.pdf\n",
            "100% 85.0k/85.0k [00:00<00:00, 2.99MB/s]\n",
            "Downloading...\n",
            "From: https://drive.google.com/uc?id=1GaYYH2K5sQw1s9bNuTD-JP0rohCejhGq\n",
            "To: /content/IS883_HW4_syllabus_corpus/10___syllabus.pdf\n",
            "100% 84.0k/84.0k [00:00<00:00, 3.06MB/s]\n",
            "Downloading...\n",
            "From: https://drive.google.com/uc?id=1iQOQUCZJBJmQcOiXmE5AAX091L7bHId8\n",
            "To: /content/IS883_HW4_syllabus_corpus/11___syllabus.pdf\n",
            "100% 49.5k/49.5k [00:00<00:00, 8.65MB/s]\n",
            "Downloading...\n",
            "From: https://drive.google.com/uc?id=17vGMIy5skXXOZ_Oq6LP6kvQrmCQicroT\n",
            "To: /content/IS883_HW4_syllabus_corpus/12___WebPageSly.pdf\n",
            "100% 8.60k/8.60k [00:00<00:00, 28.6MB/s]\n",
            "Downloading...\n",
            "From: https://drive.google.com/uc?id=1msOVu6i58lKvxSTtwCXVLXwqPGuhtHuD\n",
            "To: /content/IS883_HW4_syllabus_corpus/13___syllabus.pdf\n",
            "100% 139k/139k [00:00<00:00, 3.33MB/s]\n",
            "Downloading...\n",
            "From: https://drive.google.com/uc?id=13_rIvyOCp02TQj3uc15oSF5cyQ1hhW9t\n",
            "To: /content/IS883_HW4_syllabus_corpus/14___FSN250.pdf\n",
            "100% 187k/187k [00:00<00:00, 3.66MB/s]\n",
            "Downloading...\n",
            "From: https://drive.google.com/uc?id=1r2o5Fyg8hj0Alf61bH8jgSBOcJaPlaGr\n",
            "To: /content/IS883_HW4_syllabus_corpus/15___syllabus.pdf\n",
            "100% 84.7k/84.7k [00:00<00:00, 2.90MB/s]\n",
            "Downloading...\n",
            "From: https://drive.google.com/uc?id=1L6wyoSpLWqk5sC20hyO8s0pZNnH4VG0s\n",
            "To: /content/IS883_HW4_syllabus_corpus/16___syllabus.pdf\n",
            "100% 85.1k/85.1k [00:00<00:00, 2.83MB/s]\n",
            "Downloading...\n",
            "From: https://drive.google.com/uc?id=1WKMzlgA4uzTGQkX89_GC1Kpca-LK2UhE\n",
            "To: /content/IS883_HW4_syllabus_corpus/17___Syllabus-241-09-1pg.pdf\n",
            "100% 46.0k/46.0k [00:00<00:00, 10.7MB/s]\n",
            "Downloading...\n",
            "From: https://drive.google.com/uc?id=1g3dxbfdl_QAGLhfRFgetlx0Ozla6SuD9\n",
            "To: /content/IS883_HW4_syllabus_corpus/18___viewcontent.cgi\n",
            "100% 132k/132k [00:00<00:00, 3.13MB/s]\n",
            "Downloading...\n",
            "From: https://drive.google.com/uc?id=1WTRzg5eO9ASBgkRnYNXIeySfHHStDXoW\n",
            "To: /content/IS883_HW4_syllabus_corpus/19___Syllabus-Lean-Sigma-Black-Belt34-1.pdf\n",
            "100% 222k/222k [00:00<00:00, 4.13MB/s]\n",
            "Downloading...\n",
            "From: https://drive.google.com/uc?id=1Q6gOK3N8rsGXdyFREIS94tzvgq8ybGK5\n",
            "To: /content/IS883_HW4_syllabus_corpus/20___syllabus09.pdf\n",
            "100% 97.9k/97.9k [00:00<00:00, 3.34MB/s]\n",
            "Download completed\n"
          ]
        }
      ]
    },
    {
      "cell_type": "code",
      "source": [
        "syllabus_corpus_path = \"/content/IS883_HW4_syllabus_corpus\""
      ],
      "metadata": {
        "id": "mlvkSddj2b3g"
      },
      "execution_count": null,
      "outputs": []
    },
    {
      "cell_type": "markdown",
      "source": [
        "We will use a [PyPDFDirectoryLoader](https://api.python.langchain.com/en/latest/document_loaders/langchain.document_loaders.pdf.PyPDFDirectoryLoader.html) to create a `loader` that can load all the PDFs in the directory so they could be used by `LangChain`."
      ],
      "metadata": {
        "id": "s-5WoGlMB0HF"
      }
    },
    {
      "cell_type": "code",
      "source": [
        "from langchain.document_loaders import PyPDFDirectoryLoader\n",
        "\n",
        "loader = PyPDFDirectoryLoader(syllabus_corpus_path)"
      ],
      "metadata": {
        "id": "9d5Kv4xOIbmr"
      },
      "execution_count": null,
      "outputs": []
    },
    {
      "cell_type": "markdown",
      "source": [
        "###2.1.2 Document splitting\n"
      ],
      "metadata": {
        "id": "K9BYOSrmCwdB"
      }
    },
    {
      "cell_type": "markdown",
      "source": [
        "\n",
        "Given the extensive data contained within these documents, it's impractical to include them in their entirety in our queries. Including all data at once may exceed the context window's capacity. It may also result in significant processing costs. To address this challenge, we will split the syllabi into small chunks of data.\n",
        "\n",
        "* Creating a [RecursiveCharacterTextSplitter](https://python.langchain.com/docs/modules/data_connection/document_transformers/text_splitters/recursive_text_splitter): A `RecursiveCharacterTextSplitter` divides the documents into more manageable segments/chunks.\n",
        "\n",
        "* Configurations:\n",
        "  * `chunk_size`: Set to 500 characters. This size ensures that the chunks are large enough to contain meaningful content but small enough to be processed efficiently.\n",
        "\n",
        "  * `chunk_overlap`: Set  to 50 characters. This overlap will help prevent the loss of context that might occur at the boundaries of each chunk. It ensures that no critical information is missed or misunderstood due to the chunking process."
      ],
      "metadata": {
        "id": "iz5xcz_ldJnc"
      }
    },
    {
      "cell_type": "code",
      "source": [
        "from langchain.text_splitter import RecursiveCharacterTextSplitter\n",
        "\n",
        "chunk_size=500\n",
        "chunk_overlap=50\n",
        "\n",
        "text_splitter = RecursiveCharacterTextSplitter(chunk_size=chunk_size, chunk_overlap=chunk_overlap)"
      ],
      "metadata": {
        "id": "pH5RHznSCv7j"
      },
      "execution_count": null,
      "outputs": []
    },
    {
      "cell_type": "markdown",
      "source": [
        "Next, we perform the splitting.\n",
        "\n",
        "*Note: Ignore any offset Warnings.*"
      ],
      "metadata": {
        "id": "NT_gyExVEK2T"
      }
    },
    {
      "cell_type": "code",
      "source": [
        "chunks = loader.load_and_split(text_splitter)"
      ],
      "metadata": {
        "id": "tzrSsfNiELEm",
        "colab": {
          "base_uri": "https://localhost:8080/"
        },
        "outputId": "dca27a72-bfe2-440f-ed3e-045bb4788d36"
      },
      "execution_count": null,
      "outputs": [
        {
          "output_type": "stream",
          "name": "stderr",
          "text": [
            "WARNING:pypdf._reader:Ignoring wrong pointing object 8 0 (offset 0)\n",
            "WARNING:pypdf._reader:Ignoring wrong pointing object 10 0 (offset 0)\n",
            "WARNING:pypdf._reader:Ignoring wrong pointing object 12 0 (offset 0)\n",
            "WARNING:pypdf._reader:Ignoring wrong pointing object 14 0 (offset 0)\n",
            "WARNING:pypdf._reader:Ignoring wrong pointing object 16 0 (offset 0)\n",
            "WARNING:pypdf._reader:Ignoring wrong pointing object 18 0 (offset 0)\n",
            "WARNING:pypdf._reader:Ignoring wrong pointing object 20 0 (offset 0)\n",
            "WARNING:pypdf._reader:Ignoring wrong pointing object 65 0 (offset 0)\n",
            "WARNING:pypdf._reader:Ignoring wrong pointing object 67 0 (offset 0)\n",
            "WARNING:pypdf._reader:Ignoring wrong pointing object 9 0 (offset 0)\n",
            "WARNING:pypdf._reader:Ignoring wrong pointing object 11 0 (offset 0)\n",
            "WARNING:pypdf._reader:Ignoring wrong pointing object 13 0 (offset 0)\n",
            "WARNING:pypdf._reader:Ignoring wrong pointing object 15 0 (offset 0)\n",
            "WARNING:pypdf._reader:Ignoring wrong pointing object 17 0 (offset 0)\n",
            "WARNING:pypdf._reader:Ignoring wrong pointing object 25 0 (offset 0)\n",
            "WARNING:pypdf._reader:Ignoring wrong pointing object 27 0 (offset 0)\n",
            "WARNING:pypdf._reader:Ignoring wrong pointing object 33 0 (offset 0)\n",
            "WARNING:pypdf._reader:Ignoring wrong pointing object 35 0 (offset 0)\n",
            "WARNING:pypdf._reader:Ignoring wrong pointing object 37 0 (offset 0)\n",
            "WARNING:pypdf._reader:Ignoring wrong pointing object 39 0 (offset 0)\n",
            "WARNING:pypdf._reader:Ignoring wrong pointing object 41 0 (offset 0)\n",
            "WARNING:pypdf._reader:Ignoring wrong pointing object 8 0 (offset 0)\n",
            "WARNING:pypdf._reader:Ignoring wrong pointing object 10 0 (offset 0)\n",
            "WARNING:pypdf._reader:Ignoring wrong pointing object 13 0 (offset 0)\n",
            "WARNING:pypdf._reader:Ignoring wrong pointing object 15 0 (offset 0)\n",
            "WARNING:pypdf._reader:Ignoring wrong pointing object 17 0 (offset 0)\n",
            "WARNING:pypdf._reader:Ignoring wrong pointing object 25 0 (offset 0)\n",
            "WARNING:pypdf._reader:Ignoring wrong pointing object 36 0 (offset 0)\n",
            "WARNING:pypdf._reader:Ignoring wrong pointing object 38 0 (offset 0)\n",
            "WARNING:pypdf._reader:Ignoring wrong pointing object 40 0 (offset 0)\n",
            "WARNING:pypdf._reader:Ignoring wrong pointing object 42 0 (offset 0)\n"
          ]
        }
      ]
    },
    {
      "cell_type": "markdown",
      "source": [
        "Here is a chunk example"
      ],
      "metadata": {
        "id": "nP0e3vEyucRx"
      }
    },
    {
      "cell_type": "code",
      "source": [
        "chunks[122]"
      ],
      "metadata": {
        "colab": {
          "base_uri": "https://localhost:8080/"
        },
        "id": "BolpHJSBuM5p",
        "outputId": "d730f9c2-907e-4cd4-8a49-a8c3e367c2e5"
      },
      "execution_count": null,
      "outputs": [
        {
          "output_type": "execute_result",
          "data": {
            "text/plain": [
              "Document(metadata={'source': '/content/IS883_HW4_syllabus_corpus/20___syllabus09.pdf', 'page': 0}, page_content='Program Design in C by J. Hanly and E. Koffman (5th Edition)   Recommended Text(s)   The C Programming Language, Second Edition by Kernighan and Ritchie, Prentice Hall, Inc.,   Policies and Advisories   1)      This course will have a common final scheduled for either Tuesday or Wednesday from 7-10:00pm of finals week – no other finals will be given! 2)      The College of Engineering requires proof of unusual circumstances to withdraw from a course after the eighth day of the quarter. 3)')"
            ]
          },
          "metadata": {},
          "execution_count": 33
        }
      ]
    },
    {
      "cell_type": "markdown",
      "source": [
        "###2.1.3 Chunk Similarity Search\n",
        "\n"
      ],
      "metadata": {
        "id": "r43j4PPmeWx-"
      }
    },
    {
      "cell_type": "markdown",
      "source": [
        "The next crucial step involves the creation of a data store, essentially a database, that will house the chunks of data you've created.\n",
        "\n",
        "* Building the Data Store with [Facebook AI Similarity Search (FAISS)](https://python.langchain.com/docs/integrations/vectorstores/faiss): First, we set up a data store using a [FAISS Vector store](https://python.langchain.com/docs/integrations/vectorstores/faiss). FAISS is a library developed by Facebook AI that allows for efficient similarity search.\n",
        "\n",
        "* For each chunk of data in your store, we calculate an embedding using `OpenAIEmbeddings`. These embeddings are numerical representations of text data, which can then be compared each other as a similarity metric.\n",
        "\n",
        "* Using these embeddings, FAISS will be able to quickly find the most relevant chunk(s) to a query. This process involves comparing the embedding of the query with the embeddings of the chunks to identify the best match(es)."
      ],
      "metadata": {
        "id": "kIkbtCboEWyQ"
      }
    },
    {
      "cell_type": "code",
      "source": [
        "!pip install tiktoken faiss-cpu"
      ],
      "metadata": {
        "colab": {
          "base_uri": "https://localhost:8080/"
        },
        "id": "hWoGAWbW50s4",
        "outputId": "a4a18a75-16e5-47e4-86a5-199d6521a802"
      },
      "execution_count": null,
      "outputs": [
        {
          "output_type": "stream",
          "name": "stdout",
          "text": [
            "Collecting tiktoken\n",
            "  Downloading tiktoken-0.8.0-cp310-cp310-manylinux_2_17_x86_64.manylinux2014_x86_64.whl.metadata (6.6 kB)\n",
            "Collecting faiss-cpu\n",
            "  Downloading faiss_cpu-1.9.0-cp310-cp310-manylinux_2_17_x86_64.manylinux2014_x86_64.whl.metadata (4.4 kB)\n",
            "Requirement already satisfied: regex>=2022.1.18 in /usr/local/lib/python3.10/dist-packages (from tiktoken) (2024.9.11)\n",
            "Requirement already satisfied: requests>=2.26.0 in /usr/local/lib/python3.10/dist-packages (from tiktoken) (2.32.3)\n",
            "Requirement already satisfied: numpy<3.0,>=1.25.0 in /usr/local/lib/python3.10/dist-packages (from faiss-cpu) (1.26.4)\n",
            "Requirement already satisfied: packaging in /usr/local/lib/python3.10/dist-packages (from faiss-cpu) (24.1)\n",
            "Requirement already satisfied: charset-normalizer<4,>=2 in /usr/local/lib/python3.10/dist-packages (from requests>=2.26.0->tiktoken) (3.4.0)\n",
            "Requirement already satisfied: idna<4,>=2.5 in /usr/local/lib/python3.10/dist-packages (from requests>=2.26.0->tiktoken) (3.10)\n",
            "Requirement already satisfied: urllib3<3,>=1.21.1 in /usr/local/lib/python3.10/dist-packages (from requests>=2.26.0->tiktoken) (2.2.3)\n",
            "Requirement already satisfied: certifi>=2017.4.17 in /usr/local/lib/python3.10/dist-packages (from requests>=2.26.0->tiktoken) (2024.8.30)\n",
            "Downloading tiktoken-0.8.0-cp310-cp310-manylinux_2_17_x86_64.manylinux2014_x86_64.whl (1.2 MB)\n",
            "\u001b[2K   \u001b[90m━━━━━━━━━━━━━━━━━━━━━━━━━━━━━━━━━━━━━━━━\u001b[0m \u001b[32m1.2/1.2 MB\u001b[0m \u001b[31m15.3 MB/s\u001b[0m eta \u001b[36m0:00:00\u001b[0m\n",
            "\u001b[?25hDownloading faiss_cpu-1.9.0-cp310-cp310-manylinux_2_17_x86_64.manylinux2014_x86_64.whl (27.5 MB)\n",
            "\u001b[2K   \u001b[90m━━━━━━━━━━━━━━━━━━━━━━━━━━━━━━━━━━━━━━━━\u001b[0m \u001b[32m27.5/27.5 MB\u001b[0m \u001b[31m36.8 MB/s\u001b[0m eta \u001b[36m0:00:00\u001b[0m\n",
            "\u001b[?25hInstalling collected packages: faiss-cpu, tiktoken\n",
            "Successfully installed faiss-cpu-1.9.0 tiktoken-0.8.0\n"
          ]
        }
      ]
    },
    {
      "cell_type": "code",
      "source": [
        "from langchain.embeddings.openai import OpenAIEmbeddings\n",
        "from langchain.vectorstores import FAISS\n",
        "\n",
        "faiss_store = FAISS.from_documents(chunks, OpenAIEmbeddings(openai_api_key=openai_api_key))"
      ],
      "metadata": {
        "id": "l1KJfaIHJW9L",
        "colab": {
          "base_uri": "https://localhost:8080/"
        },
        "outputId": "fdd06d22-737e-4f89-cb11-dfb822f4968f"
      },
      "execution_count": null,
      "outputs": [
        {
          "output_type": "stream",
          "name": "stderr",
          "text": [
            "<ipython-input-35-371166fdab9e>:4: LangChainDeprecationWarning: The class `OpenAIEmbeddings` was deprecated in LangChain 0.0.9 and will be removed in 1.0. An updated version of the class exists in the :class:`~langchain-openai package and should be used instead. To use it run `pip install -U :class:`~langchain-openai` and import as `from :class:`~langchain_openai import OpenAIEmbeddings``.\n",
            "  faiss_store = FAISS.from_documents(chunks, OpenAIEmbeddings(openai_api_key=openai_api_key))\n"
          ]
        }
      ]
    },
    {
      "cell_type": "markdown",
      "source": [
        "With the data store in place, you are now equipped to tackle the core functionality of our question-answering system: responding to queries based on the indexed database.\n",
        "\n",
        "* We utilize the [*`similarity_search_with_score`*](https://python.langchain.com/docs/integrations/vectorstores/faiss) function to identify the chunk that is most relevant to the posed question.\n",
        "\n",
        "* Display Source Information: Once you have identified the most relevant answer, output additional details indicating where this chunk is located. Specifically, provide information about *the page number and the document from which this chunk was extracted*.  **(2 Points)**\n",
        "\n",
        "To gain a deeper understanding of how similarity search operates, refer to this [article](https://www.pinecone.io/learn/what-is-similarity-search/)."
      ],
      "metadata": {
        "id": "XSdBNAFuFog9"
      }
    },
    {
      "cell_type": "code",
      "source": [
        "#Use LangChain debugging\n",
        "import langchain\n",
        "langchain.debug = False"
      ],
      "metadata": {
        "id": "WdOfeCohkUY3"
      },
      "execution_count": null,
      "outputs": []
    },
    {
      "cell_type": "code",
      "source": [
        "question = \"Who is the instructor of Linear Algebra III?\""
      ],
      "metadata": {
        "id": "MtXjIjFOFn_s"
      },
      "execution_count": null,
      "outputs": []
    },
    {
      "cell_type": "code",
      "source": [
        "number_of_top_matches = 5\n",
        "\n",
        "top_matching_chunks = faiss_store.similarity_search_with_score(question, k=number_of_top_matches)\n",
        "\n",
        "#Get best chunk\n",
        "best_chunk =   ### Fill here\n",
        "\n",
        "# Print chunk and details\n",
        "source_file = ### Fill here\n",
        "page_number = ### Fill here\n",
        "chunk_content = ### Fill here\n",
        "print(source_file + \". Page: \" + page_number + \"\\n\\n\", chunk_content)"
      ],
      "metadata": {
        "id": "BCFVrRojMlm5"
      },
      "execution_count": null,
      "outputs": []
    },
    {
      "cell_type": "markdown",
      "source": [
        "* Examine why certain chunks received higher or lower similarity scores. Analyze the content of each chunk in relation to your query to understand the basis of these scores. **(5 Points)**\n",
        "\n",
        "  * Discuss whether the model is effectively discerning relevant information or if it appears to be misled by certain elements. Provide suggestions for improvements."
      ],
      "metadata": {
        "id": "zXWI7xvuH8wx"
      }
    },
    {
      "cell_type": "markdown",
      "source": [
        "**Answer:**"
      ],
      "metadata": {
        "id": "hrxjlTs8wzoR"
      }
    },
    {
      "cell_type": "code",
      "source": [
        "### Fill here: Code to get answer"
      ],
      "metadata": {
        "id": "D7yn5Q6Rg81e"
      },
      "execution_count": null,
      "outputs": []
    },
    {
      "cell_type": "markdown",
      "source": [
        "*Answer here*"
      ],
      "metadata": {
        "id": "G-nN8u1BIpw5"
      }
    },
    {
      "cell_type": "markdown",
      "source": [
        "###2.1.4 Putting it all together!"
      ],
      "metadata": {
        "id": "sd9h168rjO93"
      }
    },
    {
      "cell_type": "markdown",
      "source": [
        "Finally, we are going to use OpenAI API to get the answer to the question based on the relevant chunk. To do that, we will use `LangChain`'s [*`create_retrieval_chain`*](https://api.python.langchain.com/en/latest/chains/langchain.chains.retrieval.create_retrieval_chain.html#langchain.chains.retrieval.create_retrieval_chain).\n",
        "\n",
        "* Analyze the requests and responses in detail. Discuss how the API processes the chunks and formulates a prompt. The answer should be elaborate and clearly backed by actual diagnostics (i.e., using code to show the actual requests and responses that are taking place behind the scenes) **(5 point)** .\n",
        "\n",
        "* Characterize and evaluate the system in terms of\n",
        "  * **average** cost.\n",
        "  * data store size.\n",
        "  * and **average** accuracy (in terms of relevance and precision).\n",
        "\n",
        "  Elaborate, justify, and show your work. **(5 point)**\n",
        "\n",
        "\n",
        "\n",
        "\n",
        "\n",
        "\n"
      ],
      "metadata": {
        "id": "IaV70nbKLHcm"
      }
    },
    {
      "cell_type": "code",
      "source": [
        "#Use LangChain debugging\n",
        "import langchain\n",
        "langchain.debug = False"
      ],
      "metadata": {
        "id": "y9Wr8o6kkNCP"
      },
      "execution_count": null,
      "outputs": []
    },
    {
      "cell_type": "code",
      "source": [
        "temperature = 1.0"
      ],
      "metadata": {
        "id": "J7IjXkkYj-4S"
      },
      "execution_count": null,
      "outputs": []
    },
    {
      "cell_type": "code",
      "source": [
        "from langchain.chat_models import ChatOpenAI\n",
        "\n",
        "# Create a reference to the language model\n",
        "llm = ChatOpenAI(openai_api_key=openai_api_key, temperature=temperature)"
      ],
      "metadata": {
        "id": "V366zXMybXGq"
      },
      "execution_count": null,
      "outputs": []
    },
    {
      "cell_type": "code",
      "source": [
        "from langchain.chains import create_retrieval_chain\n",
        "from langchain.chains.combine_documents import create_stuff_documents_chain\n",
        "\n",
        "# The retriever is the FAISS store, which retrieves relevant chunks/documents.\n",
        "number_of_top_matches = 5\n",
        "retriever = faiss_store.as_retriever(k=number_of_top_matches)\n",
        "\n",
        "system_prompt = (\n",
        "    \"\"\"\n",
        "    Answer the questions based on the provided context.\n",
        "\n",
        "    Context:\n",
        "    {context}\n",
        "    \"\"\"\n",
        ")\n",
        "\n",
        "# DO NOT CHANGE THIS\n",
        "prompt = ChatPromptTemplate.from_messages(\n",
        "    [\n",
        "        (\"system\", system_prompt),\n",
        "        (\"human\", \"{input}\"),\n",
        "    ]\n",
        ")\n",
        "\n",
        "# The aggregator assembles the relevant documents together into one text.\n",
        "aggregator = create_stuff_documents_chain(llm, prompt=prompt)\n",
        "\n",
        "# We finally have a RAG chain!\n",
        "rag_chain = create_retrieval_chain(retriever, aggregator)"
      ],
      "metadata": {
        "id": "iI0bNLK1jiUA"
      },
      "execution_count": null,
      "outputs": []
    },
    {
      "cell_type": "markdown",
      "source": [
        "First question:\n",
        "\n",
        "\n",
        "\n",
        "> \"Who is the instructor of Linear Algebra III?\""
      ],
      "metadata": {
        "id": "ijeqUQEfxqNI"
      }
    },
    {
      "cell_type": "code",
      "source": [
        "question = \"Who is the instructor of Linear Algebra III?\""
      ],
      "metadata": {
        "id": "cCtky8DhkGiK"
      },
      "execution_count": null,
      "outputs": []
    },
    {
      "cell_type": "markdown",
      "source": [
        "**Answer**"
      ],
      "metadata": {
        "id": "pDxNIIWXl9w_"
      }
    },
    {
      "cell_type": "code",
      "source": [
        "### Fill here: Code to answer here."
      ],
      "metadata": {
        "id": "GPLRI-e5l96h"
      },
      "execution_count": null,
      "outputs": []
    },
    {
      "cell_type": "markdown",
      "source": [
        "*Your answer*\n",
        "\n",
        "\n"
      ],
      "metadata": {
        "id": "P-kEs712YZ8h"
      }
    },
    {
      "cell_type": "markdown",
      "source": [
        "###2.1.5 Trying a Different Question"
      ],
      "metadata": {
        "id": "SI4w90F_Kvwh"
      }
    },
    {
      "cell_type": "markdown",
      "source": [
        "Second question:\n",
        "\n",
        "\n",
        "\n",
        "> \"Define cheating in Lean Six Sigma Black Belt Training.\""
      ],
      "metadata": {
        "id": "jwaGcrbDxbxy"
      }
    },
    {
      "cell_type": "markdown",
      "source": [
        "It's important to analyze and compare the system's performance across various questions.\n",
        "\n",
        "\n",
        "\n",
        "* Compare with First Question in 2.1.4: Reflect on the system's response to the following question and compare it with the response to the first question above. Note any differences in performance. Elaborate on the causes behind your observations. Consider factors such as the nature of the question and the relevance and characteristics of the chosen chunk(s). **(5 point)**\n",
        "\n",
        "* Based on your observations, propose *and implement* changes or adjustments that would improve the system's ability to retrieve more accurate or relevant answers. Discuss the trade-offs associated with your changes. **(5 point)**\n"
      ],
      "metadata": {
        "id": "sfs5j0_zZexD"
      }
    },
    {
      "cell_type": "code",
      "source": [
        "question2 = \"Define cheating in Lean Six Sigma Black Belt Training.\""
      ],
      "metadata": {
        "id": "NGaVq2vaaB_7"
      },
      "execution_count": null,
      "outputs": []
    },
    {
      "cell_type": "code",
      "source": [
        "#Use LangChain debugging\n",
        "import langchain\n",
        "langchain.debug = False"
      ],
      "metadata": {
        "id": "HlCszYtQRiZ1"
      },
      "execution_count": null,
      "outputs": []
    },
    {
      "cell_type": "code",
      "source": [
        "# Let's put all the relevant code in one cell to make it more contained\n",
        "\n",
        "temperature=0.1\n",
        "chunk_size=500\n",
        "chunk_overlap=50\n",
        "number_of_top_matches = 5\n",
        "system_prompt = (\n",
        "    \"\"\"\n",
        "    Answer the questions based on the provided context.\n",
        "\n",
        "    Context:\n",
        "    {context}\n",
        "    \"\"\"\n",
        ")\n",
        "\n",
        "# Defining the store\n",
        "text_splitter = RecursiveCharacterTextSplitter(chunk_size=chunk_size, chunk_overlap=chunk_overlap)\n",
        "chunks = loader.load_and_split(text_splitter)\n",
        "faiss_store = FAISS.from_documents(chunks, OpenAIEmbeddings(openai_api_key=openai_api_key))\n",
        "retriever = faiss_store.as_retriever(k=number_of_top_matches)\n",
        "\n",
        "# DO NOT CHANGE THIS\n",
        "prompt = ChatPromptTemplate.from_messages(\n",
        "    [\n",
        "        (\"system\", system_prompt),\n",
        "        (\"human\", \"{input}\"),\n",
        "    ]\n",
        ")\n",
        "\n",
        "# The aggregator assembles the relevant documents together into one text.\n",
        "llm = ChatOpenAI(openai_api_key=openai_api_key, temperature=temperature, model=\"gpt-4o\") #\n",
        "aggregator = create_stuff_documents_chain(llm, prompt=prompt)\n",
        "\n",
        "# We finally have a RAG chain!\n",
        "rag_chain = create_retrieval_chain(retriever, aggregator)"
      ],
      "metadata": {
        "id": "Gr_lVgmHQ3Bz"
      },
      "execution_count": null,
      "outputs": []
    },
    {
      "cell_type": "code",
      "source": [
        "faiss_store.similarity_search_with_score(question2, k=number_of_top_matches)"
      ],
      "metadata": {
        "id": "tbOud8a5UwNM"
      },
      "execution_count": null,
      "outputs": []
    },
    {
      "cell_type": "markdown",
      "source": [
        "**Answer**"
      ],
      "metadata": {
        "id": "fCpX1BR8mXcN"
      }
    },
    {
      "cell_type": "code",
      "source": [
        "### Fill here: Code to answer here."
      ],
      "metadata": {
        "id": "8_T7lnzTbOIL"
      },
      "execution_count": null,
      "outputs": []
    },
    {
      "cell_type": "markdown",
      "source": [
        "*Your answer here*"
      ],
      "metadata": {
        "id": "5BykXgjiQOY5"
      }
    }
  ]
}