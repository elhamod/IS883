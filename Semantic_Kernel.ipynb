{
  "nbformat": 4,
  "nbformat_minor": 0,
  "metadata": {
    "colab": {
      "provenance": [],
      "authorship_tag": "ABX9TyPRdGmisK3ODnpD+sShGy4c",
      "include_colab_link": true
    },
    "kernelspec": {
      "name": "python3",
      "display_name": "Python 3"
    },
    "language_info": {
      "name": "python"
    }
  },
  "cells": [
    {
      "cell_type": "markdown",
      "metadata": {
        "id": "view-in-github",
        "colab_type": "text"
      },
      "source": [
        "<a href=\"https://colab.research.google.com/github/elhamod/IS883/blob/main/Semantic_Kernel.ipynb\" target=\"_parent\"><img src=\"https://colab.research.google.com/assets/colab-badge.svg\" alt=\"Open In Colab\"/></a>"
      ]
    },
    {
      "cell_type": "markdown",
      "source": [
        "`semantic_kernel` is a framework plugin that helps abstracting out the technical details of language modeling, making the process more conceptual, user-friendly, and easier to use by non-tech-savvy users."
      ],
      "metadata": {
        "id": "JA56z1x8knpr"
      }
    },
    {
      "cell_type": "markdown",
      "source": [
        "https://github.com/microsoft/semantic-kernel"
      ],
      "metadata": {
        "id": "kLyxEtQ9md1J"
      }
    },
    {
      "cell_type": "markdown",
      "source": [
        "Let's first load the OpenAI key."
      ],
      "metadata": {
        "id": "JjTCflzT_Qh_"
      }
    },
    {
      "cell_type": "code",
      "execution_count": null,
      "metadata": {
        "colab": {
          "base_uri": "https://localhost:8080/"
        },
        "id": "CpkXpD1BhXKy",
        "outputId": "d71ec3fb-724c-4b66-9973-8b24c251abca"
      },
      "outputs": [
        {
          "output_type": "stream",
          "name": "stdout",
          "text": [
            "Mounted at /content/drive/\n"
          ]
        }
      ],
      "source": [
        "from google.colab import drive\n",
        "drive.mount('/content/drive/')"
      ]
    },
    {
      "cell_type": "code",
      "source": [
        "config_ini_location = '/content/drive/MyDrive/Colab Notebooks/IS883/OpenAI guide/config.ini' # Change this to point to the location of your config.ini file.\n",
        "\n",
        "import configparser\n",
        "\n",
        "config = configparser.ConfigParser()\n",
        "config.read(config_ini_location)\n",
        "openai_api_key = config['OpenAI']['API_KEY']"
      ],
      "metadata": {
        "id": "BXxrzJ__nCia"
      },
      "execution_count": null,
      "outputs": []
    },
    {
      "cell_type": "markdown",
      "source": [
        "Now, install OpenAI package"
      ],
      "metadata": {
        "id": "TgPcR44S_oZ6"
      }
    },
    {
      "cell_type": "code",
      "source": [
        "!pip install openai"
      ],
      "metadata": {
        "colab": {
          "base_uri": "https://localhost:8080/"
        },
        "id": "GGME_qzWnQ4h",
        "outputId": "762bb365-787e-40f5-e558-2eb6b043f6ce"
      },
      "execution_count": null,
      "outputs": [
        {
          "output_type": "stream",
          "name": "stdout",
          "text": [
            "Collecting openai\n",
            "  Downloading openai-0.28.1-py3-none-any.whl (76 kB)\n",
            "\u001b[2K     \u001b[90m━━━━━━━━━━━━━━━━━━━━━━━━━━━━━━━━━━━━━━━━\u001b[0m \u001b[32m77.0/77.0 kB\u001b[0m \u001b[31m1.4 MB/s\u001b[0m eta \u001b[36m0:00:00\u001b[0m\n",
            "\u001b[?25hRequirement already satisfied: requests>=2.20 in /usr/local/lib/python3.10/dist-packages (from openai) (2.31.0)\n",
            "Requirement already satisfied: tqdm in /usr/local/lib/python3.10/dist-packages (from openai) (4.66.1)\n",
            "Requirement already satisfied: aiohttp in /usr/local/lib/python3.10/dist-packages (from openai) (3.8.6)\n",
            "Requirement already satisfied: charset-normalizer<4,>=2 in /usr/local/lib/python3.10/dist-packages (from requests>=2.20->openai) (3.3.1)\n",
            "Requirement already satisfied: idna<4,>=2.5 in /usr/local/lib/python3.10/dist-packages (from requests>=2.20->openai) (3.4)\n",
            "Requirement already satisfied: urllib3<3,>=1.21.1 in /usr/local/lib/python3.10/dist-packages (from requests>=2.20->openai) (2.0.7)\n",
            "Requirement already satisfied: certifi>=2017.4.17 in /usr/local/lib/python3.10/dist-packages (from requests>=2.20->openai) (2023.7.22)\n",
            "Requirement already satisfied: attrs>=17.3.0 in /usr/local/lib/python3.10/dist-packages (from aiohttp->openai) (23.1.0)\n",
            "Requirement already satisfied: multidict<7.0,>=4.5 in /usr/local/lib/python3.10/dist-packages (from aiohttp->openai) (6.0.4)\n",
            "Requirement already satisfied: async-timeout<5.0,>=4.0.0a3 in /usr/local/lib/python3.10/dist-packages (from aiohttp->openai) (4.0.3)\n",
            "Requirement already satisfied: yarl<2.0,>=1.0 in /usr/local/lib/python3.10/dist-packages (from aiohttp->openai) (1.9.2)\n",
            "Requirement already satisfied: frozenlist>=1.1.1 in /usr/local/lib/python3.10/dist-packages (from aiohttp->openai) (1.4.0)\n",
            "Requirement already satisfied: aiosignal>=1.1.2 in /usr/local/lib/python3.10/dist-packages (from aiohttp->openai) (1.3.1)\n",
            "Installing collected packages: openai\n",
            "\u001b[31mERROR: pip's dependency resolver does not currently take into account all the packages that are installed. This behaviour is the source of the following dependency conflicts.\n",
            "llmx 0.0.15a0 requires cohere, which is not installed.\n",
            "llmx 0.0.15a0 requires tiktoken, which is not installed.\u001b[0m\u001b[31m\n",
            "\u001b[0mSuccessfully installed openai-0.28.1\n"
          ]
        }
      ]
    },
    {
      "cell_type": "markdown",
      "source": [
        "Set OpenAI key"
      ],
      "metadata": {
        "id": "2ZR_gdS9_s2a"
      }
    },
    {
      "cell_type": "code",
      "source": [
        "import openai\n",
        "\n",
        "# Initialize the OpenAI API with your API key\n",
        "openai.api_key = openai_api_key"
      ],
      "metadata": {
        "id": "UzmfPgAnnO2Q"
      },
      "execution_count": null,
      "outputs": []
    },
    {
      "cell_type": "markdown",
      "source": [
        "Now, let's install `semantic_kernel`"
      ],
      "metadata": {
        "id": "IfUvh9e4_vkK"
      }
    },
    {
      "cell_type": "code",
      "source": [
        "!pip install semantic_kernel"
      ],
      "metadata": {
        "colab": {
          "base_uri": "https://localhost:8080/"
        },
        "id": "sGYGCm63nfHQ",
        "outputId": "8fc5e79e-7ee0-44a6-d72e-a042657aaa77"
      },
      "execution_count": null,
      "outputs": [
        {
          "output_type": "stream",
          "name": "stdout",
          "text": [
            "Collecting semantic_kernel\n",
            "  Downloading semantic_kernel-0.3.14.dev0-py3-none-any.whl (191 kB)\n",
            "\u001b[2K     \u001b[90m━━━━━━━━━━━━━━━━━━━━━━━━━━━━━━━━━━━━━━━━\u001b[0m \u001b[32m191.8/191.8 kB\u001b[0m \u001b[31m3.0 MB/s\u001b[0m eta \u001b[36m0:00:00\u001b[0m\n",
            "\u001b[?25hCollecting aiofiles<24.0.0,>=23.1.0 (from semantic_kernel)\n",
            "  Downloading aiofiles-23.2.1-py3-none-any.whl (15 kB)\n",
            "Collecting motor<4.0.0,>=3.3.1 (from semantic_kernel)\n",
            "  Downloading motor-3.3.1-py3-none-any.whl (70 kB)\n",
            "\u001b[2K     \u001b[90m━━━━━━━━━━━━━━━━━━━━━━━━━━━━━━━━━━━━━━━━\u001b[0m \u001b[32m70.1/70.1 kB\u001b[0m \u001b[31m5.6 MB/s\u001b[0m eta \u001b[36m0:00:00\u001b[0m\n",
            "\u001b[?25hCollecting numpy<2.0.0,>=1.24.2 (from semantic_kernel)\n",
            "  Downloading numpy-1.26.1-cp310-cp310-manylinux_2_17_x86_64.manylinux2014_x86_64.whl (18.2 MB)\n",
            "\u001b[2K     \u001b[90m━━━━━━━━━━━━━━━━━━━━━━━━━━━━━━━━━━━━━━━━\u001b[0m \u001b[32m18.2/18.2 MB\u001b[0m \u001b[31m48.5 MB/s\u001b[0m eta \u001b[36m0:00:00\u001b[0m\n",
            "\u001b[?25hRequirement already satisfied: openai<0.29,>=0.27 in /usr/local/lib/python3.10/dist-packages (from semantic_kernel) (0.28.1)\n",
            "Collecting openapi_core<0.19.0,>=0.18.0 (from semantic_kernel)\n",
            "  Downloading openapi_core-0.18.1-py3-none-any.whl (82 kB)\n",
            "\u001b[2K     \u001b[90m━━━━━━━━━━━━━━━━━━━━━━━━━━━━━━━━━━━━━━━━\u001b[0m \u001b[32m82.3/82.3 kB\u001b[0m \u001b[31m8.1 MB/s\u001b[0m eta \u001b[36m0:00:00\u001b[0m\n",
            "\u001b[?25hCollecting prance<24.0.0.0,>=23.6.21.0 (from semantic_kernel)\n",
            "  Downloading prance-23.6.21.0-py3-none-any.whl (36 kB)\n",
            "Requirement already satisfied: pydantic<2 in /usr/local/lib/python3.10/dist-packages (from semantic_kernel) (1.10.13)\n",
            "Collecting python-dotenv==1.0.0 (from semantic_kernel)\n",
            "  Downloading python_dotenv-1.0.0-py3-none-any.whl (19 kB)\n",
            "Requirement already satisfied: regex<2024.0.0,>=2023.6.3 in /usr/local/lib/python3.10/dist-packages (from semantic_kernel) (2023.6.3)\n",
            "Collecting pymongo<5,>=4.5 (from motor<4.0.0,>=3.3.1->semantic_kernel)\n",
            "  Downloading pymongo-4.5.0-cp310-cp310-manylinux_2_17_x86_64.manylinux2014_x86_64.whl (671 kB)\n",
            "\u001b[2K     \u001b[90m━━━━━━━━━━━━━━━━━━━━━━━━━━━━━━━━━━━━━━━━\u001b[0m \u001b[32m671.3/671.3 kB\u001b[0m \u001b[31m42.8 MB/s\u001b[0m eta \u001b[36m0:00:00\u001b[0m\n",
            "\u001b[?25hRequirement already satisfied: requests>=2.20 in /usr/local/lib/python3.10/dist-packages (from openai<0.29,>=0.27->semantic_kernel) (2.31.0)\n",
            "Requirement already satisfied: tqdm in /usr/local/lib/python3.10/dist-packages (from openai<0.29,>=0.27->semantic_kernel) (4.66.1)\n",
            "Requirement already satisfied: aiohttp in /usr/local/lib/python3.10/dist-packages (from openai<0.29,>=0.27->semantic_kernel) (3.8.6)\n",
            "Collecting asgiref<4.0.0,>=3.6.0 (from openapi_core<0.19.0,>=0.18.0->semantic_kernel)\n",
            "  Downloading asgiref-3.7.2-py3-none-any.whl (24 kB)\n",
            "Collecting isodate (from openapi_core<0.19.0,>=0.18.0->semantic_kernel)\n",
            "  Downloading isodate-0.6.1-py2.py3-none-any.whl (41 kB)\n",
            "\u001b[2K     \u001b[90m━━━━━━━━━━━━━━━━━━━━━━━━━━━━━━━━━━━━━━━━\u001b[0m \u001b[32m41.7/41.7 kB\u001b[0m \u001b[31m3.8 MB/s\u001b[0m eta \u001b[36m0:00:00\u001b[0m\n",
            "\u001b[?25hRequirement already satisfied: jsonschema<5.0.0,>=4.18.0 in /usr/local/lib/python3.10/dist-packages (from openapi_core<0.19.0,>=0.18.0->semantic_kernel) (4.19.1)\n",
            "Collecting jsonschema-spec<0.3.0,>=0.2.3 (from openapi_core<0.19.0,>=0.18.0->semantic_kernel)\n",
            "  Downloading jsonschema_spec-0.2.4-py3-none-any.whl (14 kB)\n",
            "Requirement already satisfied: more-itertools in /usr/local/lib/python3.10/dist-packages (from openapi_core<0.19.0,>=0.18.0->semantic_kernel) (10.1.0)\n",
            "Collecting openapi-schema-validator<0.7.0,>=0.6.0 (from openapi_core<0.19.0,>=0.18.0->semantic_kernel)\n",
            "  Downloading openapi_schema_validator-0.6.2-py3-none-any.whl (8.8 kB)\n",
            "Collecting openapi-spec-validator<0.7.0,>=0.6.0 (from openapi_core<0.19.0,>=0.18.0->semantic_kernel)\n",
            "  Downloading openapi_spec_validator-0.6.0-py3-none-any.whl (32 kB)\n",
            "Collecting parse (from openapi_core<0.19.0,>=0.18.0->semantic_kernel)\n",
            "  Downloading parse-1.19.1-py2.py3-none-any.whl (18 kB)\n",
            "Requirement already satisfied: werkzeug in /usr/local/lib/python3.10/dist-packages (from openapi_core<0.19.0,>=0.18.0->semantic_kernel) (3.0.1)\n",
            "Requirement already satisfied: chardet>=3.0 in /usr/local/lib/python3.10/dist-packages (from prance<24.0.0.0,>=23.6.21.0->semantic_kernel) (5.2.0)\n",
            "Collecting ruamel.yaml>=0.17.10 (from prance<24.0.0.0,>=23.6.21.0->semantic_kernel)\n",
            "  Downloading ruamel.yaml-0.18.3-py3-none-any.whl (114 kB)\n",
            "\u001b[2K     \u001b[90m━━━━━━━━━━━━━━━━━━━━━━━━━━━━━━━━━━━━━━━━\u001b[0m \u001b[32m114.7/114.7 kB\u001b[0m \u001b[31m10.8 MB/s\u001b[0m eta \u001b[36m0:00:00\u001b[0m\n",
            "\u001b[?25hRequirement already satisfied: six~=1.15 in /usr/local/lib/python3.10/dist-packages (from prance<24.0.0.0,>=23.6.21.0->semantic_kernel) (1.16.0)\n",
            "Requirement already satisfied: packaging>=21.3 in /usr/local/lib/python3.10/dist-packages (from prance<24.0.0.0,>=23.6.21.0->semantic_kernel) (23.2)\n",
            "Requirement already satisfied: typing-extensions>=4.2.0 in /usr/local/lib/python3.10/dist-packages (from pydantic<2->semantic_kernel) (4.5.0)\n",
            "Requirement already satisfied: attrs>=22.2.0 in /usr/local/lib/python3.10/dist-packages (from jsonschema<5.0.0,>=4.18.0->openapi_core<0.19.0,>=0.18.0->semantic_kernel) (23.1.0)\n",
            "Requirement already satisfied: jsonschema-specifications>=2023.03.6 in /usr/local/lib/python3.10/dist-packages (from jsonschema<5.0.0,>=4.18.0->openapi_core<0.19.0,>=0.18.0->semantic_kernel) (2023.7.1)\n",
            "Requirement already satisfied: referencing>=0.28.4 in /usr/local/lib/python3.10/dist-packages (from jsonschema<5.0.0,>=4.18.0->openapi_core<0.19.0,>=0.18.0->semantic_kernel) (0.30.2)\n",
            "Requirement already satisfied: rpds-py>=0.7.1 in /usr/local/lib/python3.10/dist-packages (from jsonschema<5.0.0,>=4.18.0->openapi_core<0.19.0,>=0.18.0->semantic_kernel) (0.10.6)\n",
            "Requirement already satisfied: PyYAML>=5.1 in /usr/local/lib/python3.10/dist-packages (from jsonschema-spec<0.3.0,>=0.2.3->openapi_core<0.19.0,>=0.18.0->semantic_kernel) (6.0.1)\n",
            "Collecting pathable<0.5.0,>=0.4.1 (from jsonschema-spec<0.3.0,>=0.2.3->openapi_core<0.19.0,>=0.18.0->semantic_kernel)\n",
            "  Downloading pathable-0.4.3-py3-none-any.whl (9.6 kB)\n",
            "Collecting rfc3339-validator (from openapi-schema-validator<0.7.0,>=0.6.0->openapi_core<0.19.0,>=0.18.0->semantic_kernel)\n",
            "  Downloading rfc3339_validator-0.1.4-py2.py3-none-any.whl (3.5 kB)\n",
            "Collecting lazy-object-proxy<2.0.0,>=1.7.1 (from openapi-spec-validator<0.7.0,>=0.6.0->openapi_core<0.19.0,>=0.18.0->semantic_kernel)\n",
            "  Downloading lazy_object_proxy-1.9.0-cp310-cp310-manylinux_2_5_x86_64.manylinux1_x86_64.manylinux_2_17_x86_64.manylinux2014_x86_64.whl (63 kB)\n",
            "\u001b[2K     \u001b[90m━━━━━━━━━━━━━━━━━━━━━━━━━━━━━━━━━━━━━━━━\u001b[0m \u001b[32m63.3/63.3 kB\u001b[0m \u001b[31m6.6 MB/s\u001b[0m eta \u001b[36m0:00:00\u001b[0m\n",
            "\u001b[?25hCollecting dnspython<3.0.0,>=1.16.0 (from pymongo<5,>=4.5->motor<4.0.0,>=3.3.1->semantic_kernel)\n",
            "  Downloading dnspython-2.4.2-py3-none-any.whl (300 kB)\n",
            "\u001b[2K     \u001b[90m━━━━━━━━━━━━━━━━━━━━━━━━━━━━━━━━━━━━━━━━\u001b[0m \u001b[32m300.4/300.4 kB\u001b[0m \u001b[31m25.9 MB/s\u001b[0m eta \u001b[36m0:00:00\u001b[0m\n",
            "\u001b[?25hRequirement already satisfied: charset-normalizer<4,>=2 in /usr/local/lib/python3.10/dist-packages (from requests>=2.20->openai<0.29,>=0.27->semantic_kernel) (3.3.1)\n",
            "Requirement already satisfied: idna<4,>=2.5 in /usr/local/lib/python3.10/dist-packages (from requests>=2.20->openai<0.29,>=0.27->semantic_kernel) (3.4)\n",
            "Requirement already satisfied: urllib3<3,>=1.21.1 in /usr/local/lib/python3.10/dist-packages (from requests>=2.20->openai<0.29,>=0.27->semantic_kernel) (2.0.7)\n",
            "Requirement already satisfied: certifi>=2017.4.17 in /usr/local/lib/python3.10/dist-packages (from requests>=2.20->openai<0.29,>=0.27->semantic_kernel) (2023.7.22)\n",
            "Collecting ruamel.yaml.clib>=0.2.7 (from ruamel.yaml>=0.17.10->prance<24.0.0.0,>=23.6.21.0->semantic_kernel)\n",
            "  Downloading ruamel.yaml.clib-0.2.8-cp310-cp310-manylinux_2_17_x86_64.manylinux2014_x86_64.manylinux_2_24_x86_64.whl (526 kB)\n",
            "\u001b[2K     \u001b[90m━━━━━━━━━━━━━━━━━━━━━━━━━━━━━━━━━━━━━━━━\u001b[0m \u001b[32m526.7/526.7 kB\u001b[0m \u001b[31m36.7 MB/s\u001b[0m eta \u001b[36m0:00:00\u001b[0m\n",
            "\u001b[?25hRequirement already satisfied: multidict<7.0,>=4.5 in /usr/local/lib/python3.10/dist-packages (from aiohttp->openai<0.29,>=0.27->semantic_kernel) (6.0.4)\n",
            "Requirement already satisfied: async-timeout<5.0,>=4.0.0a3 in /usr/local/lib/python3.10/dist-packages (from aiohttp->openai<0.29,>=0.27->semantic_kernel) (4.0.3)\n",
            "Requirement already satisfied: yarl<2.0,>=1.0 in /usr/local/lib/python3.10/dist-packages (from aiohttp->openai<0.29,>=0.27->semantic_kernel) (1.9.2)\n",
            "Requirement already satisfied: frozenlist>=1.1.1 in /usr/local/lib/python3.10/dist-packages (from aiohttp->openai<0.29,>=0.27->semantic_kernel) (1.4.0)\n",
            "Requirement already satisfied: aiosignal>=1.1.2 in /usr/local/lib/python3.10/dist-packages (from aiohttp->openai<0.29,>=0.27->semantic_kernel) (1.3.1)\n",
            "Requirement already satisfied: MarkupSafe>=2.1.1 in /usr/local/lib/python3.10/dist-packages (from werkzeug->openapi_core<0.19.0,>=0.18.0->semantic_kernel) (2.1.3)\n",
            "Installing collected packages: parse, ruamel.yaml.clib, rfc3339-validator, python-dotenv, pathable, numpy, lazy-object-proxy, isodate, dnspython, asgiref, aiofiles, ruamel.yaml, pymongo, jsonschema-spec, prance, motor, openapi-schema-validator, openapi-spec-validator, openapi_core, semantic_kernel\n",
            "  Attempting uninstall: numpy\n",
            "    Found existing installation: numpy 1.23.5\n",
            "    Uninstalling numpy-1.23.5:\n",
            "      Successfully uninstalled numpy-1.23.5\n",
            "\u001b[31mERROR: pip's dependency resolver does not currently take into account all the packages that are installed. This behaviour is the source of the following dependency conflicts.\n",
            "lida 0.0.10 requires fastapi, which is not installed.\n",
            "lida 0.0.10 requires kaleido, which is not installed.\n",
            "lida 0.0.10 requires python-multipart, which is not installed.\n",
            "lida 0.0.10 requires uvicorn, which is not installed.\n",
            "cupy-cuda11x 11.0.0 requires numpy<1.26,>=1.20, but you have numpy 1.26.1 which is incompatible.\n",
            "numba 0.56.4 requires numpy<1.24,>=1.18, but you have numpy 1.26.1 which is incompatible.\u001b[0m\u001b[31m\n",
            "\u001b[0mSuccessfully installed aiofiles-23.2.1 asgiref-3.7.2 dnspython-2.4.2 isodate-0.6.1 jsonschema-spec-0.2.4 lazy-object-proxy-1.9.0 motor-3.3.1 numpy-1.26.1 openapi-schema-validator-0.6.2 openapi-spec-validator-0.6.0 openapi_core-0.18.1 parse-1.19.1 pathable-0.4.3 prance-23.6.21.0 pymongo-4.5.0 python-dotenv-1.0.0 rfc3339-validator-0.1.4 ruamel.yaml-0.18.3 ruamel.yaml.clib-0.2.8 semantic_kernel-0.3.14.dev0\n"
          ]
        }
      ]
    },
    {
      "cell_type": "code",
      "source": [
        "import semantic_kernel as sk\n",
        "from semantic_kernel.connectors.ai.open_ai import OpenAIChatCompletion\n",
        "\n",
        "from IPython.display import display, Markdown"
      ],
      "metadata": {
        "id": "v2HZxwSebWEM"
      },
      "execution_count": null,
      "outputs": []
    },
    {
      "cell_type": "markdown",
      "source": [
        "Create a kernel for text completion"
      ],
      "metadata": {
        "id": "pUqDswlmAf2g"
      }
    },
    {
      "cell_type": "code",
      "source": [
        "kernel = sk.Kernel()\n",
        "\n",
        "kernel.add_text_completion_service(\"testing\", OpenAIChatCompletion(\"gpt-3.5-turbo\", openai_api_key))"
      ],
      "metadata": {
        "colab": {
          "base_uri": "https://localhost:8080/"
        },
        "id": "8PjZm3FinO67",
        "outputId": "1c885568-fb9d-4522-b8e4-ade89d9e5bee"
      },
      "execution_count": null,
      "outputs": [
        {
          "output_type": "execute_result",
          "data": {
            "text/plain": [
              "<semantic_kernel.kernel.Kernel at 0x7b26a8716500>"
            ]
          },
          "metadata": {},
          "execution_count": 7
        }
      ]
    },
    {
      "cell_type": "markdown",
      "source": [
        "The way `semantic_kernel` works is by loading the plug-in definition from its directory"
      ],
      "metadata": {
        "id": "LCXb22HXZN6G"
      }
    },
    {
      "cell_type": "markdown",
      "source": [
        "Examples of some plug-ins can be found [here](https://github.com/elhamod/IS883/tree/main/plugins-sk)"
      ],
      "metadata": {
        "id": "j4t-s1DOBvEJ"
      }
    },
    {
      "cell_type": "code",
      "source": [
        "pluginsDirectory = \"/content/drive/MyDrive/Colab Notebooks/plugins-sk\""
      ],
      "metadata": {
        "id": "YmghT0nWZODR"
      },
      "execution_count": null,
      "outputs": []
    },
    {
      "cell_type": "markdown",
      "source": [
        "##Business Strategy based on SWOT analysis."
      ],
      "metadata": {
        "id": "SnZ3W2trBJ1o"
      }
    },
    {
      "cell_type": "markdown",
      "source": [
        "**SWOT (Strength Weakness Opportunity Strength) analysis** is useful for identifying the problems and areas of growth for a business."
      ],
      "metadata": {
        "id": "9Pxqs3fmoqQ6"
      }
    },
    {
      "cell_type": "markdown",
      "source": [
        "Here, given a business's SWOT, we won't a business strategy based on that SWOT."
      ],
      "metadata": {
        "id": "gOykdejvBU2W"
      }
    },
    {
      "cell_type": "code",
      "source": [
        "strengths = [ \"Unique garlic pizza recipe that wins top awards\",\n",
        "             \"Owner trained in Sicily at some of the best pizzerias\",\n",
        "              \"Strong local reputation\",\"Prime location on university campus\" ]\n",
        "\n",
        "weaknesses = [ \"High staff turnover\",\n",
        "              \"Floods in the area damaged the seating areas that are in need of repair\",\n",
        "               \"Absence of popular calzones from menu\",\n",
        "               \"Negative reviews from younger demographic for lack of hip ingredients\" ]\n",
        "\n",
        "opportunities = [ \"Untapped catering potential\",\n",
        "                 \"Growing local tech startup community\",\n",
        "                  \"Unexplored online presence and order capabilities\",\n",
        "                  \"Upcoming annual food fair\" ]\n",
        "\n",
        "threats = [ \"Competition from cheaper pizza businesses nearby\",\n",
        "           \"There's nearby street construction that will impact foot traffic\",\n",
        "            \"Rising cost of cheese will increase the cost of pizzas\",\n",
        "            \"No immediate local regulatory changes but it's election season\" ]"
      ],
      "metadata": {
        "id": "c7qkrY5VoqXi"
      },
      "execution_count": null,
      "outputs": []
    },
    {
      "cell_type": "code",
      "source": [
        "pluginBT = kernel.import_semantic_skill_from_directory(pluginsDirectory, \"BusinessThinking\");\n",
        "\n",
        "my_context = kernel.create_new_context()\n",
        "my_context['input'] = 'makes pizzas'\n",
        "my_context['strengths'] = \", \".join(strengths)\n",
        "my_context['weaknesses'] = \", \".join(weaknesses)\n",
        "my_context['opportunities'] = \", \".join(opportunities)\n",
        "my_context['threats'] = \", \".join(threats)\n",
        "\n",
        "bizstrat_result = await kernel.run_async(pluginBT[\"BasicStrategies\"],input_context=my_context)\n",
        "display(Markdown(str(bizstrat_result)))\n"
      ],
      "metadata": {
        "colab": {
          "base_uri": "https://localhost:8080/",
          "height": 708
        },
        "id": "DNE3bGRpCGwC",
        "outputId": "dc5667f7-113b-46f8-f261-583c090d0cf2"
      },
      "execution_count": null,
      "outputs": [
        {
          "output_type": "display_data",
          "data": {
            "text/plain": [
              "<IPython.core.display.Markdown object>"
            ],
            "text/markdown": "### Building on strengths can immediately improve the business\n\n| Title | Strength | Weakness | Description |\n| ----- | -------- | -------- | ----------- |\n| Expand menu with popular calzones | Unique garlic pizza recipe that wins top awards | Absence of popular calzones from menu | Add popular calzones to the menu to attract more customers and increase revenue |\n| Improve staff retention | Owner trained in Sicily at some of the best pizzerias, Strong local reputation | High staff turnover | Offer better incentives and training programs to retain experienced staff and reduce costs associated with high turnover |\n| Renovate seating areas | Unique garlic pizza recipe that wins top awards, Prime location on university campus | Floods in the area damaged the seating areas that are in need of repair | Renovate seating areas to improve customer experience and attract more customers |\n\n### Taking advantage of opportunities whenever possible\n\n| Title | Opportunity | Description |\n| ----- | -------- | ----------- |\n| Launch online ordering platform | Unexplored online presence and order capabilities | Develop an online ordering platform to reach more customers and increase revenue |\n| Cater to local tech startups | Growing local tech startup community | Offer catering services to local tech startups to increase revenue and expand customer base |\n| Participate in annual food fair | Upcoming annual food fair | Showcase unique garlic pizza recipe and attract new customers |\n\n### Building resilience to threats is always a good idea\n\n| Title | Threat | Description |\n| ----- | -------- | ----------- |\n| Diversify menu to offset rising cheese costs | Rising cost of cheese will increase the cost of pizzas | Add more menu items that use cheaper ingredients to offset rising cheese costs |\n| Develop marketing strategies to counter competition | Competition from cheaper pizza businesses nearby | Develop marketing strategies to highlight unique garlic pizza recipe and strong local reputation to counter competition |\n| Offer delivery services to offset street construction impact | There's nearby street construction that will impact foot traffic | Offer delivery services to reach customers who cannot visit the restaurant due to street construction |"
          },
          "metadata": {}
        }
      ]
    },
    {
      "cell_type": "markdown",
      "source": [
        "##Design Thinking"
      ],
      "metadata": {
        "id": "QMMicX--j1P4"
      }
    },
    {
      "cell_type": "markdown",
      "source": [
        "Design thinking is a framework through which we can look at a business idea from the customer's point of view."
      ],
      "metadata": {
        "id": "PmTHnChfRIM2"
      }
    },
    {
      "cell_type": "markdown",
      "source": [
        "Empathize -> Define -> Ideate -> Prototype -> Test"
      ],
      "metadata": {
        "id": "-BLVI11KSybZ"
      }
    },
    {
      "cell_type": "markdown",
      "source": [
        "Here, given some customer feedback, we want to do some \"Design Thinking\"."
      ],
      "metadata": {
        "id": "tJDIWCLTSqG_"
      }
    },
    {
      "cell_type": "code",
      "source": [
        "customer_comments = \"\"\"\n",
        "Customer 1: The seats look really raggedy.\n",
        "Customer 2: The garlic pizza is the best on this earth.\n",
        "Customer 3: I've noticed that there's a new server every time I visit, and they're clueless.\n",
        "Customer 4: Why aren't there calzones?\n",
        "Customer 5: I love the garlic pizza and can't get it anywhere else.\n",
        "Customer 6: The garlic pizza is exceptional.\n",
        "Customer 7: I prefer a calzone's portable nature as compared with pizza.\n",
        "Customer 8: Why is the pizza so expensive?\n",
        "Customer 9: There's no way to do online ordering.\n",
        "Customer 10: Why is the seating so uncomfortable and dirty?\n",
        "\"\"\""
      ],
      "metadata": {
        "id": "fQCTkgW7Q7RZ"
      },
      "execution_count": null,
      "outputs": []
    },
    {
      "cell_type": "markdown",
      "source": [
        "Let's \"Empathize\" first."
      ],
      "metadata": {
        "id": "RbU2jbg7TJqc"
      }
    },
    {
      "cell_type": "code",
      "source": [
        "kernel = sk.Kernel()\n",
        "kernel.add_text_completion_service(\"openai\", OpenAIChatCompletion(\"gpt-3.5-turbo\", openai_api_key))\n",
        "\n",
        "pluginDT = kernel.import_semantic_skill_from_directory(pluginsDirectory, \"DesignThinking\");\n",
        "\n",
        "my_result = await kernel.run_async(pluginDT[\"Empathize\"], input_str=customer_comments)\n",
        "\n",
        "import json\n",
        "json_data = json.loads(str(my_result))\n",
        "print(json.dumps(json_data, indent=4))"
      ],
      "metadata": {
        "colab": {
          "base_uri": "https://localhost:8080/"
        },
        "id": "XWVHHRZyH5Lv",
        "outputId": "a02e97fc-284b-4ba4-9f0a-861d7b53590b"
      },
      "execution_count": null,
      "outputs": [
        {
          "output_type": "stream",
          "name": "stdout",
          "text": [
            "[\n",
            "    {\n",
            "        \"sentiment\": \"negative\",\n",
            "        \"summary\": \"The seats are raggedy and uncomfortable and dirty.\"\n",
            "    },\n",
            "    {\n",
            "        \"sentiment\": \"positive\",\n",
            "        \"summary\": \"The garlic pizza is the best and exceptional.\"\n",
            "    },\n",
            "    {\n",
            "        \"sentiment\": \"negative\",\n",
            "        \"summary\": \"There are new clueless servers every time I visit.\"\n",
            "    },\n",
            "    {\n",
            "        \"sentiment\": \"negative\",\n",
            "        \"summary\": \"Customers are disappointed by the absence of calzones.\"\n",
            "    },\n",
            "    {\n",
            "        \"sentiment\": \"negative\",\n",
            "        \"summary\": \"Customers find the pizza expensive and there's no online ordering option.\"\n",
            "    }\n",
            "]\n"
          ]
        }
      ]
    },
    {
      "cell_type": "markdown",
      "source": [
        "Now, let's \"Define\" the problem(s)."
      ],
      "metadata": {
        "id": "mOQfvXnWTSKy"
      }
    },
    {
      "cell_type": "code",
      "source": [
        "my_result = await kernel.run_async(pluginDT[\"Empathize\"], pluginDT[\"Define\"], input_str=customer_comments)\n",
        "\n",
        "display(Markdown(str(my_result)))"
      ],
      "metadata": {
        "colab": {
          "base_uri": "https://localhost:8080/",
          "height": 275
        },
        "id": "620IAyKuTV4h",
        "outputId": "19fc76b6-26cd-4116-f29c-958b1ed2046b"
      },
      "execution_count": null,
      "outputs": [
        {
          "output_type": "display_data",
          "data": {
            "text/plain": [
              "<IPython.core.display.Markdown object>"
            ],
            "text/markdown": "| Analysis | Definition | Possible Source |\n| --- | --- | --- |\n| Raggedy and uncomfortable seats | Customers complain about the poor quality and discomfort of the seats | Inadequate maintenance or outdated furniture |\n| Exceptional garlic pizza | Customers praise the garlic pizza as the best and exceptional | High-quality ingredients or skilled chefs |\n| New clueless servers | Customers express frustration with new servers who lack knowledge or experience | High employee turnover or inadequate training |\n| Unavailability of calzones | Customers are disappointed that calzones are not available | Limited menu options or supply chain issues |\n| Expensive pizza with no online ordering option | Customers complain about the high price of pizza and the lack of online ordering | Pricing strategy or outdated technology |"
          },
          "metadata": {}
        }
      ]
    },
    {
      "cell_type": "markdown",
      "source": [
        "Now, \"Ideate\"."
      ],
      "metadata": {
        "id": "acTy13Z9TajF"
      }
    },
    {
      "cell_type": "code",
      "source": [
        "my_result = await kernel.run_async(pluginDT[\"Empathize\"], pluginDT[\"Define\"], pluginDT[\"Ideate\"], input_str=customer_comments)\n",
        "\n",
        "display(Markdown(str(my_result)))"
      ],
      "metadata": {
        "colab": {
          "base_uri": "https://localhost:8080/",
          "height": 449
        },
        "id": "JVITU55KT9QN",
        "outputId": "e8f5a414-70a6-4b32-99c6-2a9e5ee18e85"
      },
      "execution_count": null,
      "outputs": [
        {
          "output_type": "display_data",
          "data": {
            "text/plain": [
              "<IPython.core.display.Markdown object>"
            ],
            "text/markdown": "| Lower-hanging fruit | Higher-hanging fruit |\n| --- | --- |\n| 1. Replace or repair the raggedy seats. | 1. Conduct a comprehensive market research to identify customer preferences and expectations. |\n| 2. Train servers to improve their knowledge and customer service skills. | 2. Redesign the menu to include calzones and other popular customer requests. |\n| 3. Offer online ordering through a website or mobile app. | 3. Invest in modern technology for online ordering and payment processing. |\n| 4. Improve the maintenance schedule for furniture to ensure comfort. | 4. Implement a customer loyalty program to encourage repeat visits. |\n| 5. Conduct regular customer satisfaction surveys to identify areas for improvement. | 5. Upgrade the seating area with more comfortable and modern furniture. |\n| 6. Provide training materials and resources for servers to enhance their knowledge. | 6. Collaborate with local suppliers to ensure a consistent supply of ingredients. |\n| 7. Introduce a new pizza flavor or specialty pizza to attract customers. | 7. Hire experienced servers and provide ongoing training and support. |\n| 8. Offer a limited-time promotion or discount to attract new customers. | 8. Develop a mobile app for convenient online ordering and tracking. |\n| 9. Implement a reservation system to manage customer flow and reduce wait times. | 9. Upgrade the pricing strategy to offer competitive prices without compromising quality. |\n| 10. Improve communication between kitchen staff and servers to minimize errors. | 10. Conduct a thorough analysis of the supply chain to identify and resolve issues. |"
          },
          "metadata": {}
        }
      ]
    },
    {
      "cell_type": "code",
      "source": [
        "my_result = await kernel.run_async(pluginDT[\"Empathize\"], pluginDT[\"Define\"], pluginDT[\"Ideate\"], pluginDT[\"Prototype\"], input_str=customer_comments)\n",
        "\n",
        "display(Markdown(str(my_result)))\n"
      ],
      "metadata": {
        "colab": {
          "base_uri": "https://localhost:8080/",
          "height": 997
        },
        "id": "QJnGMqr7UG6c",
        "outputId": "d187b911-723e-42d0-f643-e9a2bdf57e5f"
      },
      "execution_count": null,
      "outputs": [
        {
          "output_type": "display_data",
          "data": {
            "text/plain": [
              "<IPython.core.display.Markdown object>"
            ],
            "text/markdown": "1. Improve seat cushions for better comfort:\n- Create a simple paper prototype by drawing a chair with a cushion on it.\n- Indicate the areas that need improvement by marking them with arrows or highlighting them.\n- Provide a space for the other party to write down their feedback or suggestions for improvement.\n\n2. Offer a limited-time promotion for garlic pizza:\n- Design a paper prototype of a promotional flyer or coupon that advertises the limited-time promotion.\n- Include details such as the discount percentage, duration of the promotion, and any terms and conditions.\n- Allow the other party to provide feedback on the design and content of the promotional material.\n\n3. Implement a training program for new servers:\n- Create a paper prototype of a training manual or guide that outlines the topics and modules to be covered during the training program.\n- Include sections for theoretical knowledge, practical exercises, and assessments.\n- Provide space for the other party to provide feedback on the clarity and effectiveness of the training materials.\n\n4. Add calzones as a special item on the menu:\n- Design a paper prototype of a menu that includes a section dedicated to calzones.\n- List different calzone options with their descriptions and prices.\n- Allow the other party to provide feedback on the layout, content, and pricing of the calzone menu section.\n\n5. Introduce a loyalty program with discounts for repeat customers:\n- Create a paper prototype of a loyalty card or stamp card that customers can use to collect points or stamps for each purchase.\n- Include details about the rewards and discounts customers can earn.\n- Provide space for the other party to provide feedback on the design and functionality of the loyalty program.\n\n6. Offer a happy hour with discounted pizza prices:\n- Design a paper prototype of a happy hour promotion schedule or menu.\n- Include the specific time duration, discounted prices, and any terms and conditions.\n- Allow the other party to provide feedback on the attractiveness and clarity of the happy hour promotion.\n\n7. Provide customer feedback cards for seat comfort:\n- Create a paper prototype of a feedback card that customers can fill out to rate their seat comfort.\n- Include rating scales or checkboxes for different aspects of seat comfort.\n- Provide space for the other party to provide feedback on the clarity and effectiveness of the feedback card.\n\n8. Create a customer rewards program with exclusive benefits:\n- Design a paper prototype of a rewards program brochure or pamphlet that highlights the exclusive benefits for customers.\n- Include details about the rewards tiers, benefits, and how customers can enroll.\n- Allow the other party to provide feedback on the design, clarity, and attractiveness of the rewards program materials.\n\n9. Train servers to be more attentive and responsive:\n- Create a paper prototype of a training scenario or role-play exercise that focuses on improving server attentiveness and responsiveness.\n- Provide a script or instructions for both the server and the customer roles.\n- Allow the other party to provide feedback on the effectiveness and realism of the training scenario.\n\n10. Offer a gluten-free pizza option for customers with dietary restrictions:\n- Design a paper prototype of a menu insert or separate menu section dedicated to gluten-free options.\n- List the gluten-free pizza options with their descriptions and prices.\n- Provide space for the other party to provide feedback on the layout, content, and clarity of the gluten-free menu section."
          },
          "metadata": {}
        }
      ]
    },
    {
      "cell_type": "markdown",
      "source": [
        "##Create your own plugin!"
      ],
      "metadata": {
        "id": "L4VuLEgqUvLp"
      }
    },
    {
      "cell_type": "markdown",
      "source": [
        "Let's create a plugin that takes in student feedback for this class, sort through the negative and positive feedback and suggestions, and then provide some some analysis of the situation"
      ],
      "metadata": {
        "id": "DMU0ItlHXVV6"
      }
    },
    {
      "cell_type": "markdown",
      "source": [
        "[Here](https://docs.google.com/spreadsheets/d/1c3MAjM4kLom3V15qtA0b38i3UBXeASo88G8GIF99aiw/edit?usp=sharing) is an example of a feedback sheet"
      ],
      "metadata": {
        "id": "hnD3FyRPrN2A"
      }
    },
    {
      "cell_type": "code",
      "source": [
        "pluginDT = kernel.import_semantic_skill_from_directory(pluginsDirectory, \"ClassFeedback\");\n",
        "\n",
        "student_feedback = '''\n",
        "\n",
        "'''\n",
        "\n",
        "my_result = await kernel.run_async(pluginDT[\"Extract\"], input_str=student_feedback)\n",
        "\n",
        "\n",
        "display(Markdown(str(my_result)))\n"
      ],
      "metadata": {
        "colab": {
          "base_uri": "https://localhost:8080/",
          "height": 366
        },
        "id": "fFARW9hBo1Eo",
        "outputId": "b1ca1886-d325-4cb5-c5d7-f368a3aba2f8"
      },
      "execution_count": null,
      "outputs": [
        {
          "output_type": "error",
          "ename": "ValueError",
          "evalue": "ignored",
          "traceback": [
            "\u001b[0;31m---------------------------------------------------------------------------\u001b[0m",
            "\u001b[0;31mValueError\u001b[0m                                Traceback (most recent call last)",
            "\u001b[0;32m<ipython-input-29-bc82f01dd1e4>\u001b[0m in \u001b[0;36m<cell line: 1>\u001b[0;34m()\u001b[0m\n\u001b[0;32m----> 1\u001b[0;31m \u001b[0mpluginDT\u001b[0m \u001b[0;34m=\u001b[0m \u001b[0mkernel\u001b[0m\u001b[0;34m.\u001b[0m\u001b[0mimport_semantic_skill_from_directory\u001b[0m\u001b[0;34m(\u001b[0m\u001b[0mpluginsDirectory\u001b[0m\u001b[0;34m,\u001b[0m \u001b[0;34m\"ClassFeedback\"\u001b[0m\u001b[0;34m)\u001b[0m\u001b[0;34m;\u001b[0m\u001b[0;34m\u001b[0m\u001b[0;34m\u001b[0m\u001b[0m\n\u001b[0m\u001b[1;32m      2\u001b[0m \u001b[0;34m\u001b[0m\u001b[0m\n\u001b[1;32m      3\u001b[0m student_feedback = '''\n\u001b[1;32m      4\u001b[0m \u001b[0;34m\u001b[0m\u001b[0m\n\u001b[1;32m      5\u001b[0m '''\n",
            "\u001b[0;32m/usr/local/lib/python3.10/dist-packages/semantic_kernel/kernel.py\u001b[0m in \u001b[0;36mimport_semantic_skill_from_directory\u001b[0;34m(self, parent_directory, skill_directory_name)\u001b[0m\n\u001b[1;32m    769\u001b[0m \u001b[0;34m\u001b[0m\u001b[0m\n\u001b[1;32m    770\u001b[0m         \u001b[0;32mif\u001b[0m \u001b[0;32mnot\u001b[0m \u001b[0mos\u001b[0m\u001b[0;34m.\u001b[0m\u001b[0mpath\u001b[0m\u001b[0;34m.\u001b[0m\u001b[0mexists\u001b[0m\u001b[0;34m(\u001b[0m\u001b[0mskill_directory\u001b[0m\u001b[0;34m)\u001b[0m\u001b[0;34m:\u001b[0m\u001b[0;34m\u001b[0m\u001b[0;34m\u001b[0m\u001b[0m\n\u001b[0;32m--> 771\u001b[0;31m             \u001b[0;32mraise\u001b[0m \u001b[0mValueError\u001b[0m\u001b[0;34m(\u001b[0m\u001b[0;34mf\"Skill directory does not exist: {skill_directory_name}\"\u001b[0m\u001b[0;34m)\u001b[0m\u001b[0;34m\u001b[0m\u001b[0;34m\u001b[0m\u001b[0m\n\u001b[0m\u001b[1;32m    772\u001b[0m \u001b[0;34m\u001b[0m\u001b[0m\n\u001b[1;32m    773\u001b[0m         \u001b[0mskill\u001b[0m \u001b[0;34m=\u001b[0m \u001b[0;34m{\u001b[0m\u001b[0;34m}\u001b[0m\u001b[0;34m\u001b[0m\u001b[0;34m\u001b[0m\u001b[0m\n",
            "\u001b[0;31mValueError\u001b[0m: Skill directory does not exist: ClassFeedback"
          ]
        }
      ]
    }
  ]
}