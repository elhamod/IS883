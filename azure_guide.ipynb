{
  "cells": [
    {
      "cell_type": "markdown",
      "id": "57af5e23-fdfa-4863-891b-7f1fbed739f3",
      "metadata": {
        "noteable": {
          "cell_type": "markdown"
        },
        "id": "57af5e23-fdfa-4863-891b-7f1fbed739f3"
      },
      "source": [
        "# Quick Guide: Crafting a Chatbot with Azure & GitHub\n",
        "\n",
        "Embark on your development journey with Microsoft Azure and GitHub, laying the foundation for creating a chatbot using the OpenAI API.\n"
      ]
    },
    {
      "cell_type": "markdown",
      "id": "60f4e836",
      "metadata": {
        "id": "60f4e836"
      },
      "source": [
        "## 1. Establishing an Azure for Students Account\n",
        "\n",
        "### Procedures\n",
        "1. **Access**: Navigate to [Azure for Students](https://azure.microsoft.com/en-us/free/students/) and select ‘Activate Now’.\n",
        "2. **Authentication**: Log in using an existing Microsoft account or [create a new one](https://signup.live.com/).\n",
        "3. **Verification**: Validate your student status utilizing your educational email.\n",
        "4. **Completion**: Finalize the registration process, adhering to the specified terms and conditions.\n",
        "\n",
        "🚀 Your Azure environment is now configured and ready for use.\n"
      ]
    },
    {
      "cell_type": "markdown",
      "id": "8d230744",
      "metadata": {
        "id": "8d230744"
      },
      "source": [
        "## 2. Creating a Personalized Version of a Project Using GitHub Fork\n",
        "\n",
        "Utilize GitHub's forking feature to create your own personalized variant of a project.\n",
        "\n",
        "### Repository Details\n",
        "- **Repository Name**: azure-guide\n",
        "- **Repository Link**: [azure-guide Repository](https://github.com/elhamod/IS883_Azure_OpenAI_demo)\n",
        "\n",
        "### Step-by-Step Forking Process\n",
        "1. **Visit the Repository:**\n",
        "   - Navigate to the [azure-guide](https://github.com/elhamod/IS883_Azure_OpenAI_demo) repository.\n",
        "   \n",
        "2. **Initiate a Fork:**\n",
        "   - Find and click on the 'Fork' button, situated at the top-right corner of the repository page.\n",
        "\n",
        "3. **Select Fork Destination:**\n",
        "   - Choose your GitHub account as the destination where the repository will be forked.\n",
        "\n",
        "This method allows you to have your own version of the `azure-guide` repository, which you can modify and experiment with independently.\n",
        "\n"
      ]
    },
    {
      "cell_type": "markdown",
      "id": "b539f594-769d-41fe-a3b1-f062d9384be5",
      "metadata": {
        "noteable": {
          "cell_type": "markdown"
        },
        "id": "b539f594-769d-41fe-a3b1-f062d9384be5"
      },
      "source": [
        "## 3. Connecting with Azure and Setting Up the Application\n",
        "\n",
        "After forking and cloning the repository, the next step is to connect it with Azure and set up the application. Here are the general steps and we will delve into each one in detail in the subsequent sections:\n",
        "\n",
        "1. **Connect the Repository with Azure**: Link your forked GitHub repository with an Azure Web App.\n",
        "2. **Configure Application Settings**: Set up the `OPEN_API_KEY` in the Azure application settings.\n",
        "3. **Define Startup Command**: Specify the startup command for running the Streamlit app in Azure.\n",
        "\n",
        "### Explanation of the Provided Script\n",
        "\n",
        "Let's understand the provided Python script which utilizes Streamlit and OpenAI:\n",
        "\n",
        "```python\n",
        "# Import necessary libraries\n",
        "import streamlit as st\n",
        "import openai\n",
        "\n",
        "# Set up your OpenAI API key\n",
        "import os\n",
        "openai.api_key = os.environ.get('OPENAI_API_KEY')\n",
        "\n",
        "# Initialize Streamlit\n",
        "st.title(\"Azure Guide Chatbot\")\n",
        "\n",
        "# Create a text input field for user queries\n",
        "user_input = st.text_input(\"Ask a question:\")\n",
        "\n",
        "# Send the user's query to OpenAI GPT-3\n",
        "if user_input:\n",
        "    response = openai.Completion.create(\n",
        "    engine=\"text-davinci-003\",\n",
        "    prompt=user_input,\n",
        "    max_tokens=50\n",
        "    )\n",
        "    st.write(response['choices'][0]['text'].strip())\n",
        "```\n",
        "\n",
        "#### Explanation:\n",
        "\n",
        "- **Import Libraries**: The script starts by importing necessary libraries: `streamlit` for creating the web app and `openai` for interacting with the OpenAI API.\n",
        "\n",
        "- **API Key Setup**: The OpenAI API key is retrieved from the environment variables and set up for use in the script. This is done using `os.environ.get('OPENAI_API_KEY')`. This key is expected to be set in the environment where the script runs (in this case, Azure).\n",
        "\n",
        "- **Streamlit Initialization**: `st.title(\"Azure Guide Chatbot\")` sets the title of the web page to \"Azure Guide Chatbot\".\n",
        "\n",
        "- **User Input**: `st.text_input(\"Ask a question:\")` creates a text input box on the web page where users can type in their questions.\n",
        "\n",
        "- **Query Processing**: When a user inputs a question, it is sent to OpenAI's GPT-3 model using the `openai.Completion.create` method, and the response from the model is displayed on the web page using `st.write(response['choices'][0]['text'].strip())`.\n",
        "\n",
        "In the following sections, we will provide detailed steps and screenshots for connecting the repository with Azure, configuring application settings, and defining the startup command. Placeholder for screenshots will be added accordingly."
      ]
    },
    {
      "cell_type": "markdown",
      "id": "58b68baa-39e4-45c5-baf3-8ac851126d97",
      "metadata": {
        "noteable": {
          "cell_type": "markdown"
        },
        "id": "58b68baa-39e4-45c5-baf3-8ac851126d97"
      },
      "source": [
        "## Detailed Steps\n",
        "\n",
        "### 3.1 Create and Set Up a Web App in Azure\n",
        "\n",
        "Creating a web app in Azure provides a platform for your application to be accessed over the internet. Below is the detailed procedure:\n",
        "\n",
        "#### Step 1: Navigate and Initialize Web App\n",
        "- **Visit Azure Portal**: Use [Azure Portal](https://portal.azure.com/) and log in.\n",
        "- **Initiate a Web App**: Go to 'Create a resource' > 'Web' > 'Web App'.\n",
        "\n",
        "#### Step 2: Define Basic Setup\n",
        "- **Subscription**: Choose your Azure subscription.\n",
        "- **Resource Group**: Select or create a new resource group.\n",
        "- **Web App Name**: Assign a unique name for identification.\n",
        "- **Operating System**: Opt for Linux.\n",
        "\n",
        "\n",
        "#### Step 3: Additional Configurations\n",
        "- **Runtime Stack**: Choose python 3.10 or above as runtime stack\n",
        "- **SKU and Size**: Define the infrastructure grade.\n",
        "  \n",
        "Note: Ensure to review and finalize the setup by clicking on 'Review + create'.\n",
        "![webappgit.png](https://github.com/elhamod/IS883_Azure_OpenAI_demo/blob/main/resources/webapp2.png?raw=1)\n",
        "\n",
        "\n",
        "### 3.2 Connect GitHub Repository to Azure\n",
        "\n",
        "Ensure smooth and automated synchronization and deployment by linking your GitHub repository to Azure:\n",
        "\n",
        "#### Step 1: Set Up Deployment Center\n",
        "- Go to the 'Deployment Center' in your Web App.\n",
        "- Choose 'GitHub' for source control and authorize Azure’s access.\n",
        "\n",
        "#### Step 2: Finalize Repository and Deployment Setup\n",
        "- Specify your repository and the branch to deploy.\n",
        "- Validate and implement the deployment setup.\n",
        "\n",
        "![webappgit.png](https://github.com/elhamod/IS883_Azure_OpenAI_demo/blob/main/resources/webappgit.png?raw=1)\n",
        "\n",
        "\n",
        "\n",
        "### 3.3 Configure Application Settings\n",
        "\n",
        "Application settings are used to define configuration variables, such as API keys, which your app needs to run. In this case, we need to set up the `OPENAI_API_KEY`:\n",
        "\n",
        "1. **Settings**: In your Web App, navigate to the 'Settings' section and select 'Configuration'.\n",
        "2. **Application Settings**: Under the 'Application settings' tab, click on 'New application setting'.\n",
        "3. **Add API Key**: Name the new setting `OPENAI_API_KEY` and set its value to your OpenAI API key. Click 'OK' and don't forget to save the changes.\n",
        "\n",
        "![webappgit.png](https://github.com/elhamod/IS883_Azure_OpenAI_demo/blob/main/resources/openapi.png?raw=1)\n",
        "\n",
        "\n",
        "### 3.4 Define Startup Command\n",
        "\n",
        "The startup command tells Azure how to run your app. For a Streamlit app, the startup command should launch the Streamlit server:\n",
        "\n",
        "1. **General Settings**: In the 'Settings' section of your Web App, go to 'Configuration' and then to the 'General settings' tab.\n",
        "2. **Startup Command**: In the 'Startup Command' field, enter the command to run your Streamlit app: `streamlit run azure.py --server.port 8000 --server.address 0.0.0.0`.\n",
        "3. **Save**: Don't forget to save your changes.\n",
        "\n",
        "![webappgit.png](https://github.com/elhamod/IS883_Azure_OpenAI_demo/blob/main/resources/startup.png?raw=1)\n",
        "\n",
        "\n",
        "In the next sections, we will explore GitHub Actions, viewing application logs, and provide an overview of Streamlit."
      ]
    },
    {
      "cell_type": "markdown",
      "id": "0ca17e1e-c004-49a7-9a66-5cffdbd77953",
      "metadata": {
        "noteable": {
          "cell_type": "markdown"
        },
        "id": "0ca17e1e-c004-49a7-9a66-5cffdbd77953"
      },
      "source": [
        "## 4. Using GitHub Actions for Deployment Monitoring\n",
        "\n",
        "GitHub Actions facilitate seamless deployment monitoring of your Streamlit app to Azure.\n",
        "\n",
        "### Quick Insight:\n",
        "\n",
        "- **View Deployment Status:** Navigate to the 'Actions' tab in your GitHub repository to monitor the deployment process.\n",
        "- **Troubleshoot Issues:** Explore workflow logs within GitHub Actions to identify and rectify deployment issues.\n",
        "- **Why Use GitHub Actions:** It's a streamlined interface directly linked to your Azure deployment, simplifying error tracking and resolution.\n",
        "\n",
        "Consider GitHub Actions as your deployment dashboard, ensuring you are always in the loop regarding the status and health of your app deployment to Azure.\n",
        "\n",
        "\n",
        "![webappgit.png](https://github.com/elhamod/IS883_Azure_OpenAI_demo/blob/main/resources/action.png?raw=1)\n",
        "\n",
        "\n",
        "## 5. Streamlit Overview\n",
        "\n",
        "Streamlit is an open-source Python library that makes it easy to create web apps for machine learning and data science. In the provided script, Streamlit is used to create a simple chatbot interface that interacts with OpenAI's GPT-3 model. Here are some key aspects:\n",
        "\n",
        "- **User Interface**: Easily create UI elements like text input and display areas with simple Python functions.\n",
        "- **Interactivity**: Handle user input and interaction seamlessly.\n",
        "- **Deployment**: Streamlit apps can be easily containerized and deployed to various cloud platforms, including Azure.\n",
        "\n",
        "For more details and to explore further, visit the [Streamlit Documentation](https://docs.streamlit.io/).\n",
        "\n"
      ]
    },
    {
      "cell_type": "markdown",
      "id": "9c309df2",
      "metadata": {
        "id": "9c309df2"
      },
      "source": [
        "Now, when you open the domain assogend to the web app you should be able to see the chatbot\n",
        "\n",
        "\n",
        "\n",
        "![webappgit.png](https://github.com/elhamod/IS883_Azure_OpenAI_demo/blob/main/resources/Chatbot.png?raw=1)\n",
        "\n"
      ]
    }
  ],
  "metadata": {
    "kernel_info": {
      "name": "python3"
    },
    "kernelspec": {
      "display_name": "Python 3.9",
      "language": "python",
      "name": "python3"
    },
    "language_info": {
      "codemirror_mode": {
        "name": "ipython",
        "version": 3
      },
      "file_extension": ".py",
      "mimetype": "text/x-python",
      "name": "python",
      "nbconvert_exporter": "python",
      "pygments_lexer": "ipython3",
      "version": "3.9.12"
    },
    "noteable": {
      "last_delta_id": "ced46bf3-54aa-489b-8f63-176f1545bc19"
    },
    "noteable-chatgpt": {
      "create_notebook": {
        "openai_conversation_id": "670feb69-a6e7-53f4-b1d2-4dba57a50ce2",
        "openai_ephemeral_user_id": "e068f77f-122a-5974-b596-75383bcd5c4a",
        "openai_subdivision1_iso_code": "US-MA"
      }
    },
    "nteract": {
      "version": "noteable@2.9.0"
    },
    "selected_hardware_size": "small",
    "colab": {
      "provenance": []
    }
  },
  "nbformat": 4,
  "nbformat_minor": 5
}