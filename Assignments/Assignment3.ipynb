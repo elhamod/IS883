{
  "cells": [
    {
      "cell_type": "markdown",
      "metadata": {
        "colab_type": "text",
        "id": "view-in-github"
      },
      "source": [
        "<a href=\"https://colab.research.google.com/github/elhamod/IS883/blob/main/Assignment3.ipynb\" target=\"_parent\"><img src=\"https://colab.research.google.com/assets/colab-badge.svg\" alt=\"Open In Colab\"/></a>"
      ]
    },
    {
      "cell_type": "markdown",
      "metadata": {},
      "source": [
        "# Assignment 3\n",
        "\n",
        "## Overview\n",
        "This notebook has been created for IS883 at Questrom School of Business - Boston University. It is designed to guide students through using `LangChain` chains to create a financial advisor.\n",
        "\n",
        "### Created By\n",
        "- **Author:** Mohannad Elhamod\n",
        "- **Position:** Clinical Assistant Profressor\n",
        "- **Institution:** Questrom School of Business - Boston University\n",
        "\n",
        "\n",
        "\n",
        "*Note: This notebook is intended for educational purposes and is part of the coursework for IS883. Unauthorized distribution or use is not permitted.*\n",
        "\n",
        "---\n"
      ]
    },
    {
      "cell_type": "markdown",
      "metadata": {
        "id": "KyX90VY4i7Y9"
      },
      "source": [
        "#Using `LangChain` for Prompt Engineering"
      ]
    },
    {
      "cell_type": "markdown",
      "metadata": {
        "id": "JPkbs259XQ9t"
      },
      "source": [
        "##Q0: Loading OpenAI API key"
      ]
    },
    {
      "cell_type": "code",
      "execution_count": null,
      "metadata": {
        "id": "CR52h7TlXX5P"
      },
      "outputs": [],
      "source": [
        "!pip install openai==0.28.1"
      ]
    },
    {
      "cell_type": "code",
      "execution_count": null,
      "metadata": {
        "id": "0wLnzuBTXZ_R"
      },
      "outputs": [],
      "source": [
        "from google.colab import drive\n",
        "drive.mount('/content/drive/')"
      ]
    },
    {
      "cell_type": "code",
      "execution_count": null,
      "metadata": {
        "id": "sEUeXLsOXb2R"
      },
      "outputs": [],
      "source": [
        "config_ini_location = '/content/drive/MyDrive/Colab Notebooks/IS883/OpenAI guide/config.ini' # Change this to point to the location of your config.ini file.\n",
        "\n",
        "import configparser\n",
        "\n",
        "config = configparser.ConfigParser()\n",
        "config.read(config_ini_location)\n",
        "openai_api_key = config['OpenAI']['API_KEY']"
      ]
    },
    {
      "cell_type": "markdown",
      "metadata": {
        "id": "6QOIueVJiup4"
      },
      "source": [
        "## Q1: FiniBot, financial advising simplified!"
      ]
    },
    {
      "cell_type": "markdown",
      "metadata": {
        "id": "xfJfAyrYGKl3"
      },
      "source": [
        "As we have seen in class, breaking a prompt down into chains is useful and, if engineered well, returns better and more reliably responses.\n",
        "\n",
        "[In class](https://github.com/elhamod/IS883/blob/main/Prompt_Engineering_Agents.ipynb), we have seen the most basic form of chains, a `SequentialChain`. However, other more sophisticated chains exist. Here, you will explore a [`RouterChain`](https://python.langchain.com/docs/modules/chains/foundational/router#legacy-routerchain). This chain acts like a switch. Given a condition, it decided which prompt to use. This is in contrast to the deterministic sequantial nature of `SequentialChain`.\n",
        "\n",
        "Using `RouterChain`, and in a manner similar to [`LangChain` in-class demo](https://github.com/elhamod/IS883/blob/main/Prompt_Engineering_Agents.ipynb), write a solution for the following scenario:\n",
        "\n",
        "-----------------------------------\n",
        "You are creating a financial advising ChatBot, FiniBot. Yor clients will fill out [the following csv file](https://docs.google.com/spreadsheets/d/1wJHJE7hrXcedpk9bTQ0oulwTTs41wu32TPTw0FebwXw/edit?usp=sharing), which contains a cell for savings, another for monthly debt, and finally a cell for monthly income. You ChatBot will\n",
        " 1. Download the file as an `.csv` to your Google Drive.\n",
        " 2. Load the file to the notebook.\n",
        " 3. Based on the content of the file, describe your client's situation objectively and in one of two levels: \"Novice\" and \"Expert\".\n",
        " 4. Based on the client's situation:\n",
        " - If your client's [debt ratio](https://www.investopedia.com/ask/answers/081214/whats-considered-be-good-debttoincome-dti-ratio.asp#:~:text=Lenders%2C%20including%20anyone%20who%20might,lenders%20prefer%2036%25%20or%20below.) is less than 0.3, then FiniBot will commend the client's financial accomplishment and then turn into an investment advisor. It will advise to invest their money and provide them with an investment portfolio based on their savings and using 5 stocks.\n",
        " - Otherwise, FiniBot will politely and cautiously, without taking them on a guilt trip, warn the client about their financial situation. It will then turn into a debt advisor, and create a plan for them to pay off their debt by allocating 10% of their income for monthly debt payments.\n",
        "---------------------------------------\n",
        "\n",
        "The final output of your code should be (as text):\n",
        "---------------------------\n",
        "<pre>\n",
        " - Total savings:  < value >\n",
        " - Monthly debt: < value >\n",
        " - Monthly income: < value >\n",
        "\n",
        " - Financial situation:\n",
        " < Your ChatBots Financial summary in \"Novice\" or \"Expert\" tone >\n",
        "\n",
        "- Recommendation:\n",
        " < Your advisor's output >\n",
        " </pre>\n",
        "-----------------\n"
      ]
    },
    {
      "cell_type": "code",
      "execution_count": null,
      "metadata": {
        "id": "yH7YpTeN11Lz"
      },
      "outputs": [],
      "source": [
        "!pip install langchain"
      ]
    },
    {
      "cell_type": "markdown",
      "metadata": {
        "id": "EKXYtaSG0zd-"
      },
      "source": [
        "Step 1: Load the `.csv` file as text. You can use [`CSVLoader`](https://python.langchain.com/docs/integrations/document_loaders/csv)"
      ]
    },
    {
      "cell_type": "code",
      "execution_count": null,
      "metadata": {
        "id": "hA-HDbuz1lKr"
      },
      "outputs": [],
      "source": [
        "csv_path = \"/content/drive/MyDrive/Colab Notebooks/IS883/IS883_Assignment3_FiniBot.csv\""
      ]
    },
    {
      "cell_type": "code",
      "execution_count": null,
      "metadata": {
        "id": "mB25dkVQ0zBr"
      },
      "outputs": [],
      "source": [
        "def loadCSVFile(csv_path):\n",
        "######\n",
        "# Fill in your implementation here to return the csv file content as plain text.\n",
        "#######\n",
        "\n",
        "  return text"
      ]
    },
    {
      "cell_type": "code",
      "execution_count": null,
      "metadata": {
        "id": "NlzsUGrM18sk"
      },
      "outputs": [],
      "source": [
        "# printing the content of the file\n",
        "text = loadCSVFile(csv_path)\n",
        "print(text)"
      ]
    },
    {
      "cell_type": "markdown",
      "metadata": {
        "id": "4hqcNOZ04ib-"
      },
      "source": [
        "Here, define `Output_template`, the text that contains the formatted output message as described above. This template has `{input}` as input string. Assume that `{input}` contains the final variables of interest: the input savings, debt, income, and output summary."
      ]
    },
    {
      "cell_type": "code",
      "execution_count": null,
      "metadata": {
        "id": "EMqMRV1xPhBt"
      },
      "outputs": [],
      "source": [
        "Output_template=\"\"\"\n",
        "\n",
        "\"\"\""
      ]
    },
    {
      "cell_type": "markdown",
      "metadata": {
        "id": "DMYa7lnK5Z39"
      },
      "source": [
        "Here define the `investmet_template`, which should act as the prompt template used when the investment advisor is selected. This template has {input} as input string. Assume that {input} contains the final variables of interest: the input savings, debt, income, and output summary."
      ]
    },
    {
      "cell_type": "code",
      "execution_count": null,
      "metadata": {
        "id": "dkYmYMai7peB"
      },
      "outputs": [],
      "source": [
        "investmet_template =\"\"\"\n",
        "\n",
        "\"\"\" + Output_template"
      ]
    },
    {
      "cell_type": "markdown",
      "metadata": {
        "id": "5YBkOfSC5oM7"
      },
      "source": [
        "Here define the `debt_template`, which should act as the prompt template used when the debt advisor is selected. This template has {input} as input string. Assume that {input} contains the final variables of interest: the input savings, debt, income, and output summary."
      ]
    },
    {
      "cell_type": "code",
      "execution_count": null,
      "metadata": {
        "id": "oiCWTmcP7pgc"
      },
      "outputs": [],
      "source": [
        "debt_template= \"\"\"\n",
        "\n",
        "\"\"\" + Output_template"
      ]
    },
    {
      "cell_type": "markdown",
      "metadata": {
        "id": "i6toJclF5yRF"
      },
      "source": [
        "Here, define the two possible routes that can be taken as described above. Follow the example shown [here](https://python.langchain.com/docs/modules/chains/foundational/router#legacy-routerchain).\n",
        "Each branch should define the **name** of the route, its **description** (which will be used to select the route), and the **template** that will be used for that route."
      ]
    },
    {
      "cell_type": "code",
      "execution_count": null,
      "metadata": {
        "id": "RlBufkow7FqH"
      },
      "outputs": [],
      "source": [
        "routes ="
      ]
    },
    {
      "cell_type": "markdown",
      "metadata": {
        "id": "RHIIf-Kk6dOP"
      },
      "source": [
        "Here, define the variable that sets the `level` of the returned summary."
      ]
    },
    {
      "cell_type": "code",
      "execution_count": null,
      "metadata": {
        "id": "5_9rB2bvAj4M"
      },
      "outputs": [],
      "source": [
        "level= \"Novice\" #\"Expert\""
      ]
    },
    {
      "cell_type": "markdown",
      "metadata": {
        "id": "iyE2feLR_0tA"
      },
      "source": [
        "Create the `langchain.llms.OpenAI` language model. name it `llm`. As you progress with your assignment, consider what appropriate [parameters](https://api.python.langchain.com/en/latest/llms/langchain.llms.openai.OpenAI.html) to use here."
      ]
    },
    {
      "cell_type": "code",
      "execution_count": null,
      "metadata": {
        "id": "ce6eVHkI_3bh"
      },
      "outputs": [],
      "source": [
        "llm ="
      ]
    },
    {
      "cell_type": "markdown",
      "metadata": {
        "id": "m5a-eSA59dTW"
      },
      "source": [
        "**Answer:**\n"
      ]
    },
    {
      "cell_type": "markdown",
      "metadata": {
        "id": "AEZ6Qikm_vsP"
      },
      "source": [
        "Create a destination chain for each possible route. Follow the example shown [here](https://python.langchain.com/docs/modules/chains/foundational/router#legacy-routerchain)."
      ]
    },
    {
      "cell_type": "code",
      "execution_count": null,
      "metadata": {
        "id": "jarl4g5r_XpT"
      },
      "outputs": [],
      "source": [
        "destination_chains ="
      ]
    },
    {
      "cell_type": "markdown",
      "metadata": {
        "id": "zHpTg4nB2wss"
      },
      "source": [
        "Create a `financial_prompt` for summarizing the client's situation. Include the client's financial knowledge `{level}` as a parameter in this template.\n",
        "- Make sure to use the prompt engineering tips we used in class. You may find [these tips](https://pbs.twimg.com/media/F0RWXIjXgAARNAG?format=jpg&name=4096x4096) useful.\n",
        "- Make sure your prompt is talking the client as a chatbot, and not in 3rd person."
      ]
    },
    {
      "cell_type": "code",
      "execution_count": null,
      "metadata": {
        "id": "-4ApwllP3FL0"
      },
      "outputs": [],
      "source": [
        "financial_prompt = \"\"\"\n",
        "\n",
        "\"\"\""
      ]
    },
    {
      "cell_type": "markdown",
      "metadata": {
        "id": "DWps8Owa99OC"
      },
      "source": [
        "This template is needed by `RouterChain`."
      ]
    },
    {
      "cell_type": "code",
      "execution_count": null,
      "metadata": {
        "id": "QCDSO-wmMpZR"
      },
      "outputs": [],
      "source": [
        "MULTI_PROMPT_ROUTER_TEMPLATE = \"\"\"\\\n",
        "Given a raw text input to a language model select the model prompt best suited for \\\n",
        "the input. You will be given the names of the available prompts and a description of \\\n",
        "what the prompt is best suited for. You may also revise the original input if you \\\n",
        "think that revising it will ultimately lead to a better response from the language \\\n",
        "model.\n",
        "\n",
        "<< FORMATTING >>\n",
        "Return a markdown code snippet with a JSON object formatted to look like:\n",
        "```json\n",
        "{{{{\n",
        "    \"destination\": string \\\\ name of the prompt to use or \"DEFAULT\"\n",
        "    \"next_inputs\": string \\\\ a modified version of the original input. It is modified to contai only: the \"savings\" value, the \"debt\" value, the \"income\" value, and the \"summary\" provided above.\n",
        "}}}}\n",
        "```\n",
        "\n",
        "REMEMBER: \"destination\" MUST be one of the candidate prompt names specified below OR \\\n",
        "it can be \"DEFAULT\" if the input is not well suited for any of the candidate prompts.\n",
        "REMEMBER: \"next_inputs\" is not the original input. It is modified to contain: the \"savings\" value, the \"debt\" value, the \"income\" value, and the \"summary\" provided above.\n",
        "\n",
        "<< CANDIDATE PROMPTS >>\n",
        "{destinations}\n",
        "\n",
        "<< INPUT >>\n",
        "{{input}}\n",
        "\n",
        "<< OUTPUT (must include ```json at the start of the response) >>\n",
        "<< OUTPUT (must end with ```) >>\n",
        "\"\"\"\n"
      ]
    },
    {
      "cell_type": "markdown",
      "metadata": {
        "id": "XEMrItYm-d6Z"
      },
      "source": [
        "The following code creates the routing template"
      ]
    },
    {
      "cell_type": "code",
      "execution_count": null,
      "metadata": {
        "id": "xe3TDApM-3lk"
      },
      "outputs": [],
      "source": [
        "prompt = financial_prompt + MULTI_PROMPT_ROUTER_TEMPLATE"
      ]
    },
    {
      "cell_type": "code",
      "execution_count": null,
      "metadata": {
        "id": "aXIPMLm3-f06"
      },
      "outputs": [],
      "source": [
        "destinations = [f\"{route['name']}: {route['description']}\" for route in routes]\n",
        "destinations_str = \"\\n\".join(destinations)\n",
        "router_template = prompt.format(destinations=destinations_str, level=level)"
      ]
    },
    {
      "cell_type": "code",
      "execution_count": null,
      "metadata": {
        "id": "kea-sQDy-Wyc"
      },
      "outputs": [],
      "source": [
        "from langchain.chains.router.llm_router import LLMRouterChain, RouterOutputParser\n",
        "\n",
        "router_prompt = PromptTemplate(\n",
        "    template=router_template,\n",
        "    input_variables=[\"input\"],\n",
        "    output_parser=RouterOutputParser(),\n",
        ")\n",
        "router_chain = LLMRouterChain.from_llm(llm, router_prompt)"
      ]
    },
    {
      "cell_type": "code",
      "execution_count": null,
      "metadata": {
        "id": "C0z3UgdABhF-"
      },
      "outputs": [],
      "source": [
        "from langchain.chains.router import MultiPromptChain\n",
        "from langchain.chains import ConversationChain\n",
        "\n",
        "chain = MultiPromptChain(\n",
        "    router_chain=router_chain,\n",
        "    destination_chains=destination_chains,\n",
        "    default_chain=ConversationChain(llm=llm, output_key=\"text\"),\n",
        "    verbose=False,\n",
        ")"
      ]
    },
    {
      "cell_type": "markdown",
      "metadata": {
        "id": "V2Gr95RhBpYY"
      },
      "source": [
        "Now, try it! Write a code that:\n",
        "- Turns `langchain.debug` on so you could see what it going on.\n",
        "- Runs the `chain` we created above."
      ]
    },
    {
      "cell_type": "code",
      "execution_count": null,
      "metadata": {
        "id": "5UhcWBfLBrOJ"
      },
      "outputs": [],
      "source": []
    },
    {
      "cell_type": "markdown",
      "metadata": {
        "id": "4aVVHXDx_DTX"
      },
      "source": [
        "Answer the following questions:\n",
        "\n",
        "\n",
        "\n",
        "1.   Iteratively improve your code and prompts until you achieve the desired output.\n",
        "\n",
        "  - Enumerate and describe the steps the chain is taking to produce the final output by taking a look at the debugging output.\n",
        "  - Does the final output match expectation? If not, what are the \"bugs\" from the client's perspective and what's your justification for their occurance?\n",
        "  - What \"extra mile\" you could have gone to improve results?\n",
        "\n",
        "\n",
        "\n",
        "\n",
        "\n",
        "\n",
        "\n",
        "\n"
      ]
    },
    {
      "cell_type": "markdown",
      "metadata": {
        "id": "LBfPC-KhbTwc"
      },
      "source": [
        "**Answer:**\n"
      ]
    },
    {
      "cell_type": "markdown",
      "metadata": {
        "id": "jMznDnYUbJxS"
      },
      "source": [
        "2. With the final chain, for each of the following scenarios, run the `chain` 10 times to sample the spectrum of generated answers:\n",
        "\n",
        "*   A `csv` where the debt is `$500` and the savings are `$4,000`, with a monthly income of `$4,000`\n",
        "*   A `csv` where the debt is `$500` and the savings are `$0`, with a monthly income of `$4,000`\n",
        "*   A `csv` where the debt is `$1,500` and the savings are `$4,000`, with an monthly income of `$3,000`\n",
        "\n"
      ]
    },
    {
      "cell_type": "code",
      "execution_count": null,
      "metadata": {
        "id": "iOXaS0VGbWbf"
      },
      "outputs": [],
      "source": [
        "def run10times(csv_file):\n",
        "\n"
      ]
    },
    {
      "cell_type": "code",
      "execution_count": null,
      "metadata": {
        "id": "vm2BfJxSb4Te"
      },
      "outputs": [],
      "source": [
        "## Call for first scenario"
      ]
    },
    {
      "cell_type": "code",
      "execution_count": null,
      "metadata": {
        "id": "WBxCACEMb5pF"
      },
      "outputs": [],
      "source": [
        "## Call for second scenario"
      ]
    },
    {
      "cell_type": "code",
      "execution_count": null,
      "metadata": {
        "id": "fWjf8yVdb5tM"
      },
      "outputs": [],
      "source": [
        "## Call for third scenario"
      ]
    },
    {
      "cell_type": "markdown",
      "metadata": {
        "id": "5i-ikW5qvpIA"
      },
      "source": [
        "- State the expected correct output for each scenario in your own words.\n",
        "- What was the success rate for each scenario (as a percentage)? How did you calculate it?\n",
        "- Can you explain the low or high rate of success for each scenario? Comment, with suggestions when appropriate, on your findings."
      ]
    },
    {
      "cell_type": "markdown",
      "metadata": {
        "id": "qPdXK4v0ueVM"
      },
      "source": [
        "**Answer:**\n"
      ]
    },
    {
      "cell_type": "markdown",
      "metadata": {
        "id": "OBMXXSxuNGX9"
      },
      "source": [
        "##Q2 (BONUS): FiniBot is online!"
      ]
    },
    {
      "cell_type": "markdown",
      "metadata": {
        "id": "BLr9LsTAPlKE"
      },
      "source": [
        "You are now ready to start offering FiniBot services to the public! Here is what you need to do:\n",
        "\n",
        "Create a User interface using `streamlit` that consists of:\n",
        "- An `st.header` containing text welcoming your client and asking them to upload the spreadsheet. Provide a link to the spreadsheet's template in this header.\n",
        "- An [`st.file_uploader`](https://docs.streamlit.io/library/api-reference/widgets/st.file_uploader) \"Upload spreadsheet\" button. [This](https://stackoverflow.com/questions/68248125/how-to-read-csv-file-from-user-in-streamlit-and-converting-to-pandas-dataframe) may also be useful.\n",
        "- An [`st.radio`](https://docs.streamlit.io/library/api-reference/widgets/st.radio) toggle button to select whether the client is a \"Novice\" or an \"Expert\".\n",
        "- Displays the spreadsheet neatly, like [this](https://stackoverflow.com/questions/68248125/how-to-read-csv-file-from-user-in-streamlit-and-converting-to-pandas-dataframe).\n",
        "- An `st.markdown` to output FiniBot's analysis and recommendation.\n",
        "\n",
        "You may find [this cheatsheet](https://cheat-sheet.streamlit.app/) helpful while you are constructing your UI."
      ]
    },
    {
      "cell_type": "markdown",
      "metadata": {
        "id": "hvpdMQRKtDBU"
      },
      "source": [
        "To create the app, follow these steps:\n",
        "\n",
        "1. Fork the [following GitHub](https://github.com/elhamod/is883_Assignment3). You will be filling your code inside `app.py`\n",
        "2. Develop `streamlit`'s code as described above. You do not need to have language modeling at this point yet. You only need to have a functioning UX.\n",
        "3. Copy the code you have developed in Q1 to `app.py` and integrate it with `streamlit`'s code ***appropriately***. You will have to make some adjustments (e.g., getting the level from the toggle button rather than hard-coding it).\n",
        "4. Commit, push, and deploy!"
      ]
    },
    {
      "cell_type": "markdown",
      "metadata": {
        "id": "3YRRGwKCdfDB"
      },
      "source": [
        "Here are some guides for working with Streamlit's community cloud:\n",
        "\n",
        "- For getting started and signing up (please follow only the first 8 steps): [Streamlit Community Cloud Quickstart](https://docs.streamlit.io/streamlit-community-cloud/get-started/quickstart)\n",
        "- For deploying from your GitHub repository: [Deploying to Streamlit Cloud](https://docs.streamlit.io/streamlit-community-cloud/deploy-your-app)\n",
        "- Make sure to add `OPENAI_API_KEY` in advanced settings"
      ]
    },
    {
      "cell_type": "code",
      "execution_count": null,
      "metadata": {
        "id": "cAe2H_fDcUdP"
      },
      "outputs": [],
      "source": []
    }
  ],
  "metadata": {
    "colab": {
      "authorship_tag": "ABX9TyNpNPVBh3ymzEfBMyrXzw6b",
      "include_colab_link": true,
      "mount_file_id": "1In_5dFR_1WRI2w-qfk0kHXIVUvIjjulv",
      "provenance": []
    },
    "kernelspec": {
      "display_name": "Python 3",
      "name": "python3"
    },
    "language_info": {
      "name": "python"
    }
  },
  "nbformat": 4,
  "nbformat_minor": 0
}
