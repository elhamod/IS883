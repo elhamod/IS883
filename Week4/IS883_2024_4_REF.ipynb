{
  "nbformat": 4,
  "nbformat_minor": 0,
  "metadata": {
    "colab": {
      "provenance": [],
      "authorship_tag": "ABX9TyPvbjx38HG0kTNzouCgqve5",
      "include_colab_link": true
    },
    "kernelspec": {
      "name": "python3",
      "display_name": "Python 3"
    },
    "language_info": {
      "name": "python"
    }
  },
  "cells": [
    {
      "cell_type": "markdown",
      "metadata": {
        "id": "view-in-github",
        "colab_type": "text"
      },
      "source": [
        "<a href=\"https://colab.research.google.com/github/elhamod/IS883/blob/main/Week4/IS883_2024_4_REF.ipynb\" target=\"_parent\"><img src=\"https://colab.research.google.com/assets/colab-badge.svg\" alt=\"Open In Colab\"/></a>"
      ]
    },
    {
      "cell_type": "markdown",
      "source": [
        "# IS883 Week 8: Hallucinations and Agents\n"
      ],
      "metadata": {
        "id": "qy7dgqvIEUEp"
      }
    },
    {
      "cell_type": "markdown",
      "source": [
        "1. Use Google Colab for this assignment.\n",
        "\n",
        "2. **You are not allowed to use ChatGPT for this assignment (except where specifically instructed). However, you may use Google and other online resources. As per the syllabus, you are required to cite your usage. You are also responsible for understanding the solution and defending it when asked in class.**\n",
        "\n",
        "3. For each question, fill in the answer in the cell(s) right below it. The answer could be code or text. You can add as many cells as you need for clarity.\n",
        "\n",
        "4. Enter your BUID (only numerical part) below.\n",
        "\n",
        "5. **Your submission on Blackboard should be the downloaded notebook (i.e., ipynb file). It should be prepopulated with your solution (i.e., the TA and/or instructor need not rerun the notebook to inspect the output). The code, when executed by the TA and/or instructor, should run with no runtime errors.**"
      ],
      "metadata": {
        "id": "YT9rb6-K37DT"
      }
    },
    {
      "cell_type": "markdown",
      "source": [
        "#Part 1: Pre-class Work"
      ],
      "metadata": {
        "id": "CECHXjp75AJY"
      }
    },
    {
      "cell_type": "code",
      "source": [
        "!pip install openai"
      ],
      "metadata": {
        "colab": {
          "base_uri": "https://localhost:8080/"
        },
        "id": "5Ycvq5d0Lfyz",
        "outputId": "bb7e9263-01c8-49ec-a5f3-815a7845e863"
      },
      "execution_count": null,
      "outputs": [
        {
          "output_type": "stream",
          "name": "stdout",
          "text": [
            "Collecting openai\n",
            "  Downloading openai-1.46.0-py3-none-any.whl.metadata (24 kB)\n",
            "Requirement already satisfied: anyio<5,>=3.5.0 in /usr/local/lib/python3.10/dist-packages (from openai) (3.7.1)\n",
            "Requirement already satisfied: distro<2,>=1.7.0 in /usr/lib/python3/dist-packages (from openai) (1.7.0)\n",
            "Collecting httpx<1,>=0.23.0 (from openai)\n",
            "  Downloading httpx-0.27.2-py3-none-any.whl.metadata (7.1 kB)\n",
            "Collecting jiter<1,>=0.4.0 (from openai)\n",
            "  Downloading jiter-0.5.0-cp310-cp310-manylinux_2_17_x86_64.manylinux2014_x86_64.whl.metadata (3.6 kB)\n",
            "Requirement already satisfied: pydantic<3,>=1.9.0 in /usr/local/lib/python3.10/dist-packages (from openai) (2.9.1)\n",
            "Requirement already satisfied: sniffio in /usr/local/lib/python3.10/dist-packages (from openai) (1.3.1)\n",
            "Requirement already satisfied: tqdm>4 in /usr/local/lib/python3.10/dist-packages (from openai) (4.66.5)\n",
            "Requirement already satisfied: typing-extensions<5,>=4.11 in /usr/local/lib/python3.10/dist-packages (from openai) (4.12.2)\n",
            "Requirement already satisfied: idna>=2.8 in /usr/local/lib/python3.10/dist-packages (from anyio<5,>=3.5.0->openai) (3.10)\n",
            "Requirement already satisfied: exceptiongroup in /usr/local/lib/python3.10/dist-packages (from anyio<5,>=3.5.0->openai) (1.2.2)\n",
            "Requirement already satisfied: certifi in /usr/local/lib/python3.10/dist-packages (from httpx<1,>=0.23.0->openai) (2024.8.30)\n",
            "Collecting httpcore==1.* (from httpx<1,>=0.23.0->openai)\n",
            "  Downloading httpcore-1.0.5-py3-none-any.whl.metadata (20 kB)\n",
            "Collecting h11<0.15,>=0.13 (from httpcore==1.*->httpx<1,>=0.23.0->openai)\n",
            "  Downloading h11-0.14.0-py3-none-any.whl.metadata (8.2 kB)\n",
            "Requirement already satisfied: annotated-types>=0.6.0 in /usr/local/lib/python3.10/dist-packages (from pydantic<3,>=1.9.0->openai) (0.7.0)\n",
            "Requirement already satisfied: pydantic-core==2.23.3 in /usr/local/lib/python3.10/dist-packages (from pydantic<3,>=1.9.0->openai) (2.23.3)\n",
            "Downloading openai-1.46.0-py3-none-any.whl (375 kB)\n",
            "\u001b[2K   \u001b[90m━━━━━━━━━━━━━━━━━━━━━━━━━━━━━━━━━━━━━━━━\u001b[0m \u001b[32m375.0/375.0 kB\u001b[0m \u001b[31m3.5 MB/s\u001b[0m eta \u001b[36m0:00:00\u001b[0m\n",
            "\u001b[?25hDownloading httpx-0.27.2-py3-none-any.whl (76 kB)\n",
            "\u001b[2K   \u001b[90m━━━━━━━━━━━━━━━━━━━━━━━━━━━━━━━━━━━━━━━━\u001b[0m \u001b[32m76.4/76.4 kB\u001b[0m \u001b[31m978.4 kB/s\u001b[0m eta \u001b[36m0:00:00\u001b[0m\n",
            "\u001b[?25hDownloading httpcore-1.0.5-py3-none-any.whl (77 kB)\n",
            "\u001b[2K   \u001b[90m━━━━━━━━━━━━━━━━━━━━━━━━━━━━━━━━━━━━━━━━\u001b[0m \u001b[32m77.9/77.9 kB\u001b[0m \u001b[31m1.2 MB/s\u001b[0m eta \u001b[36m0:00:00\u001b[0m\n",
            "\u001b[?25hDownloading jiter-0.5.0-cp310-cp310-manylinux_2_17_x86_64.manylinux2014_x86_64.whl (318 kB)\n",
            "\u001b[2K   \u001b[90m━━━━━━━━━━━━━━━━━━━━━━━━━━━━━━━━━━━━━━━━\u001b[0m \u001b[32m318.9/318.9 kB\u001b[0m \u001b[31m5.4 MB/s\u001b[0m eta \u001b[36m0:00:00\u001b[0m\n",
            "\u001b[?25hDownloading h11-0.14.0-py3-none-any.whl (58 kB)\n",
            "\u001b[2K   \u001b[90m━━━━━━━━━━━━━━━━━━━━━━━━━━━━━━━━━━━━━━━━\u001b[0m \u001b[32m58.3/58.3 kB\u001b[0m \u001b[31m2.1 MB/s\u001b[0m eta \u001b[36m0:00:00\u001b[0m\n",
            "\u001b[?25hInstalling collected packages: jiter, h11, httpcore, httpx, openai\n",
            "Successfully installed h11-0.14.0 httpcore-1.0.5 httpx-0.27.2 jiter-0.5.0 openai-1.46.0\n"
          ]
        }
      ]
    },
    {
      "cell_type": "markdown",
      "source": [
        "## 1.1 Exploring Hallucinations"
      ],
      "metadata": {
        "id": "ZTmVYLeKHGXm"
      }
    },
    {
      "cell_type": "markdown",
      "source": [
        "In this section, we will explore how well some GPTs' can answer questions.\n",
        "\n",
        "We will start with some simple questions and then build up towards more complex ones.\n",
        "\n",
        "Since LLMs are stochastic in nature, we will ask ChatGPT to answer the question 10 times so we can sample different possible responses."
      ],
      "metadata": {
        "id": "HfTR02QpOxHV"
      }
    },
    {
      "cell_type": "code",
      "source": [
        "import openai\n",
        "from google.colab import userdata\n",
        "from openai import OpenAI"
      ],
      "metadata": {
        "id": "u4__XitwPjBo"
      },
      "execution_count": null,
      "outputs": []
    },
    {
      "cell_type": "markdown",
      "source": [
        "Fill Up the following function to streamline the quetion answering. **(5 Points)**"
      ],
      "metadata": {
        "id": "2xZ33_LXqT9m"
      }
    },
    {
      "cell_type": "code",
      "source": [
        "def answer_10times(question, model = \"gpt-3.5-turbo\"):\n",
        "  for i in range(10):\n",
        "    ### Create the OpenAI object and pass the OpenAI key.\n",
        "    client = OpenAI(\n",
        "        api_key=userdata.get('MyOpenAIKey'),\n",
        "    )\n",
        "\n",
        "    ### Get a response to the question\n",
        "    response = client.chat.completions.create(\n",
        "      messages=[{\"role\": \"user\", \"content\": question}],\n",
        "      model=model,\n",
        "    )\n",
        "\n",
        "    ### print the answer\n",
        "    print(\"Answer\", i, \":\", response.choices[0].message.content)\n",
        "\n"
      ],
      "metadata": {
        "id": "JBsI1b5ePxTY"
      },
      "execution_count": null,
      "outputs": []
    },
    {
      "cell_type": "markdown",
      "source": [
        "\n",
        "> Q1.a: How did Pope Innocent III die? **(5 Points)**\n",
        "\n"
      ],
      "metadata": {
        "id": "x9WONy19PLux"
      }
    },
    {
      "cell_type": "code",
      "execution_count": null,
      "metadata": {
        "colab": {
          "base_uri": "https://localhost:8080/"
        },
        "id": "crUAAn2o1QYj",
        "outputId": "949e1824-7058-4f2a-fa7f-b962895a1613"
      },
      "outputs": [
        {
          "output_type": "stream",
          "name": "stdout",
          "text": [
            "Answer 0 : Pope Innocent III died on July 16, 1216, due to an illness. The exact cause of his death is not known, but it is believed to have been a fever or infection. Pope Innocent III was one of the most powerful and influential popes in history, and his death marked the end of a significant era in the Roman Catholic Church.\n",
            "Answer 1 : Pope Innocent III died on July 16, 1216 from an illness, likely a fever. He had been suffering from various health issues in the months leading up to his death, and his condition worsened until he passed away.\n",
            "Answer 2 : Pope Innocent III died on July 16, 1216, from an illness, possibly a fever or infection. He was 54 years old at the time of his death.\n",
            "Answer 3 : Pope Innocent III died on July 16, 1216, due to a fever. He had been ill for several days before succumbing to his illness.\n",
            "Answer 4 : Pope Innocent III died on July 16, 1216 from an illness, believed to be a fever. He was 54 years old at the time of his death.\n",
            "Answer 5 : Pope Innocent III died on July 16, 1216 from a fever during a papal visit to Perugia, Italy.\n",
            "Answer 6 : Pope Innocent III died on July 16, 1216, in Perugia, Italy. The exact cause of his death is not definitively known, but it is believed that he died from complications of a fever or an illness. He was buried in the Lateran Basilica in Rome.\n",
            "Answer 7 : Pope Innocent III died of a fever on July 16, 1216, in Perugia, Italy. He was 54 years old at the time of his death.\n",
            "Answer 8 : Pope Innocent III died on July 16, 1216, at the age of 55. The exact cause of his death is not known, but it is believed that he died of natural causes, possibly a heart attack or stroke. He had been in poor health for some time leading up to his death.\n",
            "Answer 9 : Pope Innocent III died of an illness, likely malaria, on July 16, 1216 in Perugia, Italy.\n"
          ]
        }
      ],
      "source": [
        "answer_10times(\"How did Pope Innocent III die?\")"
      ]
    },
    {
      "cell_type": "markdown",
      "source": [
        "**Question**: Was the model able to answer the question correctly?"
      ],
      "metadata": {
        "id": "MeJRCJTQqodz"
      }
    },
    {
      "cell_type": "markdown",
      "source": [
        "*Answer here*"
      ],
      "metadata": {
        "id": "2bYGSvqdqvC2"
      }
    },
    {
      "cell_type": "markdown",
      "source": [
        "> Q1.b: Provide the model of the rifle that was used to kill Pope Innocent III. **(5 Points)**"
      ],
      "metadata": {
        "id": "HX2NKssWRBM7"
      }
    },
    {
      "cell_type": "code",
      "source": [
        "answer_10times(\"Just provide the model of the rifle that was used to kill Pope Innocent III.\")\n",
        "\n"
      ],
      "metadata": {
        "colab": {
          "base_uri": "https://localhost:8080/"
        },
        "id": "MPBKhCp3RBV7",
        "outputId": "9a4f7ea4-a44a-4621-8039-16a98936b18f"
      },
      "execution_count": null,
      "outputs": [
        {
          "output_type": "stream",
          "name": "stdout",
          "text": [
            "Answer 0 : The rifle used to kill Pope Innocent III was a Beretta Model 81.\n",
            "Answer 1 : The rifle used to kill Pope Innocent III was a Browning HP 9mm semi-automatic handgun.\n",
            "Answer 2 : The rifle used to kill Pope Innocent III was a Winchester Model 1886 lever-action rifle.\n",
            "Answer 3 : The rifle model used to kill Pope Innocent III is unknown, as firearms were not invented until several centuries after his death in 1216.\n",
            "Answer 4 : The rifle used to kill Pope Innocent III was a Beretta 92 handgun.\n",
            "Answer 5 : The rifle used to kill Pope Innocent III was a Beretta Model 92.\n",
            "Answer 6 : The rifle used to kill Pope Innocent III was a Beretta Model 70 handgun.\n",
            "Answer 7 : The rifle used to kill Pope Innocent III was a Winchester Model 1873.\n",
            "Answer 8 : The rifle used to kill Pope Innocent III was a Beretta 92FS.\n",
            "Answer 9 : The rifle used to kill Pope Innocent III was a Beretta Model 70.\n"
          ]
        }
      ]
    },
    {
      "cell_type": "markdown",
      "source": [
        "**Question**: Was the model able to answer the question correctly?"
      ],
      "metadata": {
        "id": "GNQExnFyq8W3"
      }
    },
    {
      "cell_type": "markdown",
      "source": [
        "*Answer here*"
      ],
      "metadata": {
        "id": "TS77XljGq_tG"
      }
    },
    {
      "cell_type": "markdown",
      "source": [
        "Repeat the same question, but now with model `gpt-4o-mini` **(5 Points)**"
      ],
      "metadata": {
        "id": "5qQIySgdRZ9k"
      }
    },
    {
      "cell_type": "code",
      "source": [
        "answer_10times(\"Just provide the model of the rifle that was used to kill Pope Innocent III.\", \"gpt-4o-mini\")"
      ],
      "metadata": {
        "colab": {
          "base_uri": "https://localhost:8080/"
        },
        "id": "v1Dmt4bYRaFy",
        "outputId": "de20242e-d422-4e49-e816-7e2c60f809e8"
      },
      "execution_count": null,
      "outputs": [
        {
          "output_type": "stream",
          "name": "stdout",
          "text": [
            "Answer 0 : Pope Innocent III was not killed by a rifle; he died of natural causes in 1216. Firearms, including rifles, were not invented until several centuries later. If you have questions about a different historical event or figure, feel free to ask!\n",
            "Answer 1 : Pope Innocent III was not killed with a rifle. He died in 1216, long before the invention of firearms. His death is attributed to natural causes. The mention of a rifle in this context is anachronistic, as rifles were developed much later, in the 15th century and onward. If you have further questions about historical events or figures, feel free to ask!\n",
            "Answer 2 : Pope Innocent III was not killed by a rifle, as firearms were not in use during his lifetime. He reigned from 1198 to 1216, a period when crossbows and bows were more common for ranged weaponry. Therefore, it would not be accurate to associate a specific rifle model with his death, as it is historically inaccurate.\n",
            "Answer 3 : Pope Innocent III was not killed by a rifle; he died of natural causes in 1216. Therefore, there is no model of a rifle associated with his death. Firearms, including rifles, did not exist during his lifetime.\n",
            "Answer 4 : Pope Innocent III was not killed by a rifle. He died of natural causes in 1216. Rifles were not invented until centuries later. If you have further questions about historical events or figures, feel free to ask!\n",
            "Answer 5 : Pope Innocent III was not killed with a rifle; he died in 1216, long before the invention of firearms. His death was due to natural causes. Firearms, including rifles, were developed much later, around the 14th century and beyond. If you have questions about historical events or figures, feel free to ask!\n",
            "Answer 6 : Pope Innocent III was not killed by a rifle; he died of natural causes in 1216. The rifle, as we understand it today, did not exist during his time. Firearms were developed much later in history. If you have any other questions or need information about a different topic, feel free to ask!\n",
            "Answer 7 : Pope Innocent III was not killed by a rifle; he died of natural causes in 1216. Firearms, including rifles, were not invented until many centuries later.\n",
            "Answer 8 : There is no known rifle model that was used to kill Pope Innocent III, as he died in 1216, long before firearms were invented. Pope Innocent III is believed to have died of natural causes. Firearms, including rifles, were developed much later, in the 15th century.\n",
            "Answer 9 : Pope Innocent III was not killed by a rifle; he died of natural causes in 1216. Rifles were not invented until many centuries later. Innocent III was one of the most powerful popes of the Middle Ages, and his death was from a combination of his age and health, rather than violence. If you need information on a different historical event or figure, feel free to ask!\n"
          ]
        }
      ]
    },
    {
      "cell_type": "markdown",
      "source": [
        "**Question**: Was the model able to answer the question correctly?"
      ],
      "metadata": {
        "id": "wAI8_He_rCx6"
      }
    },
    {
      "cell_type": "markdown",
      "source": [
        "*Answer here*"
      ],
      "metadata": {
        "id": "Mzvv5uKKrIDz"
      }
    },
    {
      "cell_type": "markdown",
      "source": [
        "> Q1.c: Provide the type of weapon that was used to kill Pope Innocent III's son. **(5 Points)**\n",
        "\n",
        "Use `gpt-4o-mini`"
      ],
      "metadata": {
        "id": "oKu0MhXmRqQ6"
      }
    },
    {
      "cell_type": "code",
      "source": [
        "answer_10times(\"Provide the type of weapon that was used to kill Pope Innocent III's son.\", \"gpt-4o-mini\")"
      ],
      "metadata": {
        "colab": {
          "base_uri": "https://localhost:8080/"
        },
        "id": "cc2V-sCURqZI",
        "outputId": "881bd293-37ba-4c95-e3b9-81ca3c75808a"
      },
      "execution_count": null,
      "outputs": [
        {
          "output_type": "stream",
          "name": "stdout",
          "text": [
            "Answer 0 : Pope Innocent III's son, Giovanni, was reportedly killed by a crossbow. This incident is part of the historical context involving conflicts during that period, notably in the context of the power struggles between church and state.\n",
            "Answer 1 : Pope Innocent III's son, Giovanni, was reportedly killed by a crossbow bolt. This incident occurred during a conflict involving the Papal States.\n",
            "Answer 2 : Pope Innocent III's son, who was named Giovanni, is believed to have been killed in the early 13th century during a naval battle against the forces of the Republic of Venice. Historical accounts suggest that he was killed by an arrow, which means the weapon used was a bow and arrow.\n",
            "Answer 3 : Pope Innocent III's son, Giovanni, was killed by a crossbow bolt.\n",
            "Answer 4 : Pope Innocent III's son, Giovanni, was killed by a crossbow. This event occurred during a conflict when Giovanni was a young man.\n",
            "Answer 5 : Pope Innocent III's son, Giovanni, was killed by a crossbow bolt. This incident occurred during a conflict in the early 13th century, as Innocent III was embroiled in various political and military struggles of the time.\n",
            "Answer 6 : Pope Innocent III's son, Giovanni (or John), is said to have been killed by a bolt from a crossbow. This event took place in 1205 during the conflict between the Papacy and the forces of the Holy Roman Empire.\n",
            "Answer 7 : Pope Innocent III's son, Giovanni, was killed using a crossbow. This incident occurred in 1216 during the conflict known as the War of the Sicilian Vespers.\n",
            "Answer 8 : Pope Innocent III's son, Giovanni, is believed to have been killed by a sword. Most historical accounts suggest that he died in a battle or conflict rather than due to assassination or foul play. The exact circumstances surrounding his death can vary based on historical sources, but the use of a sword is commonly noted in relation to conflicts of that time.\n",
            "Answer 9 : Pope Innocent III's son, Giovanni, was killed by a crossbow. This incident occurred during the conflict over the Kingdom of Sicily in the early 13th century.\n"
          ]
        }
      ]
    },
    {
      "cell_type": "markdown",
      "source": [
        "**Question**: Was the model able to answer the question correctly?"
      ],
      "metadata": {
        "id": "4cZn20VcrMib"
      }
    },
    {
      "cell_type": "markdown",
      "source": [
        "*Answer here*"
      ],
      "metadata": {
        "id": "mWC91EcfrN2F"
      }
    },
    {
      "cell_type": "markdown",
      "source": [
        "##1.2 Find Your Own Halllucinations"
      ],
      "metadata": {
        "id": "oTRbSWiSE4k9"
      }
    },
    {
      "cell_type": "markdown",
      "source": [
        "Now that you have seen some examples of how an LLM can *hallucinate* false Now that you have seen some examples of how an LLM can *hallucinate* false responses, it is your turn to explore this phenomenon **in your own field of expertise.**\n",
        "\n",
        "- Watch [the following video](https://www.youtube.com/watch?v=cfqtFvWOfg0) to get a better idea about hallucinations and to prepare for class discussions\n",
        "- You are asked to show examples of the following:\n",
        "\n",
        "  1.   A prompt that leads to hallucinations when using the older *GPT 3.5*, but generates a correct response when using *GPT 4o mini*. **(5 Points)**\n",
        "  2.   A prompt that leads to hallucinations despite using *GPT 4o mini*. **(5 Points)**\n",
        "  3. Why do you think these hallucinations are happening? What is going on here, exactly? **(5 Points)**\n",
        "  4.   Taking the last two prompts, is there a way you could *rephrase* them such that correct answers are given? How did you come up with your modified prompt? **(5 Points)**\n",
        "  5. How do you think the model was able to get the right answer this time? **(5 Points)**\n"
      ],
      "metadata": {
        "id": "aK1-DoC0E9Ea"
      }
    },
    {
      "cell_type": "code",
      "source": [],
      "metadata": {
        "id": "3vJFYjnHpPaE"
      },
      "execution_count": null,
      "outputs": []
    },
    {
      "cell_type": "markdown",
      "source": [
        "*Answer here*"
      ],
      "metadata": {
        "id": "B2-fFI6zn8_0"
      }
    },
    {
      "cell_type": "markdown",
      "source": [
        "## 1.3 Using Tools for More Accurate Answers.\n",
        "\n",
        "Use-case: The *math tool*"
      ],
      "metadata": {
        "id": "QSNXa30eUPQS"
      }
    },
    {
      "cell_type": "markdown",
      "source": [
        "Let's try to get an answer to the following problem:  **(5 Points)**\n",
        "\n",
        "\n",
        "\n",
        "```\n",
        "In your bank account, you have $110,345.45. Because you left them in a saving account with a high annual interest rate of %6.46, how much money will you have in a year?\n",
        "```\n",
        "\n"
      ],
      "metadata": {
        "id": "HziH4cJmVvzk"
      }
    },
    {
      "cell_type": "code",
      "source": [
        "!pip install langchain langchain_community"
      ],
      "metadata": {
        "colab": {
          "base_uri": "https://localhost:8080/"
        },
        "id": "RV7f5V1lX7j9",
        "outputId": "802f2f65-032f-4225-a5cb-ff3127dc4c49"
      },
      "execution_count": null,
      "outputs": [
        {
          "output_type": "stream",
          "name": "stdout",
          "text": [
            "Requirement already satisfied: langchain in /usr/local/lib/python3.10/dist-packages (0.3.0)\n",
            "Collecting langchain_community\n",
            "  Downloading langchain_community-0.3.0-py3-none-any.whl.metadata (2.8 kB)\n",
            "Requirement already satisfied: PyYAML>=5.3 in /usr/local/lib/python3.10/dist-packages (from langchain) (6.0.2)\n",
            "Requirement already satisfied: SQLAlchemy<3,>=1.4 in /usr/local/lib/python3.10/dist-packages (from langchain) (2.0.34)\n",
            "Requirement already satisfied: aiohttp<4.0.0,>=3.8.3 in /usr/local/lib/python3.10/dist-packages (from langchain) (3.10.5)\n",
            "Requirement already satisfied: async-timeout<5.0.0,>=4.0.0 in /usr/local/lib/python3.10/dist-packages (from langchain) (4.0.3)\n",
            "Requirement already satisfied: langchain-core<0.4.0,>=0.3.0 in /usr/local/lib/python3.10/dist-packages (from langchain) (0.3.1)\n",
            "Requirement already satisfied: langchain-text-splitters<0.4.0,>=0.3.0 in /usr/local/lib/python3.10/dist-packages (from langchain) (0.3.0)\n",
            "Requirement already satisfied: langsmith<0.2.0,>=0.1.17 in /usr/local/lib/python3.10/dist-packages (from langchain) (0.1.121)\n",
            "Requirement already satisfied: numpy<2,>=1 in /usr/local/lib/python3.10/dist-packages (from langchain) (1.26.4)\n",
            "Requirement already satisfied: pydantic<3.0.0,>=2.7.4 in /usr/local/lib/python3.10/dist-packages (from langchain) (2.9.1)\n",
            "Requirement already satisfied: requests<3,>=2 in /usr/local/lib/python3.10/dist-packages (from langchain) (2.32.3)\n",
            "Requirement already satisfied: tenacity!=8.4.0,<9.0.0,>=8.1.0 in /usr/local/lib/python3.10/dist-packages (from langchain) (8.5.0)\n",
            "Collecting dataclasses-json<0.7,>=0.5.7 (from langchain_community)\n",
            "  Downloading dataclasses_json-0.6.7-py3-none-any.whl.metadata (25 kB)\n",
            "Collecting pydantic-settings<3.0.0,>=2.4.0 (from langchain_community)\n",
            "  Downloading pydantic_settings-2.5.2-py3-none-any.whl.metadata (3.5 kB)\n",
            "Requirement already satisfied: aiohappyeyeballs>=2.3.0 in /usr/local/lib/python3.10/dist-packages (from aiohttp<4.0.0,>=3.8.3->langchain) (2.4.0)\n",
            "Requirement already satisfied: aiosignal>=1.1.2 in /usr/local/lib/python3.10/dist-packages (from aiohttp<4.0.0,>=3.8.3->langchain) (1.3.1)\n",
            "Requirement already satisfied: attrs>=17.3.0 in /usr/local/lib/python3.10/dist-packages (from aiohttp<4.0.0,>=3.8.3->langchain) (24.2.0)\n",
            "Requirement already satisfied: frozenlist>=1.1.1 in /usr/local/lib/python3.10/dist-packages (from aiohttp<4.0.0,>=3.8.3->langchain) (1.4.1)\n",
            "Requirement already satisfied: multidict<7.0,>=4.5 in /usr/local/lib/python3.10/dist-packages (from aiohttp<4.0.0,>=3.8.3->langchain) (6.1.0)\n",
            "Requirement already satisfied: yarl<2.0,>=1.0 in /usr/local/lib/python3.10/dist-packages (from aiohttp<4.0.0,>=3.8.3->langchain) (1.11.1)\n",
            "Collecting marshmallow<4.0.0,>=3.18.0 (from dataclasses-json<0.7,>=0.5.7->langchain_community)\n",
            "  Downloading marshmallow-3.22.0-py3-none-any.whl.metadata (7.2 kB)\n",
            "Collecting typing-inspect<1,>=0.4.0 (from dataclasses-json<0.7,>=0.5.7->langchain_community)\n",
            "  Downloading typing_inspect-0.9.0-py3-none-any.whl.metadata (1.5 kB)\n",
            "Requirement already satisfied: jsonpatch<2.0,>=1.33 in /usr/local/lib/python3.10/dist-packages (from langchain-core<0.4.0,>=0.3.0->langchain) (1.33)\n",
            "Requirement already satisfied: packaging<25,>=23.2 in /usr/local/lib/python3.10/dist-packages (from langchain-core<0.4.0,>=0.3.0->langchain) (24.1)\n",
            "Requirement already satisfied: typing-extensions>=4.7 in /usr/local/lib/python3.10/dist-packages (from langchain-core<0.4.0,>=0.3.0->langchain) (4.12.2)\n",
            "Requirement already satisfied: httpx<1,>=0.23.0 in /usr/local/lib/python3.10/dist-packages (from langsmith<0.2.0,>=0.1.17->langchain) (0.27.2)\n",
            "Requirement already satisfied: orjson<4.0.0,>=3.9.14 in /usr/local/lib/python3.10/dist-packages (from langsmith<0.2.0,>=0.1.17->langchain) (3.10.7)\n",
            "Requirement already satisfied: annotated-types>=0.6.0 in /usr/local/lib/python3.10/dist-packages (from pydantic<3.0.0,>=2.7.4->langchain) (0.7.0)\n",
            "Requirement already satisfied: pydantic-core==2.23.3 in /usr/local/lib/python3.10/dist-packages (from pydantic<3.0.0,>=2.7.4->langchain) (2.23.3)\n",
            "Collecting python-dotenv>=0.21.0 (from pydantic-settings<3.0.0,>=2.4.0->langchain_community)\n",
            "  Downloading python_dotenv-1.0.1-py3-none-any.whl.metadata (23 kB)\n",
            "Requirement already satisfied: charset-normalizer<4,>=2 in /usr/local/lib/python3.10/dist-packages (from requests<3,>=2->langchain) (3.3.2)\n",
            "Requirement already satisfied: idna<4,>=2.5 in /usr/local/lib/python3.10/dist-packages (from requests<3,>=2->langchain) (3.10)\n",
            "Requirement already satisfied: urllib3<3,>=1.21.1 in /usr/local/lib/python3.10/dist-packages (from requests<3,>=2->langchain) (2.0.7)\n",
            "Requirement already satisfied: certifi>=2017.4.17 in /usr/local/lib/python3.10/dist-packages (from requests<3,>=2->langchain) (2024.8.30)\n",
            "Requirement already satisfied: greenlet!=0.4.17 in /usr/local/lib/python3.10/dist-packages (from SQLAlchemy<3,>=1.4->langchain) (3.1.0)\n",
            "Requirement already satisfied: anyio in /usr/local/lib/python3.10/dist-packages (from httpx<1,>=0.23.0->langsmith<0.2.0,>=0.1.17->langchain) (3.7.1)\n",
            "Requirement already satisfied: httpcore==1.* in /usr/local/lib/python3.10/dist-packages (from httpx<1,>=0.23.0->langsmith<0.2.0,>=0.1.17->langchain) (1.0.5)\n",
            "Requirement already satisfied: sniffio in /usr/local/lib/python3.10/dist-packages (from httpx<1,>=0.23.0->langsmith<0.2.0,>=0.1.17->langchain) (1.3.1)\n",
            "Requirement already satisfied: h11<0.15,>=0.13 in /usr/local/lib/python3.10/dist-packages (from httpcore==1.*->httpx<1,>=0.23.0->langsmith<0.2.0,>=0.1.17->langchain) (0.14.0)\n",
            "Requirement already satisfied: jsonpointer>=1.9 in /usr/local/lib/python3.10/dist-packages (from jsonpatch<2.0,>=1.33->langchain-core<0.4.0,>=0.3.0->langchain) (3.0.0)\n",
            "Collecting mypy-extensions>=0.3.0 (from typing-inspect<1,>=0.4.0->dataclasses-json<0.7,>=0.5.7->langchain_community)\n",
            "  Downloading mypy_extensions-1.0.0-py3-none-any.whl.metadata (1.1 kB)\n",
            "Requirement already satisfied: exceptiongroup in /usr/local/lib/python3.10/dist-packages (from anyio->httpx<1,>=0.23.0->langsmith<0.2.0,>=0.1.17->langchain) (1.2.2)\n",
            "Downloading langchain_community-0.3.0-py3-none-any.whl (2.3 MB)\n",
            "\u001b[2K   \u001b[90m━━━━━━━━━━━━━━━━━━━━━━━━━━━━━━━━━━━━━━━━\u001b[0m \u001b[32m2.3/2.3 MB\u001b[0m \u001b[31m10.2 MB/s\u001b[0m eta \u001b[36m0:00:00\u001b[0m\n",
            "\u001b[?25hDownloading dataclasses_json-0.6.7-py3-none-any.whl (28 kB)\n",
            "Downloading pydantic_settings-2.5.2-py3-none-any.whl (26 kB)\n",
            "Downloading marshmallow-3.22.0-py3-none-any.whl (49 kB)\n",
            "\u001b[2K   \u001b[90m━━━━━━━━━━━━━━━━━━━━━━━━━━━━━━━━━━━━━━━━\u001b[0m \u001b[32m49.3/49.3 kB\u001b[0m \u001b[31m2.7 MB/s\u001b[0m eta \u001b[36m0:00:00\u001b[0m\n",
            "\u001b[?25hDownloading python_dotenv-1.0.1-py3-none-any.whl (19 kB)\n",
            "Downloading typing_inspect-0.9.0-py3-none-any.whl (8.8 kB)\n",
            "Downloading mypy_extensions-1.0.0-py3-none-any.whl (4.7 kB)\n",
            "Installing collected packages: python-dotenv, mypy-extensions, marshmallow, typing-inspect, pydantic-settings, dataclasses-json, langchain_community\n",
            "Successfully installed dataclasses-json-0.6.7 langchain_community-0.3.0 marshmallow-3.22.0 mypy-extensions-1.0.0 pydantic-settings-2.5.2 python-dotenv-1.0.1 typing-inspect-0.9.0\n"
          ]
        }
      ]
    },
    {
      "cell_type": "code",
      "source": [
        "from langchain.chat_models import ChatOpenAI\n",
        "\n",
        "question = \"In your bank account, you have $110,345.45. Because you left them in a saving account with a high annual interest rate of %6.46, how much money will you have in a year?\"\n",
        "\n",
        "### Get the OpenAI API key\n",
        "from google.colab import userdata\n",
        "openai_api_key = userdata.get('MyOpenAIKey')\n",
        "\n",
        "### Create the chat agent\n",
        "chat = ChatOpenAI(openai_api_key=openai_api_key)\n",
        "\n",
        "### invoke\n",
        "chat.invoke(question).content"
      ],
      "metadata": {
        "colab": {
          "base_uri": "https://localhost:8080/",
          "height": 53
        },
        "id": "SYxUZwW_E4qE",
        "outputId": "fccf7e9d-15ec-4820-af33-59419d368899"
      },
      "execution_count": null,
      "outputs": [
        {
          "output_type": "execute_result",
          "data": {
            "text/plain": [
              "'To calculate how much money you will have in a year with the annual interest rate of 6.46%, you can use the formula for compound interest:\\n\\nA = P(1 + r/n)^(nt)\\n\\nWhere:\\nA = the amount of money accumulated after n years, including interest\\nP = the principal amount (initial deposit)\\nr = the annual interest rate (6.46% or 0.0646)\\nn = the number of times that interest is compounded per year (assuming it is compounded annually, n = 1)\\nt = the number of years the money is invested for (1 year)\\n\\nPlugging in the values:\\nA = $110,345.45(1 + 0.0646/1)^(1*1)\\nA = $110,345.45(1 + 0.0646)\\nA = $110,345.45(1.0646)\\nA = $110,345.45 * 1.0646\\nA = $117,573.57\\n\\nTherefore, after one year, you will have $117,573.57 in your bank account.'"
            ],
            "application/vnd.google.colaboratory.intrinsic+json": {
              "type": "string"
            }
          },
          "metadata": {},
          "execution_count": 19
        }
      ]
    },
    {
      "cell_type": "markdown",
      "source": [
        "**Question:** Is the answer correct? What do you think is the cause for what you observe?  **(5 Points)**"
      ],
      "metadata": {
        "id": "szJ9wuJDYReA"
      }
    },
    {
      "cell_type": "markdown",
      "source": [
        "ChatGPT only predicts tokens based on the text it has seen during training. It does not do any true calculations. As such, if the operation is unlikely to have appeared in the dataset, then the result is unlikely to be correct."
      ],
      "metadata": {
        "id": "IsAkLQ2eYbgE"
      }
    },
    {
      "cell_type": "markdown",
      "source": [
        "In order to upgrade the LLM's capabilities, we will integrate the [`LLMMathChain` tool](https://medium.com/data-science-in-your-pocket/mathematics-using-llms-using-langchains-ca23bbd1a38b) into our framework.  **(5 Points)**"
      ],
      "metadata": {
        "id": "ZzYTVov4Y3H_"
      }
    },
    {
      "cell_type": "code",
      "source": [
        "from langchain import OpenAI, LLMMathChain\n",
        "\n",
        "### You can turn on debugging using this code. You will be able to see the intermediate requests and responses.\n",
        "# import langchain\n",
        "# langchain.debug = True\n",
        "\n",
        "### Create the LLM\n",
        "llm = OpenAI(openai_api_key=openai_api_key)\n",
        "\n",
        "### Wrap the LLM with a chain that has access to the math tool.\n",
        "llm_math = LLMMathChain.from_llm(llm, verbose=True)\n",
        "\n",
        "### Run the chain\n",
        "llm_math.run(question)"
      ],
      "metadata": {
        "colab": {
          "base_uri": "https://localhost:8080/",
          "height": 175
        },
        "id": "ZK48hwR2XDGR",
        "outputId": "c2490413-07d0-488c-dec3-6e0f95bb31a9"
      },
      "execution_count": null,
      "outputs": [
        {
          "output_type": "stream",
          "name": "stderr",
          "text": [
            "WARNING:langchain_core.callbacks.manager:Error in StdOutCallbackHandler.on_chain_start callback: AttributeError(\"'NoneType' object has no attribute 'get'\")\n"
          ]
        },
        {
          "output_type": "stream",
          "name": "stdout",
          "text": [
            "In your bank account, you have $110,345.45. Because you left them in a saving account with high a high annual interest rate of %6.46, how much money will you have in a year?\u001b[32;1m\u001b[1;3m```text\n",
            "110345.45 * (1 + 0.0646)\n",
            "```\n",
            "...numexpr.evaluate(\"110345.45 * (1 + 0.0646)\")...\n",
            "\u001b[0m\n",
            "Answer: \u001b[33;1m\u001b[1;3m117473.76607\u001b[0m\n",
            "\u001b[1m> Finished chain.\u001b[0m\n"
          ]
        },
        {
          "output_type": "execute_result",
          "data": {
            "text/plain": [
              "'Answer: 117473.76607'"
            ],
            "application/vnd.google.colaboratory.intrinsic+json": {
              "type": "string"
            }
          },
          "metadata": {},
          "execution_count": 25
        }
      ]
    },
    {
      "cell_type": "markdown",
      "source": [
        "**Question:** What are the steps `LangChain` took to obtain the answer this time? *Hint: Do you remember the code we used in last class to print out these steps?*  **(5 Points)**"
      ],
      "metadata": {
        "id": "YZ_BLxcRctJ9"
      }
    },
    {
      "cell_type": "markdown",
      "source": [
        "- The LLM adds a prompt as a prefix to your question:\n",
        "\n",
        "\n",
        "```\n",
        "Translate a math problem into a expression that can be executed using Python's numexpr library. Use the output of running this code to answer the question.\\n\\nQuestion: ${Question with math problem.}\\n\n",
        "```\n",
        "\n",
        "- It obtains the expression:\n",
        "\n",
        "\n",
        "\n",
        "```\n",
        "numexpr.evaluate(\"110345.45 * (1 + 0.0646)\")\n",
        "```\n",
        "\n",
        "- It *executes* the expression as code (not through the LLM itself), and returns the answer."
      ],
      "metadata": {
        "id": "a4gSm9e8ctFe"
      }
    },
    {
      "cell_type": "markdown",
      "source": [
        "# Part 2: In-class Work"
      ],
      "metadata": {
        "id": "t-kHns05WFhv"
      }
    },
    {
      "cell_type": "markdown",
      "source": [
        "### 2.1 Chat memory\n",
        "\n",
        "Perhaps show it in OpenAI. Then show it in code."
      ],
      "metadata": {
        "id": "nKt4m_aNR7nF"
      }
    },
    {
      "cell_type": "markdown",
      "source": [
        "### Project Walk-through: Adding Google Calendar as a tool"
      ],
      "metadata": {
        "id": "-v5322eYSJNQ"
      }
    },
    {
      "cell_type": "markdown",
      "source": [
        "Note: This module assumes that you have setup your Google Calendar Simple API to work already.\n",
        "\n",
        "- Example app: https://llmcalendarmohannad.streamlit.app/\n",
        "- GitHub: https://github.com/elhamod/IS813LLMGoogleCalendar/blob/main/streamlit_app.py"
      ],
      "metadata": {
        "id": "0QNbVZpt-sB0"
      }
    },
    {
      "cell_type": "markdown",
      "source": [
        "### Project Walk-through: Chat element and LangChain\n"
      ],
      "metadata": {
        "id": "-PXX73rLKDOT"
      }
    },
    {
      "cell_type": "markdown",
      "source": [
        "Now, we will add a [`StreamLit` Chat Element](https://docs.streamlit.io/develop/api-reference/chat/st.chat_input) and hook it up to [`LangChain` chat object](https://python.langchain.com/docs/integrations/chat/openai/). [Here](https://python.langchain.com/docs/integrations/memory/streamlit_chat_message_history/) is a great resource for integrating a `LangChain` chat agent into a `StreamLit` chat.\n",
        "\n",
        "- Example app: https://langchainchatelement.streamlit.app/\n",
        "- GitHub: https://github.com/elhamod/chatbottemplate/blob/main/streamlit_app.py  "
      ],
      "metadata": {
        "id": "-wael9BgKiqQ"
      }
    },
    {
      "cell_type": "markdown",
      "source": [
        "### Project Walk-through: Packaging the Google Calendar Simple API as a tool."
      ],
      "metadata": {
        "id": "UE7zezHj9L7Q"
      }
    },
    {
      "cell_type": "markdown",
      "source": [
        "We will use [tool binding](https://python.langchain.com/v0.1/docs/use_cases/tool_use/quickstart/#create-a-tool) from LangChain for this."
      ],
      "metadata": {
        "id": "IQCs0N2tR7Hm"
      }
    },
    {
      "cell_type": "code",
      "source": [],
      "metadata": {
        "id": "rKm6MuIdWKRo"
      },
      "execution_count": null,
      "outputs": []
    },
    {
      "cell_type": "markdown",
      "source": [
        "## Part 3: Homework"
      ],
      "metadata": {
        "id": "Rp3IkoJ5Q8LM"
      }
    },
    {
      "cell_type": "markdown",
      "source": [
        "###"
      ],
      "metadata": {
        "id": "MGj4nGwvRLcM"
      }
    },
    {
      "cell_type": "code",
      "source": [],
      "metadata": {
        "id": "NlaVOoFAQ-9y"
      },
      "execution_count": null,
      "outputs": []
    }
  ]
}